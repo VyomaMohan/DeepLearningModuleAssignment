{
 "cells": [
  {
   "cell_type": "markdown",
   "id": "30a05887",
   "metadata": {
    "id": "30a05887"
   },
   "source": [
    "# D22124454 - Deep Learning Assignment - Part 2\n",
    "# Transfer learning task:\n",
    "\n",
    "#### System specifics:\n",
    "OS: Windows 11\n",
    "\n",
    "RAM: 32 GB\n",
    "\n",
    "GPU: RTX 3070\n",
    "\n",
    "IDE: Models initially trained and evaluated on local - Jupyter IDE\n",
    "\n",
    "#### Task overview:\n",
    "This task is about using the models trained from Part 1 to augment the training of the models in Part 2 on a different, but similar dataset (both datasets are about news articles). Here, we tune a couple layers in previously trained models and use it for prediction in a different dataset.\n",
    "\n",
    "#### Note:\n",
    "#### In this notebook, we have the training and validation comparisons, along with a graph for evaluation. The best performing models will be evaluated again in the demo notebooks. The training was done in local with 20 epochs, so it might not give similar results with less epochs in collab.This might affect model performance.\n",
    "\n",
    "#### FAQ:\n",
    "- If some of the plotly graphs are not rendering, run the code above the imports. For local running, it is \"iframe\". For colab running, it is \"colab\".\n",
    "- Please enable GPU before running\n",
    "\n",
    "### Imports:"
   ]
  },
  {
   "cell_type": "code",
   "execution_count": null,
   "id": "OuYM3Aw3Ll__",
   "metadata": {
    "id": "OuYM3Aw3Ll__"
   },
   "outputs": [],
   "source": [
    "#IF PLOTLY GRAPHS DO NOT RENDER. SET TO COLAB WHEN RUN IN COLAB AND IFRAME FOR LOCAL (iframe)\n",
    "#import plotly.io as pio\n",
    "#pio.renderers.default = 'colab'"
   ]
  },
  {
   "cell_type": "code",
   "execution_count": 3,
   "id": "1b8df95b",
   "metadata": {
    "id": "1b8df95b"
   },
   "outputs": [],
   "source": [
    "import pandas as pd\n",
    "import re\n",
    "import nltk\n",
    "from nltk.stem import WordNetLemmatizer\n",
    "from nltk.stem import PorterStemmer\n",
    "from nltk import word_tokenize\n",
    "from nltk.corpus import stopwords\n",
    "import string\n",
    "\n",
    "from sklearn.model_selection import train_test_split\n",
    "\n",
    "import tensorflow as tf\n",
    "import numpy as np"
   ]
  },
  {
   "cell_type": "code",
   "execution_count": 4,
   "id": "0fe16ed5",
   "metadata": {
    "id": "0fe16ed5"
   },
   "outputs": [],
   "source": [
    "import tensorflow_hub as hub\n",
    "\n",
    "import numpy as np\n",
    "from tensorflow.keras.preprocessing import sequence\n",
    "from tensorflow.keras.models import Sequential\n",
    "from tensorflow.keras.layers import Dense, Dropout, Activation, Flatten, Embedding, Conv1D, GlobalMaxPooling1D, GlobalAveragePooling1D, LSTM, SimpleRNN, MaxPooling1D, Conv1D, TimeDistributed, AveragePooling1D\n",
    "from tensorflow.keras.datasets import imdb\n",
    "import tensorflow as tf\n",
    "\n",
    "import plotly.express as px\n",
    "import matplotlib.pyplot as plt"
   ]
  },
  {
   "cell_type": "code",
   "execution_count": 5,
   "id": "2e6a608a",
   "metadata": {
    "id": "2e6a608a"
   },
   "outputs": [],
   "source": [
    "from sklearn.preprocessing import OneHotEncoder\n",
    "import re\n",
    "\n",
    "from sklearn.feature_extraction.text import CountVectorizer\n",
    "from sklearn.naive_bayes import GaussianNB\n",
    "from sklearn.metrics import confusion_matrix, accuracy_score"
   ]
  },
  {
   "cell_type": "code",
   "execution_count": 6,
   "id": "5f8c58a7",
   "metadata": {
    "id": "5f8c58a7"
   },
   "outputs": [],
   "source": [
    "from keras.preprocessing.text import Tokenizer"
   ]
  },
  {
   "cell_type": "code",
   "execution_count": 7,
   "id": "qAdMgS4VLqx-",
   "metadata": {
    "id": "qAdMgS4VLqx-"
   },
   "outputs": [],
   "source": [
    "from pydrive.auth import GoogleAuth\n",
    "from pydrive.drive import GoogleDrive\n",
    "from google.colab import auth\n",
    "from oauth2client.client import GoogleCredentials"
   ]
  },
  {
   "cell_type": "code",
   "execution_count": 8,
   "id": "wrnnF5nALuG2",
   "metadata": {
    "id": "wrnnF5nALuG2"
   },
   "outputs": [],
   "source": [
    "# credentials to get the data file\n",
    "auth.authenticate_user()\n",
    "gauth = GoogleAuth()\n",
    "gauth.credentials = GoogleCredentials.get_application_default()\n",
    "drive = GoogleDrive(gauth)"
   ]
  },
  {
   "cell_type": "markdown",
   "id": "758da2c3",
   "metadata": {
    "id": "758da2c3"
   },
   "source": [
    "### Read the data from the csv file"
   ]
  },
  {
   "cell_type": "code",
   "execution_count": 9,
   "id": "sJdUFJarLy64",
   "metadata": {
    "id": "sJdUFJarLy64"
   },
   "outputs": [],
   "source": [
    "# https://drive.google.com/file/d/1sD2qf_JAOXKPQ6VuxpprYGfAZr1dAWmY/view?usp=sharing\n",
    "bbcCsv = drive.CreateFile({'id':'1sD2qf_JAOXKPQ6VuxpprYGfAZr1dAWmY'})\n",
    "bbcCsv.GetContentFile('bbc-text.csv')"
   ]
  },
  {
   "cell_type": "code",
   "execution_count": 10,
   "id": "719578fd",
   "metadata": {
    "colab": {
     "base_uri": "https://localhost:8080/",
     "height": 423
    },
    "id": "719578fd",
    "outputId": "b18681cf-93dc-48a5-f120-882f4e108549"
   },
   "outputs": [
    {
     "data": {
      "text/html": [
       "\n",
       "  <div id=\"df-f6486f9b-2720-4d80-aaac-bbadcba837d6\">\n",
       "    <div class=\"colab-df-container\">\n",
       "      <div>\n",
       "<style scoped>\n",
       "    .dataframe tbody tr th:only-of-type {\n",
       "        vertical-align: middle;\n",
       "    }\n",
       "\n",
       "    .dataframe tbody tr th {\n",
       "        vertical-align: top;\n",
       "    }\n",
       "\n",
       "    .dataframe thead th {\n",
       "        text-align: right;\n",
       "    }\n",
       "</style>\n",
       "<table border=\"1\" class=\"dataframe\">\n",
       "  <thead>\n",
       "    <tr style=\"text-align: right;\">\n",
       "      <th></th>\n",
       "      <th>category</th>\n",
       "      <th>text</th>\n",
       "    </tr>\n",
       "  </thead>\n",
       "  <tbody>\n",
       "    <tr>\n",
       "      <th>0</th>\n",
       "      <td>tech</td>\n",
       "      <td>tv future in the hands of viewers with home th...</td>\n",
       "    </tr>\n",
       "    <tr>\n",
       "      <th>1</th>\n",
       "      <td>business</td>\n",
       "      <td>worldcom boss  left books alone  former worldc...</td>\n",
       "    </tr>\n",
       "    <tr>\n",
       "      <th>2</th>\n",
       "      <td>sport</td>\n",
       "      <td>tigers wary of farrell  gamble  leicester say ...</td>\n",
       "    </tr>\n",
       "    <tr>\n",
       "      <th>3</th>\n",
       "      <td>sport</td>\n",
       "      <td>yeading face newcastle in fa cup premiership s...</td>\n",
       "    </tr>\n",
       "    <tr>\n",
       "      <th>4</th>\n",
       "      <td>entertainment</td>\n",
       "      <td>ocean s twelve raids box office ocean s twelve...</td>\n",
       "    </tr>\n",
       "    <tr>\n",
       "      <th>...</th>\n",
       "      <td>...</td>\n",
       "      <td>...</td>\n",
       "    </tr>\n",
       "    <tr>\n",
       "      <th>2220</th>\n",
       "      <td>business</td>\n",
       "      <td>cars pull down us retail figures us retail sal...</td>\n",
       "    </tr>\n",
       "    <tr>\n",
       "      <th>2221</th>\n",
       "      <td>politics</td>\n",
       "      <td>kilroy unveils immigration policy ex-chatshow ...</td>\n",
       "    </tr>\n",
       "    <tr>\n",
       "      <th>2222</th>\n",
       "      <td>entertainment</td>\n",
       "      <td>rem announce new glasgow concert us band rem h...</td>\n",
       "    </tr>\n",
       "    <tr>\n",
       "      <th>2223</th>\n",
       "      <td>politics</td>\n",
       "      <td>how political squabbles snowball it s become c...</td>\n",
       "    </tr>\n",
       "    <tr>\n",
       "      <th>2224</th>\n",
       "      <td>sport</td>\n",
       "      <td>souness delight at euro progress boss graeme s...</td>\n",
       "    </tr>\n",
       "  </tbody>\n",
       "</table>\n",
       "<p>2225 rows × 2 columns</p>\n",
       "</div>\n",
       "      <button class=\"colab-df-convert\" onclick=\"convertToInteractive('df-f6486f9b-2720-4d80-aaac-bbadcba837d6')\"\n",
       "              title=\"Convert this dataframe to an interactive table.\"\n",
       "              style=\"display:none;\">\n",
       "        \n",
       "  <svg xmlns=\"http://www.w3.org/2000/svg\" height=\"24px\"viewBox=\"0 0 24 24\"\n",
       "       width=\"24px\">\n",
       "    <path d=\"M0 0h24v24H0V0z\" fill=\"none\"/>\n",
       "    <path d=\"M18.56 5.44l.94 2.06.94-2.06 2.06-.94-2.06-.94-.94-2.06-.94 2.06-2.06.94zm-11 1L8.5 8.5l.94-2.06 2.06-.94-2.06-.94L8.5 2.5l-.94 2.06-2.06.94zm10 10l.94 2.06.94-2.06 2.06-.94-2.06-.94-.94-2.06-.94 2.06-2.06.94z\"/><path d=\"M17.41 7.96l-1.37-1.37c-.4-.4-.92-.59-1.43-.59-.52 0-1.04.2-1.43.59L10.3 9.45l-7.72 7.72c-.78.78-.78 2.05 0 2.83L4 21.41c.39.39.9.59 1.41.59.51 0 1.02-.2 1.41-.59l7.78-7.78 2.81-2.81c.8-.78.8-2.07 0-2.86zM5.41 20L4 18.59l7.72-7.72 1.47 1.35L5.41 20z\"/>\n",
       "  </svg>\n",
       "      </button>\n",
       "      \n",
       "  <style>\n",
       "    .colab-df-container {\n",
       "      display:flex;\n",
       "      flex-wrap:wrap;\n",
       "      gap: 12px;\n",
       "    }\n",
       "\n",
       "    .colab-df-convert {\n",
       "      background-color: #E8F0FE;\n",
       "      border: none;\n",
       "      border-radius: 50%;\n",
       "      cursor: pointer;\n",
       "      display: none;\n",
       "      fill: #1967D2;\n",
       "      height: 32px;\n",
       "      padding: 0 0 0 0;\n",
       "      width: 32px;\n",
       "    }\n",
       "\n",
       "    .colab-df-convert:hover {\n",
       "      background-color: #E2EBFA;\n",
       "      box-shadow: 0px 1px 2px rgba(60, 64, 67, 0.3), 0px 1px 3px 1px rgba(60, 64, 67, 0.15);\n",
       "      fill: #174EA6;\n",
       "    }\n",
       "\n",
       "    [theme=dark] .colab-df-convert {\n",
       "      background-color: #3B4455;\n",
       "      fill: #D2E3FC;\n",
       "    }\n",
       "\n",
       "    [theme=dark] .colab-df-convert:hover {\n",
       "      background-color: #434B5C;\n",
       "      box-shadow: 0px 1px 3px 1px rgba(0, 0, 0, 0.15);\n",
       "      filter: drop-shadow(0px 1px 2px rgba(0, 0, 0, 0.3));\n",
       "      fill: #FFFFFF;\n",
       "    }\n",
       "  </style>\n",
       "\n",
       "      <script>\n",
       "        const buttonEl =\n",
       "          document.querySelector('#df-f6486f9b-2720-4d80-aaac-bbadcba837d6 button.colab-df-convert');\n",
       "        buttonEl.style.display =\n",
       "          google.colab.kernel.accessAllowed ? 'block' : 'none';\n",
       "\n",
       "        async function convertToInteractive(key) {\n",
       "          const element = document.querySelector('#df-f6486f9b-2720-4d80-aaac-bbadcba837d6');\n",
       "          const dataTable =\n",
       "            await google.colab.kernel.invokeFunction('convertToInteractive',\n",
       "                                                     [key], {});\n",
       "          if (!dataTable) return;\n",
       "\n",
       "          const docLinkHtml = 'Like what you see? Visit the ' +\n",
       "            '<a target=\"_blank\" href=https://colab.research.google.com/notebooks/data_table.ipynb>data table notebook</a>'\n",
       "            + ' to learn more about interactive tables.';\n",
       "          element.innerHTML = '';\n",
       "          dataTable['output_type'] = 'display_data';\n",
       "          await google.colab.output.renderOutput(dataTable, element);\n",
       "          const docLink = document.createElement('div');\n",
       "          docLink.innerHTML = docLinkHtml;\n",
       "          element.appendChild(docLink);\n",
       "        }\n",
       "      </script>\n",
       "    </div>\n",
       "  </div>\n",
       "  "
      ],
      "text/plain": [
       "           category                                               text\n",
       "0              tech  tv future in the hands of viewers with home th...\n",
       "1          business  worldcom boss  left books alone  former worldc...\n",
       "2             sport  tigers wary of farrell  gamble  leicester say ...\n",
       "3             sport  yeading face newcastle in fa cup premiership s...\n",
       "4     entertainment  ocean s twelve raids box office ocean s twelve...\n",
       "...             ...                                                ...\n",
       "2220       business  cars pull down us retail figures us retail sal...\n",
       "2221       politics  kilroy unveils immigration policy ex-chatshow ...\n",
       "2222  entertainment  rem announce new glasgow concert us band rem h...\n",
       "2223       politics  how political squabbles snowball it s become c...\n",
       "2224          sport  souness delight at euro progress boss graeme s...\n",
       "\n",
       "[2225 rows x 2 columns]"
      ]
     },
     "metadata": {},
     "output_type": "display_data"
    }
   ],
   "source": [
    "raw_data = pd.read_csv(\"bbc-text.csv\", delimiter =\",\", index_col=False)\n",
    "display(raw_data)"
   ]
  },
  {
   "cell_type": "markdown",
   "id": "b62526a1",
   "metadata": {
    "id": "b62526a1"
   },
   "source": [
    "### Study the categories\n",
    "\n",
    "Here, we study the categories like in the previous part just to verify if there is anything that can be cleaned or filtered."
   ]
  },
  {
   "cell_type": "code",
   "execution_count": 11,
   "id": "58ce2937",
   "metadata": {
    "id": "58ce2937"
   },
   "outputs": [],
   "source": [
    "topic_list_all = np.array(raw_data[\"category\"])\n",
    "unique_top, top_counts = np.unique(topic_list_all, return_counts=True)"
   ]
  },
  {
   "cell_type": "code",
   "execution_count": 12,
   "id": "5432d776",
   "metadata": {
    "colab": {
     "base_uri": "https://localhost:8080/",
     "height": 542
    },
    "id": "5432d776",
    "outputId": "12d3ceac-f5d4-43f2-da68-82bfe4f0be9e"
   },
   "outputs": [
    {
     "data": {
      "text/html": [
       "<html>\n",
       "<head><meta charset=\"utf-8\" /></head>\n",
       "<body>\n",
       "    <div>            <script src=\"https://cdnjs.cloudflare.com/ajax/libs/mathjax/2.7.5/MathJax.js?config=TeX-AMS-MML_SVG\"></script><script type=\"text/javascript\">if (window.MathJax && window.MathJax.Hub && window.MathJax.Hub.Config) {window.MathJax.Hub.Config({SVG: {font: \"STIX-Web\"}});}</script>                <script type=\"text/javascript\">window.PlotlyConfig = {MathJaxConfig: 'local'};</script>\n",
       "        <script src=\"https://cdn.plot.ly/plotly-2.18.2.min.js\"></script>                <div id=\"e5f80402-2321-41ee-b401-557e9a3e7ccb\" class=\"plotly-graph-div\" style=\"height:525px; width:100%;\"></div>            <script type=\"text/javascript\">                                    window.PLOTLYENV=window.PLOTLYENV || {};                                    if (document.getElementById(\"e5f80402-2321-41ee-b401-557e9a3e7ccb\")) {                    Plotly.newPlot(                        \"e5f80402-2321-41ee-b401-557e9a3e7ccb\",                        [{\"alignmentgroup\":\"True\",\"hovertemplate\":\"Topics=%{x}<br>No. of occurance=%{y}<extra></extra>\",\"legendgroup\":\"\",\"marker\":{\"color\":\"#636efa\",\"pattern\":{\"shape\":\"\"}},\"name\":\"\",\"offsetgroup\":\"\",\"orientation\":\"v\",\"showlegend\":false,\"textposition\":\"auto\",\"x\":[\"business\",\"entertainment\",\"politics\",\"sport\",\"tech\"],\"xaxis\":\"x\",\"y\":[510,386,417,511,401],\"yaxis\":\"y\",\"type\":\"bar\"}],                        {\"template\":{\"data\":{\"histogram2dcontour\":[{\"type\":\"histogram2dcontour\",\"colorbar\":{\"outlinewidth\":0,\"ticks\":\"\"},\"colorscale\":[[0.0,\"#0d0887\"],[0.1111111111111111,\"#46039f\"],[0.2222222222222222,\"#7201a8\"],[0.3333333333333333,\"#9c179e\"],[0.4444444444444444,\"#bd3786\"],[0.5555555555555556,\"#d8576b\"],[0.6666666666666666,\"#ed7953\"],[0.7777777777777778,\"#fb9f3a\"],[0.8888888888888888,\"#fdca26\"],[1.0,\"#f0f921\"]]}],\"choropleth\":[{\"type\":\"choropleth\",\"colorbar\":{\"outlinewidth\":0,\"ticks\":\"\"}}],\"histogram2d\":[{\"type\":\"histogram2d\",\"colorbar\":{\"outlinewidth\":0,\"ticks\":\"\"},\"colorscale\":[[0.0,\"#0d0887\"],[0.1111111111111111,\"#46039f\"],[0.2222222222222222,\"#7201a8\"],[0.3333333333333333,\"#9c179e\"],[0.4444444444444444,\"#bd3786\"],[0.5555555555555556,\"#d8576b\"],[0.6666666666666666,\"#ed7953\"],[0.7777777777777778,\"#fb9f3a\"],[0.8888888888888888,\"#fdca26\"],[1.0,\"#f0f921\"]]}],\"heatmap\":[{\"type\":\"heatmap\",\"colorbar\":{\"outlinewidth\":0,\"ticks\":\"\"},\"colorscale\":[[0.0,\"#0d0887\"],[0.1111111111111111,\"#46039f\"],[0.2222222222222222,\"#7201a8\"],[0.3333333333333333,\"#9c179e\"],[0.4444444444444444,\"#bd3786\"],[0.5555555555555556,\"#d8576b\"],[0.6666666666666666,\"#ed7953\"],[0.7777777777777778,\"#fb9f3a\"],[0.8888888888888888,\"#fdca26\"],[1.0,\"#f0f921\"]]}],\"heatmapgl\":[{\"type\":\"heatmapgl\",\"colorbar\":{\"outlinewidth\":0,\"ticks\":\"\"},\"colorscale\":[[0.0,\"#0d0887\"],[0.1111111111111111,\"#46039f\"],[0.2222222222222222,\"#7201a8\"],[0.3333333333333333,\"#9c179e\"],[0.4444444444444444,\"#bd3786\"],[0.5555555555555556,\"#d8576b\"],[0.6666666666666666,\"#ed7953\"],[0.7777777777777778,\"#fb9f3a\"],[0.8888888888888888,\"#fdca26\"],[1.0,\"#f0f921\"]]}],\"contourcarpet\":[{\"type\":\"contourcarpet\",\"colorbar\":{\"outlinewidth\":0,\"ticks\":\"\"}}],\"contour\":[{\"type\":\"contour\",\"colorbar\":{\"outlinewidth\":0,\"ticks\":\"\"},\"colorscale\":[[0.0,\"#0d0887\"],[0.1111111111111111,\"#46039f\"],[0.2222222222222222,\"#7201a8\"],[0.3333333333333333,\"#9c179e\"],[0.4444444444444444,\"#bd3786\"],[0.5555555555555556,\"#d8576b\"],[0.6666666666666666,\"#ed7953\"],[0.7777777777777778,\"#fb9f3a\"],[0.8888888888888888,\"#fdca26\"],[1.0,\"#f0f921\"]]}],\"surface\":[{\"type\":\"surface\",\"colorbar\":{\"outlinewidth\":0,\"ticks\":\"\"},\"colorscale\":[[0.0,\"#0d0887\"],[0.1111111111111111,\"#46039f\"],[0.2222222222222222,\"#7201a8\"],[0.3333333333333333,\"#9c179e\"],[0.4444444444444444,\"#bd3786\"],[0.5555555555555556,\"#d8576b\"],[0.6666666666666666,\"#ed7953\"],[0.7777777777777778,\"#fb9f3a\"],[0.8888888888888888,\"#fdca26\"],[1.0,\"#f0f921\"]]}],\"mesh3d\":[{\"type\":\"mesh3d\",\"colorbar\":{\"outlinewidth\":0,\"ticks\":\"\"}}],\"scatter\":[{\"fillpattern\":{\"fillmode\":\"overlay\",\"size\":10,\"solidity\":0.2},\"type\":\"scatter\"}],\"parcoords\":[{\"type\":\"parcoords\",\"line\":{\"colorbar\":{\"outlinewidth\":0,\"ticks\":\"\"}}}],\"scatterpolargl\":[{\"type\":\"scatterpolargl\",\"marker\":{\"colorbar\":{\"outlinewidth\":0,\"ticks\":\"\"}}}],\"bar\":[{\"error_x\":{\"color\":\"#2a3f5f\"},\"error_y\":{\"color\":\"#2a3f5f\"},\"marker\":{\"line\":{\"color\":\"#E5ECF6\",\"width\":0.5},\"pattern\":{\"fillmode\":\"overlay\",\"size\":10,\"solidity\":0.2}},\"type\":\"bar\"}],\"scattergeo\":[{\"type\":\"scattergeo\",\"marker\":{\"colorbar\":{\"outlinewidth\":0,\"ticks\":\"\"}}}],\"scatterpolar\":[{\"type\":\"scatterpolar\",\"marker\":{\"colorbar\":{\"outlinewidth\":0,\"ticks\":\"\"}}}],\"histogram\":[{\"marker\":{\"pattern\":{\"fillmode\":\"overlay\",\"size\":10,\"solidity\":0.2}},\"type\":\"histogram\"}],\"scattergl\":[{\"type\":\"scattergl\",\"marker\":{\"colorbar\":{\"outlinewidth\":0,\"ticks\":\"\"}}}],\"scatter3d\":[{\"type\":\"scatter3d\",\"line\":{\"colorbar\":{\"outlinewidth\":0,\"ticks\":\"\"}},\"marker\":{\"colorbar\":{\"outlinewidth\":0,\"ticks\":\"\"}}}],\"scattermapbox\":[{\"type\":\"scattermapbox\",\"marker\":{\"colorbar\":{\"outlinewidth\":0,\"ticks\":\"\"}}}],\"scatterternary\":[{\"type\":\"scatterternary\",\"marker\":{\"colorbar\":{\"outlinewidth\":0,\"ticks\":\"\"}}}],\"scattercarpet\":[{\"type\":\"scattercarpet\",\"marker\":{\"colorbar\":{\"outlinewidth\":0,\"ticks\":\"\"}}}],\"carpet\":[{\"aaxis\":{\"endlinecolor\":\"#2a3f5f\",\"gridcolor\":\"white\",\"linecolor\":\"white\",\"minorgridcolor\":\"white\",\"startlinecolor\":\"#2a3f5f\"},\"baxis\":{\"endlinecolor\":\"#2a3f5f\",\"gridcolor\":\"white\",\"linecolor\":\"white\",\"minorgridcolor\":\"white\",\"startlinecolor\":\"#2a3f5f\"},\"type\":\"carpet\"}],\"table\":[{\"cells\":{\"fill\":{\"color\":\"#EBF0F8\"},\"line\":{\"color\":\"white\"}},\"header\":{\"fill\":{\"color\":\"#C8D4E3\"},\"line\":{\"color\":\"white\"}},\"type\":\"table\"}],\"barpolar\":[{\"marker\":{\"line\":{\"color\":\"#E5ECF6\",\"width\":0.5},\"pattern\":{\"fillmode\":\"overlay\",\"size\":10,\"solidity\":0.2}},\"type\":\"barpolar\"}],\"pie\":[{\"automargin\":true,\"type\":\"pie\"}]},\"layout\":{\"autotypenumbers\":\"strict\",\"colorway\":[\"#636efa\",\"#EF553B\",\"#00cc96\",\"#ab63fa\",\"#FFA15A\",\"#19d3f3\",\"#FF6692\",\"#B6E880\",\"#FF97FF\",\"#FECB52\"],\"font\":{\"color\":\"#2a3f5f\"},\"hovermode\":\"closest\",\"hoverlabel\":{\"align\":\"left\"},\"paper_bgcolor\":\"white\",\"plot_bgcolor\":\"#E5ECF6\",\"polar\":{\"bgcolor\":\"#E5ECF6\",\"angularaxis\":{\"gridcolor\":\"white\",\"linecolor\":\"white\",\"ticks\":\"\"},\"radialaxis\":{\"gridcolor\":\"white\",\"linecolor\":\"white\",\"ticks\":\"\"}},\"ternary\":{\"bgcolor\":\"#E5ECF6\",\"aaxis\":{\"gridcolor\":\"white\",\"linecolor\":\"white\",\"ticks\":\"\"},\"baxis\":{\"gridcolor\":\"white\",\"linecolor\":\"white\",\"ticks\":\"\"},\"caxis\":{\"gridcolor\":\"white\",\"linecolor\":\"white\",\"ticks\":\"\"}},\"coloraxis\":{\"colorbar\":{\"outlinewidth\":0,\"ticks\":\"\"}},\"colorscale\":{\"sequential\":[[0.0,\"#0d0887\"],[0.1111111111111111,\"#46039f\"],[0.2222222222222222,\"#7201a8\"],[0.3333333333333333,\"#9c179e\"],[0.4444444444444444,\"#bd3786\"],[0.5555555555555556,\"#d8576b\"],[0.6666666666666666,\"#ed7953\"],[0.7777777777777778,\"#fb9f3a\"],[0.8888888888888888,\"#fdca26\"],[1.0,\"#f0f921\"]],\"sequentialminus\":[[0.0,\"#0d0887\"],[0.1111111111111111,\"#46039f\"],[0.2222222222222222,\"#7201a8\"],[0.3333333333333333,\"#9c179e\"],[0.4444444444444444,\"#bd3786\"],[0.5555555555555556,\"#d8576b\"],[0.6666666666666666,\"#ed7953\"],[0.7777777777777778,\"#fb9f3a\"],[0.8888888888888888,\"#fdca26\"],[1.0,\"#f0f921\"]],\"diverging\":[[0,\"#8e0152\"],[0.1,\"#c51b7d\"],[0.2,\"#de77ae\"],[0.3,\"#f1b6da\"],[0.4,\"#fde0ef\"],[0.5,\"#f7f7f7\"],[0.6,\"#e6f5d0\"],[0.7,\"#b8e186\"],[0.8,\"#7fbc41\"],[0.9,\"#4d9221\"],[1,\"#276419\"]]},\"xaxis\":{\"gridcolor\":\"white\",\"linecolor\":\"white\",\"ticks\":\"\",\"title\":{\"standoff\":15},\"zerolinecolor\":\"white\",\"automargin\":true,\"zerolinewidth\":2},\"yaxis\":{\"gridcolor\":\"white\",\"linecolor\":\"white\",\"ticks\":\"\",\"title\":{\"standoff\":15},\"zerolinecolor\":\"white\",\"automargin\":true,\"zerolinewidth\":2},\"scene\":{\"xaxis\":{\"backgroundcolor\":\"#E5ECF6\",\"gridcolor\":\"white\",\"linecolor\":\"white\",\"showbackground\":true,\"ticks\":\"\",\"zerolinecolor\":\"white\",\"gridwidth\":2},\"yaxis\":{\"backgroundcolor\":\"#E5ECF6\",\"gridcolor\":\"white\",\"linecolor\":\"white\",\"showbackground\":true,\"ticks\":\"\",\"zerolinecolor\":\"white\",\"gridwidth\":2},\"zaxis\":{\"backgroundcolor\":\"#E5ECF6\",\"gridcolor\":\"white\",\"linecolor\":\"white\",\"showbackground\":true,\"ticks\":\"\",\"zerolinecolor\":\"white\",\"gridwidth\":2}},\"shapedefaults\":{\"line\":{\"color\":\"#2a3f5f\"}},\"annotationdefaults\":{\"arrowcolor\":\"#2a3f5f\",\"arrowhead\":0,\"arrowwidth\":1},\"geo\":{\"bgcolor\":\"white\",\"landcolor\":\"#E5ECF6\",\"subunitcolor\":\"white\",\"showland\":true,\"showlakes\":true,\"lakecolor\":\"white\"},\"title\":{\"x\":0.05},\"mapbox\":{\"style\":\"light\"}}},\"xaxis\":{\"anchor\":\"y\",\"domain\":[0.0,1.0],\"title\":{\"text\":\"Topics\"},\"categoryorder\":\"total descending\"},\"yaxis\":{\"anchor\":\"x\",\"domain\":[0.0,1.0],\"title\":{\"text\":\"No. of occurance\"}},\"legend\":{\"tracegroupgap\":0},\"title\":{\"text\":\"Fig: Topics in raw data\"},\"barmode\":\"stack\"},                        {\"responsive\": true}                    ).then(function(){\n",
       "                            \n",
       "var gd = document.getElementById('e5f80402-2321-41ee-b401-557e9a3e7ccb');\n",
       "var x = new MutationObserver(function (mutations, observer) {{\n",
       "        var display = window.getComputedStyle(gd).display;\n",
       "        if (!display || display === 'none') {{\n",
       "            console.log([gd, 'removed!']);\n",
       "            Plotly.purge(gd);\n",
       "            observer.disconnect();\n",
       "        }}\n",
       "}});\n",
       "\n",
       "// Listen for the removal of the full notebook cells\n",
       "var notebookContainer = gd.closest('#notebook-container');\n",
       "if (notebookContainer) {{\n",
       "    x.observe(notebookContainer, {childList: true});\n",
       "}}\n",
       "\n",
       "// Listen for the clearing of the current output cell\n",
       "var outputEl = gd.closest('.output');\n",
       "if (outputEl) {{\n",
       "    x.observe(outputEl, {childList: true});\n",
       "}}\n",
       "\n",
       "                        })                };                            </script>        </div>\n",
       "</body>\n",
       "</html>"
      ]
     },
     "metadata": {},
     "output_type": "display_data"
    }
   ],
   "source": [
    "fig = px.bar(\n",
    "    raw_data, x=unique_top, y=top_counts,\n",
    "    title = \"Fig: Topics in raw data\",\n",
    "    labels={'x' : 'Topics', 'y': 'No. of occurance'}\n",
    ")\n",
    "\n",
    "fig.update_layout(barmode='stack', xaxis={'categoryorder':'total descending'})\n",
    "\n",
    "fig.show()"
   ]
  },
  {
   "cell_type": "markdown",
   "id": "a02cd0ea",
   "metadata": {
    "id": "a02cd0ea"
   },
   "source": [
    "From the above, we can see that there are only 5 categories. We can take them as is.\n",
    "\n",
    "### Preprocessing the data"
   ]
  },
  {
   "cell_type": "code",
   "execution_count": null,
   "id": "8be674d0",
   "metadata": {
    "id": "8be674d0"
   },
   "outputs": [],
   "source": [
    "# Removing the non-alphanumeric characters (like a-hat)\n",
    "proc_dataset = raw_data.copy()\n",
    "proc_dataset['text'] = proc_dataset['text'].apply(lambda a: str(a).encode('ascii','ignore'))\n",
    "proc_dataset['text'] = proc_dataset['text'].apply(lambda a: a.decode('ascii','ignore'))"
   ]
  },
  {
   "cell_type": "code",
   "execution_count": null,
   "id": "8a66203c",
   "metadata": {
    "id": "8a66203c"
   },
   "outputs": [],
   "source": [
    "# Removing punction because we are not generating sentences. So they shouldn't be important\n",
    "proc_dataset[\"NoPunct\"] = proc_dataset['text'].str.replace('[^\\w\\s]','')"
   ]
  },
  {
   "cell_type": "markdown",
   "id": "2443fbb9",
   "metadata": {
    "id": "2443fbb9"
   },
   "source": [
    "### Splitting the dataset"
   ]
  },
  {
   "cell_type": "code",
   "execution_count": null,
   "id": "844b39f1",
   "metadata": {
    "id": "844b39f1",
    "outputId": "785f3d83-845d-4bc9-e16f-778df153ba9e"
   },
   "outputs": [
    {
     "name": "stdout",
     "output_type": "stream",
     "text": [
      "5\n",
      "5\n"
     ]
    }
   ],
   "source": [
    "X_train, X_test, y_train, y_test = train_test_split(proc_dataset['NoPunct'], proc_dataset['category'], random_state=10, test_size=0.20)\n",
    "\n",
    "#Print out the unique values in y to check if everything is distributed properly\n",
    "print(len(y_train.unique()))\n",
    "print(len(y_test.unique()))"
   ]
  },
  {
   "cell_type": "code",
   "execution_count": null,
   "id": "a456f02c",
   "metadata": {
    "id": "a456f02c",
    "outputId": "9dce6aeb-986a-440b-b49e-2eb3a6e18413"
   },
   "outputs": [
    {
     "data": {
      "text/html": [
       "<div>\n",
       "<style scoped>\n",
       "    .dataframe tbody tr th:only-of-type {\n",
       "        vertical-align: middle;\n",
       "    }\n",
       "\n",
       "    .dataframe tbody tr th {\n",
       "        vertical-align: top;\n",
       "    }\n",
       "\n",
       "    .dataframe thead th {\n",
       "        text-align: right;\n",
       "    }\n",
       "</style>\n",
       "<table border=\"1\" class=\"dataframe\">\n",
       "  <thead>\n",
       "    <tr style=\"text-align: right;\">\n",
       "      <th></th>\n",
       "      <th>business</th>\n",
       "      <th>entertainment</th>\n",
       "      <th>politics</th>\n",
       "      <th>sport</th>\n",
       "      <th>tech</th>\n",
       "    </tr>\n",
       "  </thead>\n",
       "  <tbody>\n",
       "    <tr>\n",
       "      <th>24</th>\n",
       "      <td>False</td>\n",
       "      <td>False</td>\n",
       "      <td>False</td>\n",
       "      <td>False</td>\n",
       "      <td>True</td>\n",
       "    </tr>\n",
       "    <tr>\n",
       "      <th>317</th>\n",
       "      <td>False</td>\n",
       "      <td>True</td>\n",
       "      <td>False</td>\n",
       "      <td>False</td>\n",
       "      <td>False</td>\n",
       "    </tr>\n",
       "    <tr>\n",
       "      <th>949</th>\n",
       "      <td>False</td>\n",
       "      <td>False</td>\n",
       "      <td>False</td>\n",
       "      <td>True</td>\n",
       "      <td>False</td>\n",
       "    </tr>\n",
       "    <tr>\n",
       "      <th>31</th>\n",
       "      <td>False</td>\n",
       "      <td>False</td>\n",
       "      <td>False</td>\n",
       "      <td>False</td>\n",
       "      <td>True</td>\n",
       "    </tr>\n",
       "    <tr>\n",
       "      <th>746</th>\n",
       "      <td>True</td>\n",
       "      <td>False</td>\n",
       "      <td>False</td>\n",
       "      <td>False</td>\n",
       "      <td>False</td>\n",
       "    </tr>\n",
       "    <tr>\n",
       "      <th>...</th>\n",
       "      <td>...</td>\n",
       "      <td>...</td>\n",
       "      <td>...</td>\n",
       "      <td>...</td>\n",
       "      <td>...</td>\n",
       "    </tr>\n",
       "    <tr>\n",
       "      <th>2009</th>\n",
       "      <td>False</td>\n",
       "      <td>False</td>\n",
       "      <td>False</td>\n",
       "      <td>True</td>\n",
       "      <td>False</td>\n",
       "    </tr>\n",
       "    <tr>\n",
       "      <th>1180</th>\n",
       "      <td>True</td>\n",
       "      <td>False</td>\n",
       "      <td>False</td>\n",
       "      <td>False</td>\n",
       "      <td>False</td>\n",
       "    </tr>\n",
       "    <tr>\n",
       "      <th>1344</th>\n",
       "      <td>False</td>\n",
       "      <td>False</td>\n",
       "      <td>False</td>\n",
       "      <td>False</td>\n",
       "      <td>True</td>\n",
       "    </tr>\n",
       "    <tr>\n",
       "      <th>527</th>\n",
       "      <td>True</td>\n",
       "      <td>False</td>\n",
       "      <td>False</td>\n",
       "      <td>False</td>\n",
       "      <td>False</td>\n",
       "    </tr>\n",
       "    <tr>\n",
       "      <th>1289</th>\n",
       "      <td>False</td>\n",
       "      <td>False</td>\n",
       "      <td>False</td>\n",
       "      <td>False</td>\n",
       "      <td>True</td>\n",
       "    </tr>\n",
       "  </tbody>\n",
       "</table>\n",
       "<p>1780 rows × 5 columns</p>\n",
       "</div>"
      ],
      "text/plain": [
       "      business  entertainment  politics  sport   tech\n",
       "24       False          False     False  False   True\n",
       "317      False           True     False  False  False\n",
       "949      False          False     False   True  False\n",
       "31       False          False     False  False   True\n",
       "746       True          False     False  False  False\n",
       "...        ...            ...       ...    ...    ...\n",
       "2009     False          False     False   True  False\n",
       "1180      True          False     False  False  False\n",
       "1344     False          False     False  False   True\n",
       "527       True          False     False  False  False\n",
       "1289     False          False     False  False   True\n",
       "\n",
       "[1780 rows x 5 columns]"
      ]
     },
     "metadata": {},
     "output_type": "display_data"
    }
   ],
   "source": [
    "oh = OneHotEncoder()\n",
    "y_train_le = pd.get_dummies(y_train)\n",
    "y_test_le = pd.get_dummies(y_test)\n",
    "\n",
    "display(y_train_le)"
   ]
  },
  {
   "cell_type": "markdown",
   "id": "5a6ffe25",
   "metadata": {
    "id": "5a6ffe25"
   },
   "source": [
    "### Transfer learning - Model 1 : CNN pretrained"
   ]
  },
  {
   "cell_type": "code",
   "execution_count": null,
   "id": "00845156",
   "metadata": {
    "id": "00845156",
    "outputId": "83b8a683-89ea-4d27-c4aa-57eb017ed6ac"
   },
   "outputs": [
    {
     "name": "stdout",
     "output_type": "stream",
     "text": [
      "Model: \"sequential_5\"\n",
      "_________________________________________________________________\n",
      " Layer (type)                Output Shape              Param #   \n",
      "=================================================================\n",
      " text_vectorization (TextVec  (None, None)             0         \n",
      " torization)                                                     \n",
      "                                                                 \n",
      " embedding_4 (Embedding)     (None, None, 16)          1120000   \n",
      "                                                                 \n",
      " conv1d_1 (Conv1D)           (None, None, 80)          3920      \n",
      "                                                                 \n",
      " global_average_pooling1d_1   (None, 80)               0         \n",
      " (GlobalAveragePooling1D)                                        \n",
      "                                                                 \n",
      " dense_21 (Dense)            (None, 400)               32400     \n",
      "                                                                 \n",
      " dense_22 (Dense)            (None, 400)               160400    \n",
      "                                                                 \n",
      " dense_23 (Dense)            (None, 20)                8020      \n",
      "                                                                 \n",
      "=================================================================\n",
      "Total params: 1,324,740\n",
      "Trainable params: 1,324,740\n",
      "Non-trainable params: 0\n",
      "_________________________________________________________________\n"
     ]
    }
   ],
   "source": [
    "tf_model_1 = tf.keras.models.load_model('saved_model/model6save')\n",
    "tf_model_1.summary()"
   ]
  },
  {
   "cell_type": "code",
   "execution_count": null,
   "id": "01d7eb42",
   "metadata": {
    "id": "01d7eb42",
    "outputId": "d3f38bf0-6100-43ba-c5fe-1a407cb405fb"
   },
   "outputs": [
    {
     "name": "stdout",
     "output_type": "stream",
     "text": [
      "<keras.layers.preprocessing.text_vectorization.TextVectorization object at 0x0000022F24F5EAD0>\n"
     ]
    }
   ],
   "source": [
    "print(trial_load.layers[0])\n",
    "# Freezing everything except the embedding layer last layer that outputs the labels. \n",
    "# We will be training this to output 5 categories instead\n",
    "tf_model_1.layers[0].trainable = True\n",
    "tf_model_1.layers[1].trainable = True\n",
    "tf_model_1.layers[2].trainable = False\n",
    "tf_model_1.layers[3].trainable = False\n",
    "tf_model_1.layers[4].trainable = False\n",
    "tf_model_1.layers[5].trainable = False\n",
    "\n",
    "tf_model_1.layers[6].trainable = True"
   ]
  },
  {
   "cell_type": "code",
   "execution_count": null,
   "id": "6282e2e1",
   "metadata": {
    "id": "6282e2e1"
   },
   "outputs": [],
   "source": [
    "# Adding a softmax layer to get 5 possible outputs at the end\n",
    "tf_model_1.add(tf.keras.layers.Dense(5, activation='softmax', name='new_dense_3'))"
   ]
  },
  {
   "cell_type": "code",
   "execution_count": null,
   "id": "c2570080",
   "metadata": {
    "id": "c2570080",
    "outputId": "96a85598-4fdc-42f9-8b17-da7c48eb0d70"
   },
   "outputs": [
    {
     "name": "stdout",
     "output_type": "stream",
     "text": [
      "Epoch 1/20\n",
      "53/53 [==============================] - 2s 21ms/step - loss: 1.5533 - accuracy: 0.2028 - val_loss: 1.4621 - val_accuracy: 0.3483\n",
      "Epoch 2/20\n",
      "53/53 [==============================] - 1s 19ms/step - loss: 1.3987 - accuracy: 0.4666 - val_loss: 1.3544 - val_accuracy: 0.5056\n",
      "Epoch 3/20\n",
      "53/53 [==============================] - 1s 19ms/step - loss: 1.2903 - accuracy: 0.6393 - val_loss: 1.2788 - val_accuracy: 0.7528\n",
      "Epoch 4/20\n",
      "53/53 [==============================] - 1s 20ms/step - loss: 1.1948 - accuracy: 0.8273 - val_loss: 1.1652 - val_accuracy: 0.7978\n",
      "Epoch 5/20\n",
      "53/53 [==============================] - 1s 20ms/step - loss: 1.0765 - accuracy: 0.8711 - val_loss: 1.0613 - val_accuracy: 0.8876\n",
      "Epoch 6/20\n",
      "53/53 [==============================] - 1s 21ms/step - loss: 0.9826 - accuracy: 0.9213 - val_loss: 0.9795 - val_accuracy: 0.9101\n",
      "Epoch 7/20\n",
      "53/53 [==============================] - 1s 19ms/step - loss: 0.8998 - accuracy: 0.9503 - val_loss: 0.9184 - val_accuracy: 0.9213\n",
      "Epoch 8/20\n",
      "53/53 [==============================] - 1s 19ms/step - loss: 0.8315 - accuracy: 0.9592 - val_loss: 0.8586 - val_accuracy: 0.9326\n",
      "Epoch 9/20\n",
      "53/53 [==============================] - 1s 20ms/step - loss: 0.7729 - accuracy: 0.9639 - val_loss: 0.8196 - val_accuracy: 0.9213\n",
      "Epoch 10/20\n",
      "53/53 [==============================] - 1s 19ms/step - loss: 0.7232 - accuracy: 0.9645 - val_loss: 0.7860 - val_accuracy: 0.8989\n",
      "Epoch 11/20\n",
      "53/53 [==============================] - 1s 20ms/step - loss: 0.6791 - accuracy: 0.9645 - val_loss: 0.7470 - val_accuracy: 0.9101\n",
      "Epoch 12/20\n",
      "53/53 [==============================] - 1s 19ms/step - loss: 0.6343 - accuracy: 0.9687 - val_loss: 0.7246 - val_accuracy: 0.9213\n",
      "Epoch 13/20\n",
      "53/53 [==============================] - 1s 21ms/step - loss: 0.5960 - accuracy: 0.9752 - val_loss: 0.6571 - val_accuracy: 0.9213\n",
      "Epoch 14/20\n",
      "53/53 [==============================] - 1s 20ms/step - loss: 0.5615 - accuracy: 0.9775 - val_loss: 0.6283 - val_accuracy: 0.9213\n",
      "Epoch 15/20\n",
      "53/53 [==============================] - 1s 19ms/step - loss: 0.5302 - accuracy: 0.9787 - val_loss: 0.5961 - val_accuracy: 0.9101\n",
      "Epoch 16/20\n",
      "53/53 [==============================] - 1s 19ms/step - loss: 0.4988 - accuracy: 0.9805 - val_loss: 0.5713 - val_accuracy: 0.9213\n",
      "Epoch 17/20\n",
      "53/53 [==============================] - 1s 19ms/step - loss: 0.4705 - accuracy: 0.9823 - val_loss: 0.5484 - val_accuracy: 0.9213\n",
      "Epoch 18/20\n",
      "53/53 [==============================] - 1s 20ms/step - loss: 0.4459 - accuracy: 0.9817 - val_loss: 0.5250 - val_accuracy: 0.9213\n",
      "Epoch 19/20\n",
      "53/53 [==============================] - 1s 20ms/step - loss: 0.4254 - accuracy: 0.9811 - val_loss: 0.5326 - val_accuracy: 0.9101\n",
      "Epoch 20/20\n",
      "53/53 [==============================] - 1s 21ms/step - loss: 0.4053 - accuracy: 0.9811 - val_loss: 0.4811 - val_accuracy: 0.9326\n"
     ]
    }
   ],
   "source": [
    "tf_model_1.compile(optimizer='adam',\n",
    "              loss='categorical_crossentropy',\n",
    "             metrics=['accuracy'])\n",
    "\n",
    "tf_model_1_hist = tf_model_1.fit(X_train, y_train_le,\n",
    "          batch_size=32,\n",
    "          epochs=20,\n",
    "         validation_split=0.05)"
   ]
  },
  {
   "cell_type": "code",
   "execution_count": null,
   "id": "2b8a1145",
   "metadata": {
    "id": "2b8a1145",
    "outputId": "e3796883-8213-4395-d2a9-c38428c7fd04"
   },
   "outputs": [
    {
     "name": "stdout",
     "output_type": "stream",
     "text": [
      "dict_keys(['loss', 'accuracy', 'val_loss', 'val_accuracy'])\n"
     ]
    },
    {
     "data": {
      "image/png": "[encoded data removed]",
      "text/plain": [
       "<Figure size 640x480 with 1 Axes>"
      ]
     },
     "metadata": {},
     "output_type": "display_data"
    }
   ],
   "source": [
    "print(tf_model_1_hist.history.keys())\n",
    "\n",
    "plt.clf()\n",
    "plt.plot(tf_model_1_hist.history['accuracy'])\n",
    "plt.plot(tf_model_1_hist.history['val_accuracy'])\n",
    "plt.title('Transfer Model 1: CNN model from prev with embeddings and head changed : Model accuracies for train and validation')\n",
    "plt.ylabel('Accuracy')\n",
    "plt.xlabel('Epoch')\n",
    "plt.legend(['Train', 'Validation'], loc='upper left')\n",
    "plt.show()"
   ]
  },
  {
   "cell_type": "markdown",
   "id": "69b2265d",
   "metadata": {
    "id": "69b2265d"
   },
   "source": [
    "### Transfer learning - Model 2 : CNN + LSTM pretrained"
   ]
  },
  {
   "cell_type": "code",
   "execution_count": null,
   "id": "f71c2472",
   "metadata": {
    "id": "f71c2472",
    "outputId": "5d16f240-475b-4737-834d-a03385e98c65"
   },
   "outputs": [
    {
     "name": "stdout",
     "output_type": "stream",
     "text": [
      "Model: \"sequential_7\"\n",
      "_________________________________________________________________\n",
      " Layer (type)                Output Shape              Param #   \n",
      "=================================================================\n",
      " text_vectorization (TextVec  (None, None)             0         \n",
      " torization)                                                     \n",
      "                                                                 \n",
      " embedding_6 (Embedding)     (None, None, 16)          1120000   \n",
      "                                                                 \n",
      " conv1d_5 (Conv1D)           (None, None, 80)          25680     \n",
      "                                                                 \n",
      " average_pooling1d_2 (Averag  (None, None, 80)         0         \n",
      " ePooling1D)                                                     \n",
      "                                                                 \n",
      " conv1d_6 (Conv1D)           (None, None, 80)          64080     \n",
      "                                                                 \n",
      " average_pooling1d_3 (Averag  (None, None, 80)         0         \n",
      " ePooling1D)                                                     \n",
      "                                                                 \n",
      " conv1d_7 (Conv1D)           (None, None, 80)          32080     \n",
      "                                                                 \n",
      " average_pooling1d_4 (Averag  (None, None, 80)         0         \n",
      " ePooling1D)                                                     \n",
      "                                                                 \n",
      " lstm_4 (LSTM)               (None, None, 16)          6208      \n",
      "                                                                 \n",
      " lstm_5 (LSTM)               (None, 16)                2112      \n",
      "                                                                 \n",
      " dense_28 (Dense)            (None, 400)               6800      \n",
      "                                                                 \n",
      " dense_29 (Dense)            (None, 400)               160400    \n",
      "                                                                 \n",
      " dense_30 (Dense)            (None, 400)               160400    \n",
      "                                                                 \n",
      " dense_31 (Dense)            (None, 20)                8020      \n",
      "                                                                 \n",
      "=================================================================\n",
      "Total params: 1,585,780\n",
      "Trainable params: 1,585,780\n",
      "Non-trainable params: 0\n",
      "_________________________________________________________________\n"
     ]
    }
   ],
   "source": [
    "tf_model_2 = tf.keras.models.load_model('saved_model/model7save')\n",
    "tf_model_2.summary()"
   ]
  },
  {
   "cell_type": "code",
   "execution_count": null,
   "id": "9f72c90a",
   "metadata": {
    "id": "9f72c90a"
   },
   "outputs": [],
   "source": [
    "#14 total\n",
    "\n",
    "#Leaving the last, embedding layers as is like the previous one\n",
    "tf_model_2.layers[0].trainable = True\n",
    "tf_model_2.layers[1].trainable = True\n",
    "tf_model_2.layers[2].trainable = False\n",
    "tf_model_2.layers[3].trainable = False\n",
    "tf_model_2.layers[4].trainable = False\n",
    "tf_model_2.layers[5].trainable = False\n",
    "tf_model_2.layers[6].trainable = False\n",
    "tf_model_2.layers[7].trainable = False\n",
    "tf_model_2.layers[8].trainable = False\n",
    "tf_model_2.layers[9].trainable = False\n",
    "tf_model_2.layers[10].trainable = False\n",
    "tf_model_2.layers[11].trainable = False\n",
    "tf_model_2.layers[12].trainable = False\n",
    "\n",
    "\n",
    "tf_model_2.layers[13].trainable = True\n",
    "tf_model_2.add(tf.keras.layers.Dense(5, activation='softmax', name='new_dense_6'))"
   ]
  },
  {
   "cell_type": "code",
   "execution_count": null,
   "id": "88697004",
   "metadata": {
    "id": "88697004",
    "outputId": "9e396174-3d06-43e8-b42b-362d0c04aa0d"
   },
   "outputs": [
    {
     "name": "stdout",
     "output_type": "stream",
     "text": [
      "Epoch 1/20\n",
      "53/53 [==============================] - 9s 123ms/step - loss: 1.6580 - accuracy: 0.1798 - val_loss: 1.6640 - val_accuracy: 0.1573\n",
      "Epoch 2/20\n",
      "53/53 [==============================] - 6s 106ms/step - loss: 1.6150 - accuracy: 0.1987 - val_loss: 1.6383 - val_accuracy: 0.1573\n",
      "Epoch 3/20\n",
      "53/53 [==============================] - 6s 104ms/step - loss: 1.5657 - accuracy: 0.3105 - val_loss: 1.5862 - val_accuracy: 0.2809\n",
      "Epoch 4/20\n",
      "53/53 [==============================] - 5s 104ms/step - loss: 1.4971 - accuracy: 0.4281 - val_loss: 1.5468 - val_accuracy: 0.3258\n",
      "Epoch 5/20\n",
      "53/53 [==============================] - 6s 104ms/step - loss: 1.4316 - accuracy: 0.4873 - val_loss: 1.4991 - val_accuracy: 0.3933\n",
      "Epoch 6/20\n",
      "53/53 [==============================] - 6s 105ms/step - loss: 1.4615 - accuracy: 0.4181 - val_loss: 1.5666 - val_accuracy: 0.2697\n",
      "Epoch 7/20\n",
      "53/53 [==============================] - 6s 107ms/step - loss: 1.4853 - accuracy: 0.3389 - val_loss: 1.4810 - val_accuracy: 0.3820\n",
      "Epoch 8/20\n",
      "53/53 [==============================] - 6s 108ms/step - loss: 1.3848 - accuracy: 0.4583 - val_loss: 1.3890 - val_accuracy: 0.5281\n",
      "Epoch 9/20\n",
      "53/53 [==============================] - 6s 105ms/step - loss: 1.2773 - accuracy: 0.5920 - val_loss: 1.2747 - val_accuracy: 0.5169\n",
      "Epoch 10/20\n",
      "53/53 [==============================] - 6s 106ms/step - loss: 1.1711 - accuracy: 0.6458 - val_loss: 1.2174 - val_accuracy: 0.6180\n",
      "Epoch 11/20\n",
      "53/53 [==============================] - 6s 107ms/step - loss: 1.0903 - accuracy: 0.6866 - val_loss: 1.2166 - val_accuracy: 0.5955\n",
      "Epoch 12/20\n",
      "53/53 [==============================] - 6s 105ms/step - loss: 1.0494 - accuracy: 0.6848 - val_loss: 1.1604 - val_accuracy: 0.6517\n",
      "Epoch 13/20\n",
      "53/53 [==============================] - 6s 107ms/step - loss: 0.9787 - accuracy: 0.7020 - val_loss: 1.1030 - val_accuracy: 0.6180\n",
      "Epoch 14/20\n",
      "53/53 [==============================] - 6s 107ms/step - loss: 0.9251 - accuracy: 0.7286 - val_loss: 1.0189 - val_accuracy: 0.7191\n",
      "Epoch 15/20\n",
      "53/53 [==============================] - 5s 101ms/step - loss: 0.8758 - accuracy: 0.7552 - val_loss: 0.8861 - val_accuracy: 0.7865\n",
      "Epoch 16/20\n",
      "53/53 [==============================] - 6s 109ms/step - loss: 0.8531 - accuracy: 0.7493 - val_loss: 0.8840 - val_accuracy: 0.7640\n",
      "Epoch 17/20\n",
      "53/53 [==============================] - 6s 104ms/step - loss: 0.7772 - accuracy: 0.7782 - val_loss: 0.8138 - val_accuracy: 0.7978\n",
      "Epoch 18/20\n",
      "53/53 [==============================] - 6s 107ms/step - loss: 0.7310 - accuracy: 0.7907 - val_loss: 0.7870 - val_accuracy: 0.7978\n",
      "Epoch 19/20\n",
      "53/53 [==============================] - 5s 103ms/step - loss: 0.6985 - accuracy: 0.7930 - val_loss: 0.7584 - val_accuracy: 0.8090\n",
      "Epoch 20/20\n",
      "53/53 [==============================] - 6s 105ms/step - loss: 0.6684 - accuracy: 0.7954 - val_loss: 0.7152 - val_accuracy: 0.8202\n"
     ]
    }
   ],
   "source": [
    "tf_model_2.compile(optimizer='adam',\n",
    "              loss='categorical_crossentropy',\n",
    "             metrics=['accuracy'])\n",
    "\n",
    "tf_model_2_hist = tf_model_2.fit(X_train, y_train_le,\n",
    "          batch_size=32,\n",
    "          epochs=20,\n",
    "         validation_split=0.05)"
   ]
  },
  {
   "cell_type": "code",
   "execution_count": null,
   "id": "7cc4942c",
   "metadata": {
    "id": "7cc4942c",
    "outputId": "e82edb96-f151-48cb-b0e4-229299e7251d"
   },
   "outputs": [
    {
     "name": "stdout",
     "output_type": "stream",
     "text": [
      "dict_keys(['loss', 'accuracy', 'val_loss', 'val_accuracy'])\n"
     ]
    },
    {
     "data": {
      "image/png": "[encoded data removed]",
      "text/plain": [
       "<Figure size 640x480 with 1 Axes>"
      ]
     },
     "metadata": {},
     "output_type": "display_data"
    }
   ],
   "source": [
    "print(tf_model_2_hist.history.keys())\n",
    "\n",
    "plt.clf()\n",
    "plt.plot(tf_model_2_hist.history['accuracy'])\n",
    "plt.plot(tf_model_2_hist.history['val_accuracy'])\n",
    "plt.title('Transfer Model 2: CNN + LSTM pretrained : Model accuracies for train and validation')\n",
    "plt.ylabel('Accuracy')\n",
    "plt.xlabel('Epoch')\n",
    "plt.legend(['Train', 'Validation'], loc='upper left')\n",
    "plt.show()"
   ]
  },
  {
   "cell_type": "markdown",
   "id": "46928d26",
   "metadata": {
    "id": "46928d26"
   },
   "source": [
    "### Transfer learning: Model 3 - CNN + LSTM pretrained + Some adjustments"
   ]
  },
  {
   "cell_type": "code",
   "execution_count": null,
   "id": "31b2a6fa",
   "metadata": {
    "id": "31b2a6fa",
    "outputId": "175c9c1b-9dff-4cde-f4aa-fcf46e837c69"
   },
   "outputs": [
    {
     "name": "stdout",
     "output_type": "stream",
     "text": [
      "Model: \"sequential_7\"\n",
      "_________________________________________________________________\n",
      " Layer (type)                Output Shape              Param #   \n",
      "=================================================================\n",
      " text_vectorization (TextVec  (None, None)             0         \n",
      " torization)                                                     \n",
      "                                                                 \n",
      " embedding_6 (Embedding)     (None, None, 16)          1120000   \n",
      "                                                                 \n",
      " conv1d_5 (Conv1D)           (None, None, 80)          25680     \n",
      "                                                                 \n",
      " average_pooling1d_2 (Averag  (None, None, 80)         0         \n",
      " ePooling1D)                                                     \n",
      "                                                                 \n",
      " conv1d_6 (Conv1D)           (None, None, 80)          64080     \n",
      "                                                                 \n",
      " average_pooling1d_3 (Averag  (None, None, 80)         0         \n",
      " ePooling1D)                                                     \n",
      "                                                                 \n",
      " conv1d_7 (Conv1D)           (None, None, 80)          32080     \n",
      "                                                                 \n",
      " average_pooling1d_4 (Averag  (None, None, 80)         0         \n",
      " ePooling1D)                                                     \n",
      "                                                                 \n",
      " lstm_4 (LSTM)               (None, None, 16)          6208      \n",
      "                                                                 \n",
      " lstm_5 (LSTM)               (None, 16)                2112      \n",
      "                                                                 \n",
      " dense_28 (Dense)            (None, 400)               6800      \n",
      "                                                                 \n",
      " dense_29 (Dense)            (None, 400)               160400    \n",
      "                                                                 \n",
      " dense_30 (Dense)            (None, 400)               160400    \n",
      "                                                                 \n",
      " dense_31 (Dense)            (None, 20)                8020      \n",
      "                                                                 \n",
      "=================================================================\n",
      "Total params: 1,585,780\n",
      "Trainable params: 1,585,780\n",
      "Non-trainable params: 0\n",
      "_________________________________________________________________\n"
     ]
    }
   ],
   "source": [
    "tf_model_3 = tf.keras.models.load_model('saved_model/model7save')\n",
    "tf_model_3.summary()"
   ]
  },
  {
   "cell_type": "code",
   "execution_count": null,
   "id": "54f5a2ab",
   "metadata": {
    "id": "54f5a2ab"
   },
   "outputs": [],
   "source": [
    "tf_model_3.layers[0].trainable = True\n",
    "tf_model_3.layers[1].trainable = True\n",
    "tf_model_3.layers[2].trainable = False\n",
    "tf_model_3.layers[3].trainable = False\n",
    "tf_model_3.layers[4].trainable = False\n",
    "tf_model_3.layers[5].trainable = False\n",
    "tf_model_3.layers[6].trainable = False\n",
    "tf_model_3.layers[7].trainable = False\n",
    "tf_model_3.layers[8].trainable = False\n",
    "tf_model_3.layers[9].trainable = False\n",
    "tf_model_3.layers[10].trainable = False\n",
    "tf_model_3.layers[11].trainable = False\n",
    "tf_model_3.layers[12].trainable = False\n",
    "\n",
    "tf_model_3.layers[13].trainable = True\n",
    "\n",
    "tf_model_3.add(tf.keras.layers.Dense(5, activation='relu', name='new_dense_6'))\n",
    "tf_model_3.add(tf.keras.layers.Dense(5, activation='relu', name='new_dense_7'))\n",
    "tf_model_3.add(tf.keras.layers.Dense(5, activation='softmax', name='new_dense_8'))"
   ]
  },
  {
   "cell_type": "code",
   "execution_count": null,
   "id": "21031c31",
   "metadata": {
    "id": "21031c31",
    "outputId": "74a5195a-a0fa-44b0-d09d-e4c1d4bbc7fd"
   },
   "outputs": [
    {
     "name": "stdout",
     "output_type": "stream",
     "text": [
      "Epoch 1/20\n",
      "53/53 [==============================] - 10s 127ms/step - loss: 1.5879 - accuracy: 0.3767 - val_loss: 1.5556 - val_accuracy: 0.4831\n",
      "Epoch 2/20\n",
      "53/53 [==============================] - 6s 116ms/step - loss: 1.4891 - accuracy: 0.4494 - val_loss: 1.4349 - val_accuracy: 0.4944\n",
      "Epoch 3/20\n",
      "53/53 [==============================] - 6s 105ms/step - loss: 1.3461 - accuracy: 0.4536 - val_loss: 1.3161 - val_accuracy: 0.4944\n",
      "Epoch 4/20\n",
      "53/53 [==============================] - 5s 104ms/step - loss: 1.2016 - accuracy: 0.4571 - val_loss: 1.2150 - val_accuracy: 0.5393\n",
      "Epoch 5/20\n",
      "53/53 [==============================] - 6s 102ms/step - loss: 1.0701 - accuracy: 0.5937 - val_loss: 1.1221 - val_accuracy: 0.6067\n",
      "Epoch 6/20\n",
      "53/53 [==============================] - 6s 108ms/step - loss: 0.9592 - accuracy: 0.6044 - val_loss: 1.0513 - val_accuracy: 0.6067\n",
      "Epoch 7/20\n",
      "53/53 [==============================] - 6s 105ms/step - loss: 0.8640 - accuracy: 0.6032 - val_loss: 0.9695 - val_accuracy: 0.6067\n",
      "Epoch 8/20\n",
      "53/53 [==============================] - 6s 107ms/step - loss: 0.7826 - accuracy: 0.6357 - val_loss: 0.9027 - val_accuracy: 0.7528\n",
      "Epoch 9/20\n",
      "53/53 [==============================] - 6s 105ms/step - loss: 0.7150 - accuracy: 0.7617 - val_loss: 0.8600 - val_accuracy: 0.7528\n",
      "Epoch 10/20\n",
      "53/53 [==============================] - 6s 107ms/step - loss: 0.6650 - accuracy: 0.7700 - val_loss: 0.8100 - val_accuracy: 0.7640\n",
      "Epoch 11/20\n",
      "53/53 [==============================] - 6s 107ms/step - loss: 0.6147 - accuracy: 0.7747 - val_loss: 0.7667 - val_accuracy: 0.7640\n",
      "Epoch 12/20\n",
      "53/53 [==============================] - 6s 105ms/step - loss: 0.5735 - accuracy: 0.7771 - val_loss: 0.7594 - val_accuracy: 0.7640\n",
      "Epoch 13/20\n",
      "53/53 [==============================] - 6s 105ms/step - loss: 0.5364 - accuracy: 0.7847 - val_loss: 0.7272 - val_accuracy: 0.7753\n",
      "Epoch 14/20\n",
      "53/53 [==============================] - 6s 106ms/step - loss: 0.5086 - accuracy: 0.7830 - val_loss: 0.7213 - val_accuracy: 0.7640\n",
      "Epoch 15/20\n",
      "53/53 [==============================] - 6s 107ms/step - loss: 0.4831 - accuracy: 0.7847 - val_loss: 0.7504 - val_accuracy: 0.7640\n",
      "Epoch 16/20\n",
      "53/53 [==============================] - 6s 106ms/step - loss: 0.4593 - accuracy: 0.7865 - val_loss: 0.7525 - val_accuracy: 0.7528\n",
      "Epoch 17/20\n",
      "53/53 [==============================] - 6s 104ms/step - loss: 0.4430 - accuracy: 0.7865 - val_loss: 0.7764 - val_accuracy: 0.7528\n",
      "Epoch 18/20\n",
      "53/53 [==============================] - 6s 108ms/step - loss: 0.4308 - accuracy: 0.7883 - val_loss: 0.7204 - val_accuracy: 0.7640\n",
      "Epoch 19/20\n",
      "53/53 [==============================] - 6s 109ms/step - loss: 0.4126 - accuracy: 0.7924 - val_loss: 0.6817 - val_accuracy: 0.7865\n",
      "Epoch 20/20\n",
      "53/53 [==============================] - 6s 109ms/step - loss: 0.4188 - accuracy: 0.7907 - val_loss: 1.2275 - val_accuracy: 0.5506\n"
     ]
    }
   ],
   "source": [
    "tf_model_3.compile(optimizer='adam',\n",
    "              loss='categorical_crossentropy',\n",
    "             metrics=['accuracy'])\n",
    "\n",
    "tf_model_3_hist = tf_model_3.fit(X_train, y_train_le,\n",
    "          batch_size=32,\n",
    "          epochs=20,\n",
    "         validation_split=0.05)"
   ]
  },
  {
   "cell_type": "code",
   "execution_count": null,
   "id": "da478b38",
   "metadata": {
    "id": "da478b38",
    "outputId": "43811078-0efa-4871-fdc2-643a38edebdc"
   },
   "outputs": [
    {
     "name": "stdout",
     "output_type": "stream",
     "text": [
      "dict_keys(['loss', 'accuracy', 'val_loss', 'val_accuracy'])\n"
     ]
    },
    {
     "data": {
      "image/png": "[encoded data removed]",
      "text/plain": [
       "<Figure size 640x480 with 1 Axes>"
      ]
     },
     "metadata": {},
     "output_type": "display_data"
    }
   ],
   "source": [
    "print(tf_model_3_hist.history.keys())\n",
    "\n",
    "plt.clf()\n",
    "plt.plot(tf_model_3_hist.history['accuracy'])\n",
    "plt.plot(tf_model_3_hist.history['val_accuracy'])\n",
    "plt.title('Transfer Model 3: Transfer learning (CNN LSTM pretrained) + 3 dense layers : Model accuracies for train and validation')\n",
    "plt.ylabel('Accuracy')\n",
    "plt.xlabel('Epoch')\n",
    "plt.legend(['Train', 'Validation'], loc='upper left')\n",
    "plt.show()"
   ]
  },
  {
   "cell_type": "markdown",
   "id": "7a6e476c",
   "metadata": {
    "id": "7a6e476c"
   },
   "source": [
    "### Common requirements to train from scratch models"
   ]
  },
  {
   "cell_type": "code",
   "execution_count": null,
   "id": "e69acbbf",
   "metadata": {
    "id": "e69acbbf"
   },
   "outputs": [],
   "source": [
    "maxlen = 400\n",
    "maxlen = 400\n",
    "embedding_dims = 16\n",
    "epochs = 5\n",
    "\n",
    "max_features = 70000\n",
    "\n",
    "category_no = 5\n",
    "\n",
    "vectorizer = tf.keras.layers.TextVectorization(\n",
    "    standardize=\"lower_and_strip_punctuation\",\n",
    "    split=\"whitespace\",\n",
    "    output_mode=\"int\",\n",
    ")\n",
    "vectorizer.adapt(X_train.to_numpy())"
   ]
  },
  {
   "cell_type": "markdown",
   "id": "06a5e28c",
   "metadata": {
    "id": "06a5e28c"
   },
   "source": [
    "### Model 4 - From scratch LSTM"
   ]
  },
  {
   "cell_type": "code",
   "execution_count": null,
   "id": "e29be4b4",
   "metadata": {
    "id": "e29be4b4"
   },
   "outputs": [],
   "source": [
    "tf_model_4 = Sequential()\n",
    "\n",
    "tf_model_4.add(vectorizer)\n",
    "\n",
    "tf_model_4.add(Embedding(max_features, embedding_dims))\n",
    "tf_model_4.add(TimeDistributed(Dense(400,activation=\"relu\")))\n",
    "tf_model_4.add(LSTM(embedding_dims, return_sequences=False))\n",
    "tf_model_4.add(Dense(400,activation=\"relu\"))\n",
    "tf_model_4.add(Dense(400,activation=\"sigmoid\"))\n",
    "tf_model_4.add(Dense(400,activation=\"relu\"))\n",
    "tf_model_4.add(Dense(category_no,activation=tf.keras.activations.softmax))"
   ]
  },
  {
   "cell_type": "code",
   "execution_count": null,
   "id": "e7f99801",
   "metadata": {
    "id": "e7f99801",
    "outputId": "04c8602e-ac51-42f7-bb35-b4e3fd7cec6f"
   },
   "outputs": [
    {
     "name": "stdout",
     "output_type": "stream",
     "text": [
      "Model: \"sequential\"\n",
      "_________________________________________________________________\n",
      " Layer (type)                Output Shape              Param #   \n",
      "=================================================================\n",
      " text_vectorization_1 (TextV  (None, None)             0         \n",
      " ectorization)                                                   \n",
      "                                                                 \n",
      " embedding (Embedding)       (None, None, 16)          1120000   \n",
      "                                                                 \n",
      " time_distributed (TimeDistr  (None, None, 400)        6800      \n",
      " ibuted)                                                         \n",
      "                                                                 \n",
      " lstm (LSTM)                 (None, 16)                26688     \n",
      "                                                                 \n",
      " dense_1 (Dense)             (None, 400)               6800      \n",
      "                                                                 \n",
      " dense_2 (Dense)             (None, 400)               160400    \n",
      "                                                                 \n",
      " dense_3 (Dense)             (None, 400)               160400    \n",
      "                                                                 \n",
      " dense_4 (Dense)             (None, 5)                 2005      \n",
      "                                                                 \n",
      "=================================================================\n",
      "Total params: 1,483,093\n",
      "Trainable params: 1,483,093\n",
      "Non-trainable params: 0\n",
      "_________________________________________________________________\n",
      "Epoch 1/20\n",
      "51/51 [==============================] - 24s 435ms/step - loss: 1.7027 - accuracy: 0.1979 - val_loss: 1.6354 - val_accuracy: 0.2079\n",
      "Epoch 2/20\n",
      "51/51 [==============================] - 22s 439ms/step - loss: 1.6592 - accuracy: 0.1979 - val_loss: 1.6285 - val_accuracy: 0.1629\n",
      "Epoch 3/20\n",
      "51/51 [==============================] - 26s 489ms/step - loss: 1.6343 - accuracy: 0.2110 - val_loss: 1.6589 - val_accuracy: 0.1629\n",
      "Epoch 4/20\n",
      "51/51 [==============================] - 24s 464ms/step - loss: 1.6082 - accuracy: 0.2135 - val_loss: 1.5893 - val_accuracy: 0.2978\n",
      "Epoch 5/20\n",
      "51/51 [==============================] - 33s 649ms/step - loss: 1.6221 - accuracy: 0.2179 - val_loss: 1.6137 - val_accuracy: 0.2135\n",
      "Epoch 6/20\n",
      "51/51 [==============================] - 28s 552ms/step - loss: 1.6116 - accuracy: 0.2428 - val_loss: 1.6191 - val_accuracy: 0.3034\n",
      "Epoch 7/20\n",
      "51/51 [==============================] - 34s 679ms/step - loss: 1.5934 - accuracy: 0.2316 - val_loss: 1.5793 - val_accuracy: 0.3034\n",
      "Epoch 8/20\n",
      "51/51 [==============================] - 34s 674ms/step - loss: 1.5963 - accuracy: 0.2385 - val_loss: 1.5920 - val_accuracy: 0.2865\n",
      "Epoch 9/20\n",
      "51/51 [==============================] - 36s 711ms/step - loss: 1.5886 - accuracy: 0.2316 - val_loss: 1.5945 - val_accuracy: 0.2135\n",
      "Epoch 10/20\n",
      "51/51 [==============================] - 34s 680ms/step - loss: 1.5989 - accuracy: 0.2428 - val_loss: 1.6036 - val_accuracy: 0.2022\n",
      "Epoch 11/20\n",
      "51/51 [==============================] - 35s 702ms/step - loss: 1.5825 - accuracy: 0.2409 - val_loss: 1.6054 - val_accuracy: 0.2135\n",
      "Epoch 12/20\n",
      "51/51 [==============================] - 37s 727ms/step - loss: 1.5791 - accuracy: 0.2441 - val_loss: 1.6010 - val_accuracy: 0.2079\n",
      "Epoch 13/20\n",
      "51/51 [==============================] - 37s 680ms/step - loss: 1.5765 - accuracy: 0.2397 - val_loss: 1.6016 - val_accuracy: 0.2135\n",
      "Epoch 14/20\n",
      "51/51 [==============================] - 30s 580ms/step - loss: 1.5818 - accuracy: 0.2491 - val_loss: 1.6018 - val_accuracy: 0.2022\n",
      "Epoch 15/20\n",
      "51/51 [==============================] - 38s 702ms/step - loss: 1.5839 - accuracy: 0.2347 - val_loss: 1.5997 - val_accuracy: 0.1966\n",
      "Epoch 16/20\n",
      "51/51 [==============================] - 37s 737ms/step - loss: 1.5769 - accuracy: 0.2385 - val_loss: 1.6028 - val_accuracy: 0.2022\n",
      "Epoch 17/20\n",
      "51/51 [==============================] - 37s 729ms/step - loss: 1.5842 - accuracy: 0.2509 - val_loss: 1.5975 - val_accuracy: 0.2079\n",
      "Epoch 18/20\n",
      "51/51 [==============================] - 39s 777ms/step - loss: 1.5767 - accuracy: 0.2522 - val_loss: 1.5829 - val_accuracy: 0.2135\n",
      "Epoch 19/20\n",
      "51/51 [==============================] - 40s 713ms/step - loss: 1.6029 - accuracy: 0.2409 - val_loss: 1.6024 - val_accuracy: 0.2022\n",
      "Epoch 20/20\n",
      "51/51 [==============================] - 40s 785ms/step - loss: 1.6004 - accuracy: 0.2322 - val_loss: 1.6003 - val_accuracy: 0.2022\n"
     ]
    }
   ],
   "source": [
    "tf_model_4.compile(optimizer='adam',\n",
    "              loss='categorical_crossentropy',\n",
    "             metrics=['accuracy'])\n",
    "\n",
    "tf_model_4.summary()\n",
    "\n",
    "tf_4hist = tf_model_4.fit(X_train, y_train_le,\n",
    "          batch_size=32,\n",
    "          epochs=20,\n",
    "         validation_split=0.10)"
   ]
  },
  {
   "cell_type": "code",
   "execution_count": null,
   "id": "4c063741",
   "metadata": {
    "id": "4c063741",
    "outputId": "393e8162-b072-41c3-8f65-d12ec1f2bff3"
   },
   "outputs": [
    {
     "name": "stdout",
     "output_type": "stream",
     "text": [
      "dict_keys(['loss', 'accuracy', 'val_loss', 'val_accuracy'])\n"
     ]
    },
    {
     "data": {
      "image/png": "[encoded data removed]",
      "text/plain": [
       "<Figure size 640x480 with 1 Axes>"
      ]
     },
     "metadata": {},
     "output_type": "display_data"
    }
   ],
   "source": [
    "print(tf_4hist.history.keys())\n",
    "\n",
    "plt.clf()\n",
    "plt.plot(tf_4hist.history['accuracy'])\n",
    "plt.plot(tf_4hist.history['val_accuracy'])\n",
    "plt.title('From scratch: Single LSTM : Model accuracies for train and validation')\n",
    "plt.ylabel('Accuracy')\n",
    "plt.xlabel('Epoch')\n",
    "plt.legend(['Train', 'Validation'], loc='upper left')\n",
    "plt.show()"
   ]
  },
  {
   "cell_type": "markdown",
   "id": "9f141ff4",
   "metadata": {
    "id": "9f141ff4"
   },
   "source": [
    "### From scratch: Model 5 - Same steps as in Model 3"
   ]
  },
  {
   "cell_type": "code",
   "execution_count": null,
   "id": "19aa2283",
   "metadata": {
    "id": "19aa2283"
   },
   "outputs": [],
   "source": [
    "tf_model_5 = Sequential()\n",
    "\n",
    "tf_model_5.add(vectorizer)\n",
    "\n",
    "tf_model_5.add(Embedding(max_features, embedding_dims))\n",
    "tf_model_5.add(Conv1D(80, 20, padding='same', activation='relu'))\n",
    "tf_model_5.add(AveragePooling1D())\n",
    "tf_model_5.add(Conv1D(80, 10, padding='same', activation='relu'))\n",
    "tf_model_5.add(AveragePooling1D())\n",
    "tf_model_5.add(Conv1D(80, 5, padding='same', activation='relu'))\n",
    "tf_model_5.add(AveragePooling1D())\n",
    "tf_model_5.add(LSTM(embedding_dims, return_sequences=True))\n",
    "tf_model_5.add(LSTM(embedding_dims, return_sequences=False))\n",
    "tf_model_5.add(Dense(400,activation=\"relu\"))\n",
    "tf_model_5.add(Dense(400,activation=\"relu\"))\n",
    "tf_model_5.add(Dense(400,activation=\"relu\"))\n",
    "tf_model_5.add(tf.keras.layers.Dense(5, activation='relu'))\n",
    "tf_model_5.add(tf.keras.layers.Dense(5, activation='relu'))\n",
    "tf_model_5.add(Dense(5,activation=tf.keras.activations.softmax))"
   ]
  },
  {
   "cell_type": "code",
   "execution_count": null,
   "id": "98beacb9",
   "metadata": {
    "id": "98beacb9",
    "outputId": "5b0b86d7-cab7-4b2c-de3b-04f86e29f673"
   },
   "outputs": [
    {
     "name": "stdout",
     "output_type": "stream",
     "text": [
      "Model: \"sequential_1\"\n",
      "_________________________________________________________________\n",
      " Layer (type)                Output Shape              Param #   \n",
      "=================================================================\n",
      " text_vectorization_1 (TextV  (None, None)             0         \n",
      " ectorization)                                                   \n",
      "                                                                 \n",
      " embedding_1 (Embedding)     (None, None, 16)          1120000   \n",
      "                                                                 \n",
      " conv1d (Conv1D)             (None, None, 80)          25680     \n",
      "                                                                 \n",
      " average_pooling1d (AverageP  (None, None, 80)         0         \n",
      " ooling1D)                                                       \n",
      "                                                                 \n",
      " conv1d_1 (Conv1D)           (None, None, 80)          64080     \n",
      "                                                                 \n",
      " average_pooling1d_1 (Averag  (None, None, 80)         0         \n",
      " ePooling1D)                                                     \n",
      "                                                                 \n",
      " conv1d_2 (Conv1D)           (None, None, 80)          32080     \n",
      "                                                                 \n",
      " average_pooling1d_2 (Averag  (None, None, 80)         0         \n",
      " ePooling1D)                                                     \n",
      "                                                                 \n",
      " lstm_1 (LSTM)               (None, None, 16)          6208      \n",
      "                                                                 \n",
      " lstm_2 (LSTM)               (None, 16)                2112      \n",
      "                                                                 \n",
      " dense_5 (Dense)             (None, 400)               6800      \n",
      "                                                                 \n",
      " dense_6 (Dense)             (None, 400)               160400    \n",
      "                                                                 \n",
      " dense_7 (Dense)             (None, 400)               160400    \n",
      "                                                                 \n",
      " dense_8 (Dense)             (None, 5)                 2005      \n",
      "                                                                 \n",
      " dense_9 (Dense)             (None, 5)                 30        \n",
      "                                                                 \n",
      " dense_10 (Dense)            (None, 5)                 30        \n",
      "                                                                 \n",
      "=================================================================\n",
      "Total params: 1,579,825\n",
      "Trainable params: 1,579,825\n",
      "Non-trainable params: 0\n",
      "_________________________________________________________________\n",
      "Epoch 1/20\n",
      "51/51 [==============================] - 35s 686ms/step - loss: 1.6027 - accuracy: 0.2366 - val_loss: 1.5993 - val_accuracy: 0.2022\n",
      "Epoch 2/20\n",
      "51/51 [==============================] - 36s 704ms/step - loss: 1.5943 - accuracy: 0.2441 - val_loss: 1.5966 - val_accuracy: 0.2079\n",
      "Epoch 3/20\n",
      "51/51 [==============================] - 38s 742ms/step - loss: 1.5811 - accuracy: 0.2503 - val_loss: 1.5987 - val_accuracy: 0.2079\n",
      "Epoch 4/20\n",
      "51/51 [==============================] - 38s 729ms/step - loss: 1.5788 - accuracy: 0.2509 - val_loss: 1.5940 - val_accuracy: 0.2079\n",
      "Epoch 5/20\n",
      "51/51 [==============================] - 38s 749ms/step - loss: 1.5809 - accuracy: 0.2528 - val_loss: 1.5967 - val_accuracy: 0.2079\n",
      "Epoch 6/20\n",
      "51/51 [==============================] - 37s 736ms/step - loss: 1.5750 - accuracy: 0.2528 - val_loss: 1.5983 - val_accuracy: 0.2079\n",
      "Epoch 7/20\n",
      "51/51 [==============================] - 38s 744ms/step - loss: 1.5739 - accuracy: 0.2534 - val_loss: 1.5956 - val_accuracy: 0.2079\n",
      "Epoch 8/20\n",
      "51/51 [==============================] - 38s 746ms/step - loss: 1.5734 - accuracy: 0.2447 - val_loss: 1.6001 - val_accuracy: 0.2022\n",
      "Epoch 9/20\n",
      "51/51 [==============================] - 36s 720ms/step - loss: 1.5792 - accuracy: 0.2503 - val_loss: 1.6029 - val_accuracy: 0.2022\n",
      "Epoch 10/20\n",
      "51/51 [==============================] - 38s 748ms/step - loss: 1.5778 - accuracy: 0.2416 - val_loss: 1.5989 - val_accuracy: 0.2079\n",
      "Epoch 11/20\n",
      "51/51 [==============================] - 38s 750ms/step - loss: 1.5776 - accuracy: 0.2509 - val_loss: 1.5996 - val_accuracy: 0.2079\n",
      "Epoch 12/20\n",
      "51/51 [==============================] - 38s 755ms/step - loss: 1.5765 - accuracy: 0.2522 - val_loss: 1.6000 - val_accuracy: 0.2022\n",
      "Epoch 13/20\n",
      "51/51 [==============================] - 36s 675ms/step - loss: 1.5748 - accuracy: 0.2522 - val_loss: 1.6001 - val_accuracy: 0.2022\n",
      "Epoch 14/20\n",
      "51/51 [==============================] - 39s 777ms/step - loss: 1.5803 - accuracy: 0.2503 - val_loss: 1.6009 - val_accuracy: 0.2079\n",
      "Epoch 15/20\n",
      "51/51 [==============================] - 38s 763ms/step - loss: 1.5774 - accuracy: 0.2547 - val_loss: 1.6022 - val_accuracy: 0.2022\n",
      "Epoch 16/20\n",
      "51/51 [==============================] - 39s 763ms/step - loss: 1.5809 - accuracy: 0.2403 - val_loss: 1.5993 - val_accuracy: 0.2022\n",
      "Epoch 17/20\n",
      "51/51 [==============================] - 39s 776ms/step - loss: 1.5784 - accuracy: 0.2509 - val_loss: 1.6010 - val_accuracy: 0.2022\n",
      "Epoch 18/20\n",
      "51/51 [==============================] - 40s 777ms/step - loss: 1.5774 - accuracy: 0.2497 - val_loss: 1.5996 - val_accuracy: 0.2079\n",
      "Epoch 19/20\n",
      "51/51 [==============================] - 38s 757ms/step - loss: 1.5772 - accuracy: 0.2528 - val_loss: 1.6005 - val_accuracy: 0.2079\n",
      "Epoch 20/20\n",
      "51/51 [==============================] - 41s 806ms/step - loss: 1.5850 - accuracy: 0.2466 - val_loss: 1.6042 - val_accuracy: 0.2022\n"
     ]
    }
   ],
   "source": [
    "tf_model_5.compile(optimizer='adam',\n",
    "              loss='categorical_crossentropy',\n",
    "             metrics=['accuracy'])\n",
    "\n",
    "tf_model_5.summary()\n",
    "\n",
    "tf_5hist = tf_model_4.fit(X_train, y_train_le,\n",
    "          batch_size=32,\n",
    "          epochs=20,\n",
    "         validation_split=0.10)"
   ]
  },
  {
   "cell_type": "code",
   "execution_count": null,
   "id": "09abf708",
   "metadata": {
    "id": "09abf708",
    "outputId": "057e4e73-c827-4779-cc9a-b610e855607d"
   },
   "outputs": [
    {
     "name": "stdout",
     "output_type": "stream",
     "text": [
      "dict_keys(['loss', 'accuracy', 'val_loss', 'val_accuracy'])\n"
     ]
    },
    {
     "data": {
      "image/png": "[encoded data removed]",
      "text/plain": [
       "<Figure size 640x480 with 1 Axes>"
      ]
     },
     "metadata": {},
     "output_type": "display_data"
    }
   ],
   "source": [
    "print(tf_5hist.history.keys())\n",
    "\n",
    "plt.clf()\n",
    "plt.plot(tf_5hist.history['accuracy'])\n",
    "plt.plot(tf_5hist.history['val_accuracy'])\n",
    "plt.title('From scratch: Model 5 - Same steps as in Model 3 : Model accuracies for train and validation')\n",
    "plt.ylabel('Accuracy')\n",
    "plt.xlabel('Epoch')\n",
    "plt.legend(['Train', 'Validation'], loc='upper left')\n",
    "plt.show()"
   ]
  },
  {
   "cell_type": "markdown",
   "id": "c9e56c5b",
   "metadata": {
    "id": "c9e56c5b"
   },
   "source": [
    "### Evaluating the models using test data"
   ]
  },
  {
   "cell_type": "code",
   "execution_count": null,
   "id": "c0fbfe8f",
   "metadata": {
    "id": "c0fbfe8f"
   },
   "outputs": [],
   "source": [
    "p2_model_accs = []"
   ]
  },
  {
   "cell_type": "code",
   "execution_count": null,
   "id": "527da06e",
   "metadata": {
    "id": "527da06e",
    "outputId": "14adfa3b-4824-4102-8b8e-c685e9ee9bfa"
   },
   "outputs": [
    {
     "name": "stdout",
     "output_type": "stream",
     "text": [
      "14/14 [==============================] - 0s 10ms/step - loss: 0.5833 - accuracy: 0.8809\n",
      "Model 1: Test loss/ Test acc\n",
      "[0.5833443403244019, 0.8808988928794861]\n"
     ]
    }
   ],
   "source": [
    "acc1 = tf_model_1.evaluate(X_test, y_test_le, batch_size=32)\n",
    "print(\"Model 1: Test loss/ Test acc\")\n",
    "print(acc1)\n",
    "p2_model_accs.append(acc1[1])"
   ]
  },
  {
   "cell_type": "code",
   "execution_count": null,
   "id": "20fbd2de",
   "metadata": {
    "id": "20fbd2de",
    "outputId": "dd9a6d17-b24b-41d5-e130-b740991ba363"
   },
   "outputs": [
    {
     "name": "stdout",
     "output_type": "stream",
     "text": [
      "14/14 [==============================] - 0s 31ms/step - loss: 0.8120 - accuracy: 0.6989\n",
      "Model 2: Test loss/ Test acc\n",
      "[0.8119595050811768, 0.6988763809204102]\n"
     ]
    }
   ],
   "source": [
    "acc2 = tf_model_2.evaluate(X_test, y_test_le, batch_size=32)\n",
    "print(\"Model 2: Test loss/ Test acc\")\n",
    "print(acc2)\n",
    "p2_model_accs.append(acc2[1])"
   ]
  },
  {
   "cell_type": "code",
   "execution_count": null,
   "id": "1595e3dd",
   "metadata": {
    "id": "1595e3dd",
    "outputId": "249c05e3-5887-40f5-ec7f-c5bea06c43ea"
   },
   "outputs": [
    {
     "name": "stdout",
     "output_type": "stream",
     "text": [
      "14/14 [==============================] - 0s 31ms/step - loss: 0.7862 - accuracy: 0.6562\n",
      "Model 3: Test loss/ Test acc\n",
      "[0.7861959934234619, 0.6561797857284546]\n"
     ]
    }
   ],
   "source": [
    "acc3 = tf_model_3.evaluate(X_test, y_test_le, batch_size=32)\n",
    "print(\"Model 3: Test loss/ Test acc\")\n",
    "print(acc3)\n",
    "p2_model_accs.append(acc3[1])"
   ]
  },
  {
   "cell_type": "code",
   "execution_count": null,
   "id": "7cc7c8ce",
   "metadata": {
    "id": "7cc7c8ce",
    "outputId": "4babda9c-fc8e-41ef-d95a-b6a9e594a0a5"
   },
   "outputs": [
    {
     "name": "stdout",
     "output_type": "stream",
     "text": [
      "14/14 [==============================] - 3s 216ms/step - loss: 1.6050 - accuracy: 0.2180\n",
      "Model 4: Test loss/ Test acc\n",
      "[1.6049730777740479, 0.21797752380371094]\n"
     ]
    }
   ],
   "source": [
    "acc4 = tf_model_4.evaluate(X_test, y_test_le, batch_size=32)\n",
    "print(\"Model 4: Test loss/ Test acc\")\n",
    "print(acc4)\n",
    "p2_model_accs.append(acc4[1])"
   ]
  },
  {
   "cell_type": "code",
   "execution_count": null,
   "id": "b212a7cb",
   "metadata": {
    "id": "b212a7cb",
    "outputId": "7b43eaad-e6be-48c4-c2fe-d9b8b86bed22"
   },
   "outputs": [
    {
     "name": "stdout",
     "output_type": "stream",
     "text": [
      "14/14 [==============================] - 1s 32ms/step - loss: 1.6094 - accuracy: 0.2157\n",
      "Model 5: Test loss/ Test acc\n",
      "[1.6094386577606201, 0.21573033928871155]\n"
     ]
    }
   ],
   "source": [
    "acc5 = tf_model_5.evaluate(X_test, y_test_le, batch_size=32)\n",
    "print(\"Model 5: Test loss/ Test acc\")\n",
    "print(acc5)\n",
    "p2_model_accs.append(acc5[1])"
   ]
  },
  {
   "cell_type": "markdown",
   "id": "426788f5",
   "metadata": {
    "id": "426788f5"
   },
   "source": [
    "### Plotting test accuracies as a graph"
   ]
  },
  {
   "cell_type": "code",
   "execution_count": null,
   "id": "898491e1",
   "metadata": {
    "id": "898491e1",
    "outputId": "1108b75a-b7fa-42d0-d707-012ef51d4580"
   },
   "outputs": [
    {
     "data": {
      "text/html": [
       "<iframe\n",
       "    scrolling=\"no\"\n",
       "    width=\"100%\"\n",
       "    height=\"545px\"\n",
       "    src=\"iframe_figures/figure_103.html\"\n",
       "    frameborder=\"0\"\n",
       "    allowfullscreen\n",
       "></iframe>\n"
      ]
     },
     "metadata": {},
     "output_type": "display_data"
    }
   ],
   "source": [
    "model_nos = [1,2,3,4,5]\n",
    "\n",
    "# Plot as a bar-graph\n",
    "fig2 = px.bar(\n",
    "    proc_dataset, x=model_nos, y=p2_model_accs,\n",
    "    title = \"Fig: Evaluation accuracies of Part 2 models\",\n",
    "    labels={'x' : 'Model No.', 'y': 'Test Accuracy'}\n",
    ")\n",
    "\n",
    "fig2.update_layout(barmode='stack', xaxis={'categoryorder':'total descending'})\n",
    "\n",
    "fig2.show()"
   ]
  },
  {
   "cell_type": "markdown",
   "id": "2d125c9f",
   "metadata": {
    "id": "2d125c9f"
   },
   "source": [
    "As seen from the graphs, the testing accuracy for the transfer models is higher than the testing accuracy of the from scratch models. This may be due to various factors like:\n",
    "1) The dataset is different\n",
    "2) The pretrained models were run over a larger number of records\n",
    "3) More words are there in the embeddings\n",
    "(The above are theories)\n",
    "\n",
    "### Downloading the test set"
   ]
  },
  {
   "cell_type": "code",
   "execution_count": null,
   "id": "38c94c39",
   "metadata": {
    "id": "38c94c39",
    "outputId": "29e6d464-a69f-43b0-c59c-c82c8ed95ed9"
   },
   "outputs": [
    {
     "data": {
      "text/html": [
       "<div>\n",
       "<style scoped>\n",
       "    .dataframe tbody tr th:only-of-type {\n",
       "        vertical-align: middle;\n",
       "    }\n",
       "\n",
       "    .dataframe tbody tr th {\n",
       "        vertical-align: top;\n",
       "    }\n",
       "\n",
       "    .dataframe thead th {\n",
       "        text-align: right;\n",
       "    }\n",
       "</style>\n",
       "<table border=\"1\" class=\"dataframe\">\n",
       "  <thead>\n",
       "    <tr style=\"text-align: right;\">\n",
       "      <th></th>\n",
       "      <th>bodyContent</th>\n",
       "      <th>sectionName</th>\n",
       "    </tr>\n",
       "  </thead>\n",
       "  <tbody>\n",
       "    <tr>\n",
       "      <th>920</th>\n",
       "      <td>oscar nominees lack pulling power this year s ...</td>\n",
       "      <td>entertainment</td>\n",
       "    </tr>\n",
       "    <tr>\n",
       "      <th>2149</th>\n",
       "      <td>wi-fi web reaches farmers in peru a network of...</td>\n",
       "      <td>tech</td>\n",
       "    </tr>\n",
       "    <tr>\n",
       "      <th>1710</th>\n",
       "      <td>stevens named in england line-up england have ...</td>\n",
       "      <td>sport</td>\n",
       "    </tr>\n",
       "    <tr>\n",
       "      <th>97</th>\n",
       "      <td>ireland win eclipses refereeing  errors  the i...</td>\n",
       "      <td>sport</td>\n",
       "    </tr>\n",
       "    <tr>\n",
       "      <th>1343</th>\n",
       "      <td>melzer shocks agassi in san jose second seed a...</td>\n",
       "      <td>sport</td>\n",
       "    </tr>\n",
       "    <tr>\n",
       "      <th>...</th>\n",
       "      <td>...</td>\n",
       "      <td>...</td>\n",
       "    </tr>\n",
       "    <tr>\n",
       "      <th>108</th>\n",
       "      <td>hong kong in 2011 world cup bid hong kong is h...</td>\n",
       "      <td>sport</td>\n",
       "    </tr>\n",
       "    <tr>\n",
       "      <th>304</th>\n",
       "      <td>india s rupee hits five-year high india s rupe...</td>\n",
       "      <td>business</td>\n",
       "    </tr>\n",
       "    <tr>\n",
       "      <th>2210</th>\n",
       "      <td>teens  know little  of politics teenagers ques...</td>\n",
       "      <td>politics</td>\n",
       "    </tr>\n",
       "    <tr>\n",
       "      <th>2154</th>\n",
       "      <td>green reports shun supply chain nearly 20% mor...</td>\n",
       "      <td>business</td>\n",
       "    </tr>\n",
       "    <tr>\n",
       "      <th>798</th>\n",
       "      <td>fry set for role in hitchhiker s actor stephen...</td>\n",
       "      <td>entertainment</td>\n",
       "    </tr>\n",
       "  </tbody>\n",
       "</table>\n",
       "<p>445 rows × 2 columns</p>\n",
       "</div>"
      ],
      "text/plain": [
       "                                            bodyContent    sectionName\n",
       "920   oscar nominees lack pulling power this year s ...  entertainment\n",
       "2149  wi-fi web reaches farmers in peru a network of...           tech\n",
       "1710  stevens named in england line-up england have ...          sport\n",
       "97    ireland win eclipses refereeing  errors  the i...          sport\n",
       "1343  melzer shocks agassi in san jose second seed a...          sport\n",
       "...                                                 ...            ...\n",
       "108   hong kong in 2011 world cup bid hong kong is h...          sport\n",
       "304   india s rupee hits five-year high india s rupe...       business\n",
       "2210  teens  know little  of politics teenagers ques...       politics\n",
       "2154  green reports shun supply chain nearly 20% mor...       business\n",
       "798   fry set for role in hitchhiker s actor stephen...  entertainment\n",
       "\n",
       "[445 rows x 2 columns]"
      ]
     },
     "metadata": {},
     "output_type": "display_data"
    }
   ],
   "source": [
    "test_data_df2 = pd.DataFrame({\n",
    "    'bodyContent' : X_test,\n",
    "    'sectionName' : y_test\n",
    "})\n",
    "display(test_data_df2)"
   ]
  },
  {
   "cell_type": "code",
   "execution_count": null,
   "id": "17c833dd",
   "metadata": {
    "id": "17c833dd"
   },
   "outputs": [],
   "source": [
    "test_data_df2.to_csv(\"bbc_testrecords.csv\")"
   ]
  },
  {
   "cell_type": "markdown",
   "id": "18f8c904",
   "metadata": {
    "id": "18f8c904"
   },
   "source": [
    "### Saving the best models\n",
    "\n",
    "We will be saving Model 1 and Model 5 for the demo notebook"
   ]
  },
  {
   "cell_type": "code",
   "execution_count": null,
   "id": "f2dcc0b2",
   "metadata": {
    "id": "f2dcc0b2",
    "outputId": "a32ffd5d-e529-4651-ea28-542dc2d14a1b"
   },
   "outputs": [
    {
     "name": "stderr",
     "output_type": "stream",
     "text": [
      "WARNING:absl:Found untraced functions such as _jit_compiled_convolution_op, _update_step_xla while saving (showing 2 of 2). These functions will not be directly callable after loading.\n"
     ]
    },
    {
     "name": "stdout",
     "output_type": "stream",
     "text": [
      "INFO:tensorflow:Assets written to: saved_model/tfmodel1save\\assets\n"
     ]
    },
    {
     "name": "stderr",
     "output_type": "stream",
     "text": [
      "INFO:tensorflow:Assets written to: saved_model/tfmodel1save\\assets\n"
     ]
    }
   ],
   "source": [
    "tf_model_1.save('saved_model/tfmodel1save')"
   ]
  },
  {
   "cell_type": "code",
   "execution_count": null,
   "id": "1ec2459b",
   "metadata": {
    "id": "1ec2459b",
    "outputId": "14c20790-f65b-4091-da0e-d53b0aa72ea8"
   },
   "outputs": [
    {
     "name": "stderr",
     "output_type": "stream",
     "text": [
      "WARNING:absl:Found untraced functions such as _jit_compiled_convolution_op, _jit_compiled_convolution_op, _jit_compiled_convolution_op, _update_step_xla, lstm_cell_5_layer_call_fn while saving (showing 5 of 8). These functions will not be directly callable after loading.\n"
     ]
    },
    {
     "name": "stdout",
     "output_type": "stream",
     "text": [
      "INFO:tensorflow:Assets written to: saved_model/tfmodel5save\\assets\n"
     ]
    },
    {
     "name": "stderr",
     "output_type": "stream",
     "text": [
      "INFO:tensorflow:Assets written to: saved_model/tfmodel5save\\assets\n"
     ]
    }
   ],
   "source": [
    "tf_model_5.save('saved_model/tfmodel5save')"
   ]
  },
  {
   "cell_type": "code",
   "execution_count": null,
   "id": "72fe512d",
   "metadata": {
    "id": "72fe512d"
   },
   "outputs": [],
   "source": []
  }
 ],
 "metadata": {
  "colab": {
   "provenance": []
  },
  "kernelspec": {
   "display_name": "Python 3 (ipykernel)",
   "language": "python",
   "name": "python3"
  },
  "language_info": {
   "codemirror_mode": {
    "name": "ipython",
    "version": 3
   },
   "file_extension": ".py",
   "mimetype": "text/x-python",
   "name": "python",
   "nbconvert_exporter": "python",
   "pygments_lexer": "ipython3",
   "version": "3.10.9"
  }
 },
 "nbformat": 4,
 "nbformat_minor": 5
}
