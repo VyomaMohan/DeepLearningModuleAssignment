{
 "cells": [
  {
   "cell_type": "markdown",
   "id": "e6178c77",
   "metadata": {
    "id": "e6178c77"
   },
   "source": [
    "# D22124454 - Deep Learning Assignment - Part 1\n",
    "# News article section prediction task:\n",
    "\n",
    "#### System specifics:\n",
    "OS: Windows 11\n",
    "\n",
    "RAM: 32 GB\n",
    "\n",
    "GPU: RTX 3070\n",
    "\n",
    "IDE: Models initially trained and evaluated on local - Jupyter IDE\n",
    "\n",
    "#### Task overview:\n",
    "This task is about creating models to predict the \"section name\" of the news articles in the dataset. There is a heavy focus on the use of RNNs and LSTMs.\n",
    "\n",
    "#### Note:\n",
    "#### In this notebook, we have the training and validation comparisons, along with a graph for evaluation comparison. The best performing models will be evaluated in the demo notebooks. The training was done in local with 20 epochs, so it might not give similar results with less epochs in collab. This might affect model performance.\n",
    "\n",
    "#FAQ:\n",
    "- If some of the plotly graphs are not rendering, run the code above the imports. For local running, it is \"iframe\". For colab running, it is \"colab\".\n",
    "- Please enable GPU before running\n",
    "\n",
    "### Imports:"
   ]
  },
  {
   "cell_type": "code",
   "execution_count": null,
   "id": "8vVtjoMrKtkk",
   "metadata": {
    "id": "8vVtjoMrKtkk"
   },
   "outputs": [],
   "source": [
    "#IF PLOTLY GRAPHS DO NOT RENDER. SET TO COLAB WHEN RUN IN COLAB AND IFRAME FOR LOCAL (iframe)\n",
    "#import plotly.io as pio\n",
    "#pio.renderers.default = 'colab'"
   ]
  },
  {
   "cell_type": "code",
   "execution_count": 23,
   "id": "8adb78e2",
   "metadata": {
    "id": "8adb78e2"
   },
   "outputs": [],
   "source": [
    "import pandas as pd\n",
    "import re\n",
    "import nltk\n",
    "from nltk.stem import WordNetLemmatizer\n",
    "from nltk.stem import PorterStemmer\n",
    "from nltk import word_tokenize\n",
    "from nltk.corpus import stopwords\n",
    "import string\n",
    "\n",
    "from sklearn.model_selection import train_test_split\n",
    "\n",
    "import tensorflow as tf\n",
    "import numpy as np"
   ]
  },
  {
   "cell_type": "code",
   "execution_count": 24,
   "id": "bc9eb6dc",
   "metadata": {
    "id": "bc9eb6dc"
   },
   "outputs": [],
   "source": [
    "import tensorflow_hub as hub\n",
    "\n",
    "import numpy as np\n",
    "from tensorflow.keras.preprocessing import sequence\n",
    "from tensorflow.keras.models import Sequential\n",
    "from tensorflow.keras.layers import Dense, Dropout, Activation, Flatten, Embedding, Conv1D, GlobalMaxPooling1D, GlobalAveragePooling1D, LSTM, SimpleRNN, MaxPooling1D, Conv1D, TimeDistributed, AveragePooling1D\n",
    "from tensorflow.keras.datasets import imdb\n",
    "import tensorflow as tf\n",
    "\n",
    "import plotly.express as px\n",
    "import matplotlib.pyplot as plt"
   ]
  },
  {
   "cell_type": "code",
   "execution_count": 25,
   "id": "a2c203a8",
   "metadata": {
    "id": "a2c203a8"
   },
   "outputs": [],
   "source": [
    "from sklearn.preprocessing import OneHotEncoder\n",
    "import re\n",
    "\n",
    "from sklearn.feature_extraction.text import CountVectorizer\n",
    "from sklearn.naive_bayes import GaussianNB\n",
    "from sklearn.metrics import confusion_matrix, accuracy_score"
   ]
  },
  {
   "cell_type": "code",
   "execution_count": 26,
   "id": "cfb44ae6",
   "metadata": {
    "id": "cfb44ae6"
   },
   "outputs": [],
   "source": [
    "from keras.preprocessing.text import Tokenizer"
   ]
  },
  {
   "cell_type": "code",
   "execution_count": 27,
   "id": "Z9RNwBh8vOip",
   "metadata": {
    "id": "Z9RNwBh8vOip"
   },
   "outputs": [],
   "source": [
    "from pydrive.auth import GoogleAuth\n",
    "from pydrive.drive import GoogleDrive\n",
    "from google.colab import auth\n",
    "from oauth2client.client import GoogleCredentials"
   ]
  },
  {
   "cell_type": "code",
   "execution_count": 28,
   "id": "WW6RpSodvXlW",
   "metadata": {
    "id": "WW6RpSodvXlW"
   },
   "outputs": [],
   "source": [
    "# credentials to get the data file\n",
    "auth.authenticate_user()\n",
    "gauth = GoogleAuth()\n",
    "gauth.credentials = GoogleCredentials.get_application_default()\n",
    "drive = GoogleDrive(gauth)"
   ]
  },
  {
   "cell_type": "markdown",
   "id": "a42c4bf3",
   "metadata": {
    "id": "a42c4bf3"
   },
   "source": [
    "### Reading the data from the csv file"
   ]
  },
  {
   "cell_type": "code",
   "execution_count": 29,
   "id": "OnwA8rrovhth",
   "metadata": {
    "id": "OnwA8rrovhth"
   },
   "outputs": [],
   "source": [
    "guardCsv = drive.CreateFile({'id':'1BcNM4NZm_u-fY6jH3IEnxM87a6rTE_3R'})\n",
    "guardCsv.GetContentFile('guardian_articles.csv')"
   ]
  },
  {
   "cell_type": "code",
   "execution_count": 30,
   "id": "5ead8b0c",
   "metadata": {
    "colab": {
     "base_uri": "https://localhost:8080/",
     "height": 797
    },
    "id": "5ead8b0c",
    "outputId": "77e45fc1-516f-4443-a3ef-b6e0aa97dc19"
   },
   "outputs": [
    {
     "data": {
      "text/html": [
       "\n",
       "  <div id=\"df-8759066b-13db-4ebc-b67f-4cad914be7cb\">\n",
       "    <div class=\"colab-df-container\">\n",
       "      <div>\n",
       "<style scoped>\n",
       "    .dataframe tbody tr th:only-of-type {\n",
       "        vertical-align: middle;\n",
       "    }\n",
       "\n",
       "    .dataframe tbody tr th {\n",
       "        vertical-align: top;\n",
       "    }\n",
       "\n",
       "    .dataframe thead th {\n",
       "        text-align: right;\n",
       "    }\n",
       "</style>\n",
       "<table border=\"1\" class=\"dataframe\">\n",
       "  <thead>\n",
       "    <tr style=\"text-align: right;\">\n",
       "      <th></th>\n",
       "      <th>article_id</th>\n",
       "      <th>sectionName</th>\n",
       "      <th>webTitle</th>\n",
       "      <th>webUrl</th>\n",
       "      <th>bodyContent</th>\n",
       "      <th>webPublicationDate</th>\n",
       "      <th>id</th>\n",
       "    </tr>\n",
       "  </thead>\n",
       "  <tbody>\n",
       "    <tr>\n",
       "      <th>0</th>\n",
       "      <td>us-news/2016/jan/31/iowa-caucus-underdog-candi...</td>\n",
       "      <td>US news</td>\n",
       "      <td>Iowa underdogs put on brave faces despite all ...</td>\n",
       "      <td>https://www.theguardian.com/us-news/2016/jan/3...</td>\n",
       "      <td>As polling day looms and the cameras turn only...</td>\n",
       "      <td>2016-01-31T23:53:37Z</td>\n",
       "      <td>1</td>\n",
       "    </tr>\n",
       "    <tr>\n",
       "      <th>1</th>\n",
       "      <td>us-news/2016/jan/31/iowa-caucus-worlds-most-pa...</td>\n",
       "      <td>US news</td>\n",
       "      <td>Iowa caucus: hologram eagle and Jesus star on ...</td>\n",
       "      <td>https://www.theguardian.com/us-news/2016/jan/3...</td>\n",
       "      <td>In Des Moines on Sunday, the Guardian was give...</td>\n",
       "      <td>2016-01-31T23:46:28Z</td>\n",
       "      <td>2</td>\n",
       "    </tr>\n",
       "    <tr>\n",
       "      <th>2</th>\n",
       "      <td>world/2016/jan/31/tanzania-britsh-helicopter-p...</td>\n",
       "      <td>World news</td>\n",
       "      <td>British pilot in Tanzania 'manoeuvred ​to save...</td>\n",
       "      <td>https://www.theguardian.com/world/2016/jan/31/...</td>\n",
       "      <td>A British pilot who was shot dead by an elepha...</td>\n",
       "      <td>2016-01-31T23:43:48Z</td>\n",
       "      <td>3</td>\n",
       "    </tr>\n",
       "    <tr>\n",
       "      <th>3</th>\n",
       "      <td>football/2016/jan/31/late-winner-gets-usa-off-...</td>\n",
       "      <td>Football</td>\n",
       "      <td>USA 3-2 Iceland | International friendly match...</td>\n",
       "      <td>https://www.theguardian.com/football/2016/jan/...</td>\n",
       "      <td>USA took a step toward shaking off the ghosts ...</td>\n",
       "      <td>2016-01-31T23:30:49Z</td>\n",
       "      <td>4</td>\n",
       "    </tr>\n",
       "    <tr>\n",
       "      <th>4</th>\n",
       "      <td>football/2016/jan/31/blackburn-paul-lambert-ox...</td>\n",
       "      <td>Football</td>\n",
       "      <td>Reinvigorated Paul Lambert reflects after impr...</td>\n",
       "      <td>https://www.theguardian.com/football/2016/jan/...</td>\n",
       "      <td>The clean-shaven, spectacle free and suspiciou...</td>\n",
       "      <td>2016-01-31T22:30:10Z</td>\n",
       "      <td>5</td>\n",
       "    </tr>\n",
       "    <tr>\n",
       "      <th>...</th>\n",
       "      <td>...</td>\n",
       "      <td>...</td>\n",
       "      <td>...</td>\n",
       "      <td>...</td>\n",
       "      <td>...</td>\n",
       "      <td>...</td>\n",
       "      <td>...</td>\n",
       "    </tr>\n",
       "    <tr>\n",
       "      <th>149834</th>\n",
       "      <td>world/2022/jun/21/marble-head-of-hercules-pull...</td>\n",
       "      <td>World news</td>\n",
       "      <td>Marble head of Hercules pulled up from Roman s...</td>\n",
       "      <td>https://www.theguardian.com/world/2022/jun/21/...</td>\n",
       "      <td>For archaeologists, it’s the underwater find t...</td>\n",
       "      <td>2022-06-21T17:31:32Z</td>\n",
       "      <td>149835</td>\n",
       "    </tr>\n",
       "    <tr>\n",
       "      <th>149835</th>\n",
       "      <td>music/2022/jun/22/i-got-sick-of-talking-about-...</td>\n",
       "      <td>Music</td>\n",
       "      <td>‘I got sick of talking about myself’: Spacey J...</td>\n",
       "      <td>https://www.theguardian.com/music/2022/jun/22/...</td>\n",
       "      <td>From under a mop of curls, Caleb Harper – Spac...</td>\n",
       "      <td>2022-06-21T17:30:09Z</td>\n",
       "      <td>149836</td>\n",
       "    </tr>\n",
       "    <tr>\n",
       "      <th>149836</th>\n",
       "      <td>australia-news/2022/jun/22/the-small-town-with...</td>\n",
       "      <td>Australia news</td>\n",
       "      <td>The small town with a big potato that inspired...</td>\n",
       "      <td>https://www.theguardian.com/australia-news/202...</td>\n",
       "      <td>Robertson is a small, pretty town perched on t...</td>\n",
       "      <td>2022-06-21T17:30:09Z</td>\n",
       "      <td>149837</td>\n",
       "    </tr>\n",
       "    <tr>\n",
       "      <th>149837</th>\n",
       "      <td>australia-news/2022/jun/22/power-to-ban-citize...</td>\n",
       "      <td>Australia news</td>\n",
       "      <td>Power to ban citizens from re-entering Austral...</td>\n",
       "      <td>https://www.theguardian.com/australia-news/202...</td>\n",
       "      <td>A high court decision striking down the home a...</td>\n",
       "      <td>2022-06-21T17:30:08Z</td>\n",
       "      <td>149838</td>\n",
       "    </tr>\n",
       "    <tr>\n",
       "      <th>149838</th>\n",
       "      <td>australia-news/2022/jun/22/liberal-mps-say-pet...</td>\n",
       "      <td>Australia news</td>\n",
       "      <td>Liberal MPs say Peter Dutton should let party ...</td>\n",
       "      <td>https://www.theguardian.com/australia-news/202...</td>\n",
       "      <td>Liberal MPs are urging Peter Dutton to let the...</td>\n",
       "      <td>2022-06-21T17:30:08Z</td>\n",
       "      <td>149839</td>\n",
       "    </tr>\n",
       "  </tbody>\n",
       "</table>\n",
       "<p>149839 rows × 7 columns</p>\n",
       "</div>\n",
       "      <button class=\"colab-df-convert\" onclick=\"convertToInteractive('df-8759066b-13db-4ebc-b67f-4cad914be7cb')\"\n",
       "              title=\"Convert this dataframe to an interactive table.\"\n",
       "              style=\"display:none;\">\n",
       "        \n",
       "  <svg xmlns=\"http://www.w3.org/2000/svg\" height=\"24px\"viewBox=\"0 0 24 24\"\n",
       "       width=\"24px\">\n",
       "    <path d=\"M0 0h24v24H0V0z\" fill=\"none\"/>\n",
       "    <path d=\"M18.56 5.44l.94 2.06.94-2.06 2.06-.94-2.06-.94-.94-2.06-.94 2.06-2.06.94zm-11 1L8.5 8.5l.94-2.06 2.06-.94-2.06-.94L8.5 2.5l-.94 2.06-2.06.94zm10 10l.94 2.06.94-2.06 2.06-.94-2.06-.94-.94-2.06-.94 2.06-2.06.94z\"/><path d=\"M17.41 7.96l-1.37-1.37c-.4-.4-.92-.59-1.43-.59-.52 0-1.04.2-1.43.59L10.3 9.45l-7.72 7.72c-.78.78-.78 2.05 0 2.83L4 21.41c.39.39.9.59 1.41.59.51 0 1.02-.2 1.41-.59l7.78-7.78 2.81-2.81c.8-.78.8-2.07 0-2.86zM5.41 20L4 18.59l7.72-7.72 1.47 1.35L5.41 20z\"/>\n",
       "  </svg>\n",
       "      </button>\n",
       "      \n",
       "  <style>\n",
       "    .colab-df-container {\n",
       "      display:flex;\n",
       "      flex-wrap:wrap;\n",
       "      gap: 12px;\n",
       "    }\n",
       "\n",
       "    .colab-df-convert {\n",
       "      background-color: #E8F0FE;\n",
       "      border: none;\n",
       "      border-radius: 50%;\n",
       "      cursor: pointer;\n",
       "      display: none;\n",
       "      fill: #1967D2;\n",
       "      height: 32px;\n",
       "      padding: 0 0 0 0;\n",
       "      width: 32px;\n",
       "    }\n",
       "\n",
       "    .colab-df-convert:hover {\n",
       "      background-color: #E2EBFA;\n",
       "      box-shadow: 0px 1px 2px rgba(60, 64, 67, 0.3), 0px 1px 3px 1px rgba(60, 64, 67, 0.15);\n",
       "      fill: #174EA6;\n",
       "    }\n",
       "\n",
       "    [theme=dark] .colab-df-convert {\n",
       "      background-color: #3B4455;\n",
       "      fill: #D2E3FC;\n",
       "    }\n",
       "\n",
       "    [theme=dark] .colab-df-convert:hover {\n",
       "      background-color: #434B5C;\n",
       "      box-shadow: 0px 1px 3px 1px rgba(0, 0, 0, 0.15);\n",
       "      filter: drop-shadow(0px 1px 2px rgba(0, 0, 0, 0.3));\n",
       "      fill: #FFFFFF;\n",
       "    }\n",
       "  </style>\n",
       "\n",
       "      <script>\n",
       "        const buttonEl =\n",
       "          document.querySelector('#df-8759066b-13db-4ebc-b67f-4cad914be7cb button.colab-df-convert');\n",
       "        buttonEl.style.display =\n",
       "          google.colab.kernel.accessAllowed ? 'block' : 'none';\n",
       "\n",
       "        async function convertToInteractive(key) {\n",
       "          const element = document.querySelector('#df-8759066b-13db-4ebc-b67f-4cad914be7cb');\n",
       "          const dataTable =\n",
       "            await google.colab.kernel.invokeFunction('convertToInteractive',\n",
       "                                                     [key], {});\n",
       "          if (!dataTable) return;\n",
       "\n",
       "          const docLinkHtml = 'Like what you see? Visit the ' +\n",
       "            '<a target=\"_blank\" href=https://colab.research.google.com/notebooks/data_table.ipynb>data table notebook</a>'\n",
       "            + ' to learn more about interactive tables.';\n",
       "          element.innerHTML = '';\n",
       "          dataTable['output_type'] = 'display_data';\n",
       "          await google.colab.output.renderOutput(dataTable, element);\n",
       "          const docLink = document.createElement('div');\n",
       "          docLink.innerHTML = docLinkHtml;\n",
       "          element.appendChild(docLink);\n",
       "        }\n",
       "      </script>\n",
       "    </div>\n",
       "  </div>\n",
       "  "
      ],
      "text/plain": [
       "                                               article_id     sectionName  \\\n",
       "0       us-news/2016/jan/31/iowa-caucus-underdog-candi...         US news   \n",
       "1       us-news/2016/jan/31/iowa-caucus-worlds-most-pa...         US news   \n",
       "2       world/2016/jan/31/tanzania-britsh-helicopter-p...      World news   \n",
       "3       football/2016/jan/31/late-winner-gets-usa-off-...        Football   \n",
       "4       football/2016/jan/31/blackburn-paul-lambert-ox...        Football   \n",
       "...                                                   ...             ...   \n",
       "149834  world/2022/jun/21/marble-head-of-hercules-pull...      World news   \n",
       "149835  music/2022/jun/22/i-got-sick-of-talking-about-...           Music   \n",
       "149836  australia-news/2022/jun/22/the-small-town-with...  Australia news   \n",
       "149837  australia-news/2022/jun/22/power-to-ban-citize...  Australia news   \n",
       "149838  australia-news/2022/jun/22/liberal-mps-say-pet...  Australia news   \n",
       "\n",
       "                                                 webTitle  \\\n",
       "0       Iowa underdogs put on brave faces despite all ...   \n",
       "1       Iowa caucus: hologram eagle and Jesus star on ...   \n",
       "2       British pilot in Tanzania 'manoeuvred ​to save...   \n",
       "3       USA 3-2 Iceland | International friendly match...   \n",
       "4       Reinvigorated Paul Lambert reflects after impr...   \n",
       "...                                                   ...   \n",
       "149834  Marble head of Hercules pulled up from Roman s...   \n",
       "149835  ‘I got sick of talking about myself’: Spacey J...   \n",
       "149836  The small town with a big potato that inspired...   \n",
       "149837  Power to ban citizens from re-entering Austral...   \n",
       "149838  Liberal MPs say Peter Dutton should let party ...   \n",
       "\n",
       "                                                   webUrl  \\\n",
       "0       https://www.theguardian.com/us-news/2016/jan/3...   \n",
       "1       https://www.theguardian.com/us-news/2016/jan/3...   \n",
       "2       https://www.theguardian.com/world/2016/jan/31/...   \n",
       "3       https://www.theguardian.com/football/2016/jan/...   \n",
       "4       https://www.theguardian.com/football/2016/jan/...   \n",
       "...                                                   ...   \n",
       "149834  https://www.theguardian.com/world/2022/jun/21/...   \n",
       "149835  https://www.theguardian.com/music/2022/jun/22/...   \n",
       "149836  https://www.theguardian.com/australia-news/202...   \n",
       "149837  https://www.theguardian.com/australia-news/202...   \n",
       "149838  https://www.theguardian.com/australia-news/202...   \n",
       "\n",
       "                                              bodyContent  \\\n",
       "0       As polling day looms and the cameras turn only...   \n",
       "1       In Des Moines on Sunday, the Guardian was give...   \n",
       "2       A British pilot who was shot dead by an elepha...   \n",
       "3       USA took a step toward shaking off the ghosts ...   \n",
       "4       The clean-shaven, spectacle free and suspiciou...   \n",
       "...                                                   ...   \n",
       "149834  For archaeologists, it’s the underwater find t...   \n",
       "149835  From under a mop of curls, Caleb Harper – Spac...   \n",
       "149836  Robertson is a small, pretty town perched on t...   \n",
       "149837  A high court decision striking down the home a...   \n",
       "149838  Liberal MPs are urging Peter Dutton to let the...   \n",
       "\n",
       "          webPublicationDate      id  \n",
       "0       2016-01-31T23:53:37Z       1  \n",
       "1       2016-01-31T23:46:28Z       2  \n",
       "2       2016-01-31T23:43:48Z       3  \n",
       "3       2016-01-31T23:30:49Z       4  \n",
       "4       2016-01-31T22:30:10Z       5  \n",
       "...                      ...     ...  \n",
       "149834  2022-06-21T17:31:32Z  149835  \n",
       "149835  2022-06-21T17:30:09Z  149836  \n",
       "149836  2022-06-21T17:30:09Z  149837  \n",
       "149837  2022-06-21T17:30:08Z  149838  \n",
       "149838  2022-06-21T17:30:08Z  149839  \n",
       "\n",
       "[149839 rows x 7 columns]"
      ]
     },
     "metadata": {},
     "output_type": "display_data"
    }
   ],
   "source": [
    "raw_data = pd.read_csv(\"guardian_articles.csv\", delimiter =\",\", index_col=False, )\n",
    "display(raw_data)"
   ]
  },
  {
   "cell_type": "markdown",
   "id": "d0f37d22",
   "metadata": {
    "id": "d0f37d22"
   },
   "source": [
    "### Studying the topic distribution\n",
    "\n",
    "For this project, we will be picking only the top 20 sections from the dataset. This is due to the following reasons:\n",
    "1) If a record belongs to a section which has only 1 record belonging to that section, there is a good chance that there was a typo in the section name or some other issues\n",
    "2) If there are less number of records belonging to the section, the model might not be able to learn the details anyway.\n",
    "#### 3) If we know the number of sections we are taking, we can consistently set the softmax to 20\n",
    "4) This method ensures that we will spend less time cleaning. No need to check for empty section names or consolidate typos."
   ]
  },
  {
   "cell_type": "code",
   "execution_count": 31,
   "id": "bfbd8722",
   "metadata": {
    "id": "bfbd8722"
   },
   "outputs": [],
   "source": [
    "# Get the unique sections and their counts\n",
    "topic_list_all = np.array(raw_data[\"sectionName\"])\n",
    "unique_top, top_counts = np.unique(topic_list_all, return_counts=True)"
   ]
  },
  {
   "cell_type": "code",
   "execution_count": 36,
   "id": "7f128812",
   "metadata": {
    "colab": {
     "base_uri": "https://localhost:8080/",
     "height": 542
    },
    "id": "7f128812",
    "outputId": "a5d4e19d-1793-4060-9074-2b6f30c6fb62"
   },
   "outputs": [
    {
     "data": {
      "text/html": [
       "<html>\n",
       "<head><meta charset=\"utf-8\" /></head>\n",
       "<body>\n",
       "    <div>            <script src=\"https://cdnjs.cloudflare.com/ajax/libs/mathjax/2.7.5/MathJax.js?config=TeX-AMS-MML_SVG\"></script><script type=\"text/javascript\">if (window.MathJax && window.MathJax.Hub && window.MathJax.Hub.Config) {window.MathJax.Hub.Config({SVG: {font: \"STIX-Web\"}});}</script>                <script type=\"text/javascript\">window.PlotlyConfig = {MathJaxConfig: 'local'};</script>\n",
       "        <script src=\"https://cdn.plot.ly/plotly-2.18.2.min.js\"></script>                <div id=\"f9c997d8-86e9-44e0-9e9a-463180697a27\" class=\"plotly-graph-div\" style=\"height:525px; width:100%;\"></div>            <script type=\"text/javascript\">                                    window.PLOTLYENV=window.PLOTLYENV || {};                                    if (document.getElementById(\"f9c997d8-86e9-44e0-9e9a-463180697a27\")) {                    Plotly.newPlot(                        \"f9c997d8-86e9-44e0-9e9a-463180697a27\",                        [{\"alignmentgroup\":\"True\",\"hovertemplate\":\"Topics=%{x}<br>No. of occurance=%{y}<extra></extra>\",\"legendgroup\":\"\",\"marker\":{\"color\":\"#636efa\",\"pattern\":{\"shape\":\"\"}},\"name\":\"\",\"offsetgroup\":\"\",\"orientation\":\"v\",\"showlegend\":false,\"textposition\":\"auto\",\"x\":[\"A time for Japan\",\"A vision for better food\",\"AMC+: Only the good stuff\",\"About\",\"Amazon Prime Video: Truth Seekers\",\"Animals farmed\",\"Archie Rose: Tailored spirits\",\"Art and design\",\"Australia Post: Creating connections\",\"Australia news\",\"Australian World Orchestra: Zubin Mehta\",\"BMW: Sustainable mobility\",\"Bank Australia: Collective good\",\"Bank Australia: People Australia Needs\",\"Books\",\"Boutique Homes: My home my way\",\"Brother: Doing business well\",\"Business\",\"Business to business\",\"Cancer Council Victoria: Giving in Will\",\"Cannes Lions\",\"Cathay Pacific: Upgrade your experience\",\"Celebrating women engineers 2022\",\"Children's books\",\"Chromebook: Helping Chinatown\",\"Cities\",\"Commonwealth Bank Australia: Next Chapter\",\"Community\",\"Community of solvers\",\"Connected thinking\",\"Crosswords\",\"Culture\",\"Culture professionals network\",\"Curtin University: Why study law\",\"Dairy Australia: Healthy sustainable diets\",\"Dairy Australia: Listen to your gut\",\"Dairy Australia: Sustainable futures\",\"Dairy Australia: The food matrix\",\"Dairy Australia: We need to talk\",\"Dairy Australia: fracture research\",\"Dark Matter Distribution: The Leadership\",\"De Bortoli: Going green\",\"Destination NSW: Road Trips\",\"Destination NSW: Uncover the unspoilt South Coast\",\"Dine: Hope Grows\",\"Education\",\"Environment\",\"Fashion\",\"Feasting with Ocado\",\"Felix Mobile: The only one\",\"Film\",\"Focus\",\"Food\",\"Football\",\"From the Guardian\",\"From the Observer\",\"Further education: share your skills\",\"Future-focused IT\",\"GNM archive\",\"GNM press office\",\"Games\",\"Global\",\"Global Development Professionals Network\",\"Global development\",\"Guardian Australia press office\",\"Guardian Careers\",\"Guardian Foundation\",\"Guardian Live Australia\",\"Guardian Masterclasses\",\"Guardian Small Business Network\",\"Guardian Sustainable Business\",\"Guardian US press office\",\"HBF: Healthy choices\",\"HBF: Never Settle\",\"Healthcare Professionals Network\",\"Helga's: Capturing kindness\",\"Help\",\"Higher Education Network\",\"Housing Network\",\"Huelwear - clothes for the conscious\",\"IFAW: Help animals thrive\",\"Inequality\",\"Info\",\"Kyco: Full transparency\",\"Law\",\"Leisure like a local\",\"Life and style\",\"MG Motor: Switch to electric\",\"Macquarie: Home of electric vehicles\",\"Marine Stewardship Council: Saltwater Schools\",\"Mazda: Sustainable style\",\"Media\",\"Media Network\",\"Membership\",\"Meta: Buy Blak\",\"Michelin: Built to keep you moving\",\"Mirvac: Voyager\",\"Money\",\"Music\",\"New faces of tech\",\"News\",\"OPSM: Life in focus\",\"OPSM: Optimal health\",\"OPSM: a vision for safer roads\",\"Observer Food Monthly awards\",\"Opinion\",\"Personal Investments\",\"Plan International Australia: Global Hunger Crisis Appeal\",\"Plico: Renewable energy\",\"Politics\",\"Powershop: Power potential\",\"Professional supplements\",\"Public Leaders Network\",\"Quest Apartment Hotels: As local as you like it\",\"Rediscover tequila\",\"SBS On Demand\",\"SBS On Demand: Are You Addicted to Technology\",\"SBS On Demand: New Gold Mountain\",\"SBS: A world of difference\",\"Salesforce: The Unfair Advantage\",\"Science\",\"See if it's time to sell\",\"Seek: The new world of work\",\"Side Hustle\",\"Snooze: Investing In Sleep\",\"Social Care Network\",\"Society\",\"Society Professionals\",\"Sonos: Hyper real\",\"Specsavers: Liberty London\",\"Sport\",\"Square: Good business\",\"Stage\",\"Sustainability\",\"Sustainable home improvements\",\"Teacher Network\",\"Technology\",\"Television & radio\",\"The Fred Hollows Foundation: 30 years of restoring sight\",\"The Life You Can Save: Effective giving\",\"The University of Melbourne: Graduating Performances\",\"The University of Notre Dame: Ethical education\",\"The invested generation\",\"The last taboo\",\"Tourism NT: Territory Art Trails\",\"Trade Boost\",\"Travel\",\"Travel Associates: Get out there in the Red Centre\",\"UK news\",\"US news\",\"Unicef Australia: World Immunisation Week 2021\",\"Voluntary Sector Network\",\"WA Museum: Discovering Ancient Greece\",\"WEHI: Brighter together\",\"Weather\",\"Westpac Foundation: Investing in social enterprise\",\"Westpac Scholars: Rethink tomorrow\",\"When more of us play, all of us win\",\"Women in Leadership\",\"Working in development\",\"World news\",\"Xero: Resilient business\",\"You could be here\",\"wellbeing at work\"],\"xaxis\":\"x\",\"y\":[1,1,1,1,2,5,1,2187,2,7844,1,1,1,2,5121,1,2,6990,17,1,1,1,1,184,4,523,3,85,4,4,367,1774,7,1,3,2,1,1,1,1,1,1,1,5,2,2073,4883,1341,1,1,4990,2,2006,10896,45,118,7,5,1,79,558,333,69,1547,1,152,13,2,169,170,237,7,1,1,148,1,9,1,93,4,1,88,61,1,591,5,5773,1,2,1,1,2234,44,132,2,1,1,2002,5760,10,1328,2,1,1,1,12130,1,1,1,7074,2,2,121,1,4,1,2,1,2,2,1623,2,3,1,1,120,4705,13,1,1,10376,2,2520,4,4,108,2344,4366,2,2,1,1,9,13,1,1,1401,1,6481,7480,1,91,1,2,16,1,1,5,16,94,15501,3,2,5],\"yaxis\":\"y\",\"type\":\"bar\"}],                        {\"template\":{\"data\":{\"histogram2dcontour\":[{\"type\":\"histogram2dcontour\",\"colorbar\":{\"outlinewidth\":0,\"ticks\":\"\"},\"colorscale\":[[0.0,\"#0d0887\"],[0.1111111111111111,\"#46039f\"],[0.2222222222222222,\"#7201a8\"],[0.3333333333333333,\"#9c179e\"],[0.4444444444444444,\"#bd3786\"],[0.5555555555555556,\"#d8576b\"],[0.6666666666666666,\"#ed7953\"],[0.7777777777777778,\"#fb9f3a\"],[0.8888888888888888,\"#fdca26\"],[1.0,\"#f0f921\"]]}],\"choropleth\":[{\"type\":\"choropleth\",\"colorbar\":{\"outlinewidth\":0,\"ticks\":\"\"}}],\"histogram2d\":[{\"type\":\"histogram2d\",\"colorbar\":{\"outlinewidth\":0,\"ticks\":\"\"},\"colorscale\":[[0.0,\"#0d0887\"],[0.1111111111111111,\"#46039f\"],[0.2222222222222222,\"#7201a8\"],[0.3333333333333333,\"#9c179e\"],[0.4444444444444444,\"#bd3786\"],[0.5555555555555556,\"#d8576b\"],[0.6666666666666666,\"#ed7953\"],[0.7777777777777778,\"#fb9f3a\"],[0.8888888888888888,\"#fdca26\"],[1.0,\"#f0f921\"]]}],\"heatmap\":[{\"type\":\"heatmap\",\"colorbar\":{\"outlinewidth\":0,\"ticks\":\"\"},\"colorscale\":[[0.0,\"#0d0887\"],[0.1111111111111111,\"#46039f\"],[0.2222222222222222,\"#7201a8\"],[0.3333333333333333,\"#9c179e\"],[0.4444444444444444,\"#bd3786\"],[0.5555555555555556,\"#d8576b\"],[0.6666666666666666,\"#ed7953\"],[0.7777777777777778,\"#fb9f3a\"],[0.8888888888888888,\"#fdca26\"],[1.0,\"#f0f921\"]]}],\"heatmapgl\":[{\"type\":\"heatmapgl\",\"colorbar\":{\"outlinewidth\":0,\"ticks\":\"\"},\"colorscale\":[[0.0,\"#0d0887\"],[0.1111111111111111,\"#46039f\"],[0.2222222222222222,\"#7201a8\"],[0.3333333333333333,\"#9c179e\"],[0.4444444444444444,\"#bd3786\"],[0.5555555555555556,\"#d8576b\"],[0.6666666666666666,\"#ed7953\"],[0.7777777777777778,\"#fb9f3a\"],[0.8888888888888888,\"#fdca26\"],[1.0,\"#f0f921\"]]}],\"contourcarpet\":[{\"type\":\"contourcarpet\",\"colorbar\":{\"outlinewidth\":0,\"ticks\":\"\"}}],\"contour\":[{\"type\":\"contour\",\"colorbar\":{\"outlinewidth\":0,\"ticks\":\"\"},\"colorscale\":[[0.0,\"#0d0887\"],[0.1111111111111111,\"#46039f\"],[0.2222222222222222,\"#7201a8\"],[0.3333333333333333,\"#9c179e\"],[0.4444444444444444,\"#bd3786\"],[0.5555555555555556,\"#d8576b\"],[0.6666666666666666,\"#ed7953\"],[0.7777777777777778,\"#fb9f3a\"],[0.8888888888888888,\"#fdca26\"],[1.0,\"#f0f921\"]]}],\"surface\":[{\"type\":\"surface\",\"colorbar\":{\"outlinewidth\":0,\"ticks\":\"\"},\"colorscale\":[[0.0,\"#0d0887\"],[0.1111111111111111,\"#46039f\"],[0.2222222222222222,\"#7201a8\"],[0.3333333333333333,\"#9c179e\"],[0.4444444444444444,\"#bd3786\"],[0.5555555555555556,\"#d8576b\"],[0.6666666666666666,\"#ed7953\"],[0.7777777777777778,\"#fb9f3a\"],[0.8888888888888888,\"#fdca26\"],[1.0,\"#f0f921\"]]}],\"mesh3d\":[{\"type\":\"mesh3d\",\"colorbar\":{\"outlinewidth\":0,\"ticks\":\"\"}}],\"scatter\":[{\"fillpattern\":{\"fillmode\":\"overlay\",\"size\":10,\"solidity\":0.2},\"type\":\"scatter\"}],\"parcoords\":[{\"type\":\"parcoords\",\"line\":{\"colorbar\":{\"outlinewidth\":0,\"ticks\":\"\"}}}],\"scatterpolargl\":[{\"type\":\"scatterpolargl\",\"marker\":{\"colorbar\":{\"outlinewidth\":0,\"ticks\":\"\"}}}],\"bar\":[{\"error_x\":{\"color\":\"#2a3f5f\"},\"error_y\":{\"color\":\"#2a3f5f\"},\"marker\":{\"line\":{\"color\":\"#E5ECF6\",\"width\":0.5},\"pattern\":{\"fillmode\":\"overlay\",\"size\":10,\"solidity\":0.2}},\"type\":\"bar\"}],\"scattergeo\":[{\"type\":\"scattergeo\",\"marker\":{\"colorbar\":{\"outlinewidth\":0,\"ticks\":\"\"}}}],\"scatterpolar\":[{\"type\":\"scatterpolar\",\"marker\":{\"colorbar\":{\"outlinewidth\":0,\"ticks\":\"\"}}}],\"histogram\":[{\"marker\":{\"pattern\":{\"fillmode\":\"overlay\",\"size\":10,\"solidity\":0.2}},\"type\":\"histogram\"}],\"scattergl\":[{\"type\":\"scattergl\",\"marker\":{\"colorbar\":{\"outlinewidth\":0,\"ticks\":\"\"}}}],\"scatter3d\":[{\"type\":\"scatter3d\",\"line\":{\"colorbar\":{\"outlinewidth\":0,\"ticks\":\"\"}},\"marker\":{\"colorbar\":{\"outlinewidth\":0,\"ticks\":\"\"}}}],\"scattermapbox\":[{\"type\":\"scattermapbox\",\"marker\":{\"colorbar\":{\"outlinewidth\":0,\"ticks\":\"\"}}}],\"scatterternary\":[{\"type\":\"scatterternary\",\"marker\":{\"colorbar\":{\"outlinewidth\":0,\"ticks\":\"\"}}}],\"scattercarpet\":[{\"type\":\"scattercarpet\",\"marker\":{\"colorbar\":{\"outlinewidth\":0,\"ticks\":\"\"}}}],\"carpet\":[{\"aaxis\":{\"endlinecolor\":\"#2a3f5f\",\"gridcolor\":\"white\",\"linecolor\":\"white\",\"minorgridcolor\":\"white\",\"startlinecolor\":\"#2a3f5f\"},\"baxis\":{\"endlinecolor\":\"#2a3f5f\",\"gridcolor\":\"white\",\"linecolor\":\"white\",\"minorgridcolor\":\"white\",\"startlinecolor\":\"#2a3f5f\"},\"type\":\"carpet\"}],\"table\":[{\"cells\":{\"fill\":{\"color\":\"#EBF0F8\"},\"line\":{\"color\":\"white\"}},\"header\":{\"fill\":{\"color\":\"#C8D4E3\"},\"line\":{\"color\":\"white\"}},\"type\":\"table\"}],\"barpolar\":[{\"marker\":{\"line\":{\"color\":\"#E5ECF6\",\"width\":0.5},\"pattern\":{\"fillmode\":\"overlay\",\"size\":10,\"solidity\":0.2}},\"type\":\"barpolar\"}],\"pie\":[{\"automargin\":true,\"type\":\"pie\"}]},\"layout\":{\"autotypenumbers\":\"strict\",\"colorway\":[\"#636efa\",\"#EF553B\",\"#00cc96\",\"#ab63fa\",\"#FFA15A\",\"#19d3f3\",\"#FF6692\",\"#B6E880\",\"#FF97FF\",\"#FECB52\"],\"font\":{\"color\":\"#2a3f5f\"},\"hovermode\":\"closest\",\"hoverlabel\":{\"align\":\"left\"},\"paper_bgcolor\":\"white\",\"plot_bgcolor\":\"#E5ECF6\",\"polar\":{\"bgcolor\":\"#E5ECF6\",\"angularaxis\":{\"gridcolor\":\"white\",\"linecolor\":\"white\",\"ticks\":\"\"},\"radialaxis\":{\"gridcolor\":\"white\",\"linecolor\":\"white\",\"ticks\":\"\"}},\"ternary\":{\"bgcolor\":\"#E5ECF6\",\"aaxis\":{\"gridcolor\":\"white\",\"linecolor\":\"white\",\"ticks\":\"\"},\"baxis\":{\"gridcolor\":\"white\",\"linecolor\":\"white\",\"ticks\":\"\"},\"caxis\":{\"gridcolor\":\"white\",\"linecolor\":\"white\",\"ticks\":\"\"}},\"coloraxis\":{\"colorbar\":{\"outlinewidth\":0,\"ticks\":\"\"}},\"colorscale\":{\"sequential\":[[0.0,\"#0d0887\"],[0.1111111111111111,\"#46039f\"],[0.2222222222222222,\"#7201a8\"],[0.3333333333333333,\"#9c179e\"],[0.4444444444444444,\"#bd3786\"],[0.5555555555555556,\"#d8576b\"],[0.6666666666666666,\"#ed7953\"],[0.7777777777777778,\"#fb9f3a\"],[0.8888888888888888,\"#fdca26\"],[1.0,\"#f0f921\"]],\"sequentialminus\":[[0.0,\"#0d0887\"],[0.1111111111111111,\"#46039f\"],[0.2222222222222222,\"#7201a8\"],[0.3333333333333333,\"#9c179e\"],[0.4444444444444444,\"#bd3786\"],[0.5555555555555556,\"#d8576b\"],[0.6666666666666666,\"#ed7953\"],[0.7777777777777778,\"#fb9f3a\"],[0.8888888888888888,\"#fdca26\"],[1.0,\"#f0f921\"]],\"diverging\":[[0,\"#8e0152\"],[0.1,\"#c51b7d\"],[0.2,\"#de77ae\"],[0.3,\"#f1b6da\"],[0.4,\"#fde0ef\"],[0.5,\"#f7f7f7\"],[0.6,\"#e6f5d0\"],[0.7,\"#b8e186\"],[0.8,\"#7fbc41\"],[0.9,\"#4d9221\"],[1,\"#276419\"]]},\"xaxis\":{\"gridcolor\":\"white\",\"linecolor\":\"white\",\"ticks\":\"\",\"title\":{\"standoff\":15},\"zerolinecolor\":\"white\",\"automargin\":true,\"zerolinewidth\":2},\"yaxis\":{\"gridcolor\":\"white\",\"linecolor\":\"white\",\"ticks\":\"\",\"title\":{\"standoff\":15},\"zerolinecolor\":\"white\",\"automargin\":true,\"zerolinewidth\":2},\"scene\":{\"xaxis\":{\"backgroundcolor\":\"#E5ECF6\",\"gridcolor\":\"white\",\"linecolor\":\"white\",\"showbackground\":true,\"ticks\":\"\",\"zerolinecolor\":\"white\",\"gridwidth\":2},\"yaxis\":{\"backgroundcolor\":\"#E5ECF6\",\"gridcolor\":\"white\",\"linecolor\":\"white\",\"showbackground\":true,\"ticks\":\"\",\"zerolinecolor\":\"white\",\"gridwidth\":2},\"zaxis\":{\"backgroundcolor\":\"#E5ECF6\",\"gridcolor\":\"white\",\"linecolor\":\"white\",\"showbackground\":true,\"ticks\":\"\",\"zerolinecolor\":\"white\",\"gridwidth\":2}},\"shapedefaults\":{\"line\":{\"color\":\"#2a3f5f\"}},\"annotationdefaults\":{\"arrowcolor\":\"#2a3f5f\",\"arrowhead\":0,\"arrowwidth\":1},\"geo\":{\"bgcolor\":\"white\",\"landcolor\":\"#E5ECF6\",\"subunitcolor\":\"white\",\"showland\":true,\"showlakes\":true,\"lakecolor\":\"white\"},\"title\":{\"x\":0.05},\"mapbox\":{\"style\":\"light\"}}},\"xaxis\":{\"anchor\":\"y\",\"domain\":[0.0,1.0],\"title\":{\"text\":\"Topics\"},\"categoryorder\":\"total descending\"},\"yaxis\":{\"anchor\":\"x\",\"domain\":[0.0,1.0],\"title\":{\"text\":\"No. of occurance\"}},\"legend\":{\"tracegroupgap\":0},\"title\":{\"text\":\"Fig: Topics in raw data\"},\"barmode\":\"stack\"},                        {\"responsive\": true}                    ).then(function(){\n",
       "                            \n",
       "var gd = document.getElementById('f9c997d8-86e9-44e0-9e9a-463180697a27');\n",
       "var x = new MutationObserver(function (mutations, observer) {{\n",
       "        var display = window.getComputedStyle(gd).display;\n",
       "        if (!display || display === 'none') {{\n",
       "            console.log([gd, 'removed!']);\n",
       "            Plotly.purge(gd);\n",
       "            observer.disconnect();\n",
       "        }}\n",
       "}});\n",
       "\n",
       "// Listen for the removal of the full notebook cells\n",
       "var notebookContainer = gd.closest('#notebook-container');\n",
       "if (notebookContainer) {{\n",
       "    x.observe(notebookContainer, {childList: true});\n",
       "}}\n",
       "\n",
       "// Listen for the clearing of the current output cell\n",
       "var outputEl = gd.closest('.output');\n",
       "if (outputEl) {{\n",
       "    x.observe(outputEl, {childList: true});\n",
       "}}\n",
       "\n",
       "                        })                };                            </script>        </div>\n",
       "</body>\n",
       "</html>"
      ]
     },
     "metadata": {},
     "output_type": "display_data"
    }
   ],
   "source": [
    "# Plot as a bar-graph\n",
    "\n",
    "\n",
    "fig = px.bar(\n",
    "    raw_data, x=unique_top, y=top_counts,\n",
    "    title = \"Fig: Topics in raw data\",\n",
    "    labels={'x' : 'Topics', 'y': 'No. of occurance'}\n",
    ")\n",
    "\n",
    "fig.update_layout(barmode='stack', xaxis={'categoryorder':'total descending'})\n",
    "\n",
    "fig.show()"
   ]
  },
  {
   "cell_type": "code",
   "execution_count": 12,
   "id": "c01eccbb",
   "metadata": {
    "colab": {
     "base_uri": "https://localhost:8080/",
     "height": 797
    },
    "id": "c01eccbb",
    "outputId": "49e014f1-1955-4370-955b-2f2e4ef46751"
   },
   "outputs": [
    {
     "data": {
      "text/html": [
       "\n",
       "  <div id=\"df-f15bfe35-2ada-43bf-a30b-7b0f34365f89\">\n",
       "    <div class=\"colab-df-container\">\n",
       "      <div>\n",
       "<style scoped>\n",
       "    .dataframe tbody tr th:only-of-type {\n",
       "        vertical-align: middle;\n",
       "    }\n",
       "\n",
       "    .dataframe tbody tr th {\n",
       "        vertical-align: top;\n",
       "    }\n",
       "\n",
       "    .dataframe thead th {\n",
       "        text-align: right;\n",
       "    }\n",
       "</style>\n",
       "<table border=\"1\" class=\"dataframe\">\n",
       "  <thead>\n",
       "    <tr style=\"text-align: right;\">\n",
       "      <th></th>\n",
       "      <th>article_id</th>\n",
       "      <th>sectionName</th>\n",
       "      <th>webTitle</th>\n",
       "      <th>webUrl</th>\n",
       "      <th>bodyContent</th>\n",
       "      <th>webPublicationDate</th>\n",
       "      <th>id</th>\n",
       "    </tr>\n",
       "  </thead>\n",
       "  <tbody>\n",
       "    <tr>\n",
       "      <th>0</th>\n",
       "      <td>us-news/2016/jan/31/iowa-caucus-underdog-candi...</td>\n",
       "      <td>US news</td>\n",
       "      <td>Iowa underdogs put on brave faces despite all ...</td>\n",
       "      <td>https://www.theguardian.com/us-news/2016/jan/3...</td>\n",
       "      <td>As polling day looms and the cameras turn only...</td>\n",
       "      <td>2016-01-31T23:53:37Z</td>\n",
       "      <td>1</td>\n",
       "    </tr>\n",
       "    <tr>\n",
       "      <th>1</th>\n",
       "      <td>us-news/2016/jan/31/iowa-caucus-worlds-most-pa...</td>\n",
       "      <td>US news</td>\n",
       "      <td>Iowa caucus: hologram eagle and Jesus star on ...</td>\n",
       "      <td>https://www.theguardian.com/us-news/2016/jan/3...</td>\n",
       "      <td>In Des Moines on Sunday, the Guardian was give...</td>\n",
       "      <td>2016-01-31T23:46:28Z</td>\n",
       "      <td>2</td>\n",
       "    </tr>\n",
       "    <tr>\n",
       "      <th>2</th>\n",
       "      <td>world/2016/jan/31/tanzania-britsh-helicopter-p...</td>\n",
       "      <td>World news</td>\n",
       "      <td>British pilot in Tanzania 'manoeuvred ​to save...</td>\n",
       "      <td>https://www.theguardian.com/world/2016/jan/31/...</td>\n",
       "      <td>A British pilot who was shot dead by an elepha...</td>\n",
       "      <td>2016-01-31T23:43:48Z</td>\n",
       "      <td>3</td>\n",
       "    </tr>\n",
       "    <tr>\n",
       "      <th>3</th>\n",
       "      <td>football/2016/jan/31/late-winner-gets-usa-off-...</td>\n",
       "      <td>Football</td>\n",
       "      <td>USA 3-2 Iceland | International friendly match...</td>\n",
       "      <td>https://www.theguardian.com/football/2016/jan/...</td>\n",
       "      <td>USA took a step toward shaking off the ghosts ...</td>\n",
       "      <td>2016-01-31T23:30:49Z</td>\n",
       "      <td>4</td>\n",
       "    </tr>\n",
       "    <tr>\n",
       "      <th>4</th>\n",
       "      <td>football/2016/jan/31/blackburn-paul-lambert-ox...</td>\n",
       "      <td>Football</td>\n",
       "      <td>Reinvigorated Paul Lambert reflects after impr...</td>\n",
       "      <td>https://www.theguardian.com/football/2016/jan/...</td>\n",
       "      <td>The clean-shaven, spectacle free and suspiciou...</td>\n",
       "      <td>2016-01-31T22:30:10Z</td>\n",
       "      <td>5</td>\n",
       "    </tr>\n",
       "    <tr>\n",
       "      <th>...</th>\n",
       "      <td>...</td>\n",
       "      <td>...</td>\n",
       "      <td>...</td>\n",
       "      <td>...</td>\n",
       "      <td>...</td>\n",
       "      <td>...</td>\n",
       "      <td>...</td>\n",
       "    </tr>\n",
       "    <tr>\n",
       "      <th>149834</th>\n",
       "      <td>world/2022/jun/21/marble-head-of-hercules-pull...</td>\n",
       "      <td>World news</td>\n",
       "      <td>Marble head of Hercules pulled up from Roman s...</td>\n",
       "      <td>https://www.theguardian.com/world/2022/jun/21/...</td>\n",
       "      <td>For archaeologists, it’s the underwater find t...</td>\n",
       "      <td>2022-06-21T17:31:32Z</td>\n",
       "      <td>149835</td>\n",
       "    </tr>\n",
       "    <tr>\n",
       "      <th>149835</th>\n",
       "      <td>music/2022/jun/22/i-got-sick-of-talking-about-...</td>\n",
       "      <td>Music</td>\n",
       "      <td>‘I got sick of talking about myself’: Spacey J...</td>\n",
       "      <td>https://www.theguardian.com/music/2022/jun/22/...</td>\n",
       "      <td>From under a mop of curls, Caleb Harper – Spac...</td>\n",
       "      <td>2022-06-21T17:30:09Z</td>\n",
       "      <td>149836</td>\n",
       "    </tr>\n",
       "    <tr>\n",
       "      <th>149836</th>\n",
       "      <td>australia-news/2022/jun/22/the-small-town-with...</td>\n",
       "      <td>Australia news</td>\n",
       "      <td>The small town with a big potato that inspired...</td>\n",
       "      <td>https://www.theguardian.com/australia-news/202...</td>\n",
       "      <td>Robertson is a small, pretty town perched on t...</td>\n",
       "      <td>2022-06-21T17:30:09Z</td>\n",
       "      <td>149837</td>\n",
       "    </tr>\n",
       "    <tr>\n",
       "      <th>149837</th>\n",
       "      <td>australia-news/2022/jun/22/power-to-ban-citize...</td>\n",
       "      <td>Australia news</td>\n",
       "      <td>Power to ban citizens from re-entering Austral...</td>\n",
       "      <td>https://www.theguardian.com/australia-news/202...</td>\n",
       "      <td>A high court decision striking down the home a...</td>\n",
       "      <td>2022-06-21T17:30:08Z</td>\n",
       "      <td>149838</td>\n",
       "    </tr>\n",
       "    <tr>\n",
       "      <th>149838</th>\n",
       "      <td>australia-news/2022/jun/22/liberal-mps-say-pet...</td>\n",
       "      <td>Australia news</td>\n",
       "      <td>Liberal MPs say Peter Dutton should let party ...</td>\n",
       "      <td>https://www.theguardian.com/australia-news/202...</td>\n",
       "      <td>Liberal MPs are urging Peter Dutton to let the...</td>\n",
       "      <td>2022-06-21T17:30:08Z</td>\n",
       "      <td>149839</td>\n",
       "    </tr>\n",
       "  </tbody>\n",
       "</table>\n",
       "<p>129655 rows × 7 columns</p>\n",
       "</div>\n",
       "      <button class=\"colab-df-convert\" onclick=\"convertToInteractive('df-f15bfe35-2ada-43bf-a30b-7b0f34365f89')\"\n",
       "              title=\"Convert this dataframe to an interactive table.\"\n",
       "              style=\"display:none;\">\n",
       "        \n",
       "  <svg xmlns=\"http://www.w3.org/2000/svg\" height=\"24px\"viewBox=\"0 0 24 24\"\n",
       "       width=\"24px\">\n",
       "    <path d=\"M0 0h24v24H0V0z\" fill=\"none\"/>\n",
       "    <path d=\"M18.56 5.44l.94 2.06.94-2.06 2.06-.94-2.06-.94-.94-2.06-.94 2.06-2.06.94zm-11 1L8.5 8.5l.94-2.06 2.06-.94-2.06-.94L8.5 2.5l-.94 2.06-2.06.94zm10 10l.94 2.06.94-2.06 2.06-.94-2.06-.94-.94-2.06-.94 2.06-2.06.94z\"/><path d=\"M17.41 7.96l-1.37-1.37c-.4-.4-.92-.59-1.43-.59-.52 0-1.04.2-1.43.59L10.3 9.45l-7.72 7.72c-.78.78-.78 2.05 0 2.83L4 21.41c.39.39.9.59 1.41.59.51 0 1.02-.2 1.41-.59l7.78-7.78 2.81-2.81c.8-.78.8-2.07 0-2.86zM5.41 20L4 18.59l7.72-7.72 1.47 1.35L5.41 20z\"/>\n",
       "  </svg>\n",
       "      </button>\n",
       "      \n",
       "  <style>\n",
       "    .colab-df-container {\n",
       "      display:flex;\n",
       "      flex-wrap:wrap;\n",
       "      gap: 12px;\n",
       "    }\n",
       "\n",
       "    .colab-df-convert {\n",
       "      background-color: #E8F0FE;\n",
       "      border: none;\n",
       "      border-radius: 50%;\n",
       "      cursor: pointer;\n",
       "      display: none;\n",
       "      fill: #1967D2;\n",
       "      height: 32px;\n",
       "      padding: 0 0 0 0;\n",
       "      width: 32px;\n",
       "    }\n",
       "\n",
       "    .colab-df-convert:hover {\n",
       "      background-color: #E2EBFA;\n",
       "      box-shadow: 0px 1px 2px rgba(60, 64, 67, 0.3), 0px 1px 3px 1px rgba(60, 64, 67, 0.15);\n",
       "      fill: #174EA6;\n",
       "    }\n",
       "\n",
       "    [theme=dark] .colab-df-convert {\n",
       "      background-color: #3B4455;\n",
       "      fill: #D2E3FC;\n",
       "    }\n",
       "\n",
       "    [theme=dark] .colab-df-convert:hover {\n",
       "      background-color: #434B5C;\n",
       "      box-shadow: 0px 1px 3px 1px rgba(0, 0, 0, 0.15);\n",
       "      filter: drop-shadow(0px 1px 2px rgba(0, 0, 0, 0.3));\n",
       "      fill: #FFFFFF;\n",
       "    }\n",
       "  </style>\n",
       "\n",
       "      <script>\n",
       "        const buttonEl =\n",
       "          document.querySelector('#df-f15bfe35-2ada-43bf-a30b-7b0f34365f89 button.colab-df-convert');\n",
       "        buttonEl.style.display =\n",
       "          google.colab.kernel.accessAllowed ? 'block' : 'none';\n",
       "\n",
       "        async function convertToInteractive(key) {\n",
       "          const element = document.querySelector('#df-f15bfe35-2ada-43bf-a30b-7b0f34365f89');\n",
       "          const dataTable =\n",
       "            await google.colab.kernel.invokeFunction('convertToInteractive',\n",
       "                                                     [key], {});\n",
       "          if (!dataTable) return;\n",
       "\n",
       "          const docLinkHtml = 'Like what you see? Visit the ' +\n",
       "            '<a target=\"_blank\" href=https://colab.research.google.com/notebooks/data_table.ipynb>data table notebook</a>'\n",
       "            + ' to learn more about interactive tables.';\n",
       "          element.innerHTML = '';\n",
       "          dataTable['output_type'] = 'display_data';\n",
       "          await google.colab.output.renderOutput(dataTable, element);\n",
       "          const docLink = document.createElement('div');\n",
       "          docLink.innerHTML = docLinkHtml;\n",
       "          element.appendChild(docLink);\n",
       "        }\n",
       "      </script>\n",
       "    </div>\n",
       "  </div>\n",
       "  "
      ],
      "text/plain": [
       "                                               article_id     sectionName  \\\n",
       "0       us-news/2016/jan/31/iowa-caucus-underdog-candi...         US news   \n",
       "1       us-news/2016/jan/31/iowa-caucus-worlds-most-pa...         US news   \n",
       "2       world/2016/jan/31/tanzania-britsh-helicopter-p...      World news   \n",
       "3       football/2016/jan/31/late-winner-gets-usa-off-...        Football   \n",
       "4       football/2016/jan/31/blackburn-paul-lambert-ox...        Football   \n",
       "...                                                   ...             ...   \n",
       "149834  world/2022/jun/21/marble-head-of-hercules-pull...      World news   \n",
       "149835  music/2022/jun/22/i-got-sick-of-talking-about-...           Music   \n",
       "149836  australia-news/2022/jun/22/the-small-town-with...  Australia news   \n",
       "149837  australia-news/2022/jun/22/power-to-ban-citize...  Australia news   \n",
       "149838  australia-news/2022/jun/22/liberal-mps-say-pet...  Australia news   \n",
       "\n",
       "                                                 webTitle  \\\n",
       "0       Iowa underdogs put on brave faces despite all ...   \n",
       "1       Iowa caucus: hologram eagle and Jesus star on ...   \n",
       "2       British pilot in Tanzania 'manoeuvred ​to save...   \n",
       "3       USA 3-2 Iceland | International friendly match...   \n",
       "4       Reinvigorated Paul Lambert reflects after impr...   \n",
       "...                                                   ...   \n",
       "149834  Marble head of Hercules pulled up from Roman s...   \n",
       "149835  ‘I got sick of talking about myself’: Spacey J...   \n",
       "149836  The small town with a big potato that inspired...   \n",
       "149837  Power to ban citizens from re-entering Austral...   \n",
       "149838  Liberal MPs say Peter Dutton should let party ...   \n",
       "\n",
       "                                                   webUrl  \\\n",
       "0       https://www.theguardian.com/us-news/2016/jan/3...   \n",
       "1       https://www.theguardian.com/us-news/2016/jan/3...   \n",
       "2       https://www.theguardian.com/world/2016/jan/31/...   \n",
       "3       https://www.theguardian.com/football/2016/jan/...   \n",
       "4       https://www.theguardian.com/football/2016/jan/...   \n",
       "...                                                   ...   \n",
       "149834  https://www.theguardian.com/world/2022/jun/21/...   \n",
       "149835  https://www.theguardian.com/music/2022/jun/22/...   \n",
       "149836  https://www.theguardian.com/australia-news/202...   \n",
       "149837  https://www.theguardian.com/australia-news/202...   \n",
       "149838  https://www.theguardian.com/australia-news/202...   \n",
       "\n",
       "                                              bodyContent  \\\n",
       "0       As polling day looms and the cameras turn only...   \n",
       "1       In Des Moines on Sunday, the Guardian was give...   \n",
       "2       A British pilot who was shot dead by an elepha...   \n",
       "3       USA took a step toward shaking off the ghosts ...   \n",
       "4       The clean-shaven, spectacle free and suspiciou...   \n",
       "...                                                   ...   \n",
       "149834  For archaeologists, it’s the underwater find t...   \n",
       "149835  From under a mop of curls, Caleb Harper – Spac...   \n",
       "149836  Robertson is a small, pretty town perched on t...   \n",
       "149837  A high court decision striking down the home a...   \n",
       "149838  Liberal MPs are urging Peter Dutton to let the...   \n",
       "\n",
       "          webPublicationDate      id  \n",
       "0       2016-01-31T23:53:37Z       1  \n",
       "1       2016-01-31T23:46:28Z       2  \n",
       "2       2016-01-31T23:43:48Z       3  \n",
       "3       2016-01-31T23:30:49Z       4  \n",
       "4       2016-01-31T22:30:10Z       5  \n",
       "...                      ...     ...  \n",
       "149834  2022-06-21T17:31:32Z  149835  \n",
       "149835  2022-06-21T17:30:09Z  149836  \n",
       "149836  2022-06-21T17:30:09Z  149837  \n",
       "149837  2022-06-21T17:30:08Z  149838  \n",
       "149838  2022-06-21T17:30:08Z  149839  \n",
       "\n",
       "[129655 rows x 7 columns]"
      ]
     },
     "metadata": {},
     "output_type": "display_data"
    }
   ],
   "source": [
    "#Filter the records belonging to the top 20 sections\n",
    "top_20_sections = [\"World news\", \"Opinion\", \"Football\", \"Sport\", \"Australia news\", \"US news\", \"Politics\",\n",
    "                  \"Business\", \"UK news\", \"Life and style\", \"Music\", \"Books\", \"Film\", \"Environment\", \"Society\",\n",
    "                  \"Television & radio\", \"Stage\", \"Technology\", \"Media\", \"Art and design\"]\n",
    "filtered_df = raw_data.loc[raw_data['sectionName'].isin(top_20_sections)]\n",
    "display(filtered_df)"
   ]
  },
  {
   "cell_type": "markdown",
   "id": "0942c9b2",
   "metadata": {
    "id": "0942c9b2"
   },
   "source": [
    "### Sampling:"
   ]
  },
  {
   "cell_type": "code",
   "execution_count": 13,
   "id": "da053de7",
   "metadata": {
    "colab": {
     "base_uri": "https://localhost:8080/",
     "height": 797
    },
    "id": "da053de7",
    "outputId": "e91fe9d4-0bc1-468c-aa96-4af2a1e207b0"
   },
   "outputs": [
    {
     "data": {
      "text/html": [
       "\n",
       "  <div id=\"df-05230024-36ee-4935-b282-ec105dc339f3\">\n",
       "    <div class=\"colab-df-container\">\n",
       "      <div>\n",
       "<style scoped>\n",
       "    .dataframe tbody tr th:only-of-type {\n",
       "        vertical-align: middle;\n",
       "    }\n",
       "\n",
       "    .dataframe tbody tr th {\n",
       "        vertical-align: top;\n",
       "    }\n",
       "\n",
       "    .dataframe thead th {\n",
       "        text-align: right;\n",
       "    }\n",
       "</style>\n",
       "<table border=\"1\" class=\"dataframe\">\n",
       "  <thead>\n",
       "    <tr style=\"text-align: right;\">\n",
       "      <th></th>\n",
       "      <th>article_id</th>\n",
       "      <th>sectionName</th>\n",
       "      <th>webTitle</th>\n",
       "      <th>webUrl</th>\n",
       "      <th>bodyContent</th>\n",
       "      <th>webPublicationDate</th>\n",
       "      <th>id</th>\n",
       "    </tr>\n",
       "  </thead>\n",
       "  <tbody>\n",
       "    <tr>\n",
       "      <th>55474</th>\n",
       "      <td>world/2018/may/25/neo-nazi-rally-california-st...</td>\n",
       "      <td>World news</td>\n",
       "      <td>Stabbed at a neo-Nazi rally, called a criminal...</td>\n",
       "      <td>https://www.theguardian.com/world/2018/may/25/...</td>\n",
       "      <td>Cedric O’Bannon tried to ignore the sharp pain...</td>\n",
       "      <td>2018-05-25T09:00:42Z</td>\n",
       "      <td>55475</td>\n",
       "    </tr>\n",
       "    <tr>\n",
       "      <th>2340</th>\n",
       "      <td>football/blog/2016/feb/28/liverpool-simon-mign...</td>\n",
       "      <td>Football</td>\n",
       "      <td>Liverpool’s Simon Mignolet still defined by mi...</td>\n",
       "      <td>https://www.theguardian.com/football/blog/2016...</td>\n",
       "      <td>Penalties provided Simon Mignolet with a shot ...</td>\n",
       "      <td>2016-02-28T20:26:03Z</td>\n",
       "      <td>2341</td>\n",
       "    </tr>\n",
       "    <tr>\n",
       "      <th>57329</th>\n",
       "      <td>politics/2018/jun/24/chris-grayling-accused-of...</td>\n",
       "      <td>Politics</td>\n",
       "      <td>Grayling accused of 'running scared' after pul...</td>\n",
       "      <td>https://www.theguardian.com/politics/2018/jun/...</td>\n",
       "      <td>Chris Grayling has been accused of “running sc...</td>\n",
       "      <td>2018-06-24T23:01:19Z</td>\n",
       "      <td>57330</td>\n",
       "    </tr>\n",
       "    <tr>\n",
       "      <th>30078</th>\n",
       "      <td>us-news/2017/apr/26/trump-tax-proposal-corpora...</td>\n",
       "      <td>US news</td>\n",
       "      <td>Trump to unveil proposal for slashing corporat...</td>\n",
       "      <td>https://www.theguardian.com/us-news/2017/apr/2...</td>\n",
       "      <td>Donald Trump will unveil a proposal for a majo...</td>\n",
       "      <td>2017-04-26T10:00:34Z</td>\n",
       "      <td>30079</td>\n",
       "    </tr>\n",
       "    <tr>\n",
       "      <th>9655</th>\n",
       "      <td>commentisfree/2016/may/25/the-sad-story-of-sul...</td>\n",
       "      <td>Opinion</td>\n",
       "      <td>The sad story of Sully the rescue dog | First ...</td>\n",
       "      <td>https://www.theguardian.com/commentisfree/2016...</td>\n",
       "      <td>NaN</td>\n",
       "      <td>2016-05-25T07:20:08Z</td>\n",
       "      <td>9656</td>\n",
       "    </tr>\n",
       "    <tr>\n",
       "      <th>...</th>\n",
       "      <td>...</td>\n",
       "      <td>...</td>\n",
       "      <td>...</td>\n",
       "      <td>...</td>\n",
       "      <td>...</td>\n",
       "      <td>...</td>\n",
       "      <td>...</td>\n",
       "    </tr>\n",
       "    <tr>\n",
       "      <th>53618</th>\n",
       "      <td>music/2018/apr/24/reverb-remixes-the-musical-m...</td>\n",
       "      <td>Music</td>\n",
       "      <td>Reverb remixes: the musical meme that's celebr...</td>\n",
       "      <td>https://www.theguardian.com/music/2018/apr/24/...</td>\n",
       "      <td>Last month, the New Yorker ran a piece that op...</td>\n",
       "      <td>2018-04-24T09:00:16Z</td>\n",
       "      <td>53619</td>\n",
       "    </tr>\n",
       "    <tr>\n",
       "      <th>21560</th>\n",
       "      <td>australia-news/2016/dec/30/father-hugs-man-acc...</td>\n",
       "      <td>Australia news</td>\n",
       "      <td>Father hugs man accused of Christmas Day crash...</td>\n",
       "      <td>https://www.theguardian.com/australia-news/201...</td>\n",
       "      <td>A father whose son was fatally struck by an ou...</td>\n",
       "      <td>2016-12-30T07:49:28Z</td>\n",
       "      <td>21561</td>\n",
       "    </tr>\n",
       "    <tr>\n",
       "      <th>89103</th>\n",
       "      <td>uk-news/2019/nov/28/how-david-duckenfield-tria...</td>\n",
       "      <td>UK news</td>\n",
       "      <td>How Duckenfield trial left Hillsborough famili...</td>\n",
       "      <td>https://www.theguardian.com/uk-news/2019/nov/2...</td>\n",
       "      <td>For the Hillsborough families whose 96 loved o...</td>\n",
       "      <td>2019-11-28T15:54:26Z</td>\n",
       "      <td>89104</td>\n",
       "    </tr>\n",
       "    <tr>\n",
       "      <th>34948</th>\n",
       "      <td>football/blog/2017/jul/31/premier-league-2017-...</td>\n",
       "      <td>Football</td>\n",
       "      <td>Premier League 2017-18 preview No1: Arsenal | ...</td>\n",
       "      <td>https://www.theguardian.com/football/blog/2017...</td>\n",
       "      <td>Guardian writers’ predicted position: 6th (NB:...</td>\n",
       "      <td>2017-07-31T07:00:42Z</td>\n",
       "      <td>34949</td>\n",
       "    </tr>\n",
       "    <tr>\n",
       "      <th>50295</th>\n",
       "      <td>lifeandstyle/2018/mar/30/im-worried-my-poor-me...</td>\n",
       "      <td>Life and style</td>\n",
       "      <td>I’m worried my poor memory will scupper the dr...</td>\n",
       "      <td>https://www.theguardian.com/lifeandstyle/2018/...</td>\n",
       "      <td>He’s finally said it, the three little words I...</td>\n",
       "      <td>2018-03-31T09:52:29Z</td>\n",
       "      <td>50296</td>\n",
       "    </tr>\n",
       "  </tbody>\n",
       "</table>\n",
       "<p>19448 rows × 7 columns</p>\n",
       "</div>\n",
       "      <button class=\"colab-df-convert\" onclick=\"convertToInteractive('df-05230024-36ee-4935-b282-ec105dc339f3')\"\n",
       "              title=\"Convert this dataframe to an interactive table.\"\n",
       "              style=\"display:none;\">\n",
       "        \n",
       "  <svg xmlns=\"http://www.w3.org/2000/svg\" height=\"24px\"viewBox=\"0 0 24 24\"\n",
       "       width=\"24px\">\n",
       "    <path d=\"M0 0h24v24H0V0z\" fill=\"none\"/>\n",
       "    <path d=\"M18.56 5.44l.94 2.06.94-2.06 2.06-.94-2.06-.94-.94-2.06-.94 2.06-2.06.94zm-11 1L8.5 8.5l.94-2.06 2.06-.94-2.06-.94L8.5 2.5l-.94 2.06-2.06.94zm10 10l.94 2.06.94-2.06 2.06-.94-2.06-.94-.94-2.06-.94 2.06-2.06.94z\"/><path d=\"M17.41 7.96l-1.37-1.37c-.4-.4-.92-.59-1.43-.59-.52 0-1.04.2-1.43.59L10.3 9.45l-7.72 7.72c-.78.78-.78 2.05 0 2.83L4 21.41c.39.39.9.59 1.41.59.51 0 1.02-.2 1.41-.59l7.78-7.78 2.81-2.81c.8-.78.8-2.07 0-2.86zM5.41 20L4 18.59l7.72-7.72 1.47 1.35L5.41 20z\"/>\n",
       "  </svg>\n",
       "      </button>\n",
       "      \n",
       "  <style>\n",
       "    .colab-df-container {\n",
       "      display:flex;\n",
       "      flex-wrap:wrap;\n",
       "      gap: 12px;\n",
       "    }\n",
       "\n",
       "    .colab-df-convert {\n",
       "      background-color: #E8F0FE;\n",
       "      border: none;\n",
       "      border-radius: 50%;\n",
       "      cursor: pointer;\n",
       "      display: none;\n",
       "      fill: #1967D2;\n",
       "      height: 32px;\n",
       "      padding: 0 0 0 0;\n",
       "      width: 32px;\n",
       "    }\n",
       "\n",
       "    .colab-df-convert:hover {\n",
       "      background-color: #E2EBFA;\n",
       "      box-shadow: 0px 1px 2px rgba(60, 64, 67, 0.3), 0px 1px 3px 1px rgba(60, 64, 67, 0.15);\n",
       "      fill: #174EA6;\n",
       "    }\n",
       "\n",
       "    [theme=dark] .colab-df-convert {\n",
       "      background-color: #3B4455;\n",
       "      fill: #D2E3FC;\n",
       "    }\n",
       "\n",
       "    [theme=dark] .colab-df-convert:hover {\n",
       "      background-color: #434B5C;\n",
       "      box-shadow: 0px 1px 3px 1px rgba(0, 0, 0, 0.15);\n",
       "      filter: drop-shadow(0px 1px 2px rgba(0, 0, 0, 0.3));\n",
       "      fill: #FFFFFF;\n",
       "    }\n",
       "  </style>\n",
       "\n",
       "      <script>\n",
       "        const buttonEl =\n",
       "          document.querySelector('#df-05230024-36ee-4935-b282-ec105dc339f3 button.colab-df-convert');\n",
       "        buttonEl.style.display =\n",
       "          google.colab.kernel.accessAllowed ? 'block' : 'none';\n",
       "\n",
       "        async function convertToInteractive(key) {\n",
       "          const element = document.querySelector('#df-05230024-36ee-4935-b282-ec105dc339f3');\n",
       "          const dataTable =\n",
       "            await google.colab.kernel.invokeFunction('convertToInteractive',\n",
       "                                                     [key], {});\n",
       "          if (!dataTable) return;\n",
       "\n",
       "          const docLinkHtml = 'Like what you see? Visit the ' +\n",
       "            '<a target=\"_blank\" href=https://colab.research.google.com/notebooks/data_table.ipynb>data table notebook</a>'\n",
       "            + ' to learn more about interactive tables.';\n",
       "          element.innerHTML = '';\n",
       "          dataTable['output_type'] = 'display_data';\n",
       "          await google.colab.output.renderOutput(dataTable, element);\n",
       "          const docLink = document.createElement('div');\n",
       "          docLink.innerHTML = docLinkHtml;\n",
       "          element.appendChild(docLink);\n",
       "        }\n",
       "      </script>\n",
       "    </div>\n",
       "  </div>\n",
       "  "
      ],
      "text/plain": [
       "                                              article_id     sectionName  \\\n",
       "55474  world/2018/may/25/neo-nazi-rally-california-st...      World news   \n",
       "2340   football/blog/2016/feb/28/liverpool-simon-mign...        Football   \n",
       "57329  politics/2018/jun/24/chris-grayling-accused-of...        Politics   \n",
       "30078  us-news/2017/apr/26/trump-tax-proposal-corpora...         US news   \n",
       "9655   commentisfree/2016/may/25/the-sad-story-of-sul...         Opinion   \n",
       "...                                                  ...             ...   \n",
       "53618  music/2018/apr/24/reverb-remixes-the-musical-m...           Music   \n",
       "21560  australia-news/2016/dec/30/father-hugs-man-acc...  Australia news   \n",
       "89103  uk-news/2019/nov/28/how-david-duckenfield-tria...         UK news   \n",
       "34948  football/blog/2017/jul/31/premier-league-2017-...        Football   \n",
       "50295  lifeandstyle/2018/mar/30/im-worried-my-poor-me...  Life and style   \n",
       "\n",
       "                                                webTitle  \\\n",
       "55474  Stabbed at a neo-Nazi rally, called a criminal...   \n",
       "2340   Liverpool’s Simon Mignolet still defined by mi...   \n",
       "57329  Grayling accused of 'running scared' after pul...   \n",
       "30078  Trump to unveil proposal for slashing corporat...   \n",
       "9655   The sad story of Sully the rescue dog | First ...   \n",
       "...                                                  ...   \n",
       "53618  Reverb remixes: the musical meme that's celebr...   \n",
       "21560  Father hugs man accused of Christmas Day crash...   \n",
       "89103  How Duckenfield trial left Hillsborough famili...   \n",
       "34948  Premier League 2017-18 preview No1: Arsenal | ...   \n",
       "50295  I’m worried my poor memory will scupper the dr...   \n",
       "\n",
       "                                                  webUrl  \\\n",
       "55474  https://www.theguardian.com/world/2018/may/25/...   \n",
       "2340   https://www.theguardian.com/football/blog/2016...   \n",
       "57329  https://www.theguardian.com/politics/2018/jun/...   \n",
       "30078  https://www.theguardian.com/us-news/2017/apr/2...   \n",
       "9655   https://www.theguardian.com/commentisfree/2016...   \n",
       "...                                                  ...   \n",
       "53618  https://www.theguardian.com/music/2018/apr/24/...   \n",
       "21560  https://www.theguardian.com/australia-news/201...   \n",
       "89103  https://www.theguardian.com/uk-news/2019/nov/2...   \n",
       "34948  https://www.theguardian.com/football/blog/2017...   \n",
       "50295  https://www.theguardian.com/lifeandstyle/2018/...   \n",
       "\n",
       "                                             bodyContent  \\\n",
       "55474  Cedric O’Bannon tried to ignore the sharp pain...   \n",
       "2340   Penalties provided Simon Mignolet with a shot ...   \n",
       "57329  Chris Grayling has been accused of “running sc...   \n",
       "30078  Donald Trump will unveil a proposal for a majo...   \n",
       "9655                                                 NaN   \n",
       "...                                                  ...   \n",
       "53618  Last month, the New Yorker ran a piece that op...   \n",
       "21560  A father whose son was fatally struck by an ou...   \n",
       "89103  For the Hillsborough families whose 96 loved o...   \n",
       "34948  Guardian writers’ predicted position: 6th (NB:...   \n",
       "50295  He’s finally said it, the three little words I...   \n",
       "\n",
       "         webPublicationDate     id  \n",
       "55474  2018-05-25T09:00:42Z  55475  \n",
       "2340   2016-02-28T20:26:03Z   2341  \n",
       "57329  2018-06-24T23:01:19Z  57330  \n",
       "30078  2017-04-26T10:00:34Z  30079  \n",
       "9655   2016-05-25T07:20:08Z   9656  \n",
       "...                     ...    ...  \n",
       "53618  2018-04-24T09:00:16Z  53619  \n",
       "21560  2016-12-30T07:49:28Z  21561  \n",
       "89103  2019-11-28T15:54:26Z  89104  \n",
       "34948  2017-07-31T07:00:42Z  34949  \n",
       "50295  2018-03-31T09:52:29Z  50296  \n",
       "\n",
       "[19448 rows x 7 columns]"
      ]
     },
     "metadata": {},
     "output_type": "display_data"
    }
   ],
   "source": [
    "# Sample from the filtered top 20 sections\n",
    "# 15% of the total dataset is used\n",
    "sample_portion = filtered_df.sample(frac = 0.15, random_state= 10)\n",
    "display(sample_portion)"
   ]
  },
  {
   "cell_type": "markdown",
   "id": "3402a9c2",
   "metadata": {
    "id": "3402a9c2"
   },
   "source": [
    "### Pre-processing the data:"
   ]
  },
  {
   "cell_type": "code",
   "execution_count": 14,
   "id": "cb82ad41",
   "metadata": {
    "id": "cb82ad41"
   },
   "outputs": [],
   "source": [
    "# Remove the non-alpha numeric characters (a.k.a the variations of the letters like a-hat).\n",
    "sample_portion['bodyContent'] = sample_portion['bodyContent'].apply(lambda a: str(a).encode('ascii','ignore'))\n",
    "sample_portion['bodyContent'] = sample_portion['bodyContent'].apply(lambda a: a.decode('ascii','ignore'))"
   ]
  },
  {
   "cell_type": "code",
   "execution_count": 15,
   "id": "7f7a34b0",
   "metadata": {
    "id": "7f7a34b0"
   },
   "outputs": [],
   "source": [
    "# In accordance to the topic sentence theory, we are taking only the first sentence of each paragraph.\n",
    "# This reduces the training time while hopefully letting us retain the important information.\n",
    "\n",
    "def GetFirstSentences(proc_string):\n",
    "    first_sent_arr = []\n",
    "    para_set = re.split('\\n', proc_string)\n",
    "    for str_itr in para_set:\n",
    "        first_sent_arr.append(\"\".join(str_itr.split(\".\")[0]))\n",
    "    final_string = \". \".join(first_sent_arr)\n",
    "    #print(len(first_sent_arr))\n",
    "    #print(first_sent_arr)\n",
    "    return final_string"
   ]
  },
  {
   "cell_type": "code",
   "execution_count": 16,
   "id": "74377f4c",
   "metadata": {
    "colab": {
     "base_uri": "https://localhost:8080/",
     "height": 1000
    },
    "id": "74377f4c",
    "outputId": "cd7fdf36-9add-45a6-9224-4648ba48609a"
   },
   "outputs": [
    {
     "data": {
      "text/html": [
       "\n",
       "  <div id=\"df-8eea40a8-8a71-48a5-848d-612914ec3da9\">\n",
       "    <div class=\"colab-df-container\">\n",
       "      <div>\n",
       "<style scoped>\n",
       "    .dataframe tbody tr th:only-of-type {\n",
       "        vertical-align: middle;\n",
       "    }\n",
       "\n",
       "    .dataframe tbody tr th {\n",
       "        vertical-align: top;\n",
       "    }\n",
       "\n",
       "    .dataframe thead th {\n",
       "        text-align: right;\n",
       "    }\n",
       "</style>\n",
       "<table border=\"1\" class=\"dataframe\">\n",
       "  <thead>\n",
       "    <tr style=\"text-align: right;\">\n",
       "      <th></th>\n",
       "      <th>article_id</th>\n",
       "      <th>sectionName</th>\n",
       "      <th>webTitle</th>\n",
       "      <th>webUrl</th>\n",
       "      <th>bodyContent</th>\n",
       "      <th>webPublicationDate</th>\n",
       "      <th>id</th>\n",
       "      <th>lemBodyContent</th>\n",
       "    </tr>\n",
       "  </thead>\n",
       "  <tbody>\n",
       "    <tr>\n",
       "      <th>55474</th>\n",
       "      <td>world/2018/may/25/neo-nazi-rally-california-st...</td>\n",
       "      <td>World news</td>\n",
       "      <td>Stabbed at a neo-Nazi rally, called a criminal...</td>\n",
       "      <td>https://www.theguardian.com/world/2018/may/25/...</td>\n",
       "      <td>Cedric OBannon tried to ignore the sharp pain ...</td>\n",
       "      <td>2018-05-25T09:00:42Z</td>\n",
       "      <td>55475</td>\n",
       "      <td>Cedric OBannon tried to ignore the sharp pain ...</td>\n",
       "    </tr>\n",
       "    <tr>\n",
       "      <th>2340</th>\n",
       "      <td>football/blog/2016/feb/28/liverpool-simon-mign...</td>\n",
       "      <td>Football</td>\n",
       "      <td>Liverpool’s Simon Mignolet still defined by mi...</td>\n",
       "      <td>https://www.theguardian.com/football/blog/2016...</td>\n",
       "      <td>Penalties provided Simon Mignolet with a shot ...</td>\n",
       "      <td>2016-02-28T20:26:03Z</td>\n",
       "      <td>2341</td>\n",
       "      <td>Penalties provided Simon Mignolet with a shot ...</td>\n",
       "    </tr>\n",
       "    <tr>\n",
       "      <th>57329</th>\n",
       "      <td>politics/2018/jun/24/chris-grayling-accused-of...</td>\n",
       "      <td>Politics</td>\n",
       "      <td>Grayling accused of 'running scared' after pul...</td>\n",
       "      <td>https://www.theguardian.com/politics/2018/jun/...</td>\n",
       "      <td>Chris Grayling has been accused of running sca...</td>\n",
       "      <td>2018-06-24T23:01:19Z</td>\n",
       "      <td>57330</td>\n",
       "      <td>Chris Grayling has been accused of running sca...</td>\n",
       "    </tr>\n",
       "    <tr>\n",
       "      <th>30078</th>\n",
       "      <td>us-news/2017/apr/26/trump-tax-proposal-corpora...</td>\n",
       "      <td>US news</td>\n",
       "      <td>Trump to unveil proposal for slashing corporat...</td>\n",
       "      <td>https://www.theguardian.com/us-news/2017/apr/2...</td>\n",
       "      <td>Donald Trump will unveil a proposal for a majo...</td>\n",
       "      <td>2017-04-26T10:00:34Z</td>\n",
       "      <td>30079</td>\n",
       "      <td>Donald Trump will unveil a proposal for a majo...</td>\n",
       "    </tr>\n",
       "    <tr>\n",
       "      <th>9655</th>\n",
       "      <td>commentisfree/2016/may/25/the-sad-story-of-sul...</td>\n",
       "      <td>Opinion</td>\n",
       "      <td>The sad story of Sully the rescue dog | First ...</td>\n",
       "      <td>https://www.theguardian.com/commentisfree/2016...</td>\n",
       "      <td>nan</td>\n",
       "      <td>2016-05-25T07:20:08Z</td>\n",
       "      <td>9656</td>\n",
       "      <td>nan</td>\n",
       "    </tr>\n",
       "    <tr>\n",
       "      <th>...</th>\n",
       "      <td>...</td>\n",
       "      <td>...</td>\n",
       "      <td>...</td>\n",
       "      <td>...</td>\n",
       "      <td>...</td>\n",
       "      <td>...</td>\n",
       "      <td>...</td>\n",
       "      <td>...</td>\n",
       "    </tr>\n",
       "    <tr>\n",
       "      <th>53618</th>\n",
       "      <td>music/2018/apr/24/reverb-remixes-the-musical-m...</td>\n",
       "      <td>Music</td>\n",
       "      <td>Reverb remixes: the musical meme that's celebr...</td>\n",
       "      <td>https://www.theguardian.com/music/2018/apr/24/...</td>\n",
       "      <td>Last month, the New Yorker ran a piece that op...</td>\n",
       "      <td>2018-04-24T09:00:16Z</td>\n",
       "      <td>53619</td>\n",
       "      <td>Last month, the New Yorker ran a piece that op...</td>\n",
       "    </tr>\n",
       "    <tr>\n",
       "      <th>21560</th>\n",
       "      <td>australia-news/2016/dec/30/father-hugs-man-acc...</td>\n",
       "      <td>Australia news</td>\n",
       "      <td>Father hugs man accused of Christmas Day crash...</td>\n",
       "      <td>https://www.theguardian.com/australia-news/201...</td>\n",
       "      <td>A father whose son was fatally struck by an ou...</td>\n",
       "      <td>2016-12-30T07:49:28Z</td>\n",
       "      <td>21561</td>\n",
       "      <td>A father whose son was fatally struck by an ou...</td>\n",
       "    </tr>\n",
       "    <tr>\n",
       "      <th>89103</th>\n",
       "      <td>uk-news/2019/nov/28/how-david-duckenfield-tria...</td>\n",
       "      <td>UK news</td>\n",
       "      <td>How Duckenfield trial left Hillsborough famili...</td>\n",
       "      <td>https://www.theguardian.com/uk-news/2019/nov/2...</td>\n",
       "      <td>For the Hillsborough families whose 96 loved o...</td>\n",
       "      <td>2019-11-28T15:54:26Z</td>\n",
       "      <td>89104</td>\n",
       "      <td>For the Hillsborough families whose 96 loved o...</td>\n",
       "    </tr>\n",
       "    <tr>\n",
       "      <th>34948</th>\n",
       "      <td>football/blog/2017/jul/31/premier-league-2017-...</td>\n",
       "      <td>Football</td>\n",
       "      <td>Premier League 2017-18 preview No1: Arsenal | ...</td>\n",
       "      <td>https://www.theguardian.com/football/blog/2017...</td>\n",
       "      <td>Guardian writers predicted position: 6th (NB: ...</td>\n",
       "      <td>2017-07-31T07:00:42Z</td>\n",
       "      <td>34949</td>\n",
       "      <td>Guardian writers predicted position: 6th (NB: ...</td>\n",
       "    </tr>\n",
       "    <tr>\n",
       "      <th>50295</th>\n",
       "      <td>lifeandstyle/2018/mar/30/im-worried-my-poor-me...</td>\n",
       "      <td>Life and style</td>\n",
       "      <td>I’m worried my poor memory will scupper the dr...</td>\n",
       "      <td>https://www.theguardian.com/lifeandstyle/2018/...</td>\n",
       "      <td>Hes finally said it, the three little words Iv...</td>\n",
       "      <td>2018-03-31T09:52:29Z</td>\n",
       "      <td>50296</td>\n",
       "      <td>Hes finally said it, the three little words Iv...</td>\n",
       "    </tr>\n",
       "  </tbody>\n",
       "</table>\n",
       "<p>19448 rows × 8 columns</p>\n",
       "</div>\n",
       "      <button class=\"colab-df-convert\" onclick=\"convertToInteractive('df-8eea40a8-8a71-48a5-848d-612914ec3da9')\"\n",
       "              title=\"Convert this dataframe to an interactive table.\"\n",
       "              style=\"display:none;\">\n",
       "        \n",
       "  <svg xmlns=\"http://www.w3.org/2000/svg\" height=\"24px\"viewBox=\"0 0 24 24\"\n",
       "       width=\"24px\">\n",
       "    <path d=\"M0 0h24v24H0V0z\" fill=\"none\"/>\n",
       "    <path d=\"M18.56 5.44l.94 2.06.94-2.06 2.06-.94-2.06-.94-.94-2.06-.94 2.06-2.06.94zm-11 1L8.5 8.5l.94-2.06 2.06-.94-2.06-.94L8.5 2.5l-.94 2.06-2.06.94zm10 10l.94 2.06.94-2.06 2.06-.94-2.06-.94-.94-2.06-.94 2.06-2.06.94z\"/><path d=\"M17.41 7.96l-1.37-1.37c-.4-.4-.92-.59-1.43-.59-.52 0-1.04.2-1.43.59L10.3 9.45l-7.72 7.72c-.78.78-.78 2.05 0 2.83L4 21.41c.39.39.9.59 1.41.59.51 0 1.02-.2 1.41-.59l7.78-7.78 2.81-2.81c.8-.78.8-2.07 0-2.86zM5.41 20L4 18.59l7.72-7.72 1.47 1.35L5.41 20z\"/>\n",
       "  </svg>\n",
       "      </button>\n",
       "      \n",
       "  <style>\n",
       "    .colab-df-container {\n",
       "      display:flex;\n",
       "      flex-wrap:wrap;\n",
       "      gap: 12px;\n",
       "    }\n",
       "\n",
       "    .colab-df-convert {\n",
       "      background-color: #E8F0FE;\n",
       "      border: none;\n",
       "      border-radius: 50%;\n",
       "      cursor: pointer;\n",
       "      display: none;\n",
       "      fill: #1967D2;\n",
       "      height: 32px;\n",
       "      padding: 0 0 0 0;\n",
       "      width: 32px;\n",
       "    }\n",
       "\n",
       "    .colab-df-convert:hover {\n",
       "      background-color: #E2EBFA;\n",
       "      box-shadow: 0px 1px 2px rgba(60, 64, 67, 0.3), 0px 1px 3px 1px rgba(60, 64, 67, 0.15);\n",
       "      fill: #174EA6;\n",
       "    }\n",
       "\n",
       "    [theme=dark] .colab-df-convert {\n",
       "      background-color: #3B4455;\n",
       "      fill: #D2E3FC;\n",
       "    }\n",
       "\n",
       "    [theme=dark] .colab-df-convert:hover {\n",
       "      background-color: #434B5C;\n",
       "      box-shadow: 0px 1px 3px 1px rgba(0, 0, 0, 0.15);\n",
       "      filter: drop-shadow(0px 1px 2px rgba(0, 0, 0, 0.3));\n",
       "      fill: #FFFFFF;\n",
       "    }\n",
       "  </style>\n",
       "\n",
       "      <script>\n",
       "        const buttonEl =\n",
       "          document.querySelector('#df-8eea40a8-8a71-48a5-848d-612914ec3da9 button.colab-df-convert');\n",
       "        buttonEl.style.display =\n",
       "          google.colab.kernel.accessAllowed ? 'block' : 'none';\n",
       "\n",
       "        async function convertToInteractive(key) {\n",
       "          const element = document.querySelector('#df-8eea40a8-8a71-48a5-848d-612914ec3da9');\n",
       "          const dataTable =\n",
       "            await google.colab.kernel.invokeFunction('convertToInteractive',\n",
       "                                                     [key], {});\n",
       "          if (!dataTable) return;\n",
       "\n",
       "          const docLinkHtml = 'Like what you see? Visit the ' +\n",
       "            '<a target=\"_blank\" href=https://colab.research.google.com/notebooks/data_table.ipynb>data table notebook</a>'\n",
       "            + ' to learn more about interactive tables.';\n",
       "          element.innerHTML = '';\n",
       "          dataTable['output_type'] = 'display_data';\n",
       "          await google.colab.output.renderOutput(dataTable, element);\n",
       "          const docLink = document.createElement('div');\n",
       "          docLink.innerHTML = docLinkHtml;\n",
       "          element.appendChild(docLink);\n",
       "        }\n",
       "      </script>\n",
       "    </div>\n",
       "  </div>\n",
       "  "
      ],
      "text/plain": [
       "                                              article_id     sectionName  \\\n",
       "55474  world/2018/may/25/neo-nazi-rally-california-st...      World news   \n",
       "2340   football/blog/2016/feb/28/liverpool-simon-mign...        Football   \n",
       "57329  politics/2018/jun/24/chris-grayling-accused-of...        Politics   \n",
       "30078  us-news/2017/apr/26/trump-tax-proposal-corpora...         US news   \n",
       "9655   commentisfree/2016/may/25/the-sad-story-of-sul...         Opinion   \n",
       "...                                                  ...             ...   \n",
       "53618  music/2018/apr/24/reverb-remixes-the-musical-m...           Music   \n",
       "21560  australia-news/2016/dec/30/father-hugs-man-acc...  Australia news   \n",
       "89103  uk-news/2019/nov/28/how-david-duckenfield-tria...         UK news   \n",
       "34948  football/blog/2017/jul/31/premier-league-2017-...        Football   \n",
       "50295  lifeandstyle/2018/mar/30/im-worried-my-poor-me...  Life and style   \n",
       "\n",
       "                                                webTitle  \\\n",
       "55474  Stabbed at a neo-Nazi rally, called a criminal...   \n",
       "2340   Liverpool’s Simon Mignolet still defined by mi...   \n",
       "57329  Grayling accused of 'running scared' after pul...   \n",
       "30078  Trump to unveil proposal for slashing corporat...   \n",
       "9655   The sad story of Sully the rescue dog | First ...   \n",
       "...                                                  ...   \n",
       "53618  Reverb remixes: the musical meme that's celebr...   \n",
       "21560  Father hugs man accused of Christmas Day crash...   \n",
       "89103  How Duckenfield trial left Hillsborough famili...   \n",
       "34948  Premier League 2017-18 preview No1: Arsenal | ...   \n",
       "50295  I’m worried my poor memory will scupper the dr...   \n",
       "\n",
       "                                                  webUrl  \\\n",
       "55474  https://www.theguardian.com/world/2018/may/25/...   \n",
       "2340   https://www.theguardian.com/football/blog/2016...   \n",
       "57329  https://www.theguardian.com/politics/2018/jun/...   \n",
       "30078  https://www.theguardian.com/us-news/2017/apr/2...   \n",
       "9655   https://www.theguardian.com/commentisfree/2016...   \n",
       "...                                                  ...   \n",
       "53618  https://www.theguardian.com/music/2018/apr/24/...   \n",
       "21560  https://www.theguardian.com/australia-news/201...   \n",
       "89103  https://www.theguardian.com/uk-news/2019/nov/2...   \n",
       "34948  https://www.theguardian.com/football/blog/2017...   \n",
       "50295  https://www.theguardian.com/lifeandstyle/2018/...   \n",
       "\n",
       "                                             bodyContent  \\\n",
       "55474  Cedric OBannon tried to ignore the sharp pain ...   \n",
       "2340   Penalties provided Simon Mignolet with a shot ...   \n",
       "57329  Chris Grayling has been accused of running sca...   \n",
       "30078  Donald Trump will unveil a proposal for a majo...   \n",
       "9655                                                 nan   \n",
       "...                                                  ...   \n",
       "53618  Last month, the New Yorker ran a piece that op...   \n",
       "21560  A father whose son was fatally struck by an ou...   \n",
       "89103  For the Hillsborough families whose 96 loved o...   \n",
       "34948  Guardian writers predicted position: 6th (NB: ...   \n",
       "50295  Hes finally said it, the three little words Iv...   \n",
       "\n",
       "         webPublicationDate     id  \\\n",
       "55474  2018-05-25T09:00:42Z  55475   \n",
       "2340   2016-02-28T20:26:03Z   2341   \n",
       "57329  2018-06-24T23:01:19Z  57330   \n",
       "30078  2017-04-26T10:00:34Z  30079   \n",
       "9655   2016-05-25T07:20:08Z   9656   \n",
       "...                     ...    ...   \n",
       "53618  2018-04-24T09:00:16Z  53619   \n",
       "21560  2016-12-30T07:49:28Z  21561   \n",
       "89103  2019-11-28T15:54:26Z  89104   \n",
       "34948  2017-07-31T07:00:42Z  34949   \n",
       "50295  2018-03-31T09:52:29Z  50296   \n",
       "\n",
       "                                          lemBodyContent  \n",
       "55474  Cedric OBannon tried to ignore the sharp pain ...  \n",
       "2340   Penalties provided Simon Mignolet with a shot ...  \n",
       "57329  Chris Grayling has been accused of running sca...  \n",
       "30078  Donald Trump will unveil a proposal for a majo...  \n",
       "9655                                                 nan  \n",
       "...                                                  ...  \n",
       "53618  Last month, the New Yorker ran a piece that op...  \n",
       "21560  A father whose son was fatally struck by an ou...  \n",
       "89103  For the Hillsborough families whose 96 loved o...  \n",
       "34948  Guardian writers predicted position: 6th (NB: ...  \n",
       "50295  Hes finally said it, the three little words Iv...  \n",
       "\n",
       "[19448 rows x 8 columns]"
      ]
     },
     "metadata": {},
     "output_type": "display_data"
    },
    {
     "name": "stdout",
     "output_type": "stream",
     "text": [
      "Cedric OBannon tried to ignore the sharp pain in his side and continue filming. None of the white supremacists have been charged for stabbing OBannon. Chaos and violence quickly erupted. But OBannon, who spent two weeks in the hospital, soon had other reasons to be suspicious of the police. Ayres also noted OBannons history of activism, saying he routinely attended protests and other controversial events as a journalist. Michael German, a former FBI agent, said the Sacramento case was part of a pattern of police in the US siding with far-right groups and targeting their critics\n"
     ]
    }
   ],
   "source": [
    "# Store the topic sentences in a new column.\n",
    "sample_portion['lemBodyContent'] = sample_portion['bodyContent'].apply(lambda a: GetFirstSentences(str(a)))\n",
    "display(sample_portion)\n",
    "\n",
    "test2 = sample_portion.iloc[[0]]['lemBodyContent'].values[0]\n",
    "print(str(test2))"
   ]
  },
  {
   "cell_type": "code",
   "execution_count": 17,
   "id": "6a812e79",
   "metadata": {
    "colab": {
     "base_uri": "https://localhost:8080/"
    },
    "id": "6a812e79",
    "outputId": "00358119-c4d7-4f01-ab8e-5cbcb8350ee7"
   },
   "outputs": [
    {
     "name": "stderr",
     "output_type": "stream",
     "text": [
      "<ipython-input-17-863e92878466>:3: FutureWarning:\n",
      "\n",
      "The default value of regex will change from True to False in a future version.\n",
      "\n"
     ]
    }
   ],
   "source": [
    "#Remove the punctuation as it may interfere with the embeddings.\n",
    "#Since we are not generating sentences, we will probably not need them anyway.\n",
    "sample_portion[\"NoPunct\"] = sample_portion['lemBodyContent'].str.replace('[^\\w\\s]','')"
   ]
  },
  {
   "cell_type": "code",
   "execution_count": 18,
   "id": "f84fa3e9",
   "metadata": {
    "colab": {
     "base_uri": "https://localhost:8080/",
     "height": 423
    },
    "id": "f84fa3e9",
    "outputId": "1f39f552-bddc-4e2b-8603-0dfe5ca034e7"
   },
   "outputs": [
    {
     "data": {
      "text/html": [
       "\n",
       "  <div id=\"df-2342e844-43ac-4b98-816b-26b14b9062d2\">\n",
       "    <div class=\"colab-df-container\">\n",
       "      <div>\n",
       "<style scoped>\n",
       "    .dataframe tbody tr th:only-of-type {\n",
       "        vertical-align: middle;\n",
       "    }\n",
       "\n",
       "    .dataframe tbody tr th {\n",
       "        vertical-align: top;\n",
       "    }\n",
       "\n",
       "    .dataframe thead th {\n",
       "        text-align: right;\n",
       "    }\n",
       "</style>\n",
       "<table border=\"1\" class=\"dataframe\">\n",
       "  <thead>\n",
       "    <tr style=\"text-align: right;\">\n",
       "      <th></th>\n",
       "      <th>lemBodyContent</th>\n",
       "      <th>sectionName</th>\n",
       "      <th>webTitle</th>\n",
       "      <th>NoPunct</th>\n",
       "    </tr>\n",
       "  </thead>\n",
       "  <tbody>\n",
       "    <tr>\n",
       "      <th>55474</th>\n",
       "      <td>Cedric OBannon tried to ignore the sharp pain ...</td>\n",
       "      <td>World news</td>\n",
       "      <td>Stabbed at a neo-Nazi rally, called a criminal...</td>\n",
       "      <td>Cedric OBannon tried to ignore the sharp pain ...</td>\n",
       "    </tr>\n",
       "    <tr>\n",
       "      <th>2340</th>\n",
       "      <td>Penalties provided Simon Mignolet with a shot ...</td>\n",
       "      <td>Football</td>\n",
       "      <td>Liverpool’s Simon Mignolet still defined by mi...</td>\n",
       "      <td>Penalties provided Simon Mignolet with a shot ...</td>\n",
       "    </tr>\n",
       "    <tr>\n",
       "      <th>57329</th>\n",
       "      <td>Chris Grayling has been accused of running sca...</td>\n",
       "      <td>Politics</td>\n",
       "      <td>Grayling accused of 'running scared' after pul...</td>\n",
       "      <td>Chris Grayling has been accused of running sca...</td>\n",
       "    </tr>\n",
       "    <tr>\n",
       "      <th>30078</th>\n",
       "      <td>Donald Trump will unveil a proposal for a majo...</td>\n",
       "      <td>US news</td>\n",
       "      <td>Trump to unveil proposal for slashing corporat...</td>\n",
       "      <td>Donald Trump will unveil a proposal for a majo...</td>\n",
       "    </tr>\n",
       "    <tr>\n",
       "      <th>9655</th>\n",
       "      <td>nan</td>\n",
       "      <td>Opinion</td>\n",
       "      <td>The sad story of Sully the rescue dog | First ...</td>\n",
       "      <td>nan</td>\n",
       "    </tr>\n",
       "    <tr>\n",
       "      <th>...</th>\n",
       "      <td>...</td>\n",
       "      <td>...</td>\n",
       "      <td>...</td>\n",
       "      <td>...</td>\n",
       "    </tr>\n",
       "    <tr>\n",
       "      <th>53618</th>\n",
       "      <td>Last month, the New Yorker ran a piece that op...</td>\n",
       "      <td>Music</td>\n",
       "      <td>Reverb remixes: the musical meme that's celebr...</td>\n",
       "      <td>Last month the New Yorker ran a piece that ope...</td>\n",
       "    </tr>\n",
       "    <tr>\n",
       "      <th>21560</th>\n",
       "      <td>A father whose son was fatally struck by an ou...</td>\n",
       "      <td>Australia news</td>\n",
       "      <td>Father hugs man accused of Christmas Day crash...</td>\n",
       "      <td>A father whose son was fatally struck by an ou...</td>\n",
       "    </tr>\n",
       "    <tr>\n",
       "      <th>89103</th>\n",
       "      <td>For the Hillsborough families whose 96 loved o...</td>\n",
       "      <td>UK news</td>\n",
       "      <td>How Duckenfield trial left Hillsborough famili...</td>\n",
       "      <td>For the Hillsborough families whose 96 loved o...</td>\n",
       "    </tr>\n",
       "    <tr>\n",
       "      <th>34948</th>\n",
       "      <td>Guardian writers predicted position: 6th (NB: ...</td>\n",
       "      <td>Football</td>\n",
       "      <td>Premier League 2017-18 preview No1: Arsenal | ...</td>\n",
       "      <td>Guardian writers predicted position 6th NB thi...</td>\n",
       "    </tr>\n",
       "    <tr>\n",
       "      <th>50295</th>\n",
       "      <td>Hes finally said it, the three little words Iv...</td>\n",
       "      <td>Life and style</td>\n",
       "      <td>I’m worried my poor memory will scupper the dr...</td>\n",
       "      <td>Hes finally said it the three little words Ive...</td>\n",
       "    </tr>\n",
       "  </tbody>\n",
       "</table>\n",
       "<p>19448 rows × 4 columns</p>\n",
       "</div>\n",
       "      <button class=\"colab-df-convert\" onclick=\"convertToInteractive('df-2342e844-43ac-4b98-816b-26b14b9062d2')\"\n",
       "              title=\"Convert this dataframe to an interactive table.\"\n",
       "              style=\"display:none;\">\n",
       "        \n",
       "  <svg xmlns=\"http://www.w3.org/2000/svg\" height=\"24px\"viewBox=\"0 0 24 24\"\n",
       "       width=\"24px\">\n",
       "    <path d=\"M0 0h24v24H0V0z\" fill=\"none\"/>\n",
       "    <path d=\"M18.56 5.44l.94 2.06.94-2.06 2.06-.94-2.06-.94-.94-2.06-.94 2.06-2.06.94zm-11 1L8.5 8.5l.94-2.06 2.06-.94-2.06-.94L8.5 2.5l-.94 2.06-2.06.94zm10 10l.94 2.06.94-2.06 2.06-.94-2.06-.94-.94-2.06-.94 2.06-2.06.94z\"/><path d=\"M17.41 7.96l-1.37-1.37c-.4-.4-.92-.59-1.43-.59-.52 0-1.04.2-1.43.59L10.3 9.45l-7.72 7.72c-.78.78-.78 2.05 0 2.83L4 21.41c.39.39.9.59 1.41.59.51 0 1.02-.2 1.41-.59l7.78-7.78 2.81-2.81c.8-.78.8-2.07 0-2.86zM5.41 20L4 18.59l7.72-7.72 1.47 1.35L5.41 20z\"/>\n",
       "  </svg>\n",
       "      </button>\n",
       "      \n",
       "  <style>\n",
       "    .colab-df-container {\n",
       "      display:flex;\n",
       "      flex-wrap:wrap;\n",
       "      gap: 12px;\n",
       "    }\n",
       "\n",
       "    .colab-df-convert {\n",
       "      background-color: #E8F0FE;\n",
       "      border: none;\n",
       "      border-radius: 50%;\n",
       "      cursor: pointer;\n",
       "      display: none;\n",
       "      fill: #1967D2;\n",
       "      height: 32px;\n",
       "      padding: 0 0 0 0;\n",
       "      width: 32px;\n",
       "    }\n",
       "\n",
       "    .colab-df-convert:hover {\n",
       "      background-color: #E2EBFA;\n",
       "      box-shadow: 0px 1px 2px rgba(60, 64, 67, 0.3), 0px 1px 3px 1px rgba(60, 64, 67, 0.15);\n",
       "      fill: #174EA6;\n",
       "    }\n",
       "\n",
       "    [theme=dark] .colab-df-convert {\n",
       "      background-color: #3B4455;\n",
       "      fill: #D2E3FC;\n",
       "    }\n",
       "\n",
       "    [theme=dark] .colab-df-convert:hover {\n",
       "      background-color: #434B5C;\n",
       "      box-shadow: 0px 1px 3px 1px rgba(0, 0, 0, 0.15);\n",
       "      filter: drop-shadow(0px 1px 2px rgba(0, 0, 0, 0.3));\n",
       "      fill: #FFFFFF;\n",
       "    }\n",
       "  </style>\n",
       "\n",
       "      <script>\n",
       "        const buttonEl =\n",
       "          document.querySelector('#df-2342e844-43ac-4b98-816b-26b14b9062d2 button.colab-df-convert');\n",
       "        buttonEl.style.display =\n",
       "          google.colab.kernel.accessAllowed ? 'block' : 'none';\n",
       "\n",
       "        async function convertToInteractive(key) {\n",
       "          const element = document.querySelector('#df-2342e844-43ac-4b98-816b-26b14b9062d2');\n",
       "          const dataTable =\n",
       "            await google.colab.kernel.invokeFunction('convertToInteractive',\n",
       "                                                     [key], {});\n",
       "          if (!dataTable) return;\n",
       "\n",
       "          const docLinkHtml = 'Like what you see? Visit the ' +\n",
       "            '<a target=\"_blank\" href=https://colab.research.google.com/notebooks/data_table.ipynb>data table notebook</a>'\n",
       "            + ' to learn more about interactive tables.';\n",
       "          element.innerHTML = '';\n",
       "          dataTable['output_type'] = 'display_data';\n",
       "          await google.colab.output.renderOutput(dataTable, element);\n",
       "          const docLink = document.createElement('div');\n",
       "          docLink.innerHTML = docLinkHtml;\n",
       "          element.appendChild(docLink);\n",
       "        }\n",
       "      </script>\n",
       "    </div>\n",
       "  </div>\n",
       "  "
      ],
      "text/plain": [
       "                                          lemBodyContent     sectionName  \\\n",
       "55474  Cedric OBannon tried to ignore the sharp pain ...      World news   \n",
       "2340   Penalties provided Simon Mignolet with a shot ...        Football   \n",
       "57329  Chris Grayling has been accused of running sca...        Politics   \n",
       "30078  Donald Trump will unveil a proposal for a majo...         US news   \n",
       "9655                                                 nan         Opinion   \n",
       "...                                                  ...             ...   \n",
       "53618  Last month, the New Yorker ran a piece that op...           Music   \n",
       "21560  A father whose son was fatally struck by an ou...  Australia news   \n",
       "89103  For the Hillsborough families whose 96 loved o...         UK news   \n",
       "34948  Guardian writers predicted position: 6th (NB: ...        Football   \n",
       "50295  Hes finally said it, the three little words Iv...  Life and style   \n",
       "\n",
       "                                                webTitle  \\\n",
       "55474  Stabbed at a neo-Nazi rally, called a criminal...   \n",
       "2340   Liverpool’s Simon Mignolet still defined by mi...   \n",
       "57329  Grayling accused of 'running scared' after pul...   \n",
       "30078  Trump to unveil proposal for slashing corporat...   \n",
       "9655   The sad story of Sully the rescue dog | First ...   \n",
       "...                                                  ...   \n",
       "53618  Reverb remixes: the musical meme that's celebr...   \n",
       "21560  Father hugs man accused of Christmas Day crash...   \n",
       "89103  How Duckenfield trial left Hillsborough famili...   \n",
       "34948  Premier League 2017-18 preview No1: Arsenal | ...   \n",
       "50295  I’m worried my poor memory will scupper the dr...   \n",
       "\n",
       "                                                 NoPunct  \n",
       "55474  Cedric OBannon tried to ignore the sharp pain ...  \n",
       "2340   Penalties provided Simon Mignolet with a shot ...  \n",
       "57329  Chris Grayling has been accused of running sca...  \n",
       "30078  Donald Trump will unveil a proposal for a majo...  \n",
       "9655                                                 nan  \n",
       "...                                                  ...  \n",
       "53618  Last month the New Yorker ran a piece that ope...  \n",
       "21560  A father whose son was fatally struck by an ou...  \n",
       "89103  For the Hillsborough families whose 96 loved o...  \n",
       "34948  Guardian writers predicted position 6th NB thi...  \n",
       "50295  Hes finally said it the three little words Ive...  \n",
       "\n",
       "[19448 rows x 4 columns]"
      ]
     },
     "metadata": {},
     "output_type": "display_data"
    }
   ],
   "source": [
    "sample = sample_portion.filter(['lemBodyContent','sectionName','webTitle',\"NoPunct\"], axis=1)\n",
    "display(sample)"
   ]
  },
  {
   "cell_type": "markdown",
   "id": "c33326a7",
   "metadata": {
    "id": "c33326a7"
   },
   "source": [
    "### Splitting into training and test data:\n",
    "\n",
    "The data thus processed is split into the train set and the test set. We will be using 10% of the data for testing.\n",
    "10% of the training data will be for validation\n",
    "\n",
    "We will also check if all the topics are represented by running unique on the train set and the test set"
   ]
  },
  {
   "cell_type": "code",
   "execution_count": 19,
   "id": "18e6d058",
   "metadata": {
    "colab": {
     "base_uri": "https://localhost:8080/"
    },
    "id": "18e6d058",
    "outputId": "88667d9e-fedf-49f5-e471-cf295787d05e"
   },
   "outputs": [
    {
     "name": "stdout",
     "output_type": "stream",
     "text": [
      "20\n",
      "20\n"
     ]
    }
   ],
   "source": [
    "X_train, X_test, y_train, y_test = train_test_split(sample['NoPunct'], sample['sectionName'], random_state=10, test_size=0.10)\n",
    "\n",
    "print(len(y_train.unique()))\n",
    "print(len(y_test.unique()))"
   ]
  },
  {
   "cell_type": "code",
   "execution_count": 20,
   "id": "6952b9f7",
   "metadata": {
    "colab": {
     "base_uri": "https://localhost:8080/",
     "height": 522
    },
    "id": "6952b9f7",
    "outputId": "d447e3c6-d7d2-47ef-d8ee-6ef170d2848b"
   },
   "outputs": [
    {
     "data": {
      "text/html": [
       "\n",
       "  <div id=\"df-f953e9ed-9703-443a-b97e-e0075f15088a\">\n",
       "    <div class=\"colab-df-container\">\n",
       "      <div>\n",
       "<style scoped>\n",
       "    .dataframe tbody tr th:only-of-type {\n",
       "        vertical-align: middle;\n",
       "    }\n",
       "\n",
       "    .dataframe tbody tr th {\n",
       "        vertical-align: top;\n",
       "    }\n",
       "\n",
       "    .dataframe thead th {\n",
       "        text-align: right;\n",
       "    }\n",
       "</style>\n",
       "<table border=\"1\" class=\"dataframe\">\n",
       "  <thead>\n",
       "    <tr style=\"text-align: right;\">\n",
       "      <th></th>\n",
       "      <th>Art and design</th>\n",
       "      <th>Australia news</th>\n",
       "      <th>Books</th>\n",
       "      <th>Business</th>\n",
       "      <th>Environment</th>\n",
       "      <th>Film</th>\n",
       "      <th>Football</th>\n",
       "      <th>Life and style</th>\n",
       "      <th>Media</th>\n",
       "      <th>Music</th>\n",
       "      <th>Opinion</th>\n",
       "      <th>Politics</th>\n",
       "      <th>Society</th>\n",
       "      <th>Sport</th>\n",
       "      <th>Stage</th>\n",
       "      <th>Technology</th>\n",
       "      <th>Television &amp; radio</th>\n",
       "      <th>UK news</th>\n",
       "      <th>US news</th>\n",
       "      <th>World news</th>\n",
       "    </tr>\n",
       "  </thead>\n",
       "  <tbody>\n",
       "    <tr>\n",
       "      <th>66679</th>\n",
       "      <td>0</td>\n",
       "      <td>0</td>\n",
       "      <td>0</td>\n",
       "      <td>0</td>\n",
       "      <td>0</td>\n",
       "      <td>0</td>\n",
       "      <td>0</td>\n",
       "      <td>0</td>\n",
       "      <td>0</td>\n",
       "      <td>0</td>\n",
       "      <td>0</td>\n",
       "      <td>0</td>\n",
       "      <td>1</td>\n",
       "      <td>0</td>\n",
       "      <td>0</td>\n",
       "      <td>0</td>\n",
       "      <td>0</td>\n",
       "      <td>0</td>\n",
       "      <td>0</td>\n",
       "      <td>0</td>\n",
       "    </tr>\n",
       "    <tr>\n",
       "      <th>130175</th>\n",
       "      <td>0</td>\n",
       "      <td>0</td>\n",
       "      <td>0</td>\n",
       "      <td>0</td>\n",
       "      <td>0</td>\n",
       "      <td>0</td>\n",
       "      <td>0</td>\n",
       "      <td>0</td>\n",
       "      <td>0</td>\n",
       "      <td>0</td>\n",
       "      <td>0</td>\n",
       "      <td>0</td>\n",
       "      <td>0</td>\n",
       "      <td>0</td>\n",
       "      <td>0</td>\n",
       "      <td>0</td>\n",
       "      <td>0</td>\n",
       "      <td>0</td>\n",
       "      <td>0</td>\n",
       "      <td>1</td>\n",
       "    </tr>\n",
       "    <tr>\n",
       "      <th>31536</th>\n",
       "      <td>0</td>\n",
       "      <td>0</td>\n",
       "      <td>1</td>\n",
       "      <td>0</td>\n",
       "      <td>0</td>\n",
       "      <td>0</td>\n",
       "      <td>0</td>\n",
       "      <td>0</td>\n",
       "      <td>0</td>\n",
       "      <td>0</td>\n",
       "      <td>0</td>\n",
       "      <td>0</td>\n",
       "      <td>0</td>\n",
       "      <td>0</td>\n",
       "      <td>0</td>\n",
       "      <td>0</td>\n",
       "      <td>0</td>\n",
       "      <td>0</td>\n",
       "      <td>0</td>\n",
       "      <td>0</td>\n",
       "    </tr>\n",
       "    <tr>\n",
       "      <th>46420</th>\n",
       "      <td>0</td>\n",
       "      <td>0</td>\n",
       "      <td>0</td>\n",
       "      <td>0</td>\n",
       "      <td>0</td>\n",
       "      <td>0</td>\n",
       "      <td>0</td>\n",
       "      <td>0</td>\n",
       "      <td>0</td>\n",
       "      <td>0</td>\n",
       "      <td>0</td>\n",
       "      <td>0</td>\n",
       "      <td>0</td>\n",
       "      <td>0</td>\n",
       "      <td>0</td>\n",
       "      <td>0</td>\n",
       "      <td>0</td>\n",
       "      <td>1</td>\n",
       "      <td>0</td>\n",
       "      <td>0</td>\n",
       "    </tr>\n",
       "    <tr>\n",
       "      <th>53761</th>\n",
       "      <td>0</td>\n",
       "      <td>0</td>\n",
       "      <td>0</td>\n",
       "      <td>0</td>\n",
       "      <td>0</td>\n",
       "      <td>0</td>\n",
       "      <td>0</td>\n",
       "      <td>0</td>\n",
       "      <td>0</td>\n",
       "      <td>0</td>\n",
       "      <td>0</td>\n",
       "      <td>0</td>\n",
       "      <td>0</td>\n",
       "      <td>0</td>\n",
       "      <td>0</td>\n",
       "      <td>0</td>\n",
       "      <td>0</td>\n",
       "      <td>0</td>\n",
       "      <td>0</td>\n",
       "      <td>1</td>\n",
       "    </tr>\n",
       "    <tr>\n",
       "      <th>...</th>\n",
       "      <td>...</td>\n",
       "      <td>...</td>\n",
       "      <td>...</td>\n",
       "      <td>...</td>\n",
       "      <td>...</td>\n",
       "      <td>...</td>\n",
       "      <td>...</td>\n",
       "      <td>...</td>\n",
       "      <td>...</td>\n",
       "      <td>...</td>\n",
       "      <td>...</td>\n",
       "      <td>...</td>\n",
       "      <td>...</td>\n",
       "      <td>...</td>\n",
       "      <td>...</td>\n",
       "      <td>...</td>\n",
       "      <td>...</td>\n",
       "      <td>...</td>\n",
       "      <td>...</td>\n",
       "      <td>...</td>\n",
       "    </tr>\n",
       "    <tr>\n",
       "      <th>56392</th>\n",
       "      <td>0</td>\n",
       "      <td>0</td>\n",
       "      <td>0</td>\n",
       "      <td>0</td>\n",
       "      <td>0</td>\n",
       "      <td>0</td>\n",
       "      <td>0</td>\n",
       "      <td>0</td>\n",
       "      <td>0</td>\n",
       "      <td>1</td>\n",
       "      <td>0</td>\n",
       "      <td>0</td>\n",
       "      <td>0</td>\n",
       "      <td>0</td>\n",
       "      <td>0</td>\n",
       "      <td>0</td>\n",
       "      <td>0</td>\n",
       "      <td>0</td>\n",
       "      <td>0</td>\n",
       "      <td>0</td>\n",
       "    </tr>\n",
       "    <tr>\n",
       "      <th>62086</th>\n",
       "      <td>0</td>\n",
       "      <td>0</td>\n",
       "      <td>0</td>\n",
       "      <td>0</td>\n",
       "      <td>0</td>\n",
       "      <td>0</td>\n",
       "      <td>1</td>\n",
       "      <td>0</td>\n",
       "      <td>0</td>\n",
       "      <td>0</td>\n",
       "      <td>0</td>\n",
       "      <td>0</td>\n",
       "      <td>0</td>\n",
       "      <td>0</td>\n",
       "      <td>0</td>\n",
       "      <td>0</td>\n",
       "      <td>0</td>\n",
       "      <td>0</td>\n",
       "      <td>0</td>\n",
       "      <td>0</td>\n",
       "    </tr>\n",
       "    <tr>\n",
       "      <th>50185</th>\n",
       "      <td>0</td>\n",
       "      <td>0</td>\n",
       "      <td>0</td>\n",
       "      <td>1</td>\n",
       "      <td>0</td>\n",
       "      <td>0</td>\n",
       "      <td>0</td>\n",
       "      <td>0</td>\n",
       "      <td>0</td>\n",
       "      <td>0</td>\n",
       "      <td>0</td>\n",
       "      <td>0</td>\n",
       "      <td>0</td>\n",
       "      <td>0</td>\n",
       "      <td>0</td>\n",
       "      <td>0</td>\n",
       "      <td>0</td>\n",
       "      <td>0</td>\n",
       "      <td>0</td>\n",
       "      <td>0</td>\n",
       "    </tr>\n",
       "    <tr>\n",
       "      <th>112012</th>\n",
       "      <td>0</td>\n",
       "      <td>0</td>\n",
       "      <td>1</td>\n",
       "      <td>0</td>\n",
       "      <td>0</td>\n",
       "      <td>0</td>\n",
       "      <td>0</td>\n",
       "      <td>0</td>\n",
       "      <td>0</td>\n",
       "      <td>0</td>\n",
       "      <td>0</td>\n",
       "      <td>0</td>\n",
       "      <td>0</td>\n",
       "      <td>0</td>\n",
       "      <td>0</td>\n",
       "      <td>0</td>\n",
       "      <td>0</td>\n",
       "      <td>0</td>\n",
       "      <td>0</td>\n",
       "      <td>0</td>\n",
       "    </tr>\n",
       "    <tr>\n",
       "      <th>59198</th>\n",
       "      <td>0</td>\n",
       "      <td>0</td>\n",
       "      <td>0</td>\n",
       "      <td>0</td>\n",
       "      <td>0</td>\n",
       "      <td>0</td>\n",
       "      <td>0</td>\n",
       "      <td>0</td>\n",
       "      <td>0</td>\n",
       "      <td>0</td>\n",
       "      <td>0</td>\n",
       "      <td>0</td>\n",
       "      <td>0</td>\n",
       "      <td>0</td>\n",
       "      <td>0</td>\n",
       "      <td>0</td>\n",
       "      <td>0</td>\n",
       "      <td>0</td>\n",
       "      <td>0</td>\n",
       "      <td>1</td>\n",
       "    </tr>\n",
       "  </tbody>\n",
       "</table>\n",
       "<p>17503 rows × 20 columns</p>\n",
       "</div>\n",
       "      <button class=\"colab-df-convert\" onclick=\"convertToInteractive('df-f953e9ed-9703-443a-b97e-e0075f15088a')\"\n",
       "              title=\"Convert this dataframe to an interactive table.\"\n",
       "              style=\"display:none;\">\n",
       "        \n",
       "  <svg xmlns=\"http://www.w3.org/2000/svg\" height=\"24px\"viewBox=\"0 0 24 24\"\n",
       "       width=\"24px\">\n",
       "    <path d=\"M0 0h24v24H0V0z\" fill=\"none\"/>\n",
       "    <path d=\"M18.56 5.44l.94 2.06.94-2.06 2.06-.94-2.06-.94-.94-2.06-.94 2.06-2.06.94zm-11 1L8.5 8.5l.94-2.06 2.06-.94-2.06-.94L8.5 2.5l-.94 2.06-2.06.94zm10 10l.94 2.06.94-2.06 2.06-.94-2.06-.94-.94-2.06-.94 2.06-2.06.94z\"/><path d=\"M17.41 7.96l-1.37-1.37c-.4-.4-.92-.59-1.43-.59-.52 0-1.04.2-1.43.59L10.3 9.45l-7.72 7.72c-.78.78-.78 2.05 0 2.83L4 21.41c.39.39.9.59 1.41.59.51 0 1.02-.2 1.41-.59l7.78-7.78 2.81-2.81c.8-.78.8-2.07 0-2.86zM5.41 20L4 18.59l7.72-7.72 1.47 1.35L5.41 20z\"/>\n",
       "  </svg>\n",
       "      </button>\n",
       "      \n",
       "  <style>\n",
       "    .colab-df-container {\n",
       "      display:flex;\n",
       "      flex-wrap:wrap;\n",
       "      gap: 12px;\n",
       "    }\n",
       "\n",
       "    .colab-df-convert {\n",
       "      background-color: #E8F0FE;\n",
       "      border: none;\n",
       "      border-radius: 50%;\n",
       "      cursor: pointer;\n",
       "      display: none;\n",
       "      fill: #1967D2;\n",
       "      height: 32px;\n",
       "      padding: 0 0 0 0;\n",
       "      width: 32px;\n",
       "    }\n",
       "\n",
       "    .colab-df-convert:hover {\n",
       "      background-color: #E2EBFA;\n",
       "      box-shadow: 0px 1px 2px rgba(60, 64, 67, 0.3), 0px 1px 3px 1px rgba(60, 64, 67, 0.15);\n",
       "      fill: #174EA6;\n",
       "    }\n",
       "\n",
       "    [theme=dark] .colab-df-convert {\n",
       "      background-color: #3B4455;\n",
       "      fill: #D2E3FC;\n",
       "    }\n",
       "\n",
       "    [theme=dark] .colab-df-convert:hover {\n",
       "      background-color: #434B5C;\n",
       "      box-shadow: 0px 1px 3px 1px rgba(0, 0, 0, 0.15);\n",
       "      filter: drop-shadow(0px 1px 2px rgba(0, 0, 0, 0.3));\n",
       "      fill: #FFFFFF;\n",
       "    }\n",
       "  </style>\n",
       "\n",
       "      <script>\n",
       "        const buttonEl =\n",
       "          document.querySelector('#df-f953e9ed-9703-443a-b97e-e0075f15088a button.colab-df-convert');\n",
       "        buttonEl.style.display =\n",
       "          google.colab.kernel.accessAllowed ? 'block' : 'none';\n",
       "\n",
       "        async function convertToInteractive(key) {\n",
       "          const element = document.querySelector('#df-f953e9ed-9703-443a-b97e-e0075f15088a');\n",
       "          const dataTable =\n",
       "            await google.colab.kernel.invokeFunction('convertToInteractive',\n",
       "                                                     [key], {});\n",
       "          if (!dataTable) return;\n",
       "\n",
       "          const docLinkHtml = 'Like what you see? Visit the ' +\n",
       "            '<a target=\"_blank\" href=https://colab.research.google.com/notebooks/data_table.ipynb>data table notebook</a>'\n",
       "            + ' to learn more about interactive tables.';\n",
       "          element.innerHTML = '';\n",
       "          dataTable['output_type'] = 'display_data';\n",
       "          await google.colab.output.renderOutput(dataTable, element);\n",
       "          const docLink = document.createElement('div');\n",
       "          docLink.innerHTML = docLinkHtml;\n",
       "          element.appendChild(docLink);\n",
       "        }\n",
       "      </script>\n",
       "    </div>\n",
       "  </div>\n",
       "  "
      ],
      "text/plain": [
       "        Art and design  Australia news  Books  Business  Environment  Film  \\\n",
       "66679                0               0      0         0            0     0   \n",
       "130175               0               0      0         0            0     0   \n",
       "31536                0               0      1         0            0     0   \n",
       "46420                0               0      0         0            0     0   \n",
       "53761                0               0      0         0            0     0   \n",
       "...                ...             ...    ...       ...          ...   ...   \n",
       "56392                0               0      0         0            0     0   \n",
       "62086                0               0      0         0            0     0   \n",
       "50185                0               0      0         1            0     0   \n",
       "112012               0               0      1         0            0     0   \n",
       "59198                0               0      0         0            0     0   \n",
       "\n",
       "        Football  Life and style  Media  Music  Opinion  Politics  Society  \\\n",
       "66679          0               0      0      0        0         0        1   \n",
       "130175         0               0      0      0        0         0        0   \n",
       "31536          0               0      0      0        0         0        0   \n",
       "46420          0               0      0      0        0         0        0   \n",
       "53761          0               0      0      0        0         0        0   \n",
       "...          ...             ...    ...    ...      ...       ...      ...   \n",
       "56392          0               0      0      1        0         0        0   \n",
       "62086          1               0      0      0        0         0        0   \n",
       "50185          0               0      0      0        0         0        0   \n",
       "112012         0               0      0      0        0         0        0   \n",
       "59198          0               0      0      0        0         0        0   \n",
       "\n",
       "        Sport  Stage  Technology  Television & radio  UK news  US news  \\\n",
       "66679       0      0           0                   0        0        0   \n",
       "130175      0      0           0                   0        0        0   \n",
       "31536       0      0           0                   0        0        0   \n",
       "46420       0      0           0                   0        1        0   \n",
       "53761       0      0           0                   0        0        0   \n",
       "...       ...    ...         ...                 ...      ...      ...   \n",
       "56392       0      0           0                   0        0        0   \n",
       "62086       0      0           0                   0        0        0   \n",
       "50185       0      0           0                   0        0        0   \n",
       "112012      0      0           0                   0        0        0   \n",
       "59198       0      0           0                   0        0        0   \n",
       "\n",
       "        World news  \n",
       "66679            0  \n",
       "130175           1  \n",
       "31536            0  \n",
       "46420            0  \n",
       "53761            1  \n",
       "...            ...  \n",
       "56392            0  \n",
       "62086            0  \n",
       "50185            0  \n",
       "112012           0  \n",
       "59198            1  \n",
       "\n",
       "[17503 rows x 20 columns]"
      ]
     },
     "metadata": {},
     "output_type": "display_data"
    }
   ],
   "source": [
    "#One-hot encoding is performed on y variables so that they can be used in the model with categorical crossentropy\n",
    "\n",
    "oh = OneHotEncoder()\n",
    "y_train_le = pd.get_dummies(y_train)\n",
    "y_test_le = pd.get_dummies(y_test)\n",
    "#y_val_le = pd.get_dummies(y_val)\n",
    "\n",
    "#print(len(X_test))\n",
    "display(y_train_le)"
   ]
  },
  {
   "cell_type": "markdown",
   "id": "e0ca7a59",
   "metadata": {
    "id": "e0ca7a59"
   },
   "source": [
    "### Vectorizer (Common)"
   ]
  },
  {
   "cell_type": "code",
   "execution_count": 21,
   "id": "0902f0ef",
   "metadata": {
    "id": "0902f0ef"
   },
   "outputs": [],
   "source": [
    "# Here, we define some common aspects that will be used in all upcoming models\n",
    "# Max-features was adjusted randomly until it was able to accomodate all the embeddings\n",
    "# Max-len was also adjusted until the error in the basic model was cleared\n",
    "# Category_no is 20 because that is the number of topics we have taken\n",
    "\n",
    "maxlen = 400\n",
    "maxlen = 400\n",
    "embedding_dims = 16\n",
    "#epochs = 5\n",
    "\n",
    "max_features = 70000\n",
    "\n",
    "category_no = 20"
   ]
  },
  {
   "cell_type": "code",
   "execution_count": 22,
   "id": "83747af2",
   "metadata": {
    "id": "83747af2"
   },
   "outputs": [],
   "source": [
    "vectorizer = tf.keras.layers.TextVectorization(\n",
    "    standardize=\"lower_and_strip_punctuation\",\n",
    "    split=\"whitespace\",\n",
    "    output_mode=\"int\",\n",
    ")\n",
    "vectorizer.adapt(X_train.to_numpy())"
   ]
  },
  {
   "cell_type": "markdown",
   "id": "9a0715d5",
   "metadata": {
    "id": "9a0715d5"
   },
   "source": [
    "## Training models\n",
    "\n",
    "### Model 1: Basic/ Single-layer LSTMS\n",
    "\n",
    "This model is a basic LSTM with a couple dense layers at the end."
   ]
  },
  {
   "cell_type": "code",
   "execution_count": null,
   "id": "8997fac4",
   "metadata": {
    "id": "8997fac4"
   },
   "outputs": [],
   "source": [
    "model = Sequential()\n",
    "\n",
    "model.add(vectorizer)\n",
    "\n",
    "model.add(Embedding(max_features, embedding_dims))\n",
    "model.add(TimeDistributed(Dense(400,activation=\"relu\")))\n",
    "model.add(LSTM(embedding_dims, return_sequences=False))\n",
    "model.add(Dense(400,activation=\"relu\"))\n",
    "model.add(Dense(400,activation=\"sigmoid\"))\n",
    "model.add(Dense(400,activation=\"relu\"))\n",
    "model.add(Dense(category_no,activation=tf.keras.activations.softmax))"
   ]
  },
  {
   "cell_type": "code",
   "execution_count": null,
   "id": "b424350f",
   "metadata": {
    "id": "b424350f",
    "outputId": "84d6bf22-b9bb-4b37-9268-e3f09ac7ab2d"
   },
   "outputs": [
    {
     "name": "stdout",
     "output_type": "stream",
     "text": [
      "Model: \"sequential\"\n",
      "_________________________________________________________________\n",
      " Layer (type)                Output Shape              Param #   \n",
      "=================================================================\n",
      " text_vectorization (TextVec  (None, None)             0         \n",
      " torization)                                                     \n",
      "                                                                 \n",
      " embedding (Embedding)       (None, None, 16)          1120000   \n",
      "                                                                 \n",
      " time_distributed (TimeDistr  (None, None, 400)        6800      \n",
      " ibuted)                                                         \n",
      "                                                                 \n",
      " lstm (LSTM)                 (None, 16)                26688     \n",
      "                                                                 \n",
      " dense_1 (Dense)             (None, 400)               6800      \n",
      "                                                                 \n",
      " dense_2 (Dense)             (None, 400)               160400    \n",
      "                                                                 \n",
      " dense_3 (Dense)             (None, 400)               160400    \n",
      "                                                                 \n",
      " dense_4 (Dense)             (None, 20)                8020      \n",
      "                                                                 \n",
      "=================================================================\n",
      "Total params: 1,489,108\n",
      "Trainable params: 1,489,108\n",
      "Non-trainable params: 0\n",
      "_________________________________________________________________\n",
      "Epoch 1/20\n",
      "493/493 [==============================] - 42s 81ms/step - loss: 2.8826 - accuracy: 0.1160 - val_loss: 2.8870 - val_accuracy: 0.1171\n",
      "Epoch 2/20\n",
      "493/493 [==============================] - 41s 83ms/step - loss: 2.8664 - accuracy: 0.1214 - val_loss: 2.8799 - val_accuracy: 0.1171\n",
      "Epoch 3/20\n",
      "493/493 [==============================] - 43s 87ms/step - loss: 2.8644 - accuracy: 0.1227 - val_loss: 2.8801 - val_accuracy: 0.1171\n",
      "Epoch 4/20\n",
      "493/493 [==============================] - 47s 95ms/step - loss: 2.8610 - accuracy: 0.1227 - val_loss: 2.8901 - val_accuracy: 0.1171\n",
      "Epoch 5/20\n",
      "493/493 [==============================] - 73s 148ms/step - loss: 2.8578 - accuracy: 0.1240 - val_loss: 2.8798 - val_accuracy: 0.1171\n",
      "Epoch 6/20\n",
      "493/493 [==============================] - 75s 152ms/step - loss: 2.8523 - accuracy: 0.1242 - val_loss: 2.8828 - val_accuracy: 0.1182\n",
      "Epoch 7/20\n",
      "493/493 [==============================] - 74s 150ms/step - loss: 2.8497 - accuracy: 0.1240 - val_loss: 2.8858 - val_accuracy: 0.1182\n",
      "Epoch 8/20\n",
      "493/493 [==============================] - 75s 153ms/step - loss: 2.8502 - accuracy: 0.1239 - val_loss: 2.8829 - val_accuracy: 0.1188\n",
      "Epoch 9/20\n",
      "493/493 [==============================] - 74s 151ms/step - loss: 2.8467 - accuracy: 0.1236 - val_loss: 2.8777 - val_accuracy: 0.1176\n",
      "Epoch 10/20\n",
      "493/493 [==============================] - 79s 160ms/step - loss: 2.7804 - accuracy: 0.1350 - val_loss: 2.6454 - val_accuracy: 0.1496\n",
      "Epoch 11/20\n",
      "493/493 [==============================] - 76s 155ms/step - loss: 2.5262 - accuracy: 0.1698 - val_loss: 2.5541 - val_accuracy: 0.1793\n",
      "Epoch 12/20\n",
      "493/493 [==============================] - 77s 155ms/step - loss: 2.2957 - accuracy: 0.2113 - val_loss: 2.5239 - val_accuracy: 0.1942\n",
      "Epoch 13/20\n",
      "493/493 [==============================] - 77s 156ms/step - loss: 2.0438 - accuracy: 0.2821 - val_loss: 2.6236 - val_accuracy: 0.2210\n",
      "Epoch 14/20\n",
      "493/493 [==============================] - 75s 153ms/step - loss: 1.7734 - accuracy: 0.3412 - val_loss: 2.5699 - val_accuracy: 0.2467\n",
      "Epoch 15/20\n",
      "493/493 [==============================] - 74s 150ms/step - loss: 1.5735 - accuracy: 0.3872 - val_loss: 2.7657 - val_accuracy: 0.2410\n",
      "Epoch 16/20\n",
      "493/493 [==============================] - 75s 151ms/step - loss: 1.4053 - accuracy: 0.4465 - val_loss: 2.8701 - val_accuracy: 0.2713\n",
      "Epoch 17/20\n",
      "493/493 [==============================] - 74s 150ms/step - loss: 1.2299 - accuracy: 0.5143 - val_loss: 3.1782 - val_accuracy: 0.2833\n",
      "Epoch 18/20\n",
      "493/493 [==============================] - 73s 148ms/step - loss: 1.0614 - accuracy: 0.5872 - val_loss: 3.2924 - val_accuracy: 0.2998\n",
      "Epoch 19/20\n",
      "493/493 [==============================] - 75s 151ms/step - loss: 0.9115 - accuracy: 0.6454 - val_loss: 3.7019 - val_accuracy: 0.2787\n",
      "Epoch 20/20\n",
      "493/493 [==============================] - 75s 152ms/step - loss: 0.7473 - accuracy: 0.7303 - val_loss: 4.0974 - val_accuracy: 0.3027\n"
     ]
    }
   ],
   "source": [
    "model.compile(optimizer='adam',\n",
    "              loss='categorical_crossentropy',\n",
    "             metrics=['accuracy'])\n",
    "\n",
    "model.summary()\n",
    "\n",
    "hist = model.fit(X_train, y_train_le,\n",
    "          batch_size=32,\n",
    "          epochs=20,\n",
    "         validation_split=0.10)"
   ]
  },
  {
   "cell_type": "code",
   "execution_count": null,
   "id": "a5b851a6",
   "metadata": {
    "id": "a5b851a6",
    "outputId": "f195e1e0-5537-4c47-9acd-983bc133abf8"
   },
   "outputs": [
    {
     "name": "stdout",
     "output_type": "stream",
     "text": [
      "dict_keys(['loss', 'accuracy', 'val_loss', 'val_accuracy'])\n"
     ]
    },
    {
     "data": {
      "image/png": "[encoded data removed]",
      "text/plain": [
       "<Figure size 640x480 with 1 Axes>"
      ]
     },
     "metadata": {},
     "output_type": "display_data"
    }
   ],
   "source": [
    "print(hist.history.keys())\n",
    "\n",
    "plt.clf()\n",
    "plt.plot(hist.history['accuracy'])\n",
    "plt.plot(hist.history['val_accuracy'])\n",
    "plt.title('Model 1: Basic/ Single-layer LSTM : Model accuracies for train and validation')\n",
    "plt.ylabel('Accuracy')\n",
    "plt.xlabel('Epoch')\n",
    "plt.legend(['Train', 'Validation'], loc='upper left')\n",
    "plt.show()"
   ]
  },
  {
   "cell_type": "markdown",
   "id": "42476ef8",
   "metadata": {
    "id": "42476ef8"
   },
   "source": [
    "### Model 2: Basic RNNs"
   ]
  },
  {
   "cell_type": "code",
   "execution_count": null,
   "id": "2127b1ac",
   "metadata": {
    "id": "2127b1ac"
   },
   "outputs": [],
   "source": [
    "model2 = Sequential()\n",
    "\n",
    "model2.add(vectorizer)\n",
    "\n",
    "model2.add(Embedding(max_features, embedding_dims))\n",
    "model2.add(TimeDistributed(Dense(400,activation=\"relu\")))\n",
    "model2.add(SimpleRNN(embedding_dims, return_sequences=False))\n",
    "model2.add(Dense(400,activation=\"relu\"))\n",
    "model2.add(Dense(400,activation=\"sigmoid\"))\n",
    "model2.add(Dense(400,activation=\"relu\"))\n",
    "model2.add(Dense(category_no,activation=tf.keras.activations.softmax))"
   ]
  },
  {
   "cell_type": "code",
   "execution_count": null,
   "id": "ec1e6273",
   "metadata": {
    "id": "ec1e6273",
    "outputId": "6786b683-3132-47c8-ad25-a16d889be5ec"
   },
   "outputs": [
    {
     "name": "stdout",
     "output_type": "stream",
     "text": [
      "Model: \"sequential_1\"\n",
      "_________________________________________________________________\n",
      " Layer (type)                Output Shape              Param #   \n",
      "=================================================================\n",
      " text_vectorization (TextVec  (None, None)             0         \n",
      " torization)                                                     \n",
      "                                                                 \n",
      " embedding_1 (Embedding)     (None, None, 16)          1120000   \n",
      "                                                                 \n",
      " time_distributed_1 (TimeDis  (None, None, 400)        6800      \n",
      " tributed)                                                       \n",
      "                                                                 \n",
      " simple_rnn (SimpleRNN)      (None, 16)                6672      \n",
      "                                                                 \n",
      " dense_6 (Dense)             (None, 400)               6800      \n",
      "                                                                 \n",
      " dense_7 (Dense)             (None, 400)               160400    \n",
      "                                                                 \n",
      " dense_8 (Dense)             (None, 400)               160400    \n",
      "                                                                 \n",
      " dense_9 (Dense)             (None, 20)                8020      \n",
      "                                                                 \n",
      "=================================================================\n",
      "Total params: 1,469,092\n",
      "Trainable params: 1,469,092\n",
      "Non-trainable params: 0\n",
      "_________________________________________________________________\n",
      "Epoch 1/20\n",
      "493/493 [==============================] - 33s 64ms/step - loss: 2.8852 - accuracy: 0.1129 - val_loss: 2.8878 - val_accuracy: 0.1171\n",
      "Epoch 2/20\n",
      "493/493 [==============================] - 23s 47ms/step - loss: 2.8676 - accuracy: 0.1223 - val_loss: 2.8839 - val_accuracy: 0.1171\n",
      "Epoch 3/20\n",
      "493/493 [==============================] - 23s 47ms/step - loss: 2.8656 - accuracy: 0.1217 - val_loss: 2.8845 - val_accuracy: 0.1171\n",
      "Epoch 4/20\n",
      "493/493 [==============================] - 23s 47ms/step - loss: 2.8643 - accuracy: 0.1227 - val_loss: 2.8785 - val_accuracy: 0.1171\n",
      "Epoch 5/20\n",
      "493/493 [==============================] - 23s 47ms/step - loss: 2.8621 - accuracy: 0.1227 - val_loss: 2.8834 - val_accuracy: 0.1171\n",
      "Epoch 6/20\n",
      "493/493 [==============================] - 23s 48ms/step - loss: 2.8608 - accuracy: 0.1225 - val_loss: 2.8855 - val_accuracy: 0.1171\n",
      "Epoch 7/20\n",
      "493/493 [==============================] - 24s 48ms/step - loss: 2.8531 - accuracy: 0.1231 - val_loss: 2.8831 - val_accuracy: 0.1171\n",
      "Epoch 8/20\n",
      "493/493 [==============================] - 23s 47ms/step - loss: 2.8478 - accuracy: 0.1240 - val_loss: 2.8823 - val_accuracy: 0.1171\n",
      "Epoch 9/20\n",
      "493/493 [==============================] - 24s 48ms/step - loss: 2.8457 - accuracy: 0.1242 - val_loss: 2.8864 - val_accuracy: 0.1165\n",
      "Epoch 10/20\n",
      "493/493 [==============================] - 23s 47ms/step - loss: 2.8397 - accuracy: 0.1254 - val_loss: 2.8968 - val_accuracy: 0.1171\n",
      "Epoch 11/20\n",
      "493/493 [==============================] - 23s 48ms/step - loss: 2.8399 - accuracy: 0.1261 - val_loss: 2.8874 - val_accuracy: 0.1159\n",
      "Epoch 12/20\n",
      "493/493 [==============================] - 23s 47ms/step - loss: 2.8355 - accuracy: 0.1268 - val_loss: 2.8889 - val_accuracy: 0.1171\n",
      "Epoch 13/20\n",
      "493/493 [==============================] - 24s 49ms/step - loss: 2.8317 - accuracy: 0.1290 - val_loss: 2.8919 - val_accuracy: 0.1154\n",
      "Epoch 14/20\n",
      "493/493 [==============================] - 23s 48ms/step - loss: 2.8283 - accuracy: 0.1300 - val_loss: 2.8889 - val_accuracy: 0.1159\n",
      "Epoch 15/20\n",
      "493/493 [==============================] - 24s 48ms/step - loss: 2.8246 - accuracy: 0.1307 - val_loss: 2.8812 - val_accuracy: 0.1165\n",
      "Epoch 16/20\n",
      "493/493 [==============================] - 23s 48ms/step - loss: 2.8227 - accuracy: 0.1322 - val_loss: 2.8895 - val_accuracy: 0.1165\n",
      "Epoch 17/20\n",
      "493/493 [==============================] - 23s 47ms/step - loss: 2.8218 - accuracy: 0.1331 - val_loss: 2.9038 - val_accuracy: 0.1154\n",
      "Epoch 18/20\n",
      "493/493 [==============================] - 23s 47ms/step - loss: 2.8197 - accuracy: 0.1333 - val_loss: 2.9017 - val_accuracy: 0.1165\n",
      "Epoch 19/20\n",
      "493/493 [==============================] - 23s 47ms/step - loss: 2.8167 - accuracy: 0.1344 - val_loss: 2.8918 - val_accuracy: 0.1159\n",
      "Epoch 20/20\n",
      "493/493 [==============================] - 23s 47ms/step - loss: 2.8163 - accuracy: 0.1342 - val_loss: 2.8948 - val_accuracy: 0.1154\n"
     ]
    }
   ],
   "source": [
    "model2.compile(optimizer='adam',\n",
    "              loss='categorical_crossentropy',\n",
    "             metrics=['accuracy'])\n",
    "\n",
    "model2.summary()\n",
    "\n",
    "hist2 = model2.fit(X_train, y_train_le,\n",
    "          batch_size=32,\n",
    "          epochs=20,\n",
    "         validation_split=0.10)"
   ]
  },
  {
   "cell_type": "code",
   "execution_count": null,
   "id": "63bc332c",
   "metadata": {
    "id": "63bc332c",
    "outputId": "279cf428-0762-40d7-9994-688b9c576fa2"
   },
   "outputs": [
    {
     "name": "stdout",
     "output_type": "stream",
     "text": [
      "dict_keys(['loss', 'accuracy', 'val_loss', 'val_accuracy'])\n"
     ]
    },
    {
     "data": {
      "image/png": "[encoded data removed]",
      "text/plain": [
       "<Figure size 640x480 with 1 Axes>"
      ]
     },
     "metadata": {},
     "output_type": "display_data"
    }
   ],
   "source": [
    "print(hist2.history.keys())\n",
    "\n",
    "plt.clf()\n",
    "plt.plot(hist2.history['accuracy'])\n",
    "plt.plot(hist2.history['val_accuracy'])\n",
    "plt.title('Model 2: Basic RNN : Model accuracies for train and validation')\n",
    "plt.ylabel('Accuracy')\n",
    "plt.xlabel('Epoch')\n",
    "plt.legend(['Train', 'Validation'], loc='upper left')\n",
    "plt.show()"
   ]
  },
  {
   "cell_type": "markdown",
   "id": "8619b13c",
   "metadata": {
    "id": "8619b13c"
   },
   "source": [
    "### Model 3: Multi-layer LSTMs"
   ]
  },
  {
   "cell_type": "code",
   "execution_count": null,
   "id": "c6d0e666",
   "metadata": {
    "id": "c6d0e666"
   },
   "outputs": [],
   "source": [
    "model3 = Sequential()\n",
    "\n",
    "model3.add(vectorizer)\n",
    "\n",
    "model3.add(Embedding(max_features, embedding_dims))\n",
    "model3.add(TimeDistributed(Dense(400,activation=\"relu\")))\n",
    "model3.add(LSTM(embedding_dims, return_sequences=True))\n",
    "model3.add(LSTM(embedding_dims, return_sequences=True))\n",
    "model3.add(LSTM(embedding_dims, return_sequences=False))\n",
    "#model3.add(Dense(400,activation=\"relu\"))\n",
    "#model3.add(Dense(400,activation=\"sigmoid\"))\n",
    "model3.add(Dense(400,activation=\"relu\"))\n",
    "model3.add(Dense(category_no,activation=tf.keras.activations.softmax))"
   ]
  },
  {
   "cell_type": "code",
   "execution_count": null,
   "id": "6b5e19fb",
   "metadata": {
    "id": "6b5e19fb",
    "outputId": "910b858a-6120-4530-d111-3e8a5b20f7ff"
   },
   "outputs": [
    {
     "name": "stdout",
     "output_type": "stream",
     "text": [
      "Model: \"sequential_2\"\n",
      "_________________________________________________________________\n",
      " Layer (type)                Output Shape              Param #   \n",
      "=================================================================\n",
      " text_vectorization (TextVec  (None, None)             0         \n",
      " torization)                                                     \n",
      "                                                                 \n",
      " embedding_2 (Embedding)     (None, None, 16)          1120000   \n",
      "                                                                 \n",
      " time_distributed_2 (TimeDis  (None, None, 400)        6800      \n",
      " tributed)                                                       \n",
      "                                                                 \n",
      " lstm_1 (LSTM)               (None, None, 16)          26688     \n",
      "                                                                 \n",
      " lstm_2 (LSTM)               (None, None, 16)          2112      \n",
      "                                                                 \n",
      " lstm_3 (LSTM)               (None, 16)                2112      \n",
      "                                                                 \n",
      " dense_11 (Dense)            (None, 400)               6800      \n",
      "                                                                 \n",
      " dense_12 (Dense)            (None, 20)                8020      \n",
      "                                                                 \n",
      "=================================================================\n",
      "Total params: 1,172,532\n",
      "Trainable params: 1,172,532\n",
      "Non-trainable params: 0\n",
      "_________________________________________________________________\n",
      "Epoch 1/20\n",
      "493/493 [==============================] - 85s 165ms/step - loss: 2.8702 - accuracy: 0.1208 - val_loss: 2.8797 - val_accuracy: 0.1171\n",
      "Epoch 2/20\n",
      "493/493 [==============================] - 78s 159ms/step - loss: 2.8598 - accuracy: 0.1228 - val_loss: 2.8815 - val_accuracy: 0.1165\n",
      "Epoch 3/20\n",
      "493/493 [==============================] - 79s 159ms/step - loss: 2.8560 - accuracy: 0.1240 - val_loss: 2.8783 - val_accuracy: 0.1171\n",
      "Epoch 4/20\n",
      "493/493 [==============================] - 79s 160ms/step - loss: 2.8544 - accuracy: 0.1240 - val_loss: 2.8806 - val_accuracy: 0.1159\n",
      "Epoch 5/20\n",
      "493/493 [==============================] - 79s 160ms/step - loss: 2.8529 - accuracy: 0.1240 - val_loss: 2.8891 - val_accuracy: 0.1176\n",
      "Epoch 6/20\n",
      "493/493 [==============================] - 79s 161ms/step - loss: 2.8487 - accuracy: 0.1252 - val_loss: 2.8766 - val_accuracy: 0.1199\n",
      "Epoch 7/20\n",
      "493/493 [==============================] - 78s 159ms/step - loss: 2.8432 - accuracy: 0.1249 - val_loss: 2.8769 - val_accuracy: 0.1171\n",
      "Epoch 8/20\n",
      "493/493 [==============================] - 79s 159ms/step - loss: 2.8390 - accuracy: 0.1261 - val_loss: 2.8774 - val_accuracy: 0.1194\n",
      "Epoch 9/20\n",
      "493/493 [==============================] - 79s 161ms/step - loss: 2.8530 - accuracy: 0.1237 - val_loss: 2.8772 - val_accuracy: 0.1171\n",
      "Epoch 10/20\n",
      "493/493 [==============================] - 79s 160ms/step - loss: 2.8614 - accuracy: 0.1227 - val_loss: 2.8796 - val_accuracy: 0.1171\n",
      "Epoch 11/20\n",
      "493/493 [==============================] - 79s 160ms/step - loss: 2.8610 - accuracy: 0.1227 - val_loss: 2.8799 - val_accuracy: 0.1171\n",
      "Epoch 12/20\n",
      "493/493 [==============================] - 78s 158ms/step - loss: 2.8614 - accuracy: 0.1222 - val_loss: 2.8829 - val_accuracy: 0.1171\n",
      "Epoch 13/20\n",
      "493/493 [==============================] - 79s 159ms/step - loss: 2.8607 - accuracy: 0.1227 - val_loss: 2.8784 - val_accuracy: 0.1171\n",
      "Epoch 14/20\n",
      "493/493 [==============================] - 79s 160ms/step - loss: 2.7960 - accuracy: 0.1318 - val_loss: 2.8679 - val_accuracy: 0.1188\n",
      "Epoch 15/20\n",
      "493/493 [==============================] - 79s 160ms/step - loss: 2.7761 - accuracy: 0.1280 - val_loss: 2.7756 - val_accuracy: 0.1216\n",
      "Epoch 16/20\n",
      "493/493 [==============================] - 80s 162ms/step - loss: 2.6949 - accuracy: 0.1389 - val_loss: 2.7228 - val_accuracy: 0.1445\n",
      "Epoch 17/20\n",
      "493/493 [==============================] - 78s 159ms/step - loss: 2.5713 - accuracy: 0.1588 - val_loss: 2.6407 - val_accuracy: 0.1416\n",
      "Epoch 18/20\n",
      "493/493 [==============================] - 79s 160ms/step - loss: 2.4081 - accuracy: 0.1915 - val_loss: 2.5929 - val_accuracy: 0.1702\n",
      "Epoch 19/20\n",
      "493/493 [==============================] - 78s 158ms/step - loss: 2.1807 - accuracy: 0.2596 - val_loss: 2.6023 - val_accuracy: 0.2039\n",
      "Epoch 20/20\n",
      "493/493 [==============================] - 79s 160ms/step - loss: 1.9633 - accuracy: 0.3139 - val_loss: 2.6896 - val_accuracy: 0.2130\n"
     ]
    }
   ],
   "source": [
    "model3.compile(optimizer='adam',\n",
    "              loss='categorical_crossentropy',\n",
    "             metrics=['accuracy'])\n",
    "\n",
    "model3.summary()\n",
    "\n",
    "hist3 = model3.fit(X_train, y_train_le,\n",
    "          batch_size=32,\n",
    "          epochs=20,\n",
    "         validation_split=0.10)"
   ]
  },
  {
   "cell_type": "code",
   "execution_count": null,
   "id": "2d8b6682",
   "metadata": {
    "id": "2d8b6682",
    "outputId": "196ab30e-22aa-468c-ab93-1312515397bf"
   },
   "outputs": [
    {
     "name": "stdout",
     "output_type": "stream",
     "text": [
      "dict_keys(['loss', 'accuracy', 'val_loss', 'val_accuracy'])\n"
     ]
    },
    {
     "data": {
      "image/png": "[encoded data removed]",
      "text/plain": [
       "<Figure size 640x480 with 1 Axes>"
      ]
     },
     "metadata": {},
     "output_type": "display_data"
    }
   ],
   "source": [
    "print(hist3.history.keys())\n",
    "\n",
    "plt.clf()\n",
    "plt.plot(hist3.history['accuracy'])\n",
    "plt.plot(hist3.history['val_accuracy'])\n",
    "plt.title('Model 3: LSTM - Multilayer implementation : Model accuracies for train and validation')\n",
    "plt.ylabel('Accuracy')\n",
    "plt.xlabel('Epoch')\n",
    "plt.legend(['Train', 'Validation'], loc='upper left')\n",
    "plt.show()"
   ]
  },
  {
   "cell_type": "markdown",
   "id": "4f5ce100",
   "metadata": {
    "id": "4f5ce100"
   },
   "source": [
    "### Model 4 - Pre-trained embeddings"
   ]
  },
  {
   "cell_type": "code",
   "execution_count": null,
   "id": "10fe36b4",
   "metadata": {
    "id": "10fe36b4"
   },
   "outputs": [],
   "source": [
    "hub_layer = hub.KerasLayer(\"https://tfhub.dev/google/tf2-preview/gnews-swivel-20dim/1\", output_shape=[20],\n",
    "                           input_shape=[], dtype=tf.string)"
   ]
  },
  {
   "cell_type": "code",
   "execution_count": null,
   "id": "a0019a72",
   "metadata": {
    "id": "a0019a72"
   },
   "outputs": [],
   "source": [
    "model4 = tf.keras.Sequential()\n",
    "model4.add(hub_layer)\n",
    "model4.add(Dense(400,activation=\"relu\"))\n",
    "model4.add(Dense(400,activation=\"relu\"))\n",
    "model4.add(Dense(400,activation=\"relu\"))\n",
    "model4.add(Dense(400,activation=\"relu\"))\n",
    "model4.add(tf.keras.layers.Dense(20, activation='softmax'))"
   ]
  },
  {
   "cell_type": "code",
   "execution_count": null,
   "id": "2e857f11",
   "metadata": {
    "id": "2e857f11",
    "outputId": "88b159b4-35dd-4ade-9d66-411930f8e388"
   },
   "outputs": [
    {
     "name": "stdout",
     "output_type": "stream",
     "text": [
      "Model: \"sequential_3\"\n",
      "_________________________________________________________________\n",
      " Layer (type)                Output Shape              Param #   \n",
      "=================================================================\n",
      " keras_layer_1 (KerasLayer)  (None, 20)                400020    \n",
      "                                                                 \n",
      " dense_13 (Dense)            (None, 400)               8400      \n",
      "                                                                 \n",
      " dense_14 (Dense)            (None, 400)               160400    \n",
      "                                                                 \n",
      " dense_15 (Dense)            (None, 400)               160400    \n",
      "                                                                 \n",
      " dense_16 (Dense)            (None, 400)               160400    \n",
      "                                                                 \n",
      " dense_17 (Dense)            (None, 20)                8020      \n",
      "                                                                 \n",
      "=================================================================\n",
      "Total params: 897,640\n",
      "Trainable params: 497,620\n",
      "Non-trainable params: 400,020\n",
      "_________________________________________________________________\n",
      "Epoch 1/20\n",
      "493/493 [==============================] - 3s 6ms/step - loss: 1.9948 - accuracy: 0.3567 - val_loss: 1.9860 - val_accuracy: 0.3621\n",
      "Epoch 2/20\n",
      "493/493 [==============================] - 3s 5ms/step - loss: 1.8212 - accuracy: 0.4041 - val_loss: 1.8898 - val_accuracy: 0.3889\n",
      "Epoch 3/20\n",
      "493/493 [==============================] - 2s 5ms/step - loss: 1.7651 - accuracy: 0.4248 - val_loss: 1.8539 - val_accuracy: 0.4032\n",
      "Epoch 4/20\n",
      "493/493 [==============================] - 2s 5ms/step - loss: 1.7064 - accuracy: 0.4431 - val_loss: 1.8614 - val_accuracy: 0.3923\n",
      "Epoch 5/20\n",
      "493/493 [==============================] - 2s 5ms/step - loss: 1.6643 - accuracy: 0.4531 - val_loss: 1.8394 - val_accuracy: 0.4021\n",
      "Epoch 6/20\n",
      "493/493 [==============================] - 3s 5ms/step - loss: 1.6058 - accuracy: 0.4692 - val_loss: 1.8528 - val_accuracy: 0.4003\n",
      "Epoch 7/20\n",
      "493/493 [==============================] - 3s 5ms/step - loss: 1.5542 - accuracy: 0.4796 - val_loss: 1.8436 - val_accuracy: 0.4101\n",
      "Epoch 8/20\n",
      "493/493 [==============================] - 3s 5ms/step - loss: 1.4950 - accuracy: 0.4956 - val_loss: 1.8552 - val_accuracy: 0.4158\n",
      "Epoch 9/20\n",
      "493/493 [==============================] - 2s 5ms/step - loss: 1.4203 - accuracy: 0.5177 - val_loss: 1.9067 - val_accuracy: 0.4163\n",
      "Epoch 10/20\n",
      "493/493 [==============================] - 3s 5ms/step - loss: 1.3480 - accuracy: 0.5357 - val_loss: 1.9544 - val_accuracy: 0.4072\n",
      "Epoch 11/20\n",
      "493/493 [==============================] - 3s 5ms/step - loss: 1.2600 - accuracy: 0.5646 - val_loss: 1.9982 - val_accuracy: 0.4101\n",
      "Epoch 12/20\n",
      "493/493 [==============================] - 3s 5ms/step - loss: 1.1630 - accuracy: 0.5941 - val_loss: 2.1496 - val_accuracy: 0.4038\n",
      "Epoch 13/20\n",
      "493/493 [==============================] - 3s 5ms/step - loss: 1.0560 - accuracy: 0.6325 - val_loss: 2.2699 - val_accuracy: 0.3929\n",
      "Epoch 14/20\n",
      "493/493 [==============================] - 3s 5ms/step - loss: 0.9472 - accuracy: 0.6601 - val_loss: 2.3851 - val_accuracy: 0.3935\n",
      "Epoch 15/20\n",
      "493/493 [==============================] - 2s 5ms/step - loss: 0.8475 - accuracy: 0.6990 - val_loss: 2.5560 - val_accuracy: 0.3929\n",
      "Epoch 16/20\n",
      "493/493 [==============================] - 2s 5ms/step - loss: 0.7309 - accuracy: 0.7404 - val_loss: 2.8425 - val_accuracy: 0.3821\n",
      "Epoch 17/20\n",
      "493/493 [==============================] - 3s 5ms/step - loss: 0.6308 - accuracy: 0.7760 - val_loss: 3.0757 - val_accuracy: 0.3689\n",
      "Epoch 18/20\n",
      "493/493 [==============================] - 2s 5ms/step - loss: 0.5432 - accuracy: 0.8092 - val_loss: 3.3318 - val_accuracy: 0.3769\n",
      "Epoch 19/20\n",
      "493/493 [==============================] - 3s 5ms/step - loss: 0.4662 - accuracy: 0.8346 - val_loss: 3.4666 - val_accuracy: 0.3666\n",
      "Epoch 20/20\n",
      "493/493 [==============================] - 2s 5ms/step - loss: 0.4145 - accuracy: 0.8527 - val_loss: 3.8874 - val_accuracy: 0.3621\n"
     ]
    }
   ],
   "source": [
    "model4.compile(optimizer='adam',\n",
    "              loss='categorical_crossentropy',\n",
    "             metrics=['accuracy'])\n",
    "\n",
    "model4.summary()\n",
    "\n",
    "hist4 = model4.fit(X_train, y_train_le,\n",
    "          batch_size=32,\n",
    "          epochs=20,\n",
    "         validation_split=0.10)"
   ]
  },
  {
   "cell_type": "code",
   "execution_count": null,
   "id": "5b8e1d53",
   "metadata": {
    "id": "5b8e1d53",
    "outputId": "4f03a2c4-3f39-4eb5-e97c-8a19a3d977ee"
   },
   "outputs": [
    {
     "name": "stdout",
     "output_type": "stream",
     "text": [
      "dict_keys(['loss', 'accuracy', 'val_loss', 'val_accuracy'])\n"
     ]
    },
    {
     "data": {
      "image/png": "[encoded data removed]",
      "text/plain": [
       "<Figure size 640x480 with 1 Axes>"
      ]
     },
     "metadata": {},
     "output_type": "display_data"
    }
   ],
   "source": [
    "print(hist4.history.keys())\n",
    "\n",
    "plt.clf()\n",
    "plt.plot(hist4.history['accuracy'])\n",
    "plt.plot(hist4.history['val_accuracy'])\n",
    "plt.title('Model 4: Pre-trained embeddings - Swivel : Model accuracies for train and validation')\n",
    "plt.ylabel('Accuracy')\n",
    "plt.xlabel('Epoch')\n",
    "plt.legend(['Train', 'Validation'], loc='upper left')\n",
    "plt.show()"
   ]
  },
  {
   "cell_type": "markdown",
   "id": "8b08b51b",
   "metadata": {
    "id": "8b08b51b"
   },
   "source": [
    "### Model 5: CNN - Single CNN / Uniform kernels"
   ]
  },
  {
   "cell_type": "code",
   "execution_count": null,
   "id": "b00b0a8a",
   "metadata": {
    "id": "b00b0a8a"
   },
   "outputs": [],
   "source": [
    "model5 = Sequential()\n",
    "\n",
    "model5.add(vectorizer)\n",
    "\n",
    "model5.add(Embedding(max_features, embedding_dims))\n",
    "#model5.add(TimeDistributed(hub_layer))\n",
    "model5.add(Conv1D(80, 3, padding='same', activation='relu'))\n",
    "model5.add(GlobalAveragePooling1D())\n",
    "model5.add(Dense(400,activation=\"relu\"))\n",
    "model5.add(Dense(400,activation=\"relu\"))\n",
    "model5.add(Dense(20,activation=tf.keras.activations.softmax))"
   ]
  },
  {
   "cell_type": "code",
   "execution_count": null,
   "id": "c9888715",
   "metadata": {
    "id": "c9888715",
    "outputId": "0460a5b6-345d-4d99-9ac6-b4397f5ea167"
   },
   "outputs": [
    {
     "name": "stdout",
     "output_type": "stream",
     "text": [
      "Model: \"sequential_5\"\n",
      "_________________________________________________________________\n",
      " Layer (type)                Output Shape              Param #   \n",
      "=================================================================\n",
      " text_vectorization (TextVec  (None, None)             0         \n",
      " torization)                                                     \n",
      "                                                                 \n",
      " embedding_4 (Embedding)     (None, None, 16)          1120000   \n",
      "                                                                 \n",
      " conv1d_1 (Conv1D)           (None, None, 80)          3920      \n",
      "                                                                 \n",
      " global_average_pooling1d_1   (None, 80)               0         \n",
      " (GlobalAveragePooling1D)                                        \n",
      "                                                                 \n",
      " dense_21 (Dense)            (None, 400)               32400     \n",
      "                                                                 \n",
      " dense_22 (Dense)            (None, 400)               160400    \n",
      "                                                                 \n",
      " dense_23 (Dense)            (None, 20)                8020      \n",
      "                                                                 \n",
      "=================================================================\n",
      "Total params: 1,324,740\n",
      "Trainable params: 1,324,740\n",
      "Non-trainable params: 0\n",
      "_________________________________________________________________\n",
      "Epoch 1/20\n",
      "493/493 [==============================] - 6s 11ms/step - loss: 2.6763 - accuracy: 0.1637 - val_loss: 2.4765 - val_accuracy: 0.2050\n",
      "Epoch 2/20\n",
      "493/493 [==============================] - 6s 11ms/step - loss: 2.2175 - accuracy: 0.2667 - val_loss: 2.3161 - val_accuracy: 0.2559\n",
      "Epoch 3/20\n",
      "493/493 [==============================] - 6s 12ms/step - loss: 1.8111 - accuracy: 0.3728 - val_loss: 2.3305 - val_accuracy: 0.3095\n",
      "Epoch 4/20\n",
      "493/493 [==============================] - 5s 11ms/step - loss: 1.3943 - accuracy: 0.5206 - val_loss: 2.5016 - val_accuracy: 0.3267\n",
      "Epoch 5/20\n",
      "493/493 [==============================] - 6s 11ms/step - loss: 1.0524 - accuracy: 0.6346 - val_loss: 2.9680 - val_accuracy: 0.3404\n",
      "Epoch 6/20\n",
      "493/493 [==============================] - 6s 11ms/step - loss: 0.7815 - accuracy: 0.7388 - val_loss: 3.4903 - val_accuracy: 0.3449\n",
      "Epoch 7/20\n",
      "493/493 [==============================] - 5s 11ms/step - loss: 0.5599 - accuracy: 0.8168 - val_loss: 4.2765 - val_accuracy: 0.3444\n",
      "Epoch 8/20\n",
      "493/493 [==============================] - 6s 12ms/step - loss: 0.4069 - accuracy: 0.8708 - val_loss: 5.3610 - val_accuracy: 0.3364\n",
      "Epoch 9/20\n",
      "493/493 [==============================] - 5s 11ms/step - loss: 0.2998 - accuracy: 0.9106 - val_loss: 6.0881 - val_accuracy: 0.3221\n",
      "Epoch 10/20\n",
      "493/493 [==============================] - 5s 11ms/step - loss: 0.2123 - accuracy: 0.9394 - val_loss: 6.6571 - val_accuracy: 0.3301\n",
      "Epoch 11/20\n",
      "493/493 [==============================] - 6s 11ms/step - loss: 0.1660 - accuracy: 0.9531 - val_loss: 7.7636 - val_accuracy: 0.3158\n",
      "Epoch 12/20\n",
      "493/493 [==============================] - 6s 11ms/step - loss: 0.1418 - accuracy: 0.9576 - val_loss: 8.3019 - val_accuracy: 0.3107\n",
      "Epoch 13/20\n",
      "493/493 [==============================] - 5s 11ms/step - loss: 0.1214 - accuracy: 0.9681 - val_loss: 8.7981 - val_accuracy: 0.3147\n",
      "Epoch 14/20\n",
      "493/493 [==============================] - 6s 12ms/step - loss: 0.0985 - accuracy: 0.9741 - val_loss: 9.2943 - val_accuracy: 0.3215\n",
      "Epoch 15/20\n",
      "493/493 [==============================] - 6s 12ms/step - loss: 0.0905 - accuracy: 0.9745 - val_loss: 9.9102 - val_accuracy: 0.3158\n",
      "Epoch 16/20\n",
      "493/493 [==============================] - 6s 13ms/step - loss: 0.0943 - accuracy: 0.9747 - val_loss: 10.4648 - val_accuracy: 0.3312\n",
      "Epoch 17/20\n",
      "493/493 [==============================] - 6s 13ms/step - loss: 0.0856 - accuracy: 0.9762 - val_loss: 10.8159 - val_accuracy: 0.3130\n",
      "Epoch 18/20\n",
      "493/493 [==============================] - 5s 11ms/step - loss: 0.0935 - accuracy: 0.9755 - val_loss: 11.1458 - val_accuracy: 0.3038\n",
      "Epoch 19/20\n",
      "493/493 [==============================] - 6s 11ms/step - loss: 0.0917 - accuracy: 0.9771 - val_loss: 10.4314 - val_accuracy: 0.3204\n",
      "Epoch 20/20\n",
      "493/493 [==============================] - 6s 12ms/step - loss: 0.0736 - accuracy: 0.9807 - val_loss: 10.7084 - val_accuracy: 0.3198\n"
     ]
    }
   ],
   "source": [
    "model5.compile(optimizer='adam',\n",
    "              loss='categorical_crossentropy',\n",
    "             metrics=['accuracy'])\n",
    "\n",
    "model5.summary()\n",
    "\n",
    "hist5 = model5.fit(X_train, y_train_le,\n",
    "          batch_size=32,\n",
    "          epochs=20,\n",
    "         validation_split=0.10)"
   ]
  },
  {
   "cell_type": "code",
   "execution_count": null,
   "id": "de3bfee8",
   "metadata": {
    "id": "de3bfee8",
    "outputId": "20a52b6b-b1c7-4ff2-a79f-bd61632b43eb"
   },
   "outputs": [
    {
     "name": "stdout",
     "output_type": "stream",
     "text": [
      "dict_keys(['loss', 'accuracy', 'val_loss', 'val_accuracy'])\n"
     ]
    },
    {
     "data": {
      "image/png": "[encoded data removed]",
      "text/plain": [
       "<Figure size 640x480 with 1 Axes>"
      ]
     },
     "metadata": {},
     "output_type": "display_data"
    }
   ],
   "source": [
    "print(hist5.history.keys())\n",
    "\n",
    "plt.clf()\n",
    "plt.plot(hist5.history['accuracy'])\n",
    "plt.plot(hist5.history['val_accuracy'])\n",
    "plt.title('Model 5: CNN - Single CNN / Uniform kernels : Model accuracies for train and validation')\n",
    "plt.ylabel('Accuracy')\n",
    "plt.xlabel('Epoch')\n",
    "plt.legend(['Train', 'Validation'], loc='upper left')\n",
    "plt.show()"
   ]
  },
  {
   "cell_type": "markdown",
   "id": "bd023b13",
   "metadata": {
    "id": "bd023b13"
   },
   "source": [
    "### Model 6: CNN - Heterogenous kernels"
   ]
  },
  {
   "cell_type": "code",
   "execution_count": null,
   "id": "2e4af7de",
   "metadata": {
    "id": "2e4af7de"
   },
   "outputs": [],
   "source": [
    "model6 = Sequential()\n",
    "\n",
    "model6.add(vectorizer)\n",
    "\n",
    "model6.add(Embedding(max_features, embedding_dims))\n",
    "model6.add(Conv1D(80, 20, padding='same', activation='relu'))\n",
    "model6.add(AveragePooling1D())\n",
    "model6.add(Conv1D(80, 10, padding='same', activation='relu'))\n",
    "model6.add(AveragePooling1D())\n",
    "model6.add(Conv1D(80, 5, padding='same', activation='relu'))\n",
    "model6.add(GlobalAveragePooling1D())\n",
    "model6.add(Dense(400,activation=\"relu\"))\n",
    "model6.add(Dense(400,activation=\"relu\"))\n",
    "model6.add(Dense(400,activation=\"relu\"))\n",
    "model6.add(Dense(20,activation=tf.keras.activations.softmax))"
   ]
  },
  {
   "cell_type": "code",
   "execution_count": null,
   "id": "a49df432",
   "metadata": {
    "id": "a49df432",
    "outputId": "1f4342ce-4482-480e-e4a9-c1a53e48329a"
   },
   "outputs": [
    {
     "name": "stdout",
     "output_type": "stream",
     "text": [
      "Model: \"sequential_6\"\n",
      "_________________________________________________________________\n",
      " Layer (type)                Output Shape              Param #   \n",
      "=================================================================\n",
      " text_vectorization (TextVec  (None, None)             0         \n",
      " torization)                                                     \n",
      "                                                                 \n",
      " embedding_5 (Embedding)     (None, None, 16)          1120000   \n",
      "                                                                 \n",
      " conv1d_2 (Conv1D)           (None, None, 80)          25680     \n",
      "                                                                 \n",
      " average_pooling1d (AverageP  (None, None, 80)         0         \n",
      " ooling1D)                                                       \n",
      "                                                                 \n",
      " conv1d_3 (Conv1D)           (None, None, 80)          64080     \n",
      "                                                                 \n",
      " average_pooling1d_1 (Averag  (None, None, 80)         0         \n",
      " ePooling1D)                                                     \n",
      "                                                                 \n",
      " conv1d_4 (Conv1D)           (None, None, 80)          32080     \n",
      "                                                                 \n",
      " global_average_pooling1d_2   (None, 80)               0         \n",
      " (GlobalAveragePooling1D)                                        \n",
      "                                                                 \n",
      " dense_24 (Dense)            (None, 400)               32400     \n",
      "                                                                 \n",
      " dense_25 (Dense)            (None, 400)               160400    \n",
      "                                                                 \n",
      " dense_26 (Dense)            (None, 400)               160400    \n",
      "                                                                 \n",
      " dense_27 (Dense)            (None, 20)                8020      \n",
      "                                                                 \n",
      "=================================================================\n",
      "Total params: 1,603,060\n",
      "Trainable params: 1,603,060\n",
      "Non-trainable params: 0\n",
      "_________________________________________________________________\n",
      "Epoch 1/20\n",
      "493/493 [==============================] - 15s 28ms/step - loss: 2.5946 - accuracy: 0.1816 - val_loss: 2.2981 - val_accuracy: 0.2439\n",
      "Epoch 2/20\n",
      "493/493 [==============================] - 13s 26ms/step - loss: 2.0220 - accuracy: 0.3054 - val_loss: 2.1376 - val_accuracy: 0.3033\n",
      "Epoch 3/20\n",
      "493/493 [==============================] - 13s 26ms/step - loss: 1.6198 - accuracy: 0.4155 - val_loss: 2.0970 - val_accuracy: 0.3404\n",
      "Epoch 4/20\n",
      "493/493 [==============================] - 13s 26ms/step - loss: 1.3119 - accuracy: 0.5168 - val_loss: 2.2982 - val_accuracy: 0.3495\n",
      "Epoch 5/20\n",
      "493/493 [==============================] - 13s 26ms/step - loss: 1.0495 - accuracy: 0.6227 - val_loss: 2.5084 - val_accuracy: 0.3764\n",
      "Epoch 6/20\n",
      "493/493 [==============================] - 13s 27ms/step - loss: 0.7984 - accuracy: 0.7182 - val_loss: 2.8542 - val_accuracy: 0.3741\n",
      "Epoch 7/20\n",
      "493/493 [==============================] - 13s 27ms/step - loss: 0.5800 - accuracy: 0.8010 - val_loss: 3.3157 - val_accuracy: 0.3992\n",
      "Epoch 8/20\n",
      "493/493 [==============================] - 13s 27ms/step - loss: 0.3943 - accuracy: 0.8711 - val_loss: 3.7601 - val_accuracy: 0.3849\n",
      "Epoch 9/20\n",
      "493/493 [==============================] - 13s 27ms/step - loss: 0.3124 - accuracy: 0.9018 - val_loss: 3.8548 - val_accuracy: 0.3969\n",
      "Epoch 10/20\n",
      "493/493 [==============================] - 13s 26ms/step - loss: 0.2348 - accuracy: 0.9297 - val_loss: 4.2564 - val_accuracy: 0.4049\n",
      "Epoch 11/20\n",
      "493/493 [==============================] - 13s 26ms/step - loss: 0.1811 - accuracy: 0.9469 - val_loss: 4.7007 - val_accuracy: 0.3912\n",
      "Epoch 12/20\n",
      "493/493 [==============================] - 13s 27ms/step - loss: 0.1603 - accuracy: 0.9525 - val_loss: 4.2970 - val_accuracy: 0.3963\n",
      "Epoch 13/20\n",
      "493/493 [==============================] - 13s 27ms/step - loss: 0.1511 - accuracy: 0.9558 - val_loss: 4.2975 - val_accuracy: 0.4089\n",
      "Epoch 14/20\n",
      "493/493 [==============================] - 13s 27ms/step - loss: 0.1352 - accuracy: 0.9625 - val_loss: 4.3898 - val_accuracy: 0.4129\n",
      "Epoch 15/20\n",
      "493/493 [==============================] - 13s 27ms/step - loss: 0.1087 - accuracy: 0.9695 - val_loss: 4.7830 - val_accuracy: 0.3992\n",
      "Epoch 16/20\n",
      "493/493 [==============================] - 13s 27ms/step - loss: 0.0965 - accuracy: 0.9736 - val_loss: 4.8753 - val_accuracy: 0.4021\n",
      "Epoch 17/20\n",
      "493/493 [==============================] - 13s 27ms/step - loss: 0.0960 - accuracy: 0.9718 - val_loss: 4.9875 - val_accuracy: 0.4101\n",
      "Epoch 18/20\n",
      "493/493 [==============================] - 13s 27ms/step - loss: 0.1060 - accuracy: 0.9714 - val_loss: 5.0198 - val_accuracy: 0.3923\n",
      "Epoch 19/20\n",
      "493/493 [==============================] - 13s 26ms/step - loss: 0.1009 - accuracy: 0.9709 - val_loss: 4.9518 - val_accuracy: 0.3969\n",
      "Epoch 20/20\n",
      "493/493 [==============================] - 13s 26ms/step - loss: 0.0867 - accuracy: 0.9753 - val_loss: 4.8561 - val_accuracy: 0.4238\n"
     ]
    }
   ],
   "source": [
    "model6.compile(optimizer='adam',\n",
    "              loss='categorical_crossentropy',\n",
    "             metrics=['accuracy'])\n",
    "\n",
    "model6.summary()\n",
    "\n",
    "hist6 = model6.fit(X_train, y_train_le,\n",
    "          batch_size=32,\n",
    "          epochs=20,\n",
    "         validation_split=0.10)"
   ]
  },
  {
   "cell_type": "code",
   "execution_count": null,
   "id": "bef520c9",
   "metadata": {
    "id": "bef520c9",
    "outputId": "84c3e50f-5cd9-400a-e540-1660d8985a3d"
   },
   "outputs": [
    {
     "name": "stdout",
     "output_type": "stream",
     "text": [
      "dict_keys(['loss', 'accuracy', 'val_loss', 'val_accuracy'])\n"
     ]
    },
    {
     "data": {
      "image/png": "[encoded data removed]",
      "text/plain": [
       "<Figure size 640x480 with 1 Axes>"
      ]
     },
     "metadata": {},
     "output_type": "display_data"
    }
   ],
   "source": [
    "print(hist6.history.keys())\n",
    "\n",
    "plt.clf()\n",
    "plt.plot(hist6.history['accuracy'])\n",
    "plt.plot(hist6.history['val_accuracy'])\n",
    "plt.title('Model 6: CNN - Heterogeneous kernels : Model accuracies for train and validation')\n",
    "plt.ylabel('Accuracy')\n",
    "plt.xlabel('Epoch')\n",
    "plt.legend(['Train', 'Validation'], loc='upper left')\n",
    "plt.show()"
   ]
  },
  {
   "cell_type": "markdown",
   "id": "9b0d05b5",
   "metadata": {
    "id": "9b0d05b5"
   },
   "source": [
    "### Model 7: CNN with LSTMs"
   ]
  },
  {
   "cell_type": "code",
   "execution_count": null,
   "id": "9cd59e02",
   "metadata": {
    "id": "9cd59e02"
   },
   "outputs": [],
   "source": [
    "model7 = Sequential()\n",
    "\n",
    "model7.add(vectorizer)\n",
    "\n",
    "model7.add(Embedding(max_features, embedding_dims))\n",
    "#model7.add(LSTM(embedding_dims, return_sequences=True))\n",
    "model7.add(Conv1D(80, 20, padding='same', activation='relu'))\n",
    "model7.add(AveragePooling1D())\n",
    "model7.add(Conv1D(80, 10, padding='same', activation='relu'))\n",
    "model7.add(AveragePooling1D())\n",
    "model7.add(Conv1D(80, 5, padding='same', activation='relu'))\n",
    "model7.add(AveragePooling1D())\n",
    "model7.add(LSTM(embedding_dims, return_sequences=True))\n",
    "model7.add(LSTM(embedding_dims, return_sequences=False))\n",
    "model7.add(Dense(400,activation=\"relu\"))\n",
    "model7.add(Dense(400,activation=\"relu\"))\n",
    "model7.add(Dense(400,activation=\"relu\"))\n",
    "model7.add(Dense(20,activation=tf.keras.activations.softmax))"
   ]
  },
  {
   "cell_type": "code",
   "execution_count": null,
   "id": "e1997611",
   "metadata": {
    "id": "e1997611",
    "outputId": "565c3421-12f1-458f-990f-4f3bf3d15e2a"
   },
   "outputs": [
    {
     "name": "stdout",
     "output_type": "stream",
     "text": [
      "Model: \"sequential_7\"\n",
      "_________________________________________________________________\n",
      " Layer (type)                Output Shape              Param #   \n",
      "=================================================================\n",
      " text_vectorization (TextVec  (None, None)             0         \n",
      " torization)                                                     \n",
      "                                                                 \n",
      " embedding_6 (Embedding)     (None, None, 16)          1120000   \n",
      "                                                                 \n",
      " conv1d_5 (Conv1D)           (None, None, 80)          25680     \n",
      "                                                                 \n",
      " average_pooling1d_2 (Averag  (None, None, 80)         0         \n",
      " ePooling1D)                                                     \n",
      "                                                                 \n",
      " conv1d_6 (Conv1D)           (None, None, 80)          64080     \n",
      "                                                                 \n",
      " average_pooling1d_3 (Averag  (None, None, 80)         0         \n",
      " ePooling1D)                                                     \n",
      "                                                                 \n",
      " conv1d_7 (Conv1D)           (None, None, 80)          32080     \n",
      "                                                                 \n",
      " average_pooling1d_4 (Averag  (None, None, 80)         0         \n",
      " ePooling1D)                                                     \n",
      "                                                                 \n",
      " lstm_4 (LSTM)               (None, None, 16)          6208      \n",
      "                                                                 \n",
      " lstm_5 (LSTM)               (None, 16)                2112      \n",
      "                                                                 \n",
      " dense_28 (Dense)            (None, 400)               6800      \n",
      "                                                                 \n",
      " dense_29 (Dense)            (None, 400)               160400    \n",
      "                                                                 \n",
      " dense_30 (Dense)            (None, 400)               160400    \n",
      "                                                                 \n",
      " dense_31 (Dense)            (None, 20)                8020      \n",
      "                                                                 \n",
      "=================================================================\n",
      "Total params: 1,585,780\n",
      "Trainable params: 1,585,780\n",
      "Non-trainable params: 0\n",
      "_________________________________________________________________\n",
      "Epoch 1/20\n",
      "493/493 [==============================] - 23s 40ms/step - loss: 2.7278 - accuracy: 0.1492 - val_loss: 2.4480 - val_accuracy: 0.2107\n",
      "Epoch 2/20\n",
      "493/493 [==============================] - 19s 38ms/step - loss: 2.2069 - accuracy: 0.2529 - val_loss: 2.2686 - val_accuracy: 0.2467\n",
      "Epoch 3/20\n",
      "493/493 [==============================] - 19s 38ms/step - loss: 1.8990 - accuracy: 0.3281 - val_loss: 2.2602 - val_accuracy: 0.3158\n",
      "Epoch 4/20\n",
      "493/493 [==============================] - 19s 39ms/step - loss: 1.6357 - accuracy: 0.4062 - val_loss: 2.1838 - val_accuracy: 0.3255\n",
      "Epoch 5/20\n",
      "493/493 [==============================] - 19s 39ms/step - loss: 1.4099 - accuracy: 0.4723 - val_loss: 2.3141 - val_accuracy: 0.3387\n",
      "Epoch 6/20\n",
      "493/493 [==============================] - 19s 39ms/step - loss: 1.2363 - accuracy: 0.5431 - val_loss: 2.3902 - val_accuracy: 0.3427\n",
      "Epoch 7/20\n",
      "493/493 [==============================] - 19s 38ms/step - loss: 1.0643 - accuracy: 0.6203 - val_loss: 2.5056 - val_accuracy: 0.3638\n",
      "Epoch 8/20\n",
      "493/493 [==============================] - 19s 38ms/step - loss: 0.9102 - accuracy: 0.6851 - val_loss: 2.6807 - val_accuracy: 0.3604\n",
      "Epoch 9/20\n",
      "493/493 [==============================] - 19s 39ms/step - loss: 0.7276 - accuracy: 0.7509 - val_loss: 2.9570 - val_accuracy: 0.3512\n",
      "Epoch 10/20\n",
      "493/493 [==============================] - 19s 39ms/step - loss: 0.6182 - accuracy: 0.7963 - val_loss: 2.9038 - val_accuracy: 0.3946\n",
      "Epoch 11/20\n",
      "493/493 [==============================] - 19s 40ms/step - loss: 0.5180 - accuracy: 0.8301 - val_loss: 3.0149 - val_accuracy: 0.3746\n",
      "Epoch 12/20\n",
      "493/493 [==============================] - 19s 38ms/step - loss: 0.4274 - accuracy: 0.8596 - val_loss: 3.5458 - val_accuracy: 0.3695\n",
      "Epoch 13/20\n",
      "493/493 [==============================] - 19s 38ms/step - loss: 0.4081 - accuracy: 0.8733 - val_loss: 3.4102 - val_accuracy: 0.3752\n",
      "Epoch 14/20\n",
      "493/493 [==============================] - 19s 38ms/step - loss: 0.3502 - accuracy: 0.8889 - val_loss: 3.4416 - val_accuracy: 0.3958\n",
      "Epoch 15/20\n",
      "493/493 [==============================] - 19s 38ms/step - loss: 0.3165 - accuracy: 0.8994 - val_loss: 3.8385 - val_accuracy: 0.3649\n",
      "Epoch 16/20\n",
      "493/493 [==============================] - 19s 38ms/step - loss: 0.3049 - accuracy: 0.9014 - val_loss: 3.7605 - val_accuracy: 0.3621\n",
      "Epoch 17/20\n",
      "493/493 [==============================] - 19s 38ms/step - loss: 0.2697 - accuracy: 0.9170 - val_loss: 3.6702 - val_accuracy: 0.3769\n",
      "Epoch 18/20\n",
      "493/493 [==============================] - 19s 39ms/step - loss: 0.2617 - accuracy: 0.9186 - val_loss: 3.7127 - val_accuracy: 0.3815\n",
      "Epoch 19/20\n",
      "493/493 [==============================] - 19s 38ms/step - loss: 0.2388 - accuracy: 0.9291 - val_loss: 4.3317 - val_accuracy: 0.3649\n",
      "Epoch 20/20\n",
      "493/493 [==============================] - 19s 39ms/step - loss: 0.2209 - accuracy: 0.9335 - val_loss: 4.2749 - val_accuracy: 0.3889\n"
     ]
    }
   ],
   "source": [
    "model7.compile(optimizer='adam',\n",
    "              loss='categorical_crossentropy',\n",
    "             metrics=['accuracy'])\n",
    "\n",
    "model7.summary()\n",
    "\n",
    "hist7 = model7.fit(X_train, y_train_le,\n",
    "          batch_size=32,\n",
    "          epochs=20,\n",
    "         validation_split=0.10)"
   ]
  },
  {
   "cell_type": "code",
   "execution_count": null,
   "id": "fe86c21b",
   "metadata": {
    "id": "fe86c21b",
    "outputId": "359f563a-f683-466a-eb96-d6f815983cdf"
   },
   "outputs": [
    {
     "name": "stdout",
     "output_type": "stream",
     "text": [
      "dict_keys(['loss', 'accuracy', 'val_loss', 'val_accuracy'])\n"
     ]
    },
    {
     "data": {
      "image/png": "[encoded data removed]",
      "text/plain": [
       "<Figure size 640x480 with 1 Axes>"
      ]
     },
     "metadata": {},
     "output_type": "display_data"
    }
   ],
   "source": [
    "print(hist7.history.keys())\n",
    "\n",
    "plt.clf()\n",
    "plt.plot(hist7.history['accuracy'])\n",
    "plt.plot(hist7.history['val_accuracy'])\n",
    "plt.title('Model 7: CNN with LSTMs : Model accuracies for train and validation')\n",
    "plt.ylabel('Accuracy')\n",
    "plt.xlabel('Epoch')\n",
    "plt.legend(['Train', 'Validation'], loc='upper left')\n",
    "plt.show()"
   ]
  },
  {
   "cell_type": "markdown",
   "id": "7b39e968",
   "metadata": {
    "id": "7b39e968"
   },
   "source": [
    "### Model 8 - Gaussian Naive Bayes (Using algorithms other than DL)"
   ]
  },
  {
   "cell_type": "code",
   "execution_count": null,
   "id": "5a518b56",
   "metadata": {
    "id": "5a518b56"
   },
   "outputs": [],
   "source": [
    "def cv_preprocess_text(text):\n",
    "    text = text.lower()\n",
    "    text = re.sub(r'\\d+', '', text)\n",
    "    return text"
   ]
  },
  {
   "cell_type": "code",
   "execution_count": null,
   "id": "303a82f6",
   "metadata": {
    "id": "303a82f6",
    "outputId": "ea9942fb-53b5-42c6-c238-895f02b316be"
   },
   "outputs": [
    {
     "data": {
      "text/html": [
       "<div>\n",
       "<style scoped>\n",
       "    .dataframe tbody tr th:only-of-type {\n",
       "        vertical-align: middle;\n",
       "    }\n",
       "\n",
       "    .dataframe tbody tr th {\n",
       "        vertical-align: top;\n",
       "    }\n",
       "\n",
       "    .dataframe thead th {\n",
       "        text-align: right;\n",
       "    }\n",
       "</style>\n",
       "<table border=\"1\" class=\"dataframe\">\n",
       "  <thead>\n",
       "    <tr style=\"text-align: right;\">\n",
       "      <th></th>\n",
       "      <th>aaron</th>\n",
       "      <th>abandon</th>\n",
       "      <th>abandoned</th>\n",
       "      <th>abandoning</th>\n",
       "      <th>abbey</th>\n",
       "      <th>abbott</th>\n",
       "      <th>abbotts</th>\n",
       "      <th>abc</th>\n",
       "      <th>abcs</th>\n",
       "      <th>abe</th>\n",
       "      <th>...</th>\n",
       "      <th>zil</th>\n",
       "      <th>zimbabwe</th>\n",
       "      <th>zlatan</th>\n",
       "      <th>zoe</th>\n",
       "      <th>zombie</th>\n",
       "      <th>zone</th>\n",
       "      <th>zones</th>\n",
       "      <th>zoo</th>\n",
       "      <th>zoom</th>\n",
       "      <th>zuckerberg</th>\n",
       "    </tr>\n",
       "  </thead>\n",
       "  <tbody>\n",
       "    <tr>\n",
       "      <th>0</th>\n",
       "      <td>0</td>\n",
       "      <td>0</td>\n",
       "      <td>0</td>\n",
       "      <td>0</td>\n",
       "      <td>0</td>\n",
       "      <td>0</td>\n",
       "      <td>0</td>\n",
       "      <td>0</td>\n",
       "      <td>0</td>\n",
       "      <td>0</td>\n",
       "      <td>...</td>\n",
       "      <td>0</td>\n",
       "      <td>0</td>\n",
       "      <td>0</td>\n",
       "      <td>0</td>\n",
       "      <td>0</td>\n",
       "      <td>0</td>\n",
       "      <td>0</td>\n",
       "      <td>0</td>\n",
       "      <td>0</td>\n",
       "      <td>0</td>\n",
       "    </tr>\n",
       "    <tr>\n",
       "      <th>1</th>\n",
       "      <td>0</td>\n",
       "      <td>0</td>\n",
       "      <td>0</td>\n",
       "      <td>0</td>\n",
       "      <td>0</td>\n",
       "      <td>0</td>\n",
       "      <td>0</td>\n",
       "      <td>0</td>\n",
       "      <td>0</td>\n",
       "      <td>0</td>\n",
       "      <td>...</td>\n",
       "      <td>0</td>\n",
       "      <td>0</td>\n",
       "      <td>0</td>\n",
       "      <td>0</td>\n",
       "      <td>0</td>\n",
       "      <td>0</td>\n",
       "      <td>0</td>\n",
       "      <td>0</td>\n",
       "      <td>0</td>\n",
       "      <td>0</td>\n",
       "    </tr>\n",
       "    <tr>\n",
       "      <th>2</th>\n",
       "      <td>0</td>\n",
       "      <td>0</td>\n",
       "      <td>0</td>\n",
       "      <td>0</td>\n",
       "      <td>0</td>\n",
       "      <td>0</td>\n",
       "      <td>0</td>\n",
       "      <td>0</td>\n",
       "      <td>0</td>\n",
       "      <td>0</td>\n",
       "      <td>...</td>\n",
       "      <td>0</td>\n",
       "      <td>0</td>\n",
       "      <td>0</td>\n",
       "      <td>0</td>\n",
       "      <td>0</td>\n",
       "      <td>0</td>\n",
       "      <td>0</td>\n",
       "      <td>0</td>\n",
       "      <td>0</td>\n",
       "      <td>0</td>\n",
       "    </tr>\n",
       "    <tr>\n",
       "      <th>3</th>\n",
       "      <td>0</td>\n",
       "      <td>0</td>\n",
       "      <td>0</td>\n",
       "      <td>0</td>\n",
       "      <td>0</td>\n",
       "      <td>0</td>\n",
       "      <td>0</td>\n",
       "      <td>0</td>\n",
       "      <td>0</td>\n",
       "      <td>0</td>\n",
       "      <td>...</td>\n",
       "      <td>0</td>\n",
       "      <td>0</td>\n",
       "      <td>0</td>\n",
       "      <td>0</td>\n",
       "      <td>0</td>\n",
       "      <td>0</td>\n",
       "      <td>0</td>\n",
       "      <td>0</td>\n",
       "      <td>0</td>\n",
       "      <td>0</td>\n",
       "    </tr>\n",
       "    <tr>\n",
       "      <th>4</th>\n",
       "      <td>0</td>\n",
       "      <td>0</td>\n",
       "      <td>0</td>\n",
       "      <td>0</td>\n",
       "      <td>0</td>\n",
       "      <td>0</td>\n",
       "      <td>0</td>\n",
       "      <td>0</td>\n",
       "      <td>0</td>\n",
       "      <td>0</td>\n",
       "      <td>...</td>\n",
       "      <td>0</td>\n",
       "      <td>0</td>\n",
       "      <td>0</td>\n",
       "      <td>0</td>\n",
       "      <td>0</td>\n",
       "      <td>0</td>\n",
       "      <td>0</td>\n",
       "      <td>0</td>\n",
       "      <td>0</td>\n",
       "      <td>0</td>\n",
       "    </tr>\n",
       "    <tr>\n",
       "      <th>...</th>\n",
       "      <td>...</td>\n",
       "      <td>...</td>\n",
       "      <td>...</td>\n",
       "      <td>...</td>\n",
       "      <td>...</td>\n",
       "      <td>...</td>\n",
       "      <td>...</td>\n",
       "      <td>...</td>\n",
       "      <td>...</td>\n",
       "      <td>...</td>\n",
       "      <td>...</td>\n",
       "      <td>...</td>\n",
       "      <td>...</td>\n",
       "      <td>...</td>\n",
       "      <td>...</td>\n",
       "      <td>...</td>\n",
       "      <td>...</td>\n",
       "      <td>...</td>\n",
       "      <td>...</td>\n",
       "      <td>...</td>\n",
       "      <td>...</td>\n",
       "    </tr>\n",
       "    <tr>\n",
       "      <th>19443</th>\n",
       "      <td>0</td>\n",
       "      <td>0</td>\n",
       "      <td>0</td>\n",
       "      <td>0</td>\n",
       "      <td>0</td>\n",
       "      <td>0</td>\n",
       "      <td>0</td>\n",
       "      <td>0</td>\n",
       "      <td>0</td>\n",
       "      <td>0</td>\n",
       "      <td>...</td>\n",
       "      <td>0</td>\n",
       "      <td>0</td>\n",
       "      <td>0</td>\n",
       "      <td>0</td>\n",
       "      <td>0</td>\n",
       "      <td>0</td>\n",
       "      <td>0</td>\n",
       "      <td>0</td>\n",
       "      <td>0</td>\n",
       "      <td>0</td>\n",
       "    </tr>\n",
       "    <tr>\n",
       "      <th>19444</th>\n",
       "      <td>0</td>\n",
       "      <td>0</td>\n",
       "      <td>0</td>\n",
       "      <td>0</td>\n",
       "      <td>0</td>\n",
       "      <td>0</td>\n",
       "      <td>0</td>\n",
       "      <td>0</td>\n",
       "      <td>0</td>\n",
       "      <td>0</td>\n",
       "      <td>...</td>\n",
       "      <td>0</td>\n",
       "      <td>0</td>\n",
       "      <td>0</td>\n",
       "      <td>0</td>\n",
       "      <td>0</td>\n",
       "      <td>0</td>\n",
       "      <td>0</td>\n",
       "      <td>0</td>\n",
       "      <td>0</td>\n",
       "      <td>0</td>\n",
       "    </tr>\n",
       "    <tr>\n",
       "      <th>19445</th>\n",
       "      <td>0</td>\n",
       "      <td>0</td>\n",
       "      <td>0</td>\n",
       "      <td>0</td>\n",
       "      <td>0</td>\n",
       "      <td>0</td>\n",
       "      <td>0</td>\n",
       "      <td>0</td>\n",
       "      <td>0</td>\n",
       "      <td>0</td>\n",
       "      <td>...</td>\n",
       "      <td>0</td>\n",
       "      <td>0</td>\n",
       "      <td>0</td>\n",
       "      <td>0</td>\n",
       "      <td>0</td>\n",
       "      <td>0</td>\n",
       "      <td>0</td>\n",
       "      <td>0</td>\n",
       "      <td>0</td>\n",
       "      <td>0</td>\n",
       "    </tr>\n",
       "    <tr>\n",
       "      <th>19446</th>\n",
       "      <td>0</td>\n",
       "      <td>0</td>\n",
       "      <td>0</td>\n",
       "      <td>0</td>\n",
       "      <td>0</td>\n",
       "      <td>0</td>\n",
       "      <td>0</td>\n",
       "      <td>0</td>\n",
       "      <td>0</td>\n",
       "      <td>0</td>\n",
       "      <td>...</td>\n",
       "      <td>0</td>\n",
       "      <td>0</td>\n",
       "      <td>0</td>\n",
       "      <td>0</td>\n",
       "      <td>0</td>\n",
       "      <td>0</td>\n",
       "      <td>0</td>\n",
       "      <td>0</td>\n",
       "      <td>0</td>\n",
       "      <td>0</td>\n",
       "    </tr>\n",
       "    <tr>\n",
       "      <th>19447</th>\n",
       "      <td>0</td>\n",
       "      <td>0</td>\n",
       "      <td>0</td>\n",
       "      <td>0</td>\n",
       "      <td>0</td>\n",
       "      <td>0</td>\n",
       "      <td>0</td>\n",
       "      <td>0</td>\n",
       "      <td>0</td>\n",
       "      <td>0</td>\n",
       "      <td>...</td>\n",
       "      <td>0</td>\n",
       "      <td>0</td>\n",
       "      <td>0</td>\n",
       "      <td>0</td>\n",
       "      <td>0</td>\n",
       "      <td>0</td>\n",
       "      <td>0</td>\n",
       "      <td>0</td>\n",
       "      <td>0</td>\n",
       "      <td>0</td>\n",
       "    </tr>\n",
       "  </tbody>\n",
       "</table>\n",
       "<p>19448 rows × 10144 columns</p>\n",
       "</div>"
      ],
      "text/plain": [
       "       aaron  abandon  abandoned  abandoning  abbey  abbott  abbotts  abc   \n",
       "0          0        0          0           0      0       0        0    0  \\\n",
       "1          0        0          0           0      0       0        0    0   \n",
       "2          0        0          0           0      0       0        0    0   \n",
       "3          0        0          0           0      0       0        0    0   \n",
       "4          0        0          0           0      0       0        0    0   \n",
       "...      ...      ...        ...         ...    ...     ...      ...  ...   \n",
       "19443      0        0          0           0      0       0        0    0   \n",
       "19444      0        0          0           0      0       0        0    0   \n",
       "19445      0        0          0           0      0       0        0    0   \n",
       "19446      0        0          0           0      0       0        0    0   \n",
       "19447      0        0          0           0      0       0        0    0   \n",
       "\n",
       "       abcs  abe  ...  zil  zimbabwe  zlatan  zoe  zombie  zone  zones  zoo   \n",
       "0         0    0  ...    0         0       0    0       0     0      0    0  \\\n",
       "1         0    0  ...    0         0       0    0       0     0      0    0   \n",
       "2         0    0  ...    0         0       0    0       0     0      0    0   \n",
       "3         0    0  ...    0         0       0    0       0     0      0    0   \n",
       "4         0    0  ...    0         0       0    0       0     0      0    0   \n",
       "...     ...  ...  ...  ...       ...     ...  ...     ...   ...    ...  ...   \n",
       "19443     0    0  ...    0         0       0    0       0     0      0    0   \n",
       "19444     0    0  ...    0         0       0    0       0     0      0    0   \n",
       "19445     0    0  ...    0         0       0    0       0     0      0    0   \n",
       "19446     0    0  ...    0         0       0    0       0     0      0    0   \n",
       "19447     0    0  ...    0         0       0    0       0     0      0    0   \n",
       "\n",
       "       zoom  zuckerberg  \n",
       "0         0           0  \n",
       "1         0           0  \n",
       "2         0           0  \n",
       "3         0           0  \n",
       "4         0           0  \n",
       "...     ...         ...  \n",
       "19443     0           0  \n",
       "19444     0           0  \n",
       "19445     0           0  \n",
       "19446     0           0  \n",
       "19447     0           0  \n",
       "\n",
       "[19448 rows x 10144 columns]"
      ]
     },
     "metadata": {},
     "output_type": "display_data"
    }
   ],
   "source": [
    "count_vectorizer = CountVectorizer(min_df = 10, stop_words='english', preprocessor=cv_preprocess_text)\n",
    "bag_of_words = count_vectorizer.fit_transform(sample['NoPunct'])\n",
    "bag_of_words = pd.DataFrame(bag_of_words.toarray(), columns = count_vectorizer.get_feature_names_out())\n",
    "display(bag_of_words)"
   ]
  },
  {
   "cell_type": "code",
   "execution_count": null,
   "id": "538fee28",
   "metadata": {
    "id": "538fee28"
   },
   "outputs": [],
   "source": [
    "X_train_nb, X_test_nb, y_train_nb, y_test_nb = train_test_split(bag_of_words, sample['sectionName'], random_state=10, test_size=0.20)"
   ]
  },
  {
   "cell_type": "code",
   "execution_count": null,
   "id": "1351962a",
   "metadata": {
    "id": "1351962a",
    "outputId": "369d4ec0-e4ef-4d8f-810b-0e02e3f086cb"
   },
   "outputs": [
    {
     "data": {
      "text/html": [
       "<style>#sk-container-id-1 {color: black;background-color: white;}#sk-container-id-1 pre{padding: 0;}#sk-container-id-1 div.sk-toggleable {background-color: white;}#sk-container-id-1 label.sk-toggleable__label {cursor: pointer;display: block;width: 100%;margin-bottom: 0;padding: 0.3em;box-sizing: border-box;text-align: center;}#sk-container-id-1 label.sk-toggleable__label-arrow:before {content: \"▸\";float: left;margin-right: 0.25em;color: #696969;}#sk-container-id-1 label.sk-toggleable__label-arrow:hover:before {color: black;}#sk-container-id-1 div.sk-estimator:hover label.sk-toggleable__label-arrow:before {color: black;}#sk-container-id-1 div.sk-toggleable__content {max-height: 0;max-width: 0;overflow: hidden;text-align: left;background-color: #f0f8ff;}#sk-container-id-1 div.sk-toggleable__content pre {margin: 0.2em;color: black;border-radius: 0.25em;background-color: #f0f8ff;}#sk-container-id-1 input.sk-toggleable__control:checked~div.sk-toggleable__content {max-height: 200px;max-width: 100%;overflow: auto;}#sk-container-id-1 input.sk-toggleable__control:checked~label.sk-toggleable__label-arrow:before {content: \"▾\";}#sk-container-id-1 div.sk-estimator input.sk-toggleable__control:checked~label.sk-toggleable__label {background-color: #d4ebff;}#sk-container-id-1 div.sk-label input.sk-toggleable__control:checked~label.sk-toggleable__label {background-color: #d4ebff;}#sk-container-id-1 input.sk-hidden--visually {border: 0;clip: rect(1px 1px 1px 1px);clip: rect(1px, 1px, 1px, 1px);height: 1px;margin: -1px;overflow: hidden;padding: 0;position: absolute;width: 1px;}#sk-container-id-1 div.sk-estimator {font-family: monospace;background-color: #f0f8ff;border: 1px dotted black;border-radius: 0.25em;box-sizing: border-box;margin-bottom: 0.5em;}#sk-container-id-1 div.sk-estimator:hover {background-color: #d4ebff;}#sk-container-id-1 div.sk-parallel-item::after {content: \"\";width: 100%;border-bottom: 1px solid gray;flex-grow: 1;}#sk-container-id-1 div.sk-label:hover label.sk-toggleable__label {background-color: #d4ebff;}#sk-container-id-1 div.sk-serial::before {content: \"\";position: absolute;border-left: 1px solid gray;box-sizing: border-box;top: 0;bottom: 0;left: 50%;z-index: 0;}#sk-container-id-1 div.sk-serial {display: flex;flex-direction: column;align-items: center;background-color: white;padding-right: 0.2em;padding-left: 0.2em;position: relative;}#sk-container-id-1 div.sk-item {position: relative;z-index: 1;}#sk-container-id-1 div.sk-parallel {display: flex;align-items: stretch;justify-content: center;background-color: white;position: relative;}#sk-container-id-1 div.sk-item::before, #sk-container-id-1 div.sk-parallel-item::before {content: \"\";position: absolute;border-left: 1px solid gray;box-sizing: border-box;top: 0;bottom: 0;left: 50%;z-index: -1;}#sk-container-id-1 div.sk-parallel-item {display: flex;flex-direction: column;z-index: 1;position: relative;background-color: white;}#sk-container-id-1 div.sk-parallel-item:first-child::after {align-self: flex-end;width: 50%;}#sk-container-id-1 div.sk-parallel-item:last-child::after {align-self: flex-start;width: 50%;}#sk-container-id-1 div.sk-parallel-item:only-child::after {width: 0;}#sk-container-id-1 div.sk-dashed-wrapped {border: 1px dashed gray;margin: 0 0.4em 0.5em 0.4em;box-sizing: border-box;padding-bottom: 0.4em;background-color: white;}#sk-container-id-1 div.sk-label label {font-family: monospace;font-weight: bold;display: inline-block;line-height: 1.2em;}#sk-container-id-1 div.sk-label-container {text-align: center;}#sk-container-id-1 div.sk-container {/* jupyter's `normalize.less` sets `[hidden] { display: none; }` but bootstrap.min.css set `[hidden] { display: none !important; }` so we also need the `!important` here to be able to override the default hidden behavior on the sphinx rendered scikit-learn.org. See: https://github.com/scikit-learn/scikit-learn/issues/21755 */display: inline-block !important;position: relative;}#sk-container-id-1 div.sk-text-repr-fallback {display: none;}</style><div id=\"sk-container-id-1\" class=\"sk-top-container\"><div class=\"sk-text-repr-fallback\"><pre>GaussianNB()</pre><b>In a Jupyter environment, please rerun this cell to show the HTML representation or trust the notebook. <br />On GitHub, the HTML representation is unable to render, please try loading this page with nbviewer.org.</b></div><div class=\"sk-container\" hidden><div class=\"sk-item\"><div class=\"sk-estimator sk-toggleable\"><input class=\"sk-toggleable__control sk-hidden--visually\" id=\"sk-estimator-id-1\" type=\"checkbox\" checked><label for=\"sk-estimator-id-1\" class=\"sk-toggleable__label sk-toggleable__label-arrow\">GaussianNB</label><div class=\"sk-toggleable__content\"><pre>GaussianNB()</pre></div></div></div></div></div>"
      ],
      "text/plain": [
       "GaussianNB()"
      ]
     },
     "execution_count": 55,
     "metadata": {},
     "output_type": "execute_result"
    }
   ],
   "source": [
    "gnb_model = GaussianNB()\n",
    "\n",
    "gnb_model.fit(X_train_nb, y_train_nb)"
   ]
  },
  {
   "cell_type": "code",
   "execution_count": null,
   "id": "1b1c62ca",
   "metadata": {
    "id": "1b1c62ca",
    "outputId": "6adcac38-9734-4cd1-d7d7-d8a2f3e0ebb3"
   },
   "outputs": [
    {
     "name": "stdout",
     "output_type": "stream",
     "text": [
      "0.33624678663239077\n"
     ]
    }
   ],
   "source": [
    "y_pred = gnb_model.predict(X_test_nb)\n",
    "acc = accuracy_score(y_test_nb, y_pred)\n",
    "print(acc)"
   ]
  },
  {
   "cell_type": "markdown",
   "id": "52a21bba",
   "metadata": {
    "id": "52a21bba"
   },
   "source": [
    "### Model 9 - Using a combined column of webtitle and preprocessed body content"
   ]
  },
  {
   "cell_type": "code",
   "execution_count": null,
   "id": "26f0014a",
   "metadata": {
    "id": "26f0014a",
    "outputId": "d5db5419-bd42-4d3a-f153-9eaea96d4102"
   },
   "outputs": [
    {
     "data": {
      "text/html": [
       "<div>\n",
       "<style scoped>\n",
       "    .dataframe tbody tr th:only-of-type {\n",
       "        vertical-align: middle;\n",
       "    }\n",
       "\n",
       "    .dataframe tbody tr th {\n",
       "        vertical-align: top;\n",
       "    }\n",
       "\n",
       "    .dataframe thead th {\n",
       "        text-align: right;\n",
       "    }\n",
       "</style>\n",
       "<table border=\"1\" class=\"dataframe\">\n",
       "  <thead>\n",
       "    <tr style=\"text-align: right;\">\n",
       "      <th></th>\n",
       "      <th>lemBodyContent</th>\n",
       "      <th>sectionName</th>\n",
       "      <th>webTitle</th>\n",
       "      <th>NoPunct</th>\n",
       "      <th>Combined</th>\n",
       "    </tr>\n",
       "  </thead>\n",
       "  <tbody>\n",
       "    <tr>\n",
       "      <th>55474</th>\n",
       "      <td>Cedric OBannon tried to ignore the sharp pain ...</td>\n",
       "      <td>World news</td>\n",
       "      <td>Stabbed at a neo-Nazi rally, called a criminal...</td>\n",
       "      <td>Cedric OBannon tried to ignore the sharp pain ...</td>\n",
       "      <td>Stabbed at a neo-Nazi rally, called a criminal...</td>\n",
       "    </tr>\n",
       "    <tr>\n",
       "      <th>2340</th>\n",
       "      <td>Penalties provided Simon Mignolet with a shot ...</td>\n",
       "      <td>Football</td>\n",
       "      <td>Liverpool’s Simon Mignolet still defined by mi...</td>\n",
       "      <td>Penalties provided Simon Mignolet with a shot ...</td>\n",
       "      <td>Liverpool’s Simon Mignolet still defined by mi...</td>\n",
       "    </tr>\n",
       "    <tr>\n",
       "      <th>57329</th>\n",
       "      <td>Chris Grayling has been accused of running sca...</td>\n",
       "      <td>Politics</td>\n",
       "      <td>Grayling accused of 'running scared' after pul...</td>\n",
       "      <td>Chris Grayling has been accused of running sca...</td>\n",
       "      <td>Grayling accused of 'running scared' after pul...</td>\n",
       "    </tr>\n",
       "    <tr>\n",
       "      <th>30078</th>\n",
       "      <td>Donald Trump will unveil a proposal for a majo...</td>\n",
       "      <td>US news</td>\n",
       "      <td>Trump to unveil proposal for slashing corporat...</td>\n",
       "      <td>Donald Trump will unveil a proposal for a majo...</td>\n",
       "      <td>Trump to unveil proposal for slashing corporat...</td>\n",
       "    </tr>\n",
       "    <tr>\n",
       "      <th>9655</th>\n",
       "      <td>nan</td>\n",
       "      <td>Opinion</td>\n",
       "      <td>The sad story of Sully the rescue dog | First ...</td>\n",
       "      <td>nan</td>\n",
       "      <td>The sad story of Sully the rescue dog | First ...</td>\n",
       "    </tr>\n",
       "    <tr>\n",
       "      <th>...</th>\n",
       "      <td>...</td>\n",
       "      <td>...</td>\n",
       "      <td>...</td>\n",
       "      <td>...</td>\n",
       "      <td>...</td>\n",
       "    </tr>\n",
       "    <tr>\n",
       "      <th>53618</th>\n",
       "      <td>Last month, the New Yorker ran a piece that op...</td>\n",
       "      <td>Music</td>\n",
       "      <td>Reverb remixes: the musical meme that's celebr...</td>\n",
       "      <td>Last month, the New Yorker ran a piece that op...</td>\n",
       "      <td>Reverb remixes: the musical meme that's celebr...</td>\n",
       "    </tr>\n",
       "    <tr>\n",
       "      <th>21560</th>\n",
       "      <td>A father whose son was fatally struck by an ou...</td>\n",
       "      <td>Australia news</td>\n",
       "      <td>Father hugs man accused of Christmas Day crash...</td>\n",
       "      <td>A father whose son was fatally struck by an ou...</td>\n",
       "      <td>Father hugs man accused of Christmas Day crash...</td>\n",
       "    </tr>\n",
       "    <tr>\n",
       "      <th>89103</th>\n",
       "      <td>For the Hillsborough families whose 96 loved o...</td>\n",
       "      <td>UK news</td>\n",
       "      <td>How Duckenfield trial left Hillsborough famili...</td>\n",
       "      <td>For the Hillsborough families whose 96 loved o...</td>\n",
       "      <td>How Duckenfield trial left Hillsborough famili...</td>\n",
       "    </tr>\n",
       "    <tr>\n",
       "      <th>34948</th>\n",
       "      <td>Guardian writers predicted position: 6th (NB: ...</td>\n",
       "      <td>Football</td>\n",
       "      <td>Premier League 2017-18 preview No1: Arsenal | ...</td>\n",
       "      <td>Guardian writers predicted position: 6th (NB: ...</td>\n",
       "      <td>Premier League 2017-18 preview No1: Arsenal | ...</td>\n",
       "    </tr>\n",
       "    <tr>\n",
       "      <th>50295</th>\n",
       "      <td>Hes finally said it, the three little words Iv...</td>\n",
       "      <td>Life and style</td>\n",
       "      <td>I’m worried my poor memory will scupper the dr...</td>\n",
       "      <td>Hes finally said it, the three little words Iv...</td>\n",
       "      <td>I’m worried my poor memory will scupper the dr...</td>\n",
       "    </tr>\n",
       "  </tbody>\n",
       "</table>\n",
       "<p>19448 rows × 5 columns</p>\n",
       "</div>"
      ],
      "text/plain": [
       "                                          lemBodyContent     sectionName   \n",
       "55474  Cedric OBannon tried to ignore the sharp pain ...      World news  \\\n",
       "2340   Penalties provided Simon Mignolet with a shot ...        Football   \n",
       "57329  Chris Grayling has been accused of running sca...        Politics   \n",
       "30078  Donald Trump will unveil a proposal for a majo...         US news   \n",
       "9655                                                 nan         Opinion   \n",
       "...                                                  ...             ...   \n",
       "53618  Last month, the New Yorker ran a piece that op...           Music   \n",
       "21560  A father whose son was fatally struck by an ou...  Australia news   \n",
       "89103  For the Hillsborough families whose 96 loved o...         UK news   \n",
       "34948  Guardian writers predicted position: 6th (NB: ...        Football   \n",
       "50295  Hes finally said it, the three little words Iv...  Life and style   \n",
       "\n",
       "                                                webTitle   \n",
       "55474  Stabbed at a neo-Nazi rally, called a criminal...  \\\n",
       "2340   Liverpool’s Simon Mignolet still defined by mi...   \n",
       "57329  Grayling accused of 'running scared' after pul...   \n",
       "30078  Trump to unveil proposal for slashing corporat...   \n",
       "9655   The sad story of Sully the rescue dog | First ...   \n",
       "...                                                  ...   \n",
       "53618  Reverb remixes: the musical meme that's celebr...   \n",
       "21560  Father hugs man accused of Christmas Day crash...   \n",
       "89103  How Duckenfield trial left Hillsborough famili...   \n",
       "34948  Premier League 2017-18 preview No1: Arsenal | ...   \n",
       "50295  I’m worried my poor memory will scupper the dr...   \n",
       "\n",
       "                                                 NoPunct   \n",
       "55474  Cedric OBannon tried to ignore the sharp pain ...  \\\n",
       "2340   Penalties provided Simon Mignolet with a shot ...   \n",
       "57329  Chris Grayling has been accused of running sca...   \n",
       "30078  Donald Trump will unveil a proposal for a majo...   \n",
       "9655                                                 nan   \n",
       "...                                                  ...   \n",
       "53618  Last month, the New Yorker ran a piece that op...   \n",
       "21560  A father whose son was fatally struck by an ou...   \n",
       "89103  For the Hillsborough families whose 96 loved o...   \n",
       "34948  Guardian writers predicted position: 6th (NB: ...   \n",
       "50295  Hes finally said it, the three little words Iv...   \n",
       "\n",
       "                                                Combined  \n",
       "55474  Stabbed at a neo-Nazi rally, called a criminal...  \n",
       "2340   Liverpool’s Simon Mignolet still defined by mi...  \n",
       "57329  Grayling accused of 'running scared' after pul...  \n",
       "30078  Trump to unveil proposal for slashing corporat...  \n",
       "9655   The sad story of Sully the rescue dog | First ...  \n",
       "...                                                  ...  \n",
       "53618  Reverb remixes: the musical meme that's celebr...  \n",
       "21560  Father hugs man accused of Christmas Day crash...  \n",
       "89103  How Duckenfield trial left Hillsborough famili...  \n",
       "34948  Premier League 2017-18 preview No1: Arsenal | ...  \n",
       "50295  I’m worried my poor memory will scupper the dr...  \n",
       "\n",
       "[19448 rows x 5 columns]"
      ]
     },
     "metadata": {},
     "output_type": "display_data"
    }
   ],
   "source": [
    "sample['Combined'] = sample['webTitle'] + sample['NoPunct']\n",
    "display(sample)"
   ]
  },
  {
   "cell_type": "code",
   "execution_count": null,
   "id": "7293f82c",
   "metadata": {
    "id": "7293f82c"
   },
   "outputs": [],
   "source": [
    "X_train_C, X_test_C, y_train_C, y_test_C = train_test_split(sample['Combined'], sample['sectionName'], random_state=10, test_size=0.20)"
   ]
  },
  {
   "cell_type": "code",
   "execution_count": null,
   "id": "49c51bcc",
   "metadata": {
    "id": "49c51bcc",
    "outputId": "c6541a71-9d8a-4bdb-ded8-d002cb8a0684"
   },
   "outputs": [
    {
     "data": {
      "text/html": [
       "<div>\n",
       "<style scoped>\n",
       "    .dataframe tbody tr th:only-of-type {\n",
       "        vertical-align: middle;\n",
       "    }\n",
       "\n",
       "    .dataframe tbody tr th {\n",
       "        vertical-align: top;\n",
       "    }\n",
       "\n",
       "    .dataframe thead th {\n",
       "        text-align: right;\n",
       "    }\n",
       "</style>\n",
       "<table border=\"1\" class=\"dataframe\">\n",
       "  <thead>\n",
       "    <tr style=\"text-align: right;\">\n",
       "      <th></th>\n",
       "      <th>Art and design</th>\n",
       "      <th>Australia news</th>\n",
       "      <th>Books</th>\n",
       "      <th>Business</th>\n",
       "      <th>Environment</th>\n",
       "      <th>Film</th>\n",
       "      <th>Football</th>\n",
       "      <th>Life and style</th>\n",
       "      <th>Media</th>\n",
       "      <th>Music</th>\n",
       "      <th>Opinion</th>\n",
       "      <th>Politics</th>\n",
       "      <th>Society</th>\n",
       "      <th>Sport</th>\n",
       "      <th>Stage</th>\n",
       "      <th>Technology</th>\n",
       "      <th>Television &amp; radio</th>\n",
       "      <th>UK news</th>\n",
       "      <th>US news</th>\n",
       "      <th>World news</th>\n",
       "    </tr>\n",
       "  </thead>\n",
       "  <tbody>\n",
       "    <tr>\n",
       "      <th>137710</th>\n",
       "      <td>False</td>\n",
       "      <td>False</td>\n",
       "      <td>False</td>\n",
       "      <td>False</td>\n",
       "      <td>False</td>\n",
       "      <td>True</td>\n",
       "      <td>False</td>\n",
       "      <td>False</td>\n",
       "      <td>False</td>\n",
       "      <td>False</td>\n",
       "      <td>False</td>\n",
       "      <td>False</td>\n",
       "      <td>False</td>\n",
       "      <td>False</td>\n",
       "      <td>False</td>\n",
       "      <td>False</td>\n",
       "      <td>False</td>\n",
       "      <td>False</td>\n",
       "      <td>False</td>\n",
       "      <td>False</td>\n",
       "    </tr>\n",
       "    <tr>\n",
       "      <th>136003</th>\n",
       "      <td>False</td>\n",
       "      <td>False</td>\n",
       "      <td>False</td>\n",
       "      <td>False</td>\n",
       "      <td>False</td>\n",
       "      <td>False</td>\n",
       "      <td>False</td>\n",
       "      <td>False</td>\n",
       "      <td>False</td>\n",
       "      <td>False</td>\n",
       "      <td>False</td>\n",
       "      <td>False</td>\n",
       "      <td>False</td>\n",
       "      <td>False</td>\n",
       "      <td>False</td>\n",
       "      <td>False</td>\n",
       "      <td>False</td>\n",
       "      <td>False</td>\n",
       "      <td>False</td>\n",
       "      <td>True</td>\n",
       "    </tr>\n",
       "    <tr>\n",
       "      <th>63694</th>\n",
       "      <td>False</td>\n",
       "      <td>False</td>\n",
       "      <td>False</td>\n",
       "      <td>False</td>\n",
       "      <td>False</td>\n",
       "      <td>False</td>\n",
       "      <td>False</td>\n",
       "      <td>False</td>\n",
       "      <td>False</td>\n",
       "      <td>False</td>\n",
       "      <td>False</td>\n",
       "      <td>False</td>\n",
       "      <td>False</td>\n",
       "      <td>False</td>\n",
       "      <td>False</td>\n",
       "      <td>False</td>\n",
       "      <td>False</td>\n",
       "      <td>False</td>\n",
       "      <td>True</td>\n",
       "      <td>False</td>\n",
       "    </tr>\n",
       "    <tr>\n",
       "      <th>110986</th>\n",
       "      <td>False</td>\n",
       "      <td>False</td>\n",
       "      <td>False</td>\n",
       "      <td>False</td>\n",
       "      <td>False</td>\n",
       "      <td>False</td>\n",
       "      <td>False</td>\n",
       "      <td>False</td>\n",
       "      <td>False</td>\n",
       "      <td>False</td>\n",
       "      <td>False</td>\n",
       "      <td>True</td>\n",
       "      <td>False</td>\n",
       "      <td>False</td>\n",
       "      <td>False</td>\n",
       "      <td>False</td>\n",
       "      <td>False</td>\n",
       "      <td>False</td>\n",
       "      <td>False</td>\n",
       "      <td>False</td>\n",
       "    </tr>\n",
       "    <tr>\n",
       "      <th>64810</th>\n",
       "      <td>False</td>\n",
       "      <td>False</td>\n",
       "      <td>False</td>\n",
       "      <td>False</td>\n",
       "      <td>False</td>\n",
       "      <td>False</td>\n",
       "      <td>False</td>\n",
       "      <td>False</td>\n",
       "      <td>False</td>\n",
       "      <td>False</td>\n",
       "      <td>False</td>\n",
       "      <td>False</td>\n",
       "      <td>False</td>\n",
       "      <td>True</td>\n",
       "      <td>False</td>\n",
       "      <td>False</td>\n",
       "      <td>False</td>\n",
       "      <td>False</td>\n",
       "      <td>False</td>\n",
       "      <td>False</td>\n",
       "    </tr>\n",
       "    <tr>\n",
       "      <th>...</th>\n",
       "      <td>...</td>\n",
       "      <td>...</td>\n",
       "      <td>...</td>\n",
       "      <td>...</td>\n",
       "      <td>...</td>\n",
       "      <td>...</td>\n",
       "      <td>...</td>\n",
       "      <td>...</td>\n",
       "      <td>...</td>\n",
       "      <td>...</td>\n",
       "      <td>...</td>\n",
       "      <td>...</td>\n",
       "      <td>...</td>\n",
       "      <td>...</td>\n",
       "      <td>...</td>\n",
       "      <td>...</td>\n",
       "      <td>...</td>\n",
       "      <td>...</td>\n",
       "      <td>...</td>\n",
       "      <td>...</td>\n",
       "    </tr>\n",
       "    <tr>\n",
       "      <th>56392</th>\n",
       "      <td>False</td>\n",
       "      <td>False</td>\n",
       "      <td>False</td>\n",
       "      <td>False</td>\n",
       "      <td>False</td>\n",
       "      <td>False</td>\n",
       "      <td>False</td>\n",
       "      <td>False</td>\n",
       "      <td>False</td>\n",
       "      <td>True</td>\n",
       "      <td>False</td>\n",
       "      <td>False</td>\n",
       "      <td>False</td>\n",
       "      <td>False</td>\n",
       "      <td>False</td>\n",
       "      <td>False</td>\n",
       "      <td>False</td>\n",
       "      <td>False</td>\n",
       "      <td>False</td>\n",
       "      <td>False</td>\n",
       "    </tr>\n",
       "    <tr>\n",
       "      <th>62086</th>\n",
       "      <td>False</td>\n",
       "      <td>False</td>\n",
       "      <td>False</td>\n",
       "      <td>False</td>\n",
       "      <td>False</td>\n",
       "      <td>False</td>\n",
       "      <td>True</td>\n",
       "      <td>False</td>\n",
       "      <td>False</td>\n",
       "      <td>False</td>\n",
       "      <td>False</td>\n",
       "      <td>False</td>\n",
       "      <td>False</td>\n",
       "      <td>False</td>\n",
       "      <td>False</td>\n",
       "      <td>False</td>\n",
       "      <td>False</td>\n",
       "      <td>False</td>\n",
       "      <td>False</td>\n",
       "      <td>False</td>\n",
       "    </tr>\n",
       "    <tr>\n",
       "      <th>50185</th>\n",
       "      <td>False</td>\n",
       "      <td>False</td>\n",
       "      <td>False</td>\n",
       "      <td>True</td>\n",
       "      <td>False</td>\n",
       "      <td>False</td>\n",
       "      <td>False</td>\n",
       "      <td>False</td>\n",
       "      <td>False</td>\n",
       "      <td>False</td>\n",
       "      <td>False</td>\n",
       "      <td>False</td>\n",
       "      <td>False</td>\n",
       "      <td>False</td>\n",
       "      <td>False</td>\n",
       "      <td>False</td>\n",
       "      <td>False</td>\n",
       "      <td>False</td>\n",
       "      <td>False</td>\n",
       "      <td>False</td>\n",
       "    </tr>\n",
       "    <tr>\n",
       "      <th>112012</th>\n",
       "      <td>False</td>\n",
       "      <td>False</td>\n",
       "      <td>True</td>\n",
       "      <td>False</td>\n",
       "      <td>False</td>\n",
       "      <td>False</td>\n",
       "      <td>False</td>\n",
       "      <td>False</td>\n",
       "      <td>False</td>\n",
       "      <td>False</td>\n",
       "      <td>False</td>\n",
       "      <td>False</td>\n",
       "      <td>False</td>\n",
       "      <td>False</td>\n",
       "      <td>False</td>\n",
       "      <td>False</td>\n",
       "      <td>False</td>\n",
       "      <td>False</td>\n",
       "      <td>False</td>\n",
       "      <td>False</td>\n",
       "    </tr>\n",
       "    <tr>\n",
       "      <th>59198</th>\n",
       "      <td>False</td>\n",
       "      <td>False</td>\n",
       "      <td>False</td>\n",
       "      <td>False</td>\n",
       "      <td>False</td>\n",
       "      <td>False</td>\n",
       "      <td>False</td>\n",
       "      <td>False</td>\n",
       "      <td>False</td>\n",
       "      <td>False</td>\n",
       "      <td>False</td>\n",
       "      <td>False</td>\n",
       "      <td>False</td>\n",
       "      <td>False</td>\n",
       "      <td>False</td>\n",
       "      <td>False</td>\n",
       "      <td>False</td>\n",
       "      <td>False</td>\n",
       "      <td>False</td>\n",
       "      <td>True</td>\n",
       "    </tr>\n",
       "  </tbody>\n",
       "</table>\n",
       "<p>15558 rows × 20 columns</p>\n",
       "</div>"
      ],
      "text/plain": [
       "        Art and design  Australia news  Books  Business  Environment   Film   \n",
       "137710           False           False  False     False        False   True  \\\n",
       "136003           False           False  False     False        False  False   \n",
       "63694            False           False  False     False        False  False   \n",
       "110986           False           False  False     False        False  False   \n",
       "64810            False           False  False     False        False  False   \n",
       "...                ...             ...    ...       ...          ...    ...   \n",
       "56392            False           False  False     False        False  False   \n",
       "62086            False           False  False     False        False  False   \n",
       "50185            False           False  False      True        False  False   \n",
       "112012           False           False   True     False        False  False   \n",
       "59198            False           False  False     False        False  False   \n",
       "\n",
       "        Football  Life and style  Media  Music  Opinion  Politics  Society   \n",
       "137710     False           False  False  False    False     False    False  \\\n",
       "136003     False           False  False  False    False     False    False   \n",
       "63694      False           False  False  False    False     False    False   \n",
       "110986     False           False  False  False    False      True    False   \n",
       "64810      False           False  False  False    False     False    False   \n",
       "...          ...             ...    ...    ...      ...       ...      ...   \n",
       "56392      False           False  False   True    False     False    False   \n",
       "62086       True           False  False  False    False     False    False   \n",
       "50185      False           False  False  False    False     False    False   \n",
       "112012     False           False  False  False    False     False    False   \n",
       "59198      False           False  False  False    False     False    False   \n",
       "\n",
       "        Sport  Stage  Technology  Television & radio  UK news  US news   \n",
       "137710  False  False       False               False    False    False  \\\n",
       "136003  False  False       False               False    False    False   \n",
       "63694   False  False       False               False    False     True   \n",
       "110986  False  False       False               False    False    False   \n",
       "64810    True  False       False               False    False    False   \n",
       "...       ...    ...         ...                 ...      ...      ...   \n",
       "56392   False  False       False               False    False    False   \n",
       "62086   False  False       False               False    False    False   \n",
       "50185   False  False       False               False    False    False   \n",
       "112012  False  False       False               False    False    False   \n",
       "59198   False  False       False               False    False    False   \n",
       "\n",
       "        World news  \n",
       "137710       False  \n",
       "136003        True  \n",
       "63694        False  \n",
       "110986       False  \n",
       "64810        False  \n",
       "...            ...  \n",
       "56392        False  \n",
       "62086        False  \n",
       "50185        False  \n",
       "112012       False  \n",
       "59198         True  \n",
       "\n",
       "[15558 rows x 20 columns]"
      ]
     },
     "metadata": {},
     "output_type": "display_data"
    }
   ],
   "source": [
    "oh = OneHotEncoder()\n",
    "y_train_le_C = pd.get_dummies(y_train_C)\n",
    "y_test_le_C = pd.get_dummies(y_test_C)\n",
    "#y_val_le = pd.get_dummies(y_val)\n",
    "\n",
    "display(y_train_le_C)"
   ]
  },
  {
   "cell_type": "code",
   "execution_count": null,
   "id": "74094dd9",
   "metadata": {
    "id": "74094dd9"
   },
   "outputs": [],
   "source": [
    "hub_layer = hub.KerasLayer(\"https://tfhub.dev/google/tf2-preview/gnews-swivel-20dim/1\", output_shape=[20],\n",
    "                           input_shape=[], dtype=tf.string)"
   ]
  },
  {
   "cell_type": "code",
   "execution_count": null,
   "id": "db7cb039",
   "metadata": {
    "id": "db7cb039"
   },
   "outputs": [],
   "source": [
    "model9 = tf.keras.Sequential()\n",
    "model9.add(hub_layer)\n",
    "model9.add(Dense(400,activation=\"relu\"))\n",
    "model9.add(Dense(400,activation=\"relu\"))\n",
    "model9.add(Dense(400,activation=\"relu\"))\n",
    "model9.add(Dense(400,activation=\"relu\"))\n",
    "model9.add(tf.keras.layers.Dense(20, activation='softmax'))"
   ]
  },
  {
   "cell_type": "code",
   "execution_count": null,
   "id": "53ccd69a",
   "metadata": {
    "id": "53ccd69a",
    "outputId": "9cd14d0a-d6d8-4db7-a124-d7b40ded3b67"
   },
   "outputs": [
    {
     "name": "stdout",
     "output_type": "stream",
     "text": [
      "Epoch 1/20\n",
      "438/438 [==============================] - 3s 5ms/step - loss: 1.9278 - accuracy: 0.3748 - val_loss: 1.8555 - val_accuracy: 0.3811\n",
      "Epoch 2/20\n",
      "438/438 [==============================] - 2s 5ms/step - loss: 1.7431 - accuracy: 0.4299 - val_loss: 1.7374 - val_accuracy: 0.4377\n",
      "Epoch 3/20\n",
      "438/438 [==============================] - 2s 5ms/step - loss: 1.6645 - accuracy: 0.4575 - val_loss: 1.7672 - val_accuracy: 0.4216\n",
      "Epoch 4/20\n",
      "438/438 [==============================] - 2s 4ms/step - loss: 1.6129 - accuracy: 0.4712 - val_loss: 1.7324 - val_accuracy: 0.4357\n",
      "Epoch 5/20\n",
      "438/438 [==============================] - 2s 4ms/step - loss: 1.5586 - accuracy: 0.4857 - val_loss: 1.7251 - val_accuracy: 0.4299\n",
      "Epoch 6/20\n",
      "438/438 [==============================] - 2s 4ms/step - loss: 1.5023 - accuracy: 0.4952 - val_loss: 1.7493 - val_accuracy: 0.4402\n",
      "Epoch 7/20\n",
      "438/438 [==============================] - 2s 4ms/step - loss: 1.4477 - accuracy: 0.5090 - val_loss: 1.7527 - val_accuracy: 0.4377\n",
      "Epoch 8/20\n",
      "438/438 [==============================] - 2s 4ms/step - loss: 1.3776 - accuracy: 0.5353 - val_loss: 1.8373 - val_accuracy: 0.4280\n",
      "Epoch 9/20\n",
      "438/438 [==============================] - 2s 4ms/step - loss: 1.3149 - accuracy: 0.5526 - val_loss: 1.8170 - val_accuracy: 0.4422\n",
      "Epoch 10/20\n",
      "438/438 [==============================] - 2s 4ms/step - loss: 1.2394 - accuracy: 0.5746 - val_loss: 1.9320 - val_accuracy: 0.4332\n",
      "Epoch 11/20\n",
      "438/438 [==============================] - 2s 4ms/step - loss: 1.1489 - accuracy: 0.5994 - val_loss: 1.9571 - val_accuracy: 0.4402\n",
      "Epoch 12/20\n",
      "438/438 [==============================] - 2s 5ms/step - loss: 1.0466 - accuracy: 0.6311 - val_loss: 2.1112 - val_accuracy: 0.4190\n",
      "Epoch 13/20\n",
      "438/438 [==============================] - 2s 4ms/step - loss: 0.9548 - accuracy: 0.6591 - val_loss: 2.1907 - val_accuracy: 0.4280\n",
      "Epoch 14/20\n",
      "438/438 [==============================] - 2s 4ms/step - loss: 0.8646 - accuracy: 0.6900 - val_loss: 2.2863 - val_accuracy: 0.4261\n",
      "Epoch 15/20\n",
      "438/438 [==============================] - 2s 4ms/step - loss: 0.7520 - accuracy: 0.7332 - val_loss: 2.4716 - val_accuracy: 0.4306\n",
      "Epoch 16/20\n",
      "438/438 [==============================] - 2s 4ms/step - loss: 0.6540 - accuracy: 0.7672 - val_loss: 2.5817 - val_accuracy: 0.4254\n",
      "Epoch 17/20\n",
      "438/438 [==============================] - 2s 4ms/step - loss: 0.5620 - accuracy: 0.8000 - val_loss: 2.9833 - val_accuracy: 0.4158\n",
      "Epoch 18/20\n",
      "438/438 [==============================] - 2s 4ms/step - loss: 0.4638 - accuracy: 0.8308 - val_loss: 3.2374 - val_accuracy: 0.4158\n",
      "Epoch 19/20\n",
      "438/438 [==============================] - 2s 4ms/step - loss: 0.4169 - accuracy: 0.8533 - val_loss: 3.3504 - val_accuracy: 0.4145\n",
      "Epoch 20/20\n",
      "438/438 [==============================] - 2s 4ms/step - loss: 0.3825 - accuracy: 0.8641 - val_loss: 3.6295 - val_accuracy: 0.4055\n"
     ]
    }
   ],
   "source": [
    "model9.compile(optimizer='adam',\n",
    "              loss='categorical_crossentropy',\n",
    "             metrics=['accuracy'])\n",
    "\n",
    "hist9 = model9.fit(X_train_C, y_train_le_C,\n",
    "          batch_size=32,\n",
    "          epochs=20,\n",
    "         validation_split=0.10)"
   ]
  },
  {
   "cell_type": "code",
   "execution_count": null,
   "id": "487e230e",
   "metadata": {
    "id": "487e230e",
    "outputId": "4a7c6d1e-0502-4658-b5dd-f52740cef962"
   },
   "outputs": [
    {
     "name": "stdout",
     "output_type": "stream",
     "text": [
      "dict_keys(['loss', 'accuracy', 'val_loss', 'val_accuracy'])\n"
     ]
    },
    {
     "data": {
      "image/png": "[encoded data removed]",
      "text/plain": [
       "<Figure size 640x480 with 1 Axes>"
      ]
     },
     "metadata": {},
     "output_type": "display_data"
    }
   ],
   "source": [
    "print(hist9.history.keys())\n",
    "\n",
    "plt.clf()\n",
    "plt.plot(hist9.history['accuracy'])\n",
    "plt.plot(hist9.history['val_accuracy'])\n",
    "plt.title('Model 9: WebTitle+Body Content + Pre-trained embedding : Model accuracies for train and validation')\n",
    "plt.ylabel('Accuracy')\n",
    "plt.xlabel('Epoch')\n",
    "plt.legend(['Train', 'Validation'], loc='upper left')\n",
    "plt.show()"
   ]
  },
  {
   "cell_type": "markdown",
   "id": "cef57dbb",
   "metadata": {
    "id": "cef57dbb"
   },
   "source": [
    "### Model 10 - CNN - Uniform kernels"
   ]
  },
  {
   "cell_type": "code",
   "execution_count": null,
   "id": "69d2212e",
   "metadata": {
    "id": "69d2212e"
   },
   "outputs": [],
   "source": [
    "model10 = Sequential()\n",
    "\n",
    "model10.add(vectorizer)\n",
    "\n",
    "model10.add(Embedding(max_features, embedding_dims))\n",
    "#model7.add(LSTM(embedding_dims, return_sequences=True))\n",
    "model10.add(Conv1D(80, 10, padding='same', activation='relu'))\n",
    "model10.add(AveragePooling1D())\n",
    "model10.add(Conv1D(80, 10, padding='same', activation='relu'))\n",
    "model10.add(AveragePooling1D())\n",
    "model10.add(Conv1D(80, 10, padding='same', activation='relu'))\n",
    "model10.add(AveragePooling1D())\n",
    "model10.add(LSTM(embedding_dims, return_sequences=True))\n",
    "model10.add(LSTM(embedding_dims, return_sequences=False))\n",
    "model10.add(Dense(400,activation=\"relu\"))\n",
    "model10.add(Dense(400,activation=\"relu\"))\n",
    "model10.add(Dense(400,activation=\"relu\"))\n",
    "model10.add(Dense(20,activation=tf.keras.activations.softmax))"
   ]
  },
  {
   "cell_type": "code",
   "execution_count": null,
   "id": "a06d442f",
   "metadata": {
    "id": "a06d442f",
    "outputId": "89c6b5c8-6015-473f-e442-27b57dea9733"
   },
   "outputs": [
    {
     "name": "stdout",
     "output_type": "stream",
     "text": [
      "Model: \"sequential_9\"\n",
      "_________________________________________________________________\n",
      " Layer (type)                Output Shape              Param #   \n",
      "=================================================================\n",
      " text_vectorization (TextVec  (None, None)             0         \n",
      " torization)                                                     \n",
      "                                                                 \n",
      " embedding_7 (Embedding)     (None, None, 16)          1120000   \n",
      "                                                                 \n",
      " conv1d_8 (Conv1D)           (None, None, 80)          12880     \n",
      "                                                                 \n",
      " average_pooling1d_5 (Averag  (None, None, 80)         0         \n",
      " ePooling1D)                                                     \n",
      "                                                                 \n",
      " conv1d_9 (Conv1D)           (None, None, 80)          64080     \n",
      "                                                                 \n",
      " average_pooling1d_6 (Averag  (None, None, 80)         0         \n",
      " ePooling1D)                                                     \n",
      "                                                                 \n",
      " conv1d_10 (Conv1D)          (None, None, 80)          64080     \n",
      "                                                                 \n",
      " average_pooling1d_7 (Averag  (None, None, 80)         0         \n",
      " ePooling1D)                                                     \n",
      "                                                                 \n",
      " lstm_6 (LSTM)               (None, None, 16)          6208      \n",
      "                                                                 \n",
      " lstm_7 (LSTM)               (None, 16)                2112      \n",
      "                                                                 \n",
      " dense_37 (Dense)            (None, 400)               6800      \n",
      "                                                                 \n",
      " dense_38 (Dense)            (None, 400)               160400    \n",
      "                                                                 \n",
      " dense_39 (Dense)            (None, 400)               160400    \n",
      "                                                                 \n",
      " dense_40 (Dense)            (None, 20)                8020      \n",
      "                                                                 \n",
      "=================================================================\n",
      "Total params: 1,604,980\n",
      "Trainable params: 1,604,980\n",
      "Non-trainable params: 0\n",
      "_________________________________________________________________\n",
      "Epoch 1/20\n",
      "493/493 [==============================] - 24s 42ms/step - loss: 2.7249 - accuracy: 0.1526 - val_loss: 2.4800 - val_accuracy: 0.2119\n",
      "Epoch 2/20\n",
      "493/493 [==============================] - 19s 38ms/step - loss: 2.2428 - accuracy: 0.2560 - val_loss: 2.3397 - val_accuracy: 0.2587\n",
      "Epoch 3/20\n",
      "493/493 [==============================] - 18s 37ms/step - loss: 1.9133 - accuracy: 0.3348 - val_loss: 2.3507 - val_accuracy: 0.2610\n",
      "Epoch 4/20\n",
      "493/493 [==============================] - 19s 38ms/step - loss: 1.6597 - accuracy: 0.3968 - val_loss: 2.3118 - val_accuracy: 0.2958\n",
      "Epoch 5/20\n",
      "493/493 [==============================] - 19s 38ms/step - loss: 1.4553 - accuracy: 0.4570 - val_loss: 2.4508 - val_accuracy: 0.2878\n",
      "Epoch 6/20\n",
      "493/493 [==============================] - 19s 38ms/step - loss: 1.3053 - accuracy: 0.5032 - val_loss: 2.5497 - val_accuracy: 0.3130\n",
      "Epoch 7/20\n",
      "493/493 [==============================] - 19s 38ms/step - loss: 1.1672 - accuracy: 0.5559 - val_loss: 2.6684 - val_accuracy: 0.3352\n",
      "Epoch 8/20\n",
      "493/493 [==============================] - 19s 38ms/step - loss: 1.0530 - accuracy: 0.5995 - val_loss: 2.8907 - val_accuracy: 0.3152\n",
      "Epoch 9/20\n",
      "493/493 [==============================] - 19s 38ms/step - loss: 0.9165 - accuracy: 0.6581 - val_loss: 2.9750 - val_accuracy: 0.3404\n",
      "Epoch 10/20\n",
      "493/493 [==============================] - 19s 38ms/step - loss: 0.7976 - accuracy: 0.7077 - val_loss: 3.3297 - val_accuracy: 0.3301\n",
      "Epoch 11/20\n",
      "493/493 [==============================] - 19s 38ms/step - loss: 0.7010 - accuracy: 0.7496 - val_loss: 3.5576 - val_accuracy: 0.3210\n",
      "Epoch 12/20\n",
      "493/493 [==============================] - 19s 38ms/step - loss: 0.6291 - accuracy: 0.7802 - val_loss: 3.4497 - val_accuracy: 0.3261\n",
      "Epoch 13/20\n",
      "493/493 [==============================] - 19s 38ms/step - loss: 0.5206 - accuracy: 0.8226 - val_loss: 3.4787 - val_accuracy: 0.3472\n",
      "Epoch 14/20\n",
      "493/493 [==============================] - 19s 38ms/step - loss: 0.4847 - accuracy: 0.8419 - val_loss: 3.7589 - val_accuracy: 0.3495\n",
      "Epoch 15/20\n",
      "493/493 [==============================] - 19s 38ms/step - loss: 0.4233 - accuracy: 0.8633 - val_loss: 3.9884 - val_accuracy: 0.3461\n",
      "Epoch 16/20\n",
      "493/493 [==============================] - 19s 38ms/step - loss: 0.3522 - accuracy: 0.8886 - val_loss: 4.0637 - val_accuracy: 0.3187\n",
      "Epoch 17/20\n",
      "493/493 [==============================] - 19s 38ms/step - loss: 0.3412 - accuracy: 0.8933 - val_loss: 4.2232 - val_accuracy: 0.3341\n",
      "Epoch 18/20\n",
      "493/493 [==============================] - 19s 38ms/step - loss: 0.3051 - accuracy: 0.9057 - val_loss: 3.6290 - val_accuracy: 0.3284\n",
      "Epoch 19/20\n",
      "493/493 [==============================] - 19s 38ms/step - loss: 0.2868 - accuracy: 0.9104 - val_loss: 4.0195 - val_accuracy: 0.3427\n",
      "Epoch 20/20\n",
      "493/493 [==============================] - 19s 38ms/step - loss: 0.2547 - accuracy: 0.9199 - val_loss: 4.0750 - val_accuracy: 0.3518\n"
     ]
    }
   ],
   "source": [
    "model10.compile(optimizer='adam',\n",
    "              loss='categorical_crossentropy',\n",
    "             metrics=['accuracy'])\n",
    "\n",
    "model10.summary()\n",
    "\n",
    "hist10 = model10.fit(X_train, y_train_le,\n",
    "          batch_size=32,\n",
    "          epochs=20,\n",
    "         validation_split=0.10)"
   ]
  },
  {
   "cell_type": "code",
   "execution_count": null,
   "id": "dc07b0a9",
   "metadata": {
    "id": "dc07b0a9",
    "outputId": "14d98817-870e-49dc-f80f-db943fd8dad8"
   },
   "outputs": [
    {
     "name": "stdout",
     "output_type": "stream",
     "text": [
      "dict_keys(['loss', 'accuracy', 'val_loss', 'val_accuracy'])\n"
     ]
    },
    {
     "data": {
      "image/png": "[encoded data removed]",
      "text/plain": [
       "<Figure size 640x480 with 1 Axes>"
      ]
     },
     "metadata": {},
     "output_type": "display_data"
    }
   ],
   "source": [
    "print(hist10.history.keys())\n",
    "\n",
    "plt.clf()\n",
    "plt.plot(hist10.history['accuracy'])\n",
    "plt.plot(hist10.history['val_accuracy'])\n",
    "plt.title('Model 10: CNN - Uniform kernel : Model accuracies for train and validation')\n",
    "plt.ylabel('Accuracy')\n",
    "plt.xlabel('Epoch')\n",
    "plt.legend(['Train', 'Validation'], loc='upper left')\n",
    "plt.show()"
   ]
  },
  {
   "cell_type": "markdown",
   "id": "9f5ad8ee",
   "metadata": {
    "id": "9f5ad8ee"
   },
   "source": [
    "### Evaluating all the models"
   ]
  },
  {
   "cell_type": "code",
   "execution_count": null,
   "id": "8132e94b",
   "metadata": {
    "id": "8132e94b"
   },
   "outputs": [],
   "source": [
    "p1_model_accs = []"
   ]
  },
  {
   "cell_type": "code",
   "execution_count": null,
   "id": "b83b102b",
   "metadata": {
    "id": "b83b102b",
    "outputId": "9d7fc9b2-656a-4339-eed3-8da9b184be1a"
   },
   "outputs": [
    {
     "name": "stdout",
     "output_type": "stream",
     "text": [
      "61/61 [==============================] - 2s 26ms/step - loss: 3.8226 - accuracy: 0.3090\n",
      "Model 1: Test loss/ Test acc\n",
      "[3.822634696960449, 0.30899742245674133]\n"
     ]
    }
   ],
   "source": [
    "acc1 = model.evaluate(X_test, y_test_le, batch_size=32)\n",
    "print(\"Model 1: Test loss/ Test acc\")\n",
    "print(acc1)\n",
    "p1_model_accs.append(acc1[1])"
   ]
  },
  {
   "cell_type": "code",
   "execution_count": null,
   "id": "10e2e08b",
   "metadata": {
    "id": "10e2e08b",
    "outputId": "48a529c1-0646-4a7a-c7cf-6fe74f4bc418"
   },
   "outputs": [
    {
     "name": "stdout",
     "output_type": "stream",
     "text": [
      "61/61 [==============================] - 1s 13ms/step - loss: 2.8763 - accuracy: 0.1296\n",
      "Model 2: Test loss/ Test acc\n",
      "[2.876277208328247, 0.12956298887729645]\n"
     ]
    }
   ],
   "source": [
    "acc2 = model2.evaluate(X_test, y_test_le, batch_size=32)\n",
    "print(\"Model 2: Test loss/ Test acc\")\n",
    "print(acc2)\n",
    "p1_model_accs.append(acc2[1])"
   ]
  },
  {
   "cell_type": "code",
   "execution_count": null,
   "id": "415f1fae",
   "metadata": {
    "id": "415f1fae",
    "outputId": "6dc2aa33-cc5e-413a-9d0d-a484d3ce62ae"
   },
   "outputs": [
    {
     "name": "stdout",
     "output_type": "stream",
     "text": [
      "61/61 [==============================] - 3s 50ms/step - loss: 2.6016 - accuracy: 0.2149\n",
      "Model 3: Test loss/ Test acc\n",
      "[2.6016042232513428, 0.21491003036499023]\n"
     ]
    }
   ],
   "source": [
    "acc3 = model3.evaluate(X_test, y_test_le, batch_size=32)\n",
    "print(\"Model 3: Test loss/ Test acc\")\n",
    "print(acc3)\n",
    "p1_model_accs.append(acc3[1])"
   ]
  },
  {
   "cell_type": "code",
   "execution_count": null,
   "id": "a14b3403",
   "metadata": {
    "id": "a14b3403",
    "outputId": "ad7c1a02-c4df-4f34-b473-79c0b7be1897"
   },
   "outputs": [
    {
     "name": "stdout",
     "output_type": "stream",
     "text": [
      "61/61 [==============================] - 0s 2ms/step - loss: 3.8287 - accuracy: 0.3815\n",
      "Model 4: Test loss/ Test acc\n",
      "[3.8287274837493896, 0.3814910054206848]\n"
     ]
    }
   ],
   "source": [
    "acc4 = model4.evaluate(X_test, y_test_le, batch_size=32)\n",
    "print(\"Model 4: Test loss/ Test acc\")\n",
    "print(acc4)\n",
    "p1_model_accs.append(acc4[1])"
   ]
  },
  {
   "cell_type": "code",
   "execution_count": null,
   "id": "3b9b961a",
   "metadata": {
    "id": "3b9b961a",
    "outputId": "90cf5716-9388-4cfd-928d-6729a4f829ec"
   },
   "outputs": [
    {
     "name": "stdout",
     "output_type": "stream",
     "text": [
      "61/61 [==============================] - 0s 3ms/step - loss: 9.8564 - accuracy: 0.3429\n",
      "Model 5: Test loss/ Test acc\n",
      "[9.85643482208252, 0.3429305851459503]\n"
     ]
    }
   ],
   "source": [
    "acc5 = model5.evaluate(X_test, y_test_le, batch_size=32)\n",
    "print(\"Model 5: Test loss/ Test acc\")\n",
    "print(acc5)\n",
    "p1_model_accs.append(acc5[1])"
   ]
  },
  {
   "cell_type": "code",
   "execution_count": null,
   "id": "0729e4ba",
   "metadata": {
    "id": "0729e4ba",
    "outputId": "18e6da50-11ac-4285-b01d-33163434b768"
   },
   "outputs": [
    {
     "name": "stdout",
     "output_type": "stream",
     "text": [
      "61/61 [==============================] - 1s 8ms/step - loss: 4.9090 - accuracy: 0.4139\n",
      "Model 6: Test loss/ Test acc\n",
      "[4.9089813232421875, 0.41388174891471863]\n"
     ]
    }
   ],
   "source": [
    "acc6 = model6.evaluate(X_test, y_test_le, batch_size=32)\n",
    "print(\"Model 6: Test loss/ Test acc\")\n",
    "print(acc6)\n",
    "p1_model_accs.append(acc6[1])"
   ]
  },
  {
   "cell_type": "code",
   "execution_count": null,
   "id": "92977662",
   "metadata": {
    "id": "92977662",
    "outputId": "0d385613-ceeb-4b95-eb28-da4289f3a379"
   },
   "outputs": [
    {
     "name": "stdout",
     "output_type": "stream",
     "text": [
      "61/61 [==============================] - 1s 11ms/step - loss: 4.3046 - accuracy: 0.3933\n",
      "Model 7: Test loss/ Test acc\n",
      "[4.304594039916992, 0.39331620931625366]\n"
     ]
    }
   ],
   "source": [
    "acc7 = model7.evaluate(X_test, y_test_le, batch_size=32)\n",
    "print(\"Model 7: Test loss/ Test acc\")\n",
    "print(acc7)\n",
    "p1_model_accs.append(acc7[1])"
   ]
  },
  {
   "cell_type": "code",
   "execution_count": null,
   "id": "b431c661",
   "metadata": {
    "id": "b431c661",
    "outputId": "9550d2d6-b87b-4f17-804c-ae61787a9c54"
   },
   "outputs": [
    {
     "name": "stdout",
     "output_type": "stream",
     "text": [
      "0.33624678663239077\n"
     ]
    }
   ],
   "source": [
    "y_pred = gnb_model.predict(X_test_nb)\n",
    "acc = accuracy_score(y_test_nb, y_pred)\n",
    "print(acc)\n",
    "p1_model_accs.append(acc)"
   ]
  },
  {
   "cell_type": "code",
   "execution_count": null,
   "id": "b7961f7a",
   "metadata": {
    "id": "b7961f7a",
    "outputId": "be0bae36-46df-4b10-d620-9498614a4d28"
   },
   "outputs": [
    {
     "name": "stdout",
     "output_type": "stream",
     "text": [
      "122/122 [==============================] - 0s 2ms/step - loss: 3.4889 - accuracy: 0.4100\n",
      "Model 7: Test loss/ Test acc\n",
      "[3.4888505935668945, 0.4100257158279419]\n"
     ]
    }
   ],
   "source": [
    "acc9 = model9.evaluate(X_test_C, y_test_le_C, batch_size=32)\n",
    "print(\"Model 7: Test loss/ Test acc\")\n",
    "print(acc9)\n",
    "p1_model_accs.append(acc9[1])"
   ]
  },
  {
   "cell_type": "code",
   "execution_count": null,
   "id": "b962cc98",
   "metadata": {
    "id": "b962cc98",
    "outputId": "030a45ca-9d84-4ae1-e9db-6cd1f370858e"
   },
   "outputs": [
    {
     "name": "stdout",
     "output_type": "stream",
     "text": [
      "61/61 [==============================] - 1s 11ms/step - loss: 3.9818 - accuracy: 0.3702\n",
      "Model 10: Test loss/ Test acc\n",
      "[3.9817535877227783, 0.3701799511909485]\n"
     ]
    }
   ],
   "source": [
    "acc10 = model10.evaluate(X_test, y_test_le, batch_size=32)\n",
    "print(\"Model 10: Test loss/ Test acc\")\n",
    "print(acc10)\n",
    "p1_model_accs.append(acc10[1])"
   ]
  },
  {
   "cell_type": "code",
   "execution_count": null,
   "id": "fbc55cbc",
   "metadata": {
    "id": "fbc55cbc",
    "outputId": "54f68741-34d0-43ec-feac-b978f96d15b6"
   },
   "outputs": [
    {
     "name": "stdout",
     "output_type": "stream",
     "text": [
      "[0.30899742245674133, 0.12956298887729645, 0.21491003036499023, 0.3814910054206848, 0.3429305851459503, 0.41388174891471863, 0.39331620931625366, 0.33624678663239077, 0.4100257158279419, 0.3701799511909485]\n"
     ]
    }
   ],
   "source": [
    "print(p1_model_accs)"
   ]
  },
  {
   "cell_type": "markdown",
   "id": "91822e92",
   "metadata": {
    "id": "91822e92"
   },
   "source": [
    "### Plotting the test accuracies as a graph"
   ]
  },
  {
   "cell_type": "code",
   "execution_count": null,
   "id": "dda29769",
   "metadata": {
    "id": "dda29769",
    "outputId": "c228fcde-fc62-4b0f-9e7f-4140062f39f8"
   },
   "outputs": [
    {
     "data": {
      "application/vnd.plotly.v1+json": {
       "config": {
        "plotlyServerURL": "https://plot.ly"
       },
       "data": [
        {
         "alignmentgroup": "True",
         "hovertemplate": "Model No.=%{x}<br>Test Accuracy=%{y}<extra></extra>",
         "legendgroup": "",
         "marker": {
          "color": "#636efa",
          "pattern": {
           "shape": ""
          }
         },
         "name": "",
         "offsetgroup": "",
         "orientation": "v",
         "showlegend": false,
         "textposition": "auto",
         "type": "bar",
         "x": [
          1,
          2,
          3,
          4,
          5,
          6,
          7,
          8,
          9,
          10
         ],
         "xaxis": "x",
         "y": [
          0.30899742245674133,
          0.12956298887729645,
          0.21491003036499023,
          0.3814910054206848,
          0.3429305851459503,
          0.41388174891471863,
          0.39331620931625366,
          0.33624678663239077,
          0.4100257158279419,
          0.3701799511909485
         ],
         "yaxis": "y"
        }
       ],
       "layout": {
        "barmode": "stack",
        "legend": {
         "tracegroupgap": 0
        },
        "template": {
         "data": {
          "bar": [
           {
            "error_x": {
             "color": "#2a3f5f"
            },
            "error_y": {
             "color": "#2a3f5f"
            },
            "marker": {
             "line": {
              "color": "#E5ECF6",
              "width": 0.5
             },
             "pattern": {
              "fillmode": "overlay",
              "size": 10,
              "solidity": 0.2
             }
            },
            "type": "bar"
           }
          ],
          "barpolar": [
           {
            "marker": {
             "line": {
              "color": "#E5ECF6",
              "width": 0.5
             },
             "pattern": {
              "fillmode": "overlay",
              "size": 10,
              "solidity": 0.2
             }
            },
            "type": "barpolar"
           }
          ],
          "carpet": [
           {
            "aaxis": {
             "endlinecolor": "#2a3f5f",
             "gridcolor": "white",
             "linecolor": "white",
             "minorgridcolor": "white",
             "startlinecolor": "#2a3f5f"
            },
            "baxis": {
             "endlinecolor": "#2a3f5f",
             "gridcolor": "white",
             "linecolor": "white",
             "minorgridcolor": "white",
             "startlinecolor": "#2a3f5f"
            },
            "type": "carpet"
           }
          ],
          "choropleth": [
           {
            "colorbar": {
             "outlinewidth": 0,
             "ticks": ""
            },
            "type": "choropleth"
           }
          ],
          "contour": [
           {
            "colorbar": {
             "outlinewidth": 0,
             "ticks": ""
            },
            "colorscale": [
             [
              0,
              "#0d0887"
             ],
             [
              0.1111111111111111,
              "#46039f"
             ],
             [
              0.2222222222222222,
              "#7201a8"
             ],
             [
              0.3333333333333333,
              "#9c179e"
             ],
             [
              0.4444444444444444,
              "#bd3786"
             ],
             [
              0.5555555555555556,
              "#d8576b"
             ],
             [
              0.6666666666666666,
              "#ed7953"
             ],
             [
              0.7777777777777778,
              "#fb9f3a"
             ],
             [
              0.8888888888888888,
              "#fdca26"
             ],
             [
              1,
              "#f0f921"
             ]
            ],
            "type": "contour"
           }
          ],
          "contourcarpet": [
           {
            "colorbar": {
             "outlinewidth": 0,
             "ticks": ""
            },
            "type": "contourcarpet"
           }
          ],
          "heatmap": [
           {
            "colorbar": {
             "outlinewidth": 0,
             "ticks": ""
            },
            "colorscale": [
             [
              0,
              "#0d0887"
             ],
             [
              0.1111111111111111,
              "#46039f"
             ],
             [
              0.2222222222222222,
              "#7201a8"
             ],
             [
              0.3333333333333333,
              "#9c179e"
             ],
             [
              0.4444444444444444,
              "#bd3786"
             ],
             [
              0.5555555555555556,
              "#d8576b"
             ],
             [
              0.6666666666666666,
              "#ed7953"
             ],
             [
              0.7777777777777778,
              "#fb9f3a"
             ],
             [
              0.8888888888888888,
              "#fdca26"
             ],
             [
              1,
              "#f0f921"
             ]
            ],
            "type": "heatmap"
           }
          ],
          "heatmapgl": [
           {
            "colorbar": {
             "outlinewidth": 0,
             "ticks": ""
            },
            "colorscale": [
             [
              0,
              "#0d0887"
             ],
             [
              0.1111111111111111,
              "#46039f"
             ],
             [
              0.2222222222222222,
              "#7201a8"
             ],
             [
              0.3333333333333333,
              "#9c179e"
             ],
             [
              0.4444444444444444,
              "#bd3786"
             ],
             [
              0.5555555555555556,
              "#d8576b"
             ],
             [
              0.6666666666666666,
              "#ed7953"
             ],
             [
              0.7777777777777778,
              "#fb9f3a"
             ],
             [
              0.8888888888888888,
              "#fdca26"
             ],
             [
              1,
              "#f0f921"
             ]
            ],
            "type": "heatmapgl"
           }
          ],
          "histogram": [
           {
            "marker": {
             "pattern": {
              "fillmode": "overlay",
              "size": 10,
              "solidity": 0.2
             }
            },
            "type": "histogram"
           }
          ],
          "histogram2d": [
           {
            "colorbar": {
             "outlinewidth": 0,
             "ticks": ""
            },
            "colorscale": [
             [
              0,
              "#0d0887"
             ],
             [
              0.1111111111111111,
              "#46039f"
             ],
             [
              0.2222222222222222,
              "#7201a8"
             ],
             [
              0.3333333333333333,
              "#9c179e"
             ],
             [
              0.4444444444444444,
              "#bd3786"
             ],
             [
              0.5555555555555556,
              "#d8576b"
             ],
             [
              0.6666666666666666,
              "#ed7953"
             ],
             [
              0.7777777777777778,
              "#fb9f3a"
             ],
             [
              0.8888888888888888,
              "#fdca26"
             ],
             [
              1,
              "#f0f921"
             ]
            ],
            "type": "histogram2d"
           }
          ],
          "histogram2dcontour": [
           {
            "colorbar": {
             "outlinewidth": 0,
             "ticks": ""
            },
            "colorscale": [
             [
              0,
              "#0d0887"
             ],
             [
              0.1111111111111111,
              "#46039f"
             ],
             [
              0.2222222222222222,
              "#7201a8"
             ],
             [
              0.3333333333333333,
              "#9c179e"
             ],
             [
              0.4444444444444444,
              "#bd3786"
             ],
             [
              0.5555555555555556,
              "#d8576b"
             ],
             [
              0.6666666666666666,
              "#ed7953"
             ],
             [
              0.7777777777777778,
              "#fb9f3a"
             ],
             [
              0.8888888888888888,
              "#fdca26"
             ],
             [
              1,
              "#f0f921"
             ]
            ],
            "type": "histogram2dcontour"
           }
          ],
          "mesh3d": [
           {
            "colorbar": {
             "outlinewidth": 0,
             "ticks": ""
            },
            "type": "mesh3d"
           }
          ],
          "parcoords": [
           {
            "line": {
             "colorbar": {
              "outlinewidth": 0,
              "ticks": ""
             }
            },
            "type": "parcoords"
           }
          ],
          "pie": [
           {
            "automargin": true,
            "type": "pie"
           }
          ],
          "scatter": [
           {
            "fillpattern": {
             "fillmode": "overlay",
             "size": 10,
             "solidity": 0.2
            },
            "type": "scatter"
           }
          ],
          "scatter3d": [
           {
            "line": {
             "colorbar": {
              "outlinewidth": 0,
              "ticks": ""
             }
            },
            "marker": {
             "colorbar": {
              "outlinewidth": 0,
              "ticks": ""
             }
            },
            "type": "scatter3d"
           }
          ],
          "scattercarpet": [
           {
            "marker": {
             "colorbar": {
              "outlinewidth": 0,
              "ticks": ""
             }
            },
            "type": "scattercarpet"
           }
          ],
          "scattergeo": [
           {
            "marker": {
             "colorbar": {
              "outlinewidth": 0,
              "ticks": ""
             }
            },
            "type": "scattergeo"
           }
          ],
          "scattergl": [
           {
            "marker": {
             "colorbar": {
              "outlinewidth": 0,
              "ticks": ""
             }
            },
            "type": "scattergl"
           }
          ],
          "scattermapbox": [
           {
            "marker": {
             "colorbar": {
              "outlinewidth": 0,
              "ticks": ""
             }
            },
            "type": "scattermapbox"
           }
          ],
          "scatterpolar": [
           {
            "marker": {
             "colorbar": {
              "outlinewidth": 0,
              "ticks": ""
             }
            },
            "type": "scatterpolar"
           }
          ],
          "scatterpolargl": [
           {
            "marker": {
             "colorbar": {
              "outlinewidth": 0,
              "ticks": ""
             }
            },
            "type": "scatterpolargl"
           }
          ],
          "scatterternary": [
           {
            "marker": {
             "colorbar": {
              "outlinewidth": 0,
              "ticks": ""
             }
            },
            "type": "scatterternary"
           }
          ],
          "surface": [
           {
            "colorbar": {
             "outlinewidth": 0,
             "ticks": ""
            },
            "colorscale": [
             [
              0,
              "#0d0887"
             ],
             [
              0.1111111111111111,
              "#46039f"
             ],
             [
              0.2222222222222222,
              "#7201a8"
             ],
             [
              0.3333333333333333,
              "#9c179e"
             ],
             [
              0.4444444444444444,
              "#bd3786"
             ],
             [
              0.5555555555555556,
              "#d8576b"
             ],
             [
              0.6666666666666666,
              "#ed7953"
             ],
             [
              0.7777777777777778,
              "#fb9f3a"
             ],
             [
              0.8888888888888888,
              "#fdca26"
             ],
             [
              1,
              "#f0f921"
             ]
            ],
            "type": "surface"
           }
          ],
          "table": [
           {
            "cells": {
             "fill": {
              "color": "#EBF0F8"
             },
             "line": {
              "color": "white"
             }
            },
            "header": {
             "fill": {
              "color": "#C8D4E3"
             },
             "line": {
              "color": "white"
             }
            },
            "type": "table"
           }
          ]
         },
         "layout": {
          "annotationdefaults": {
           "arrowcolor": "#2a3f5f",
           "arrowhead": 0,
           "arrowwidth": 1
          },
          "autotypenumbers": "strict",
          "coloraxis": {
           "colorbar": {
            "outlinewidth": 0,
            "ticks": ""
           }
          },
          "colorscale": {
           "diverging": [
            [
             0,
             "#8e0152"
            ],
            [
             0.1,
             "#c51b7d"
            ],
            [
             0.2,
             "#de77ae"
            ],
            [
             0.3,
             "#f1b6da"
            ],
            [
             0.4,
             "#fde0ef"
            ],
            [
             0.5,
             "#f7f7f7"
            ],
            [
             0.6,
             "#e6f5d0"
            ],
            [
             0.7,
             "#b8e186"
            ],
            [
             0.8,
             "#7fbc41"
            ],
            [
             0.9,
             "#4d9221"
            ],
            [
             1,
             "#276419"
            ]
           ],
           "sequential": [
            [
             0,
             "#0d0887"
            ],
            [
             0.1111111111111111,
             "#46039f"
            ],
            [
             0.2222222222222222,
             "#7201a8"
            ],
            [
             0.3333333333333333,
             "#9c179e"
            ],
            [
             0.4444444444444444,
             "#bd3786"
            ],
            [
             0.5555555555555556,
             "#d8576b"
            ],
            [
             0.6666666666666666,
             "#ed7953"
            ],
            [
             0.7777777777777778,
             "#fb9f3a"
            ],
            [
             0.8888888888888888,
             "#fdca26"
            ],
            [
             1,
             "#f0f921"
            ]
           ],
           "sequentialminus": [
            [
             0,
             "#0d0887"
            ],
            [
             0.1111111111111111,
             "#46039f"
            ],
            [
             0.2222222222222222,
             "#7201a8"
            ],
            [
             0.3333333333333333,
             "#9c179e"
            ],
            [
             0.4444444444444444,
             "#bd3786"
            ],
            [
             0.5555555555555556,
             "#d8576b"
            ],
            [
             0.6666666666666666,
             "#ed7953"
            ],
            [
             0.7777777777777778,
             "#fb9f3a"
            ],
            [
             0.8888888888888888,
             "#fdca26"
            ],
            [
             1,
             "#f0f921"
            ]
           ]
          },
          "colorway": [
           "#636efa",
           "#EF553B",
           "#00cc96",
           "#ab63fa",
           "#FFA15A",
           "#19d3f3",
           "#FF6692",
           "#B6E880",
           "#FF97FF",
           "#FECB52"
          ],
          "font": {
           "color": "#2a3f5f"
          },
          "geo": {
           "bgcolor": "white",
           "lakecolor": "white",
           "landcolor": "#E5ECF6",
           "showlakes": true,
           "showland": true,
           "subunitcolor": "white"
          },
          "hoverlabel": {
           "align": "left"
          },
          "hovermode": "closest",
          "mapbox": {
           "style": "light"
          },
          "paper_bgcolor": "white",
          "plot_bgcolor": "#E5ECF6",
          "polar": {
           "angularaxis": {
            "gridcolor": "white",
            "linecolor": "white",
            "ticks": ""
           },
           "bgcolor": "#E5ECF6",
           "radialaxis": {
            "gridcolor": "white",
            "linecolor": "white",
            "ticks": ""
           }
          },
          "scene": {
           "xaxis": {
            "backgroundcolor": "#E5ECF6",
            "gridcolor": "white",
            "gridwidth": 2,
            "linecolor": "white",
            "showbackground": true,
            "ticks": "",
            "zerolinecolor": "white"
           },
           "yaxis": {
            "backgroundcolor": "#E5ECF6",
            "gridcolor": "white",
            "gridwidth": 2,
            "linecolor": "white",
            "showbackground": true,
            "ticks": "",
            "zerolinecolor": "white"
           },
           "zaxis": {
            "backgroundcolor": "#E5ECF6",
            "gridcolor": "white",
            "gridwidth": 2,
            "linecolor": "white",
            "showbackground": true,
            "ticks": "",
            "zerolinecolor": "white"
           }
          },
          "shapedefaults": {
           "line": {
            "color": "#2a3f5f"
           }
          },
          "ternary": {
           "aaxis": {
            "gridcolor": "white",
            "linecolor": "white",
            "ticks": ""
           },
           "baxis": {
            "gridcolor": "white",
            "linecolor": "white",
            "ticks": ""
           },
           "bgcolor": "#E5ECF6",
           "caxis": {
            "gridcolor": "white",
            "linecolor": "white",
            "ticks": ""
           }
          },
          "title": {
           "x": 0.05
          },
          "xaxis": {
           "automargin": true,
           "gridcolor": "white",
           "linecolor": "white",
           "ticks": "",
           "title": {
            "standoff": 15
           },
           "zerolinecolor": "white",
           "zerolinewidth": 2
          },
          "yaxis": {
           "automargin": true,
           "gridcolor": "white",
           "linecolor": "white",
           "ticks": "",
           "title": {
            "standoff": 15
           },
           "zerolinecolor": "white",
           "zerolinewidth": 2
          }
         }
        },
        "title": {
         "text": "Fig: Evaluation accuracies of Part 1 models"
        },
        "xaxis": {
         "anchor": "y",
         "categoryorder": "total descending",
         "domain": [
          0,
          1
         ],
         "title": {
          "text": "Model No."
         }
        },
        "yaxis": {
         "anchor": "x",
         "domain": [
          0,
          1
         ],
         "title": {
          "text": "Test Accuracy"
         }
        }
       }
      },
      "text/html": [
       "<div>                            <div id=\"d1b09c87-0640-44ba-a2eb-da56675c3e4b\" class=\"plotly-graph-div\" style=\"height:525px; width:100%;\"></div>            <script type=\"text/javascript\">                require([\"plotly\"], function(Plotly) {                    window.PLOTLYENV=window.PLOTLYENV || {};                                    if (document.getElementById(\"d1b09c87-0640-44ba-a2eb-da56675c3e4b\")) {                    Plotly.newPlot(                        \"d1b09c87-0640-44ba-a2eb-da56675c3e4b\",                        [{\"alignmentgroup\":\"True\",\"hovertemplate\":\"Model No.=%{x}<br>Test Accuracy=%{y}<extra></extra>\",\"legendgroup\":\"\",\"marker\":{\"color\":\"#636efa\",\"pattern\":{\"shape\":\"\"}},\"name\":\"\",\"offsetgroup\":\"\",\"orientation\":\"v\",\"showlegend\":false,\"textposition\":\"auto\",\"x\":[1,2,3,4,5,6,7,8,9,10],\"xaxis\":\"x\",\"y\":[0.30899742245674133,0.12956298887729645,0.21491003036499023,0.3814910054206848,0.3429305851459503,0.41388174891471863,0.39331620931625366,0.33624678663239077,0.4100257158279419,0.3701799511909485],\"yaxis\":\"y\",\"type\":\"bar\"}],                        {\"template\":{\"data\":{\"histogram2dcontour\":[{\"type\":\"histogram2dcontour\",\"colorbar\":{\"outlinewidth\":0,\"ticks\":\"\"},\"colorscale\":[[0.0,\"#0d0887\"],[0.1111111111111111,\"#46039f\"],[0.2222222222222222,\"#7201a8\"],[0.3333333333333333,\"#9c179e\"],[0.4444444444444444,\"#bd3786\"],[0.5555555555555556,\"#d8576b\"],[0.6666666666666666,\"#ed7953\"],[0.7777777777777778,\"#fb9f3a\"],[0.8888888888888888,\"#fdca26\"],[1.0,\"#f0f921\"]]}],\"choropleth\":[{\"type\":\"choropleth\",\"colorbar\":{\"outlinewidth\":0,\"ticks\":\"\"}}],\"histogram2d\":[{\"type\":\"histogram2d\",\"colorbar\":{\"outlinewidth\":0,\"ticks\":\"\"},\"colorscale\":[[0.0,\"#0d0887\"],[0.1111111111111111,\"#46039f\"],[0.2222222222222222,\"#7201a8\"],[0.3333333333333333,\"#9c179e\"],[0.4444444444444444,\"#bd3786\"],[0.5555555555555556,\"#d8576b\"],[0.6666666666666666,\"#ed7953\"],[0.7777777777777778,\"#fb9f3a\"],[0.8888888888888888,\"#fdca26\"],[1.0,\"#f0f921\"]]}],\"heatmap\":[{\"type\":\"heatmap\",\"colorbar\":{\"outlinewidth\":0,\"ticks\":\"\"},\"colorscale\":[[0.0,\"#0d0887\"],[0.1111111111111111,\"#46039f\"],[0.2222222222222222,\"#7201a8\"],[0.3333333333333333,\"#9c179e\"],[0.4444444444444444,\"#bd3786\"],[0.5555555555555556,\"#d8576b\"],[0.6666666666666666,\"#ed7953\"],[0.7777777777777778,\"#fb9f3a\"],[0.8888888888888888,\"#fdca26\"],[1.0,\"#f0f921\"]]}],\"heatmapgl\":[{\"type\":\"heatmapgl\",\"colorbar\":{\"outlinewidth\":0,\"ticks\":\"\"},\"colorscale\":[[0.0,\"#0d0887\"],[0.1111111111111111,\"#46039f\"],[0.2222222222222222,\"#7201a8\"],[0.3333333333333333,\"#9c179e\"],[0.4444444444444444,\"#bd3786\"],[0.5555555555555556,\"#d8576b\"],[0.6666666666666666,\"#ed7953\"],[0.7777777777777778,\"#fb9f3a\"],[0.8888888888888888,\"#fdca26\"],[1.0,\"#f0f921\"]]}],\"contourcarpet\":[{\"type\":\"contourcarpet\",\"colorbar\":{\"outlinewidth\":0,\"ticks\":\"\"}}],\"contour\":[{\"type\":\"contour\",\"colorbar\":{\"outlinewidth\":0,\"ticks\":\"\"},\"colorscale\":[[0.0,\"#0d0887\"],[0.1111111111111111,\"#46039f\"],[0.2222222222222222,\"#7201a8\"],[0.3333333333333333,\"#9c179e\"],[0.4444444444444444,\"#bd3786\"],[0.5555555555555556,\"#d8576b\"],[0.6666666666666666,\"#ed7953\"],[0.7777777777777778,\"#fb9f3a\"],[0.8888888888888888,\"#fdca26\"],[1.0,\"#f0f921\"]]}],\"surface\":[{\"type\":\"surface\",\"colorbar\":{\"outlinewidth\":0,\"ticks\":\"\"},\"colorscale\":[[0.0,\"#0d0887\"],[0.1111111111111111,\"#46039f\"],[0.2222222222222222,\"#7201a8\"],[0.3333333333333333,\"#9c179e\"],[0.4444444444444444,\"#bd3786\"],[0.5555555555555556,\"#d8576b\"],[0.6666666666666666,\"#ed7953\"],[0.7777777777777778,\"#fb9f3a\"],[0.8888888888888888,\"#fdca26\"],[1.0,\"#f0f921\"]]}],\"mesh3d\":[{\"type\":\"mesh3d\",\"colorbar\":{\"outlinewidth\":0,\"ticks\":\"\"}}],\"scatter\":[{\"fillpattern\":{\"fillmode\":\"overlay\",\"size\":10,\"solidity\":0.2},\"type\":\"scatter\"}],\"parcoords\":[{\"type\":\"parcoords\",\"line\":{\"colorbar\":{\"outlinewidth\":0,\"ticks\":\"\"}}}],\"scatterpolargl\":[{\"type\":\"scatterpolargl\",\"marker\":{\"colorbar\":{\"outlinewidth\":0,\"ticks\":\"\"}}}],\"bar\":[{\"error_x\":{\"color\":\"#2a3f5f\"},\"error_y\":{\"color\":\"#2a3f5f\"},\"marker\":{\"line\":{\"color\":\"#E5ECF6\",\"width\":0.5},\"pattern\":{\"fillmode\":\"overlay\",\"size\":10,\"solidity\":0.2}},\"type\":\"bar\"}],\"scattergeo\":[{\"type\":\"scattergeo\",\"marker\":{\"colorbar\":{\"outlinewidth\":0,\"ticks\":\"\"}}}],\"scatterpolar\":[{\"type\":\"scatterpolar\",\"marker\":{\"colorbar\":{\"outlinewidth\":0,\"ticks\":\"\"}}}],\"histogram\":[{\"marker\":{\"pattern\":{\"fillmode\":\"overlay\",\"size\":10,\"solidity\":0.2}},\"type\":\"histogram\"}],\"scattergl\":[{\"type\":\"scattergl\",\"marker\":{\"colorbar\":{\"outlinewidth\":0,\"ticks\":\"\"}}}],\"scatter3d\":[{\"type\":\"scatter3d\",\"line\":{\"colorbar\":{\"outlinewidth\":0,\"ticks\":\"\"}},\"marker\":{\"colorbar\":{\"outlinewidth\":0,\"ticks\":\"\"}}}],\"scattermapbox\":[{\"type\":\"scattermapbox\",\"marker\":{\"colorbar\":{\"outlinewidth\":0,\"ticks\":\"\"}}}],\"scatterternary\":[{\"type\":\"scatterternary\",\"marker\":{\"colorbar\":{\"outlinewidth\":0,\"ticks\":\"\"}}}],\"scattercarpet\":[{\"type\":\"scattercarpet\",\"marker\":{\"colorbar\":{\"outlinewidth\":0,\"ticks\":\"\"}}}],\"carpet\":[{\"aaxis\":{\"endlinecolor\":\"#2a3f5f\",\"gridcolor\":\"white\",\"linecolor\":\"white\",\"minorgridcolor\":\"white\",\"startlinecolor\":\"#2a3f5f\"},\"baxis\":{\"endlinecolor\":\"#2a3f5f\",\"gridcolor\":\"white\",\"linecolor\":\"white\",\"minorgridcolor\":\"white\",\"startlinecolor\":\"#2a3f5f\"},\"type\":\"carpet\"}],\"table\":[{\"cells\":{\"fill\":{\"color\":\"#EBF0F8\"},\"line\":{\"color\":\"white\"}},\"header\":{\"fill\":{\"color\":\"#C8D4E3\"},\"line\":{\"color\":\"white\"}},\"type\":\"table\"}],\"barpolar\":[{\"marker\":{\"line\":{\"color\":\"#E5ECF6\",\"width\":0.5},\"pattern\":{\"fillmode\":\"overlay\",\"size\":10,\"solidity\":0.2}},\"type\":\"barpolar\"}],\"pie\":[{\"automargin\":true,\"type\":\"pie\"}]},\"layout\":{\"autotypenumbers\":\"strict\",\"colorway\":[\"#636efa\",\"#EF553B\",\"#00cc96\",\"#ab63fa\",\"#FFA15A\",\"#19d3f3\",\"#FF6692\",\"#B6E880\",\"#FF97FF\",\"#FECB52\"],\"font\":{\"color\":\"#2a3f5f\"},\"hovermode\":\"closest\",\"hoverlabel\":{\"align\":\"left\"},\"paper_bgcolor\":\"white\",\"plot_bgcolor\":\"#E5ECF6\",\"polar\":{\"bgcolor\":\"#E5ECF6\",\"angularaxis\":{\"gridcolor\":\"white\",\"linecolor\":\"white\",\"ticks\":\"\"},\"radialaxis\":{\"gridcolor\":\"white\",\"linecolor\":\"white\",\"ticks\":\"\"}},\"ternary\":{\"bgcolor\":\"#E5ECF6\",\"aaxis\":{\"gridcolor\":\"white\",\"linecolor\":\"white\",\"ticks\":\"\"},\"baxis\":{\"gridcolor\":\"white\",\"linecolor\":\"white\",\"ticks\":\"\"},\"caxis\":{\"gridcolor\":\"white\",\"linecolor\":\"white\",\"ticks\":\"\"}},\"coloraxis\":{\"colorbar\":{\"outlinewidth\":0,\"ticks\":\"\"}},\"colorscale\":{\"sequential\":[[0.0,\"#0d0887\"],[0.1111111111111111,\"#46039f\"],[0.2222222222222222,\"#7201a8\"],[0.3333333333333333,\"#9c179e\"],[0.4444444444444444,\"#bd3786\"],[0.5555555555555556,\"#d8576b\"],[0.6666666666666666,\"#ed7953\"],[0.7777777777777778,\"#fb9f3a\"],[0.8888888888888888,\"#fdca26\"],[1.0,\"#f0f921\"]],\"sequentialminus\":[[0.0,\"#0d0887\"],[0.1111111111111111,\"#46039f\"],[0.2222222222222222,\"#7201a8\"],[0.3333333333333333,\"#9c179e\"],[0.4444444444444444,\"#bd3786\"],[0.5555555555555556,\"#d8576b\"],[0.6666666666666666,\"#ed7953\"],[0.7777777777777778,\"#fb9f3a\"],[0.8888888888888888,\"#fdca26\"],[1.0,\"#f0f921\"]],\"diverging\":[[0,\"#8e0152\"],[0.1,\"#c51b7d\"],[0.2,\"#de77ae\"],[0.3,\"#f1b6da\"],[0.4,\"#fde0ef\"],[0.5,\"#f7f7f7\"],[0.6,\"#e6f5d0\"],[0.7,\"#b8e186\"],[0.8,\"#7fbc41\"],[0.9,\"#4d9221\"],[1,\"#276419\"]]},\"xaxis\":{\"gridcolor\":\"white\",\"linecolor\":\"white\",\"ticks\":\"\",\"title\":{\"standoff\":15},\"zerolinecolor\":\"white\",\"automargin\":true,\"zerolinewidth\":2},\"yaxis\":{\"gridcolor\":\"white\",\"linecolor\":\"white\",\"ticks\":\"\",\"title\":{\"standoff\":15},\"zerolinecolor\":\"white\",\"automargin\":true,\"zerolinewidth\":2},\"scene\":{\"xaxis\":{\"backgroundcolor\":\"#E5ECF6\",\"gridcolor\":\"white\",\"linecolor\":\"white\",\"showbackground\":true,\"ticks\":\"\",\"zerolinecolor\":\"white\",\"gridwidth\":2},\"yaxis\":{\"backgroundcolor\":\"#E5ECF6\",\"gridcolor\":\"white\",\"linecolor\":\"white\",\"showbackground\":true,\"ticks\":\"\",\"zerolinecolor\":\"white\",\"gridwidth\":2},\"zaxis\":{\"backgroundcolor\":\"#E5ECF6\",\"gridcolor\":\"white\",\"linecolor\":\"white\",\"showbackground\":true,\"ticks\":\"\",\"zerolinecolor\":\"white\",\"gridwidth\":2}},\"shapedefaults\":{\"line\":{\"color\":\"#2a3f5f\"}},\"annotationdefaults\":{\"arrowcolor\":\"#2a3f5f\",\"arrowhead\":0,\"arrowwidth\":1},\"geo\":{\"bgcolor\":\"white\",\"landcolor\":\"#E5ECF6\",\"subunitcolor\":\"white\",\"showland\":true,\"showlakes\":true,\"lakecolor\":\"white\"},\"title\":{\"x\":0.05},\"mapbox\":{\"style\":\"light\"}}},\"xaxis\":{\"anchor\":\"y\",\"domain\":[0.0,1.0],\"title\":{\"text\":\"Model No.\"},\"categoryorder\":\"total descending\"},\"yaxis\":{\"anchor\":\"x\",\"domain\":[0.0,1.0],\"title\":{\"text\":\"Test Accuracy\"}},\"legend\":{\"tracegroupgap\":0},\"title\":{\"text\":\"Fig: Evaluation accuracies of Part 1 models\"},\"barmode\":\"stack\"},                        {\"responsive\": true}                    ).then(function(){\n",
       "                            \n",
       "var gd = document.getElementById('d1b09c87-0640-44ba-a2eb-da56675c3e4b');\n",
       "var x = new MutationObserver(function (mutations, observer) {{\n",
       "        var display = window.getComputedStyle(gd).display;\n",
       "        if (!display || display === 'none') {{\n",
       "            console.log([gd, 'removed!']);\n",
       "            Plotly.purge(gd);\n",
       "            observer.disconnect();\n",
       "        }}\n",
       "}});\n",
       "\n",
       "// Listen for the removal of the full notebook cells\n",
       "var notebookContainer = gd.closest('#notebook-container');\n",
       "if (notebookContainer) {{\n",
       "    x.observe(notebookContainer, {childList: true});\n",
       "}}\n",
       "\n",
       "// Listen for the clearing of the current output cell\n",
       "var outputEl = gd.closest('.output');\n",
       "if (outputEl) {{\n",
       "    x.observe(outputEl, {childList: true});\n",
       "}}\n",
       "\n",
       "                        })                };                });            </script>        </div>"
      ]
     },
     "metadata": {},
     "output_type": "display_data"
    }
   ],
   "source": [
    "model_nos = [1,2,3,4,5,6,7,8,9, 10]\n",
    "\n",
    "# Plot as a bar-graph\n",
    "fig = px.bar(\n",
    "    sample_portion, x=model_nos, y=p1_model_accs,\n",
    "    title = \"Fig: Evaluation accuracies of Part 1 models\",\n",
    "    labels={'x' : 'Model No.', 'y': 'Test Accuracy'}\n",
    ")\n",
    "\n",
    "fig.update_layout(barmode='stack', xaxis={'categoryorder':'total descending'})\n",
    "\n",
    "fig.show()"
   ]
  },
  {
   "cell_type": "markdown",
   "id": "0295a241",
   "metadata": {
    "id": "0295a241"
   },
   "source": [
    "### Making a excel with only the test data for the demo notebook"
   ]
  },
  {
   "cell_type": "code",
   "execution_count": null,
   "id": "ef1c7a24",
   "metadata": {
    "id": "ef1c7a24",
    "outputId": "d48aad95-7a54-4226-ed6d-1e7560fbeb1a"
   },
   "outputs": [
    {
     "data": {
      "text/html": [
       "<div>\n",
       "<style scoped>\n",
       "    .dataframe tbody tr th:only-of-type {\n",
       "        vertical-align: middle;\n",
       "    }\n",
       "\n",
       "    .dataframe tbody tr th {\n",
       "        vertical-align: top;\n",
       "    }\n",
       "\n",
       "    .dataframe thead th {\n",
       "        text-align: right;\n",
       "    }\n",
       "</style>\n",
       "<table border=\"1\" class=\"dataframe\">\n",
       "  <thead>\n",
       "    <tr style=\"text-align: right;\">\n",
       "      <th></th>\n",
       "      <th>bodyContent</th>\n",
       "      <th>sectionName</th>\n",
       "    </tr>\n",
       "  </thead>\n",
       "  <tbody>\n",
       "    <tr>\n",
       "      <th>144813</th>\n",
       "      <td>The Guardian is looking into thefts of cryptoc...</td>\n",
       "      <td>Technology</td>\n",
       "    </tr>\n",
       "    <tr>\n",
       "      <th>94897</th>\n",
       "      <td>Most days you cant walk through San Franciscos...</td>\n",
       "      <td>World news</td>\n",
       "    </tr>\n",
       "    <tr>\n",
       "      <th>1132</th>\n",
       "      <td>One of the many fascinating aspects of John Se...</td>\n",
       "      <td>Music</td>\n",
       "    </tr>\n",
       "    <tr>\n",
       "      <th>106414</th>\n",
       "      <td>Congressional Democrats have launched contempt...</td>\n",
       "      <td>US news</td>\n",
       "    </tr>\n",
       "    <tr>\n",
       "      <th>15691</th>\n",
       "      <td>.</td>\n",
       "      <td>Sport</td>\n",
       "    </tr>\n",
       "    <tr>\n",
       "      <th>...</th>\n",
       "      <td>...</td>\n",
       "      <td>...</td>\n",
       "    </tr>\n",
       "    <tr>\n",
       "      <th>19991</th>\n",
       "      <td>It was, said Nick Clegg, something youd expect...</td>\n",
       "      <td>UK news</td>\n",
       "    </tr>\n",
       "    <tr>\n",
       "      <th>38321</th>\n",
       "      <td>Maurice the French cockerel fancies himself as...</td>\n",
       "      <td>World news</td>\n",
       "    </tr>\n",
       "    <tr>\n",
       "      <th>101198</th>\n",
       "      <td>Expectations continue to grow over the prospec...</td>\n",
       "      <td>Football</td>\n",
       "    </tr>\n",
       "    <tr>\n",
       "      <th>101267</th>\n",
       "      <td>Black, Asian and minority ethnic people in Eng...</td>\n",
       "      <td>World news</td>\n",
       "    </tr>\n",
       "    <tr>\n",
       "      <th>13319</th>\n",
       "      <td>Can a feminist have rape fantasies? According ...</td>\n",
       "      <td>Life and style</td>\n",
       "    </tr>\n",
       "  </tbody>\n",
       "</table>\n",
       "<p>1945 rows × 2 columns</p>\n",
       "</div>"
      ],
      "text/plain": [
       "                                              bodyContent     sectionName\n",
       "144813  The Guardian is looking into thefts of cryptoc...      Technology\n",
       "94897   Most days you cant walk through San Franciscos...      World news\n",
       "1132    One of the many fascinating aspects of John Se...           Music\n",
       "106414  Congressional Democrats have launched contempt...         US news\n",
       "15691                                                  .            Sport\n",
       "...                                                   ...             ...\n",
       "19991   It was, said Nick Clegg, something youd expect...         UK news\n",
       "38321   Maurice the French cockerel fancies himself as...      World news\n",
       "101198  Expectations continue to grow over the prospec...        Football\n",
       "101267  Black, Asian and minority ethnic people in Eng...      World news\n",
       "13319   Can a feminist have rape fantasies? According ...  Life and style\n",
       "\n",
       "[1945 rows x 2 columns]"
      ]
     },
     "metadata": {},
     "output_type": "display_data"
    }
   ],
   "source": [
    "test_data_df = pd.DataFrame({\n",
    "    'bodyContent' : X_test,\n",
    "    'sectionName' : y_test\n",
    "})\n",
    "display(test_data_df)"
   ]
  },
  {
   "cell_type": "code",
   "execution_count": null,
   "id": "fa82b01e",
   "metadata": {
    "id": "fa82b01e"
   },
   "outputs": [],
   "source": [
    "#test_data_df.to_csv(\"guardian_testrecords.csv\")"
   ]
  },
  {
   "cell_type": "markdown",
   "id": "5983f01a",
   "metadata": {
    "id": "5983f01a"
   },
   "source": [
    "### Saving the model\n",
    "\n",
    "For future use in transformers and demo notebooks, we will be saving model 6 and 7. This is done after considering the performance on train/validation and test data. Also considered that moving forward for transformers, using custom networks with LSTMs and a few CNN layers would be insightful."
   ]
  },
  {
   "cell_type": "code",
   "execution_count": null,
   "id": "4b5953fc",
   "metadata": {
    "id": "4b5953fc",
    "outputId": "20d4fd38-a98f-4372-8567-a6e7e6a755dd"
   },
   "outputs": [
    {
     "name": "stderr",
     "output_type": "stream",
     "text": [
      "WARNING:absl:Found untraced functions such as _jit_compiled_convolution_op, _update_step_xla while saving (showing 2 of 2). These functions will not be directly callable after loading.\n"
     ]
    },
    {
     "name": "stdout",
     "output_type": "stream",
     "text": [
      "INFO:tensorflow:Assets written to: saved_model/model6save\\assets\n"
     ]
    },
    {
     "name": "stderr",
     "output_type": "stream",
     "text": [
      "INFO:tensorflow:Assets written to: saved_model/model6save\\assets\n"
     ]
    }
   ],
   "source": [
    "model5.save('saved_model/model6save')"
   ]
  },
  {
   "cell_type": "code",
   "execution_count": null,
   "id": "54009bb0",
   "metadata": {
    "id": "54009bb0",
    "outputId": "36bb0c80-30a3-4669-c1a9-0ca341daea2f"
   },
   "outputs": [
    {
     "name": "stdout",
     "output_type": "stream",
     "text": [
      "Model: \"sequential_5\"\n",
      "_________________________________________________________________\n",
      " Layer (type)                Output Shape              Param #   \n",
      "=================================================================\n",
      " text_vectorization (TextVec  (None, None)             0         \n",
      " torization)                                                     \n",
      "                                                                 \n",
      " embedding_4 (Embedding)     (None, None, 16)          1120000   \n",
      "                                                                 \n",
      " conv1d_1 (Conv1D)           (None, None, 80)          3920      \n",
      "                                                                 \n",
      " global_average_pooling1d_1   (None, 80)               0         \n",
      " (GlobalAveragePooling1D)                                        \n",
      "                                                                 \n",
      " dense_21 (Dense)            (None, 400)               32400     \n",
      "                                                                 \n",
      " dense_22 (Dense)            (None, 400)               160400    \n",
      "                                                                 \n",
      " dense_23 (Dense)            (None, 20)                8020      \n",
      "                                                                 \n",
      "=================================================================\n",
      "Total params: 1,324,740\n",
      "Trainable params: 1,324,740\n",
      "Non-trainable params: 0\n",
      "_________________________________________________________________\n"
     ]
    }
   ],
   "source": [
    "trial_load = tf.keras.models.load_model('saved_model/model6save')\n",
    "trial_load.summary()"
   ]
  },
  {
   "cell_type": "code",
   "execution_count": null,
   "id": "90670959",
   "metadata": {
    "id": "90670959",
    "outputId": "753aaa87-3865-43fe-95c2-2731a282fcde"
   },
   "outputs": [
    {
     "name": "stdout",
     "output_type": "stream",
     "text": [
      "<keras.layers.core.dense.Dense object at 0x000001B2CDF34BB0>\n"
     ]
    }
   ],
   "source": [
    "print(trial_load.layers[6])"
   ]
  },
  {
   "cell_type": "code",
   "execution_count": null,
   "id": "2efde3a5",
   "metadata": {
    "id": "2efde3a5",
    "outputId": "6a8e5708-354d-4384-a9d4-5680c7b68a3e"
   },
   "outputs": [
    {
     "name": "stderr",
     "output_type": "stream",
     "text": [
      "WARNING:absl:Found untraced functions such as _jit_compiled_convolution_op, _jit_compiled_convolution_op, _jit_compiled_convolution_op, _update_step_xla, lstm_cell_4_layer_call_fn while saving (showing 5 of 8). These functions will not be directly callable after loading.\n"
     ]
    },
    {
     "name": "stdout",
     "output_type": "stream",
     "text": [
      "INFO:tensorflow:Assets written to: saved_model/model7save\\assets\n"
     ]
    },
    {
     "name": "stderr",
     "output_type": "stream",
     "text": [
      "INFO:tensorflow:Assets written to: saved_model/model7save\\assets\n"
     ]
    }
   ],
   "source": [
    "model7.save('saved_model/model7save')"
   ]
  },
  {
   "cell_type": "code",
   "execution_count": null,
   "id": "4d1169d4",
   "metadata": {
    "id": "4d1169d4"
   },
   "outputs": [],
   "source": [
    "model4.save('saved_model/model4save')"
   ]
  }
 ],
 "metadata": {
  "colab": {
   "provenance": []
  },
  "kernelspec": {
   "display_name": "Python 3 (ipykernel)",
   "language": "python",
   "name": "python3"
  },
  "language_info": {
   "codemirror_mode": {
    "name": "ipython",
    "version": 3
   },
   "file_extension": ".py",
   "mimetype": "text/x-python",
   "name": "python",
   "nbconvert_exporter": "python",
   "pygments_lexer": "ipython3",
   "version": "3.10.9"
  }
 },
 "nbformat": 4,
 "nbformat_minor": 5
}
