{
 "cells": [
  {
   "cell_type": "markdown",
   "metadata": {
    "id": "-GhLW__VxCs1"
   },
   "source": [
    "# Deep learning Assignment - Demo notebook\n",
    "\n",
    "System specifications:\n",
    "- Created on google colab\n",
    "\n",
    "Overview:\n",
    "This notebook is the demo notebook where we just load select models and run evaluation on them. The creation of the models is described in the seperate notebooks.\n",
    "\n",
    "##### FAQ:\n",
    "- If getting an access error when downloading models, please enable gpu in colab runtime before trying again. If issue still persists, please contact.\n",
    "\n",
    "### Imports"
   ]
  },
  {
   "cell_type": "code",
   "execution_count": 2,
   "metadata": {
    "id": "Qi6dprQTwzVj"
   },
   "outputs": [],
   "source": [
    "import pandas as pd\n",
    "import re\n",
    "import nltk\n",
    "from nltk.stem import WordNetLemmatizer\n",
    "from nltk.stem import PorterStemmer\n",
    "from nltk import word_tokenize\n",
    "from nltk.corpus import stopwords\n",
    "import string\n",
    "\n",
    "from sklearn.model_selection import train_test_split\n",
    "\n",
    "import tensorflow as tf\n",
    "import numpy as np"
   ]
  },
  {
   "cell_type": "code",
   "execution_count": 3,
   "metadata": {
    "id": "G4Z-wB1QxuKT"
   },
   "outputs": [],
   "source": [
    "import tensorflow_hub as hub\n",
    "\n",
    "import numpy as np\n",
    "from tensorflow.keras.preprocessing import sequence\n",
    "from tensorflow.keras.models import Sequential\n",
    "from tensorflow.keras.layers import Dense, Dropout, Activation, Flatten, Embedding, Conv1D, GlobalMaxPooling1D, GlobalAveragePooling1D, LSTM, SimpleRNN, MaxPooling1D, Conv1D, TimeDistributed, AveragePooling1D\n",
    "from tensorflow.keras.datasets import imdb\n",
    "import tensorflow as tf\n",
    "\n",
    "import plotly.express as px\n",
    "import matplotlib.pyplot as plt"
   ]
  },
  {
   "cell_type": "code",
   "execution_count": 4,
   "metadata": {
    "id": "VgVt2QB0x0Dz"
   },
   "outputs": [],
   "source": [
    "from sklearn.preprocessing import OneHotEncoder\n",
    "import re\n",
    "\n",
    "from sklearn.feature_extraction.text import CountVectorizer\n",
    "from sklearn.naive_bayes import GaussianNB\n",
    "from sklearn.metrics import confusion_matrix, accuracy_score"
   ]
  },
  {
   "cell_type": "code",
   "execution_count": 5,
   "metadata": {
    "id": "QMN4E0kgx3ZR"
   },
   "outputs": [],
   "source": [
    "from keras.preprocessing.text import Tokenizer"
   ]
  },
  {
   "cell_type": "code",
   "execution_count": 6,
   "metadata": {
    "id": "qLPkz8mTx7OG"
   },
   "outputs": [],
   "source": [
    "from pydrive.auth import GoogleAuth\n",
    "from pydrive.drive import GoogleDrive\n",
    "from google.colab import auth\n",
    "from oauth2client.client import GoogleCredentials"
   ]
  },
  {
   "cell_type": "code",
   "execution_count": 7,
   "metadata": {
    "id": "GDnMtQIXx98v"
   },
   "outputs": [],
   "source": [
    "# credentials to get the data file\n",
    "auth.authenticate_user()\n",
    "gauth = GoogleAuth()\n",
    "gauth.credentials = GoogleCredentials.get_application_default()\n",
    "drive = GoogleDrive(gauth)"
   ]
  },
  {
   "cell_type": "code",
   "execution_count": 8,
   "metadata": {
    "id": "krJkdlL9yDZ0"
   },
   "outputs": [],
   "source": [
    "import gdown"
   ]
  },
  {
   "cell_type": "markdown",
   "metadata": {
    "id": "lm6ecdTmzKir"
   },
   "source": [
    "### Get the files with the test records from Google drive"
   ]
  },
  {
   "cell_type": "code",
   "execution_count": 9,
   "metadata": {
    "id": "QR01gf4bzI0Q"
   },
   "outputs": [],
   "source": [
    "# https://drive.google.com/file/d/1Rrnsq2henQapAItUVlIBxUeqfGw8CNi3/view?usp=sharing\n",
    "guardTestData = drive.CreateFile({'id':'1Rrnsq2henQapAItUVlIBxUeqfGw8CNi3'})\n",
    "guardTestData.GetContentFile('guardian_testrecords.csv')"
   ]
  },
  {
   "cell_type": "code",
   "execution_count": 10,
   "metadata": {
    "colab": {
     "base_uri": "https://localhost:8080/",
     "height": 441
    },
    "id": "ra7IP75SztuL",
    "outputId": "2ea67dc1-0e7a-4735-8b01-50ad66c923e2"
   },
   "outputs": [
    {
     "data": {
      "text/html": [
       "\n",
       "  <div id=\"df-f582f12b-bf36-473f-87cb-9e758d89a282\">\n",
       "    <div class=\"colab-df-container\">\n",
       "      <div>\n",
       "<style scoped>\n",
       "    .dataframe tbody tr th:only-of-type {\n",
       "        vertical-align: middle;\n",
       "    }\n",
       "\n",
       "    .dataframe tbody tr th {\n",
       "        vertical-align: top;\n",
       "    }\n",
       "\n",
       "    .dataframe thead th {\n",
       "        text-align: right;\n",
       "    }\n",
       "</style>\n",
       "<table border=\"1\" class=\"dataframe\">\n",
       "  <thead>\n",
       "    <tr style=\"text-align: right;\">\n",
       "      <th></th>\n",
       "      <th>Unnamed: 0</th>\n",
       "      <th>bodyContent</th>\n",
       "      <th>sectionName</th>\n",
       "    </tr>\n",
       "  </thead>\n",
       "  <tbody>\n",
       "    <tr>\n",
       "      <th>0</th>\n",
       "      <td>144813</td>\n",
       "      <td>The Guardian is looking into thefts of cryptoc...</td>\n",
       "      <td>Technology</td>\n",
       "    </tr>\n",
       "    <tr>\n",
       "      <th>1</th>\n",
       "      <td>94897</td>\n",
       "      <td>Most days you cant walk through San Franciscos...</td>\n",
       "      <td>World news</td>\n",
       "    </tr>\n",
       "    <tr>\n",
       "      <th>2</th>\n",
       "      <td>1132</td>\n",
       "      <td>One of the many fascinating aspects of John Se...</td>\n",
       "      <td>Music</td>\n",
       "    </tr>\n",
       "    <tr>\n",
       "      <th>3</th>\n",
       "      <td>106414</td>\n",
       "      <td>Congressional Democrats have launched contempt...</td>\n",
       "      <td>US news</td>\n",
       "    </tr>\n",
       "    <tr>\n",
       "      <th>4</th>\n",
       "      <td>15691</td>\n",
       "      <td>.</td>\n",
       "      <td>Sport</td>\n",
       "    </tr>\n",
       "    <tr>\n",
       "      <th>...</th>\n",
       "      <td>...</td>\n",
       "      <td>...</td>\n",
       "      <td>...</td>\n",
       "    </tr>\n",
       "    <tr>\n",
       "      <th>1940</th>\n",
       "      <td>19991</td>\n",
       "      <td>It was, said Nick Clegg, something youd expect...</td>\n",
       "      <td>UK news</td>\n",
       "    </tr>\n",
       "    <tr>\n",
       "      <th>1941</th>\n",
       "      <td>38321</td>\n",
       "      <td>Maurice the French cockerel fancies himself as...</td>\n",
       "      <td>World news</td>\n",
       "    </tr>\n",
       "    <tr>\n",
       "      <th>1942</th>\n",
       "      <td>101198</td>\n",
       "      <td>Expectations continue to grow over the prospec...</td>\n",
       "      <td>Football</td>\n",
       "    </tr>\n",
       "    <tr>\n",
       "      <th>1943</th>\n",
       "      <td>101267</td>\n",
       "      <td>Black, Asian and minority ethnic people in Eng...</td>\n",
       "      <td>World news</td>\n",
       "    </tr>\n",
       "    <tr>\n",
       "      <th>1944</th>\n",
       "      <td>13319</td>\n",
       "      <td>Can a feminist have rape fantasies? According ...</td>\n",
       "      <td>Life and style</td>\n",
       "    </tr>\n",
       "  </tbody>\n",
       "</table>\n",
       "<p>1945 rows × 3 columns</p>\n",
       "</div>\n",
       "      <button class=\"colab-df-convert\" onclick=\"convertToInteractive('df-f582f12b-bf36-473f-87cb-9e758d89a282')\"\n",
       "              title=\"Convert this dataframe to an interactive table.\"\n",
       "              style=\"display:none;\">\n",
       "        \n",
       "  <svg xmlns=\"http://www.w3.org/2000/svg\" height=\"24px\"viewBox=\"0 0 24 24\"\n",
       "       width=\"24px\">\n",
       "    <path d=\"M0 0h24v24H0V0z\" fill=\"none\"/>\n",
       "    <path d=\"M18.56 5.44l.94 2.06.94-2.06 2.06-.94-2.06-.94-.94-2.06-.94 2.06-2.06.94zm-11 1L8.5 8.5l.94-2.06 2.06-.94-2.06-.94L8.5 2.5l-.94 2.06-2.06.94zm10 10l.94 2.06.94-2.06 2.06-.94-2.06-.94-.94-2.06-.94 2.06-2.06.94z\"/><path d=\"M17.41 7.96l-1.37-1.37c-.4-.4-.92-.59-1.43-.59-.52 0-1.04.2-1.43.59L10.3 9.45l-7.72 7.72c-.78.78-.78 2.05 0 2.83L4 21.41c.39.39.9.59 1.41.59.51 0 1.02-.2 1.41-.59l7.78-7.78 2.81-2.81c.8-.78.8-2.07 0-2.86zM5.41 20L4 18.59l7.72-7.72 1.47 1.35L5.41 20z\"/>\n",
       "  </svg>\n",
       "      </button>\n",
       "      \n",
       "  <style>\n",
       "    .colab-df-container {\n",
       "      display:flex;\n",
       "      flex-wrap:wrap;\n",
       "      gap: 12px;\n",
       "    }\n",
       "\n",
       "    .colab-df-convert {\n",
       "      background-color: #E8F0FE;\n",
       "      border: none;\n",
       "      border-radius: 50%;\n",
       "      cursor: pointer;\n",
       "      display: none;\n",
       "      fill: #1967D2;\n",
       "      height: 32px;\n",
       "      padding: 0 0 0 0;\n",
       "      width: 32px;\n",
       "    }\n",
       "\n",
       "    .colab-df-convert:hover {\n",
       "      background-color: #E2EBFA;\n",
       "      box-shadow: 0px 1px 2px rgba(60, 64, 67, 0.3), 0px 1px 3px 1px rgba(60, 64, 67, 0.15);\n",
       "      fill: #174EA6;\n",
       "    }\n",
       "\n",
       "    [theme=dark] .colab-df-convert {\n",
       "      background-color: #3B4455;\n",
       "      fill: #D2E3FC;\n",
       "    }\n",
       "\n",
       "    [theme=dark] .colab-df-convert:hover {\n",
       "      background-color: #434B5C;\n",
       "      box-shadow: 0px 1px 3px 1px rgba(0, 0, 0, 0.15);\n",
       "      filter: drop-shadow(0px 1px 2px rgba(0, 0, 0, 0.3));\n",
       "      fill: #FFFFFF;\n",
       "    }\n",
       "  </style>\n",
       "\n",
       "      <script>\n",
       "        const buttonEl =\n",
       "          document.querySelector('#df-f582f12b-bf36-473f-87cb-9e758d89a282 button.colab-df-convert');\n",
       "        buttonEl.style.display =\n",
       "          google.colab.kernel.accessAllowed ? 'block' : 'none';\n",
       "\n",
       "        async function convertToInteractive(key) {\n",
       "          const element = document.querySelector('#df-f582f12b-bf36-473f-87cb-9e758d89a282');\n",
       "          const dataTable =\n",
       "            await google.colab.kernel.invokeFunction('convertToInteractive',\n",
       "                                                     [key], {});\n",
       "          if (!dataTable) return;\n",
       "\n",
       "          const docLinkHtml = 'Like what you see? Visit the ' +\n",
       "            '<a target=\"_blank\" href=https://colab.research.google.com/notebooks/data_table.ipynb>data table notebook</a>'\n",
       "            + ' to learn more about interactive tables.';\n",
       "          element.innerHTML = '';\n",
       "          dataTable['output_type'] = 'display_data';\n",
       "          await google.colab.output.renderOutput(dataTable, element);\n",
       "          const docLink = document.createElement('div');\n",
       "          docLink.innerHTML = docLinkHtml;\n",
       "          element.appendChild(docLink);\n",
       "        }\n",
       "      </script>\n",
       "    </div>\n",
       "  </div>\n",
       "  "
      ],
      "text/plain": [
       "      Unnamed: 0                                        bodyContent  \\\n",
       "0         144813  The Guardian is looking into thefts of cryptoc...   \n",
       "1          94897  Most days you cant walk through San Franciscos...   \n",
       "2           1132  One of the many fascinating aspects of John Se...   \n",
       "3         106414  Congressional Democrats have launched contempt...   \n",
       "4          15691                                                 .    \n",
       "...          ...                                                ...   \n",
       "1940       19991  It was, said Nick Clegg, something youd expect...   \n",
       "1941       38321  Maurice the French cockerel fancies himself as...   \n",
       "1942      101198  Expectations continue to grow over the prospec...   \n",
       "1943      101267  Black, Asian and minority ethnic people in Eng...   \n",
       "1944       13319  Can a feminist have rape fantasies? According ...   \n",
       "\n",
       "         sectionName  \n",
       "0         Technology  \n",
       "1         World news  \n",
       "2              Music  \n",
       "3            US news  \n",
       "4              Sport  \n",
       "...              ...  \n",
       "1940         UK news  \n",
       "1941      World news  \n",
       "1942        Football  \n",
       "1943      World news  \n",
       "1944  Life and style  \n",
       "\n",
       "[1945 rows x 3 columns]"
      ]
     },
     "metadata": {},
     "output_type": "display_data"
    },
    {
     "name": "stdout",
     "output_type": "stream",
     "text": [
      "The Guardian is looking into thefts of cryptocurrency and digital assets\n"
     ]
    }
   ],
   "source": [
    "guard_test_df = pd.read_csv(\"guardian_testrecords.csv\", delimiter =\",\", index_col=False, )\n",
    "display(guard_test_df)\n",
    "\n",
    "print(guard_test_df[\"bodyContent\"][0])\n",
    "\n",
    "guard_test_df['bodyContent'] = guard_test_df['bodyContent'].apply(lambda a: str(a).encode('ascii','ignore'))\n",
    "guard_test_df['bodyContent'] = guard_test_df['bodyContent'].apply(lambda a: a.decode('ascii','ignore'))"
   ]
  },
  {
   "cell_type": "code",
   "execution_count": 11,
   "metadata": {
    "colab": {
     "base_uri": "https://localhost:8080/",
     "height": 502
    },
    "id": "rFT_hK8Fz4xG",
    "outputId": "1772b4fb-d22c-43f1-d80f-5485907e340b"
   },
   "outputs": [
    {
     "data": {
      "text/html": [
       "\n",
       "  <div id=\"df-57212aef-e793-4000-a94a-842e606e60a8\">\n",
       "    <div class=\"colab-df-container\">\n",
       "      <div>\n",
       "<style scoped>\n",
       "    .dataframe tbody tr th:only-of-type {\n",
       "        vertical-align: middle;\n",
       "    }\n",
       "\n",
       "    .dataframe tbody tr th {\n",
       "        vertical-align: top;\n",
       "    }\n",
       "\n",
       "    .dataframe thead th {\n",
       "        text-align: right;\n",
       "    }\n",
       "</style>\n",
       "<table border=\"1\" class=\"dataframe\">\n",
       "  <thead>\n",
       "    <tr style=\"text-align: right;\">\n",
       "      <th></th>\n",
       "      <th>Art and design</th>\n",
       "      <th>Australia news</th>\n",
       "      <th>Books</th>\n",
       "      <th>Business</th>\n",
       "      <th>Environment</th>\n",
       "      <th>Film</th>\n",
       "      <th>Football</th>\n",
       "      <th>Life and style</th>\n",
       "      <th>Media</th>\n",
       "      <th>Music</th>\n",
       "      <th>Opinion</th>\n",
       "      <th>Politics</th>\n",
       "      <th>Society</th>\n",
       "      <th>Sport</th>\n",
       "      <th>Stage</th>\n",
       "      <th>Technology</th>\n",
       "      <th>Television &amp; radio</th>\n",
       "      <th>UK news</th>\n",
       "      <th>US news</th>\n",
       "      <th>World news</th>\n",
       "    </tr>\n",
       "  </thead>\n",
       "  <tbody>\n",
       "    <tr>\n",
       "      <th>0</th>\n",
       "      <td>0</td>\n",
       "      <td>0</td>\n",
       "      <td>0</td>\n",
       "      <td>0</td>\n",
       "      <td>0</td>\n",
       "      <td>0</td>\n",
       "      <td>0</td>\n",
       "      <td>0</td>\n",
       "      <td>0</td>\n",
       "      <td>0</td>\n",
       "      <td>0</td>\n",
       "      <td>0</td>\n",
       "      <td>0</td>\n",
       "      <td>0</td>\n",
       "      <td>0</td>\n",
       "      <td>1</td>\n",
       "      <td>0</td>\n",
       "      <td>0</td>\n",
       "      <td>0</td>\n",
       "      <td>0</td>\n",
       "    </tr>\n",
       "    <tr>\n",
       "      <th>1</th>\n",
       "      <td>0</td>\n",
       "      <td>0</td>\n",
       "      <td>0</td>\n",
       "      <td>0</td>\n",
       "      <td>0</td>\n",
       "      <td>0</td>\n",
       "      <td>0</td>\n",
       "      <td>0</td>\n",
       "      <td>0</td>\n",
       "      <td>0</td>\n",
       "      <td>0</td>\n",
       "      <td>0</td>\n",
       "      <td>0</td>\n",
       "      <td>0</td>\n",
       "      <td>0</td>\n",
       "      <td>0</td>\n",
       "      <td>0</td>\n",
       "      <td>0</td>\n",
       "      <td>0</td>\n",
       "      <td>1</td>\n",
       "    </tr>\n",
       "    <tr>\n",
       "      <th>2</th>\n",
       "      <td>0</td>\n",
       "      <td>0</td>\n",
       "      <td>0</td>\n",
       "      <td>0</td>\n",
       "      <td>0</td>\n",
       "      <td>0</td>\n",
       "      <td>0</td>\n",
       "      <td>0</td>\n",
       "      <td>0</td>\n",
       "      <td>1</td>\n",
       "      <td>0</td>\n",
       "      <td>0</td>\n",
       "      <td>0</td>\n",
       "      <td>0</td>\n",
       "      <td>0</td>\n",
       "      <td>0</td>\n",
       "      <td>0</td>\n",
       "      <td>0</td>\n",
       "      <td>0</td>\n",
       "      <td>0</td>\n",
       "    </tr>\n",
       "    <tr>\n",
       "      <th>3</th>\n",
       "      <td>0</td>\n",
       "      <td>0</td>\n",
       "      <td>0</td>\n",
       "      <td>0</td>\n",
       "      <td>0</td>\n",
       "      <td>0</td>\n",
       "      <td>0</td>\n",
       "      <td>0</td>\n",
       "      <td>0</td>\n",
       "      <td>0</td>\n",
       "      <td>0</td>\n",
       "      <td>0</td>\n",
       "      <td>0</td>\n",
       "      <td>0</td>\n",
       "      <td>0</td>\n",
       "      <td>0</td>\n",
       "      <td>0</td>\n",
       "      <td>0</td>\n",
       "      <td>1</td>\n",
       "      <td>0</td>\n",
       "    </tr>\n",
       "    <tr>\n",
       "      <th>4</th>\n",
       "      <td>0</td>\n",
       "      <td>0</td>\n",
       "      <td>0</td>\n",
       "      <td>0</td>\n",
       "      <td>0</td>\n",
       "      <td>0</td>\n",
       "      <td>0</td>\n",
       "      <td>0</td>\n",
       "      <td>0</td>\n",
       "      <td>0</td>\n",
       "      <td>0</td>\n",
       "      <td>0</td>\n",
       "      <td>0</td>\n",
       "      <td>1</td>\n",
       "      <td>0</td>\n",
       "      <td>0</td>\n",
       "      <td>0</td>\n",
       "      <td>0</td>\n",
       "      <td>0</td>\n",
       "      <td>0</td>\n",
       "    </tr>\n",
       "    <tr>\n",
       "      <th>...</th>\n",
       "      <td>...</td>\n",
       "      <td>...</td>\n",
       "      <td>...</td>\n",
       "      <td>...</td>\n",
       "      <td>...</td>\n",
       "      <td>...</td>\n",
       "      <td>...</td>\n",
       "      <td>...</td>\n",
       "      <td>...</td>\n",
       "      <td>...</td>\n",
       "      <td>...</td>\n",
       "      <td>...</td>\n",
       "      <td>...</td>\n",
       "      <td>...</td>\n",
       "      <td>...</td>\n",
       "      <td>...</td>\n",
       "      <td>...</td>\n",
       "      <td>...</td>\n",
       "      <td>...</td>\n",
       "      <td>...</td>\n",
       "    </tr>\n",
       "    <tr>\n",
       "      <th>1940</th>\n",
       "      <td>0</td>\n",
       "      <td>0</td>\n",
       "      <td>0</td>\n",
       "      <td>0</td>\n",
       "      <td>0</td>\n",
       "      <td>0</td>\n",
       "      <td>0</td>\n",
       "      <td>0</td>\n",
       "      <td>0</td>\n",
       "      <td>0</td>\n",
       "      <td>0</td>\n",
       "      <td>0</td>\n",
       "      <td>0</td>\n",
       "      <td>0</td>\n",
       "      <td>0</td>\n",
       "      <td>0</td>\n",
       "      <td>0</td>\n",
       "      <td>1</td>\n",
       "      <td>0</td>\n",
       "      <td>0</td>\n",
       "    </tr>\n",
       "    <tr>\n",
       "      <th>1941</th>\n",
       "      <td>0</td>\n",
       "      <td>0</td>\n",
       "      <td>0</td>\n",
       "      <td>0</td>\n",
       "      <td>0</td>\n",
       "      <td>0</td>\n",
       "      <td>0</td>\n",
       "      <td>0</td>\n",
       "      <td>0</td>\n",
       "      <td>0</td>\n",
       "      <td>0</td>\n",
       "      <td>0</td>\n",
       "      <td>0</td>\n",
       "      <td>0</td>\n",
       "      <td>0</td>\n",
       "      <td>0</td>\n",
       "      <td>0</td>\n",
       "      <td>0</td>\n",
       "      <td>0</td>\n",
       "      <td>1</td>\n",
       "    </tr>\n",
       "    <tr>\n",
       "      <th>1942</th>\n",
       "      <td>0</td>\n",
       "      <td>0</td>\n",
       "      <td>0</td>\n",
       "      <td>0</td>\n",
       "      <td>0</td>\n",
       "      <td>0</td>\n",
       "      <td>1</td>\n",
       "      <td>0</td>\n",
       "      <td>0</td>\n",
       "      <td>0</td>\n",
       "      <td>0</td>\n",
       "      <td>0</td>\n",
       "      <td>0</td>\n",
       "      <td>0</td>\n",
       "      <td>0</td>\n",
       "      <td>0</td>\n",
       "      <td>0</td>\n",
       "      <td>0</td>\n",
       "      <td>0</td>\n",
       "      <td>0</td>\n",
       "    </tr>\n",
       "    <tr>\n",
       "      <th>1943</th>\n",
       "      <td>0</td>\n",
       "      <td>0</td>\n",
       "      <td>0</td>\n",
       "      <td>0</td>\n",
       "      <td>0</td>\n",
       "      <td>0</td>\n",
       "      <td>0</td>\n",
       "      <td>0</td>\n",
       "      <td>0</td>\n",
       "      <td>0</td>\n",
       "      <td>0</td>\n",
       "      <td>0</td>\n",
       "      <td>0</td>\n",
       "      <td>0</td>\n",
       "      <td>0</td>\n",
       "      <td>0</td>\n",
       "      <td>0</td>\n",
       "      <td>0</td>\n",
       "      <td>0</td>\n",
       "      <td>1</td>\n",
       "    </tr>\n",
       "    <tr>\n",
       "      <th>1944</th>\n",
       "      <td>0</td>\n",
       "      <td>0</td>\n",
       "      <td>0</td>\n",
       "      <td>0</td>\n",
       "      <td>0</td>\n",
       "      <td>0</td>\n",
       "      <td>0</td>\n",
       "      <td>1</td>\n",
       "      <td>0</td>\n",
       "      <td>0</td>\n",
       "      <td>0</td>\n",
       "      <td>0</td>\n",
       "      <td>0</td>\n",
       "      <td>0</td>\n",
       "      <td>0</td>\n",
       "      <td>0</td>\n",
       "      <td>0</td>\n",
       "      <td>0</td>\n",
       "      <td>0</td>\n",
       "      <td>0</td>\n",
       "    </tr>\n",
       "  </tbody>\n",
       "</table>\n",
       "<p>1945 rows × 20 columns</p>\n",
       "</div>\n",
       "      <button class=\"colab-df-convert\" onclick=\"convertToInteractive('df-57212aef-e793-4000-a94a-842e606e60a8')\"\n",
       "              title=\"Convert this dataframe to an interactive table.\"\n",
       "              style=\"display:none;\">\n",
       "        \n",
       "  <svg xmlns=\"http://www.w3.org/2000/svg\" height=\"24px\"viewBox=\"0 0 24 24\"\n",
       "       width=\"24px\">\n",
       "    <path d=\"M0 0h24v24H0V0z\" fill=\"none\"/>\n",
       "    <path d=\"M18.56 5.44l.94 2.06.94-2.06 2.06-.94-2.06-.94-.94-2.06-.94 2.06-2.06.94zm-11 1L8.5 8.5l.94-2.06 2.06-.94-2.06-.94L8.5 2.5l-.94 2.06-2.06.94zm10 10l.94 2.06.94-2.06 2.06-.94-2.06-.94-.94-2.06-.94 2.06-2.06.94z\"/><path d=\"M17.41 7.96l-1.37-1.37c-.4-.4-.92-.59-1.43-.59-.52 0-1.04.2-1.43.59L10.3 9.45l-7.72 7.72c-.78.78-.78 2.05 0 2.83L4 21.41c.39.39.9.59 1.41.59.51 0 1.02-.2 1.41-.59l7.78-7.78 2.81-2.81c.8-.78.8-2.07 0-2.86zM5.41 20L4 18.59l7.72-7.72 1.47 1.35L5.41 20z\"/>\n",
       "  </svg>\n",
       "      </button>\n",
       "      \n",
       "  <style>\n",
       "    .colab-df-container {\n",
       "      display:flex;\n",
       "      flex-wrap:wrap;\n",
       "      gap: 12px;\n",
       "    }\n",
       "\n",
       "    .colab-df-convert {\n",
       "      background-color: #E8F0FE;\n",
       "      border: none;\n",
       "      border-radius: 50%;\n",
       "      cursor: pointer;\n",
       "      display: none;\n",
       "      fill: #1967D2;\n",
       "      height: 32px;\n",
       "      padding: 0 0 0 0;\n",
       "      width: 32px;\n",
       "    }\n",
       "\n",
       "    .colab-df-convert:hover {\n",
       "      background-color: #E2EBFA;\n",
       "      box-shadow: 0px 1px 2px rgba(60, 64, 67, 0.3), 0px 1px 3px 1px rgba(60, 64, 67, 0.15);\n",
       "      fill: #174EA6;\n",
       "    }\n",
       "\n",
       "    [theme=dark] .colab-df-convert {\n",
       "      background-color: #3B4455;\n",
       "      fill: #D2E3FC;\n",
       "    }\n",
       "\n",
       "    [theme=dark] .colab-df-convert:hover {\n",
       "      background-color: #434B5C;\n",
       "      box-shadow: 0px 1px 3px 1px rgba(0, 0, 0, 0.15);\n",
       "      filter: drop-shadow(0px 1px 2px rgba(0, 0, 0, 0.3));\n",
       "      fill: #FFFFFF;\n",
       "    }\n",
       "  </style>\n",
       "\n",
       "      <script>\n",
       "        const buttonEl =\n",
       "          document.querySelector('#df-57212aef-e793-4000-a94a-842e606e60a8 button.colab-df-convert');\n",
       "        buttonEl.style.display =\n",
       "          google.colab.kernel.accessAllowed ? 'block' : 'none';\n",
       "\n",
       "        async function convertToInteractive(key) {\n",
       "          const element = document.querySelector('#df-57212aef-e793-4000-a94a-842e606e60a8');\n",
       "          const dataTable =\n",
       "            await google.colab.kernel.invokeFunction('convertToInteractive',\n",
       "                                                     [key], {});\n",
       "          if (!dataTable) return;\n",
       "\n",
       "          const docLinkHtml = 'Like what you see? Visit the ' +\n",
       "            '<a target=\"_blank\" href=https://colab.research.google.com/notebooks/data_table.ipynb>data table notebook</a>'\n",
       "            + ' to learn more about interactive tables.';\n",
       "          element.innerHTML = '';\n",
       "          dataTable['output_type'] = 'display_data';\n",
       "          await google.colab.output.renderOutput(dataTable, element);\n",
       "          const docLink = document.createElement('div');\n",
       "          docLink.innerHTML = docLinkHtml;\n",
       "          element.appendChild(docLink);\n",
       "        }\n",
       "      </script>\n",
       "    </div>\n",
       "  </div>\n",
       "  "
      ],
      "text/plain": [
       "      Art and design  Australia news  Books  Business  Environment  Film  \\\n",
       "0                  0               0      0         0            0     0   \n",
       "1                  0               0      0         0            0     0   \n",
       "2                  0               0      0         0            0     0   \n",
       "3                  0               0      0         0            0     0   \n",
       "4                  0               0      0         0            0     0   \n",
       "...              ...             ...    ...       ...          ...   ...   \n",
       "1940               0               0      0         0            0     0   \n",
       "1941               0               0      0         0            0     0   \n",
       "1942               0               0      0         0            0     0   \n",
       "1943               0               0      0         0            0     0   \n",
       "1944               0               0      0         0            0     0   \n",
       "\n",
       "      Football  Life and style  Media  Music  Opinion  Politics  Society  \\\n",
       "0            0               0      0      0        0         0        0   \n",
       "1            0               0      0      0        0         0        0   \n",
       "2            0               0      0      1        0         0        0   \n",
       "3            0               0      0      0        0         0        0   \n",
       "4            0               0      0      0        0         0        0   \n",
       "...        ...             ...    ...    ...      ...       ...      ...   \n",
       "1940         0               0      0      0        0         0        0   \n",
       "1941         0               0      0      0        0         0        0   \n",
       "1942         1               0      0      0        0         0        0   \n",
       "1943         0               0      0      0        0         0        0   \n",
       "1944         0               1      0      0        0         0        0   \n",
       "\n",
       "      Sport  Stage  Technology  Television & radio  UK news  US news  \\\n",
       "0         0      0           1                   0        0        0   \n",
       "1         0      0           0                   0        0        0   \n",
       "2         0      0           0                   0        0        0   \n",
       "3         0      0           0                   0        0        1   \n",
       "4         1      0           0                   0        0        0   \n",
       "...     ...    ...         ...                 ...      ...      ...   \n",
       "1940      0      0           0                   0        1        0   \n",
       "1941      0      0           0                   0        0        0   \n",
       "1942      0      0           0                   0        0        0   \n",
       "1943      0      0           0                   0        0        0   \n",
       "1944      0      0           0                   0        0        0   \n",
       "\n",
       "      World news  \n",
       "0              0  \n",
       "1              1  \n",
       "2              0  \n",
       "3              0  \n",
       "4              0  \n",
       "...          ...  \n",
       "1940           0  \n",
       "1941           1  \n",
       "1942           0  \n",
       "1943           1  \n",
       "1944           0  \n",
       "\n",
       "[1945 rows x 20 columns]"
      ]
     },
     "metadata": {},
     "output_type": "display_data"
    },
    {
     "name": "stdout",
     "output_type": "stream",
     "text": [
      "1945\n"
     ]
    }
   ],
   "source": [
    "guard_X_test = guard_test_df[\"bodyContent\"]\n",
    "\n",
    "# It's fine to encode without fitting to training because we have verified that the top 20 are there in both training and test\n",
    "oh = OneHotEncoder()\n",
    "guard_Y_test = pd.get_dummies(guard_test_df[\"sectionName\"])\n",
    "display(guard_Y_test)\n",
    "\n",
    "print(len(guard_Y_test))"
   ]
  },
  {
   "cell_type": "code",
   "execution_count": 12,
   "metadata": {
    "id": "nuXDPvhr0aPd"
   },
   "outputs": [],
   "source": [
    "# https://drive.google.com/file/d/10beQppb8BD4gV09d01MOcjiB8baGHcBp/view?usp=sharing\n",
    "bbcTestData = drive.CreateFile({'id':'10beQppb8BD4gV09d01MOcjiB8baGHcBp'})\n",
    "bbcTestData.GetContentFile('bbc_testrecords.csv')"
   ]
  },
  {
   "cell_type": "code",
   "execution_count": 13,
   "metadata": {
    "colab": {
     "base_uri": "https://localhost:8080/",
     "height": 423
    },
    "id": "iMRzc8mI0wx1",
    "outputId": "13ee7413-e27c-4430-8fd4-cdfb40ca565b"
   },
   "outputs": [
    {
     "data": {
      "text/html": [
       "\n",
       "  <div id=\"df-7e1019d7-b714-4791-aada-70eb9688f0e3\">\n",
       "    <div class=\"colab-df-container\">\n",
       "      <div>\n",
       "<style scoped>\n",
       "    .dataframe tbody tr th:only-of-type {\n",
       "        vertical-align: middle;\n",
       "    }\n",
       "\n",
       "    .dataframe tbody tr th {\n",
       "        vertical-align: top;\n",
       "    }\n",
       "\n",
       "    .dataframe thead th {\n",
       "        text-align: right;\n",
       "    }\n",
       "</style>\n",
       "<table border=\"1\" class=\"dataframe\">\n",
       "  <thead>\n",
       "    <tr style=\"text-align: right;\">\n",
       "      <th></th>\n",
       "      <th>Unnamed: 0</th>\n",
       "      <th>bodyContent</th>\n",
       "      <th>sectionName</th>\n",
       "    </tr>\n",
       "  </thead>\n",
       "  <tbody>\n",
       "    <tr>\n",
       "      <th>0</th>\n",
       "      <td>920</td>\n",
       "      <td>oscar nominees lack pulling power this year s ...</td>\n",
       "      <td>entertainment</td>\n",
       "    </tr>\n",
       "    <tr>\n",
       "      <th>1</th>\n",
       "      <td>2149</td>\n",
       "      <td>wi-fi web reaches farmers in peru a network of...</td>\n",
       "      <td>tech</td>\n",
       "    </tr>\n",
       "    <tr>\n",
       "      <th>2</th>\n",
       "      <td>1710</td>\n",
       "      <td>stevens named in england line-up england have ...</td>\n",
       "      <td>sport</td>\n",
       "    </tr>\n",
       "    <tr>\n",
       "      <th>3</th>\n",
       "      <td>97</td>\n",
       "      <td>ireland win eclipses refereeing  errors  the i...</td>\n",
       "      <td>sport</td>\n",
       "    </tr>\n",
       "    <tr>\n",
       "      <th>4</th>\n",
       "      <td>1343</td>\n",
       "      <td>melzer shocks agassi in san jose second seed a...</td>\n",
       "      <td>sport</td>\n",
       "    </tr>\n",
       "    <tr>\n",
       "      <th>...</th>\n",
       "      <td>...</td>\n",
       "      <td>...</td>\n",
       "      <td>...</td>\n",
       "    </tr>\n",
       "    <tr>\n",
       "      <th>440</th>\n",
       "      <td>108</td>\n",
       "      <td>hong kong in 2011 world cup bid hong kong is h...</td>\n",
       "      <td>sport</td>\n",
       "    </tr>\n",
       "    <tr>\n",
       "      <th>441</th>\n",
       "      <td>304</td>\n",
       "      <td>india s rupee hits five-year high india s rupe...</td>\n",
       "      <td>business</td>\n",
       "    </tr>\n",
       "    <tr>\n",
       "      <th>442</th>\n",
       "      <td>2210</td>\n",
       "      <td>teens  know little  of politics teenagers ques...</td>\n",
       "      <td>politics</td>\n",
       "    </tr>\n",
       "    <tr>\n",
       "      <th>443</th>\n",
       "      <td>2154</td>\n",
       "      <td>green reports shun supply chain nearly 20% mor...</td>\n",
       "      <td>business</td>\n",
       "    </tr>\n",
       "    <tr>\n",
       "      <th>444</th>\n",
       "      <td>798</td>\n",
       "      <td>fry set for role in hitchhiker s actor stephen...</td>\n",
       "      <td>entertainment</td>\n",
       "    </tr>\n",
       "  </tbody>\n",
       "</table>\n",
       "<p>445 rows × 3 columns</p>\n",
       "</div>\n",
       "      <button class=\"colab-df-convert\" onclick=\"convertToInteractive('df-7e1019d7-b714-4791-aada-70eb9688f0e3')\"\n",
       "              title=\"Convert this dataframe to an interactive table.\"\n",
       "              style=\"display:none;\">\n",
       "        \n",
       "  <svg xmlns=\"http://www.w3.org/2000/svg\" height=\"24px\"viewBox=\"0 0 24 24\"\n",
       "       width=\"24px\">\n",
       "    <path d=\"M0 0h24v24H0V0z\" fill=\"none\"/>\n",
       "    <path d=\"M18.56 5.44l.94 2.06.94-2.06 2.06-.94-2.06-.94-.94-2.06-.94 2.06-2.06.94zm-11 1L8.5 8.5l.94-2.06 2.06-.94-2.06-.94L8.5 2.5l-.94 2.06-2.06.94zm10 10l.94 2.06.94-2.06 2.06-.94-2.06-.94-.94-2.06-.94 2.06-2.06.94z\"/><path d=\"M17.41 7.96l-1.37-1.37c-.4-.4-.92-.59-1.43-.59-.52 0-1.04.2-1.43.59L10.3 9.45l-7.72 7.72c-.78.78-.78 2.05 0 2.83L4 21.41c.39.39.9.59 1.41.59.51 0 1.02-.2 1.41-.59l7.78-7.78 2.81-2.81c.8-.78.8-2.07 0-2.86zM5.41 20L4 18.59l7.72-7.72 1.47 1.35L5.41 20z\"/>\n",
       "  </svg>\n",
       "      </button>\n",
       "      \n",
       "  <style>\n",
       "    .colab-df-container {\n",
       "      display:flex;\n",
       "      flex-wrap:wrap;\n",
       "      gap: 12px;\n",
       "    }\n",
       "\n",
       "    .colab-df-convert {\n",
       "      background-color: #E8F0FE;\n",
       "      border: none;\n",
       "      border-radius: 50%;\n",
       "      cursor: pointer;\n",
       "      display: none;\n",
       "      fill: #1967D2;\n",
       "      height: 32px;\n",
       "      padding: 0 0 0 0;\n",
       "      width: 32px;\n",
       "    }\n",
       "\n",
       "    .colab-df-convert:hover {\n",
       "      background-color: #E2EBFA;\n",
       "      box-shadow: 0px 1px 2px rgba(60, 64, 67, 0.3), 0px 1px 3px 1px rgba(60, 64, 67, 0.15);\n",
       "      fill: #174EA6;\n",
       "    }\n",
       "\n",
       "    [theme=dark] .colab-df-convert {\n",
       "      background-color: #3B4455;\n",
       "      fill: #D2E3FC;\n",
       "    }\n",
       "\n",
       "    [theme=dark] .colab-df-convert:hover {\n",
       "      background-color: #434B5C;\n",
       "      box-shadow: 0px 1px 3px 1px rgba(0, 0, 0, 0.15);\n",
       "      filter: drop-shadow(0px 1px 2px rgba(0, 0, 0, 0.3));\n",
       "      fill: #FFFFFF;\n",
       "    }\n",
       "  </style>\n",
       "\n",
       "      <script>\n",
       "        const buttonEl =\n",
       "          document.querySelector('#df-7e1019d7-b714-4791-aada-70eb9688f0e3 button.colab-df-convert');\n",
       "        buttonEl.style.display =\n",
       "          google.colab.kernel.accessAllowed ? 'block' : 'none';\n",
       "\n",
       "        async function convertToInteractive(key) {\n",
       "          const element = document.querySelector('#df-7e1019d7-b714-4791-aada-70eb9688f0e3');\n",
       "          const dataTable =\n",
       "            await google.colab.kernel.invokeFunction('convertToInteractive',\n",
       "                                                     [key], {});\n",
       "          if (!dataTable) return;\n",
       "\n",
       "          const docLinkHtml = 'Like what you see? Visit the ' +\n",
       "            '<a target=\"_blank\" href=https://colab.research.google.com/notebooks/data_table.ipynb>data table notebook</a>'\n",
       "            + ' to learn more about interactive tables.';\n",
       "          element.innerHTML = '';\n",
       "          dataTable['output_type'] = 'display_data';\n",
       "          await google.colab.output.renderOutput(dataTable, element);\n",
       "          const docLink = document.createElement('div');\n",
       "          docLink.innerHTML = docLinkHtml;\n",
       "          element.appendChild(docLink);\n",
       "        }\n",
       "      </script>\n",
       "    </div>\n",
       "  </div>\n",
       "  "
      ],
      "text/plain": [
       "     Unnamed: 0                                        bodyContent  \\\n",
       "0           920  oscar nominees lack pulling power this year s ...   \n",
       "1          2149  wi-fi web reaches farmers in peru a network of...   \n",
       "2          1710  stevens named in england line-up england have ...   \n",
       "3            97  ireland win eclipses refereeing  errors  the i...   \n",
       "4          1343  melzer shocks agassi in san jose second seed a...   \n",
       "..          ...                                                ...   \n",
       "440         108  hong kong in 2011 world cup bid hong kong is h...   \n",
       "441         304  india s rupee hits five-year high india s rupe...   \n",
       "442        2210  teens  know little  of politics teenagers ques...   \n",
       "443        2154  green reports shun supply chain nearly 20% mor...   \n",
       "444         798  fry set for role in hitchhiker s actor stephen...   \n",
       "\n",
       "       sectionName  \n",
       "0    entertainment  \n",
       "1             tech  \n",
       "2            sport  \n",
       "3            sport  \n",
       "4            sport  \n",
       "..             ...  \n",
       "440          sport  \n",
       "441       business  \n",
       "442       politics  \n",
       "443       business  \n",
       "444  entertainment  \n",
       "\n",
       "[445 rows x 3 columns]"
      ]
     },
     "metadata": {},
     "output_type": "display_data"
    }
   ],
   "source": [
    "bbc_test_df = pd.read_csv(\"bbc_testrecords.csv\", delimiter =\",\", index_col=False, )\n",
    "display(bbc_test_df)\n",
    "#Note: While saving the test data for demo, made the column names same as guardian (Ref: Part 2 notebook)"
   ]
  },
  {
   "cell_type": "code",
   "execution_count": 14,
   "metadata": {
    "colab": {
     "base_uri": "https://localhost:8080/",
     "height": 423
    },
    "id": "ujJYQFSX0r84",
    "outputId": "5a04a61c-8239-4126-c478-44b86a1305fb"
   },
   "outputs": [
    {
     "data": {
      "text/html": [
       "\n",
       "  <div id=\"df-6fb83c29-63bf-49a1-b32e-192d10c49277\">\n",
       "    <div class=\"colab-df-container\">\n",
       "      <div>\n",
       "<style scoped>\n",
       "    .dataframe tbody tr th:only-of-type {\n",
       "        vertical-align: middle;\n",
       "    }\n",
       "\n",
       "    .dataframe tbody tr th {\n",
       "        vertical-align: top;\n",
       "    }\n",
       "\n",
       "    .dataframe thead th {\n",
       "        text-align: right;\n",
       "    }\n",
       "</style>\n",
       "<table border=\"1\" class=\"dataframe\">\n",
       "  <thead>\n",
       "    <tr style=\"text-align: right;\">\n",
       "      <th></th>\n",
       "      <th>business</th>\n",
       "      <th>entertainment</th>\n",
       "      <th>politics</th>\n",
       "      <th>sport</th>\n",
       "      <th>tech</th>\n",
       "    </tr>\n",
       "  </thead>\n",
       "  <tbody>\n",
       "    <tr>\n",
       "      <th>0</th>\n",
       "      <td>0</td>\n",
       "      <td>1</td>\n",
       "      <td>0</td>\n",
       "      <td>0</td>\n",
       "      <td>0</td>\n",
       "    </tr>\n",
       "    <tr>\n",
       "      <th>1</th>\n",
       "      <td>0</td>\n",
       "      <td>0</td>\n",
       "      <td>0</td>\n",
       "      <td>0</td>\n",
       "      <td>1</td>\n",
       "    </tr>\n",
       "    <tr>\n",
       "      <th>2</th>\n",
       "      <td>0</td>\n",
       "      <td>0</td>\n",
       "      <td>0</td>\n",
       "      <td>1</td>\n",
       "      <td>0</td>\n",
       "    </tr>\n",
       "    <tr>\n",
       "      <th>3</th>\n",
       "      <td>0</td>\n",
       "      <td>0</td>\n",
       "      <td>0</td>\n",
       "      <td>1</td>\n",
       "      <td>0</td>\n",
       "    </tr>\n",
       "    <tr>\n",
       "      <th>4</th>\n",
       "      <td>0</td>\n",
       "      <td>0</td>\n",
       "      <td>0</td>\n",
       "      <td>1</td>\n",
       "      <td>0</td>\n",
       "    </tr>\n",
       "    <tr>\n",
       "      <th>...</th>\n",
       "      <td>...</td>\n",
       "      <td>...</td>\n",
       "      <td>...</td>\n",
       "      <td>...</td>\n",
       "      <td>...</td>\n",
       "    </tr>\n",
       "    <tr>\n",
       "      <th>440</th>\n",
       "      <td>0</td>\n",
       "      <td>0</td>\n",
       "      <td>0</td>\n",
       "      <td>1</td>\n",
       "      <td>0</td>\n",
       "    </tr>\n",
       "    <tr>\n",
       "      <th>441</th>\n",
       "      <td>1</td>\n",
       "      <td>0</td>\n",
       "      <td>0</td>\n",
       "      <td>0</td>\n",
       "      <td>0</td>\n",
       "    </tr>\n",
       "    <tr>\n",
       "      <th>442</th>\n",
       "      <td>0</td>\n",
       "      <td>0</td>\n",
       "      <td>1</td>\n",
       "      <td>0</td>\n",
       "      <td>0</td>\n",
       "    </tr>\n",
       "    <tr>\n",
       "      <th>443</th>\n",
       "      <td>1</td>\n",
       "      <td>0</td>\n",
       "      <td>0</td>\n",
       "      <td>0</td>\n",
       "      <td>0</td>\n",
       "    </tr>\n",
       "    <tr>\n",
       "      <th>444</th>\n",
       "      <td>0</td>\n",
       "      <td>1</td>\n",
       "      <td>0</td>\n",
       "      <td>0</td>\n",
       "      <td>0</td>\n",
       "    </tr>\n",
       "  </tbody>\n",
       "</table>\n",
       "<p>445 rows × 5 columns</p>\n",
       "</div>\n",
       "      <button class=\"colab-df-convert\" onclick=\"convertToInteractive('df-6fb83c29-63bf-49a1-b32e-192d10c49277')\"\n",
       "              title=\"Convert this dataframe to an interactive table.\"\n",
       "              style=\"display:none;\">\n",
       "        \n",
       "  <svg xmlns=\"http://www.w3.org/2000/svg\" height=\"24px\"viewBox=\"0 0 24 24\"\n",
       "       width=\"24px\">\n",
       "    <path d=\"M0 0h24v24H0V0z\" fill=\"none\"/>\n",
       "    <path d=\"M18.56 5.44l.94 2.06.94-2.06 2.06-.94-2.06-.94-.94-2.06-.94 2.06-2.06.94zm-11 1L8.5 8.5l.94-2.06 2.06-.94-2.06-.94L8.5 2.5l-.94 2.06-2.06.94zm10 10l.94 2.06.94-2.06 2.06-.94-2.06-.94-.94-2.06-.94 2.06-2.06.94z\"/><path d=\"M17.41 7.96l-1.37-1.37c-.4-.4-.92-.59-1.43-.59-.52 0-1.04.2-1.43.59L10.3 9.45l-7.72 7.72c-.78.78-.78 2.05 0 2.83L4 21.41c.39.39.9.59 1.41.59.51 0 1.02-.2 1.41-.59l7.78-7.78 2.81-2.81c.8-.78.8-2.07 0-2.86zM5.41 20L4 18.59l7.72-7.72 1.47 1.35L5.41 20z\"/>\n",
       "  </svg>\n",
       "      </button>\n",
       "      \n",
       "  <style>\n",
       "    .colab-df-container {\n",
       "      display:flex;\n",
       "      flex-wrap:wrap;\n",
       "      gap: 12px;\n",
       "    }\n",
       "\n",
       "    .colab-df-convert {\n",
       "      background-color: #E8F0FE;\n",
       "      border: none;\n",
       "      border-radius: 50%;\n",
       "      cursor: pointer;\n",
       "      display: none;\n",
       "      fill: #1967D2;\n",
       "      height: 32px;\n",
       "      padding: 0 0 0 0;\n",
       "      width: 32px;\n",
       "    }\n",
       "\n",
       "    .colab-df-convert:hover {\n",
       "      background-color: #E2EBFA;\n",
       "      box-shadow: 0px 1px 2px rgba(60, 64, 67, 0.3), 0px 1px 3px 1px rgba(60, 64, 67, 0.15);\n",
       "      fill: #174EA6;\n",
       "    }\n",
       "\n",
       "    [theme=dark] .colab-df-convert {\n",
       "      background-color: #3B4455;\n",
       "      fill: #D2E3FC;\n",
       "    }\n",
       "\n",
       "    [theme=dark] .colab-df-convert:hover {\n",
       "      background-color: #434B5C;\n",
       "      box-shadow: 0px 1px 3px 1px rgba(0, 0, 0, 0.15);\n",
       "      filter: drop-shadow(0px 1px 2px rgba(0, 0, 0, 0.3));\n",
       "      fill: #FFFFFF;\n",
       "    }\n",
       "  </style>\n",
       "\n",
       "      <script>\n",
       "        const buttonEl =\n",
       "          document.querySelector('#df-6fb83c29-63bf-49a1-b32e-192d10c49277 button.colab-df-convert');\n",
       "        buttonEl.style.display =\n",
       "          google.colab.kernel.accessAllowed ? 'block' : 'none';\n",
       "\n",
       "        async function convertToInteractive(key) {\n",
       "          const element = document.querySelector('#df-6fb83c29-63bf-49a1-b32e-192d10c49277');\n",
       "          const dataTable =\n",
       "            await google.colab.kernel.invokeFunction('convertToInteractive',\n",
       "                                                     [key], {});\n",
       "          if (!dataTable) return;\n",
       "\n",
       "          const docLinkHtml = 'Like what you see? Visit the ' +\n",
       "            '<a target=\"_blank\" href=https://colab.research.google.com/notebooks/data_table.ipynb>data table notebook</a>'\n",
       "            + ' to learn more about interactive tables.';\n",
       "          element.innerHTML = '';\n",
       "          dataTable['output_type'] = 'display_data';\n",
       "          await google.colab.output.renderOutput(dataTable, element);\n",
       "          const docLink = document.createElement('div');\n",
       "          docLink.innerHTML = docLinkHtml;\n",
       "          element.appendChild(docLink);\n",
       "        }\n",
       "      </script>\n",
       "    </div>\n",
       "  </div>\n",
       "  "
      ],
      "text/plain": [
       "     business  entertainment  politics  sport  tech\n",
       "0           0              1         0      0     0\n",
       "1           0              0         0      0     1\n",
       "2           0              0         0      1     0\n",
       "3           0              0         0      1     0\n",
       "4           0              0         0      1     0\n",
       "..        ...            ...       ...    ...   ...\n",
       "440         0              0         0      1     0\n",
       "441         1              0         0      0     0\n",
       "442         0              0         1      0     0\n",
       "443         1              0         0      0     0\n",
       "444         0              1         0      0     0\n",
       "\n",
       "[445 rows x 5 columns]"
      ]
     },
     "metadata": {},
     "output_type": "display_data"
    }
   ],
   "source": [
    "bbc_X_test = bbc_test_df[\"bodyContent\"]\n",
    "# It's fine to encode without fitting to training because we have verified that the top 20 are there in both training and test\n",
    "oh = OneHotEncoder()\n",
    "bbc_Y_test = pd.get_dummies(bbc_test_df[\"sectionName\"])\n",
    "display(bbc_Y_test)"
   ]
  },
  {
   "cell_type": "markdown",
   "metadata": {
    "id": "LaZYs7_KzRUv"
   },
   "source": [
    "### Get the models for the first part from google drive"
   ]
  },
  {
   "cell_type": "markdown",
   "metadata": {
    "id": "wv9LYFBT1Le6"
   },
   "source": [
    "### Getting model 4 of part 1 from Google drive"
   ]
  },
  {
   "cell_type": "code",
   "execution_count": 15,
   "metadata": {
    "colab": {
     "base_uri": "https://localhost:8080/"
    },
    "id": "3HiYV48S1TTc",
    "outputId": "c47187f4-c0b1-4e4d-e52b-1e08a312eced"
   },
   "outputs": [
    {
     "data": {
      "text/plain": [
       "['/content/model4save/assets/tokens.txt',\n",
       " '/content/model4save/fingerprint.pb',\n",
       " '/content/model4save/keras_metadata.pb',\n",
       " '/content/model4save/saved_model.pb',\n",
       " '/content/model4save/variables/variables.data-00000-of-00001',\n",
       " '/content/model4save/variables/variables.index']"
      ]
     },
     "execution_count": 15,
     "metadata": {},
     "output_type": "execute_result"
    }
   ],
   "source": [
    "#Getting model 4\n",
    "#https://drive.google.com/drive/folders/1Q5wdXwa4PVQhG1dJc8gfr-i2Nyv_adse?usp=share_link\n",
    "part1_model4_url = \"https://drive.google.com/drive/folders/1Q5wdXwa4PVQhG1dJc8gfr-i2Nyv_adse?usp=share_link\"\n",
    "gdown.download_folder(part1_model4_url, quiet=True, use_cookies=False)"
   ]
  },
  {
   "cell_type": "code",
   "execution_count": 16,
   "metadata": {
    "colab": {
     "base_uri": "https://localhost:8080/"
    },
    "id": "ZinYGYX_1e1g",
    "outputId": "4679020e-b897-4d22-954f-17d336180d93"
   },
   "outputs": [
    {
     "name": "stdout",
     "output_type": "stream",
     "text": [
      "Model: \"sequential_3\"\n",
      "_________________________________________________________________\n",
      " Layer (type)                Output Shape              Param #   \n",
      "=================================================================\n",
      " keras_layer_1 (KerasLayer)  (None, 20)                400020    \n",
      "                                                                 \n",
      " dense_13 (Dense)            (None, 400)               8400      \n",
      "                                                                 \n",
      " dense_14 (Dense)            (None, 400)               160400    \n",
      "                                                                 \n",
      " dense_15 (Dense)            (None, 400)               160400    \n",
      "                                                                 \n",
      " dense_16 (Dense)            (None, 400)               160400    \n",
      "                                                                 \n",
      " dense_17 (Dense)            (None, 20)                8020      \n",
      "                                                                 \n",
      "=================================================================\n",
      "Total params: 897,640\n",
      "Trainable params: 497,620\n",
      "Non-trainable params: 400,020\n",
      "_________________________________________________________________\n"
     ]
    }
   ],
   "source": [
    "part1_model4 = tf.keras.models.load_model('model4save')\n",
    "part1_model4.summary()"
   ]
  },
  {
   "cell_type": "code",
   "execution_count": 17,
   "metadata": {
    "colab": {
     "base_uri": "https://localhost:8080/"
    },
    "id": "ptRemnsF1k_s",
    "outputId": "b1748c1a-0218-452a-90c7-12b88bbbe693"
   },
   "outputs": [
    {
     "name": "stdout",
     "output_type": "stream",
     "text": [
      "61/61 [==============================] - 3s 5ms/step - loss: 3.8287 - accuracy: 0.3815\n"
     ]
    }
   ],
   "source": [
    "p1_m4_acc = part1_model4.evaluate(guard_X_test, guard_Y_test, batch_size=32)"
   ]
  },
  {
   "cell_type": "markdown",
   "metadata": {
    "id": "Ck6eermC1U5e"
   },
   "source": [
    "#### Getting model 6 of part 1 from Google drive"
   ]
  },
  {
   "cell_type": "code",
   "execution_count": 18,
   "metadata": {
    "colab": {
     "base_uri": "https://localhost:8080/"
    },
    "id": "4xI15O4OyJb5",
    "outputId": "ea88b566-69de-439f-c505-8b1aa576978c"
   },
   "outputs": [
    {
     "data": {
      "text/plain": [
       "['/content/model6save/fingerprint.pb',\n",
       " '/content/model6save/keras_metadata.pb',\n",
       " '/content/model6save/saved_model.pb',\n",
       " '/content/model6save/variables/variables.data-00000-of-00001',\n",
       " '/content/model6save/variables/variables.index']"
      ]
     },
     "execution_count": 18,
     "metadata": {},
     "output_type": "execute_result"
    }
   ],
   "source": [
    "#Getting model 6\n",
    "# https://drive.google.com/drive/folders/1jqnW2a0nsA2Bju7x9Nc5g2b_g6BMcRpX?usp=sharing\n",
    "part1_model6_url = \"https://drive.google.com/drive/folders/1jqnW2a0nsA2Bju7x9Nc5g2b_g6BMcRpX?usp=sharing\"\n",
    "gdown.download_folder(part1_model6_url, quiet=True, use_cookies=False)"
   ]
  },
  {
   "cell_type": "code",
   "execution_count": 19,
   "metadata": {
    "colab": {
     "base_uri": "https://localhost:8080/"
    },
    "id": "Sto-mu5n1i3g",
    "outputId": "8f7acabb-21a3-40e8-f994-b74770f70038"
   },
   "outputs": [
    {
     "name": "stdout",
     "output_type": "stream",
     "text": [
      "Model: \"sequential_5\"\n",
      "_________________________________________________________________\n",
      " Layer (type)                Output Shape              Param #   \n",
      "=================================================================\n",
      " text_vectorization (TextVec  (None, None)             0         \n",
      " torization)                                                     \n",
      "                                                                 \n",
      " embedding_4 (Embedding)     (None, None, 16)          1120000   \n",
      "                                                                 \n",
      " conv1d_1 (Conv1D)           (None, None, 80)          3920      \n",
      "                                                                 \n",
      " global_average_pooling1d_1   (None, 80)               0         \n",
      " (GlobalAveragePooling1D)                                        \n",
      "                                                                 \n",
      " dense_21 (Dense)            (None, 400)               32400     \n",
      "                                                                 \n",
      " dense_22 (Dense)            (None, 400)               160400    \n",
      "                                                                 \n",
      " dense_23 (Dense)            (None, 20)                8020      \n",
      "                                                                 \n",
      "=================================================================\n",
      "Total params: 1,324,740\n",
      "Trainable params: 1,324,740\n",
      "Non-trainable params: 0\n",
      "_________________________________________________________________\n"
     ]
    }
   ],
   "source": [
    "part1_model6 = tf.keras.models.load_model('model6save')\n",
    "part1_model6.summary()"
   ]
  },
  {
   "cell_type": "code",
   "execution_count": 20,
   "metadata": {
    "colab": {
     "base_uri": "https://localhost:8080/"
    },
    "id": "VEUNBlHF9tOZ",
    "outputId": "5252b8b2-1501-44ac-daf0-6353d541fbc6"
   },
   "outputs": [
    {
     "name": "stdout",
     "output_type": "stream",
     "text": [
      "61/61 [==============================] - 6s 21ms/step - loss: 9.8564 - accuracy: 0.3429\n"
     ]
    }
   ],
   "source": [
    "p1_m6_acc = part1_model6.evaluate(guard_X_test, guard_Y_test, batch_size=32)"
   ]
  },
  {
   "cell_type": "markdown",
   "metadata": {
    "id": "OXhtG6xUAhCN"
   },
   "source": [
    "### Getting model 7 of Part 1 from Google drive"
   ]
  },
  {
   "cell_type": "code",
   "execution_count": 21,
   "metadata": {
    "colab": {
     "base_uri": "https://localhost:8080/"
    },
    "id": "6sWaVAEPAgkm",
    "outputId": "8597a8a8-20ad-4ada-b05c-f2c951f84427"
   },
   "outputs": [
    {
     "data": {
      "text/plain": [
       "['/content/model7save/fingerprint.pb',\n",
       " '/content/model7save/keras_metadata.pb',\n",
       " '/content/model7save/saved_model.pb',\n",
       " '/content/model7save/variables/variables.data-00000-of-00001',\n",
       " '/content/model7save/variables/variables.index']"
      ]
     },
     "execution_count": 21,
     "metadata": {},
     "output_type": "execute_result"
    }
   ],
   "source": [
    "#Getting model 7\n",
    "# https://drive.google.com/drive/folders/1jIf5UHSYrXjmEQmxrNljIf75l1bQFI80?usp=share_link\n",
    "part1_model7_url = \"https://drive.google.com/drive/folders/1jIf5UHSYrXjmEQmxrNljIf75l1bQFI80?usp=share_link\"\n",
    "gdown.download_folder(part1_model7_url, quiet=True, use_cookies=False)"
   ]
  },
  {
   "cell_type": "code",
   "execution_count": 22,
   "metadata": {
    "colab": {
     "base_uri": "https://localhost:8080/"
    },
    "id": "hfesTWX-A_bP",
    "outputId": "65cacf34-bca9-4d9a-c903-55a4bda1069c"
   },
   "outputs": [
    {
     "name": "stdout",
     "output_type": "stream",
     "text": [
      "Model: \"sequential_7\"\n",
      "_________________________________________________________________\n",
      " Layer (type)                Output Shape              Param #   \n",
      "=================================================================\n",
      " text_vectorization (TextVec  (None, None)             0         \n",
      " torization)                                                     \n",
      "                                                                 \n",
      " embedding_6 (Embedding)     (None, None, 16)          1120000   \n",
      "                                                                 \n",
      " conv1d_5 (Conv1D)           (None, None, 80)          25680     \n",
      "                                                                 \n",
      " average_pooling1d_2 (Averag  (None, None, 80)         0         \n",
      " ePooling1D)                                                     \n",
      "                                                                 \n",
      " conv1d_6 (Conv1D)           (None, None, 80)          64080     \n",
      "                                                                 \n",
      " average_pooling1d_3 (Averag  (None, None, 80)         0         \n",
      " ePooling1D)                                                     \n",
      "                                                                 \n",
      " conv1d_7 (Conv1D)           (None, None, 80)          32080     \n",
      "                                                                 \n",
      " average_pooling1d_4 (Averag  (None, None, 80)         0         \n",
      " ePooling1D)                                                     \n",
      "                                                                 \n",
      " lstm_4 (LSTM)               (None, None, 16)          6208      \n",
      "                                                                 \n",
      " lstm_5 (LSTM)               (None, 16)                2112      \n",
      "                                                                 \n",
      " dense_28 (Dense)            (None, 400)               6800      \n",
      "                                                                 \n",
      " dense_29 (Dense)            (None, 400)               160400    \n",
      "                                                                 \n",
      " dense_30 (Dense)            (None, 400)               160400    \n",
      "                                                                 \n",
      " dense_31 (Dense)            (None, 20)                8020      \n",
      "                                                                 \n",
      "=================================================================\n",
      "Total params: 1,585,780\n",
      "Trainable params: 1,585,780\n",
      "Non-trainable params: 0\n",
      "_________________________________________________________________\n"
     ]
    }
   ],
   "source": [
    "part1_model7 = tf.keras.models.load_model('model7save')\n",
    "part1_model7.summary()"
   ]
  },
  {
   "cell_type": "code",
   "execution_count": 23,
   "metadata": {
    "colab": {
     "base_uri": "https://localhost:8080/"
    },
    "id": "i0bTJ0xnBFZS",
    "outputId": "99b14abb-2414-4b3a-8202-23a17530572f"
   },
   "outputs": [
    {
     "name": "stdout",
     "output_type": "stream",
     "text": [
      "61/61 [==============================] - 5s 51ms/step - loss: 4.3046 - accuracy: 0.3933\n"
     ]
    }
   ],
   "source": [
    "p1_m7_acc = part1_model7.evaluate(guard_X_test, guard_Y_test, batch_size=32)"
   ]
  },
  {
   "cell_type": "markdown",
   "metadata": {
    "id": "v2VGkg_EBN_7"
   },
   "source": [
    "### Getting transfer model 1 of Part 2 from google drive"
   ]
  },
  {
   "cell_type": "code",
   "execution_count": 24,
   "metadata": {
    "colab": {
     "base_uri": "https://localhost:8080/"
    },
    "id": "VP3-AnxgBUyJ",
    "outputId": "b8fe6208-6a85-47b0-fd35-b90ccfb2f609"
   },
   "outputs": [
    {
     "data": {
      "text/plain": [
       "['/content/tfmodel1save/fingerprint.pb',\n",
       " '/content/tfmodel1save/keras_metadata.pb',\n",
       " '/content/tfmodel1save/saved_model.pb',\n",
       " '/content/tfmodel1save/variables/variables.data-00000-of-00001',\n",
       " '/content/tfmodel1save/variables/variables.index']"
      ]
     },
     "execution_count": 24,
     "metadata": {},
     "output_type": "execute_result"
    }
   ],
   "source": [
    "#Getting transfer model 1\n",
    "# https://drive.google.com/drive/folders/1lueThJhBft696XxjyAvFGIqNMVPDPY5a?usp=share_link\n",
    "part2_tfmodel1_url = \"https://drive.google.com/drive/folders/1lueThJhBft696XxjyAvFGIqNMVPDPY5a?usp=share_link\"\n",
    "gdown.download_folder(part2_tfmodel1_url, quiet=True, use_cookies=False)"
   ]
  },
  {
   "cell_type": "code",
   "execution_count": 25,
   "metadata": {
    "colab": {
     "base_uri": "https://localhost:8080/"
    },
    "id": "1rWxEsGYEThO",
    "outputId": "742d5424-639f-4660-8044-8fe7137af4e4"
   },
   "outputs": [
    {
     "name": "stdout",
     "output_type": "stream",
     "text": [
      "Model: \"sequential_5\"\n",
      "_________________________________________________________________\n",
      " Layer (type)                Output Shape              Param #   \n",
      "=================================================================\n",
      " text_vectorization (TextVec  (None, None)             0         \n",
      " torization)                                                     \n",
      "                                                                 \n",
      " embedding_4 (Embedding)     (None, None, 16)          1120000   \n",
      "                                                                 \n",
      " conv1d_1 (Conv1D)           (None, None, 80)          3920      \n",
      "                                                                 \n",
      " global_average_pooling1d_1   (None, 80)               0         \n",
      " (GlobalAveragePooling1D)                                        \n",
      "                                                                 \n",
      " dense_21 (Dense)            (None, 400)               32400     \n",
      "                                                                 \n",
      " dense_22 (Dense)            (None, 400)               160400    \n",
      "                                                                 \n",
      " dense_23 (Dense)            (None, 20)                8020      \n",
      "                                                                 \n",
      " new_dense_3 (Dense)         (None, 5)                 105       \n",
      "                                                                 \n",
      "=================================================================\n",
      "Total params: 1,324,845\n",
      "Trainable params: 1,128,125\n",
      "Non-trainable params: 196,720\n",
      "_________________________________________________________________\n"
     ]
    }
   ],
   "source": [
    "part2_model1 = tf.keras.models.load_model('tfmodel1save')\n",
    "part2_model1.summary()"
   ]
  },
  {
   "cell_type": "code",
   "execution_count": 26,
   "metadata": {
    "colab": {
     "base_uri": "https://localhost:8080/"
    },
    "id": "C4bBz6GXFCUG",
    "outputId": "4ce2ed51-19a2-46d6-e16d-eaec54699427"
   },
   "outputs": [
    {
     "name": "stdout",
     "output_type": "stream",
     "text": [
      "14/14 [==============================] - 1s 32ms/step - loss: 0.5833 - accuracy: 0.8809\n"
     ]
    }
   ],
   "source": [
    "p2_m1_acc = part2_model1.evaluate(bbc_X_test, bbc_Y_test, batch_size=32)"
   ]
  },
  {
   "cell_type": "markdown",
   "metadata": {
    "id": "NrA8CzUDCu9v"
   },
   "source": [
    "### Getting transfer model 5 of part 2 from google drive"
   ]
  },
  {
   "cell_type": "code",
   "execution_count": 27,
   "metadata": {
    "colab": {
     "base_uri": "https://localhost:8080/"
    },
    "id": "4rU2ItaXCuSO",
    "outputId": "05811e56-829e-4196-ec00-93e6718c6222"
   },
   "outputs": [
    {
     "data": {
      "text/plain": [
       "['/content/tfmodel5save/fingerprint.pb',\n",
       " '/content/tfmodel5save/keras_metadata.pb',\n",
       " '/content/tfmodel5save/saved_model.pb',\n",
       " '/content/tfmodel5save/variables/variables.data-00000-of-00001',\n",
       " '/content/tfmodel5save/variables/variables.index']"
      ]
     },
     "execution_count": 27,
     "metadata": {},
     "output_type": "execute_result"
    }
   ],
   "source": [
    "#Getting transfer model 5\n",
    "#https://drive.google.com/drive/folders/1hsBaCD4OjVi4250y7g7VZvkVfyLhVNFi?usp=share_link\n",
    "part2_tfmodel1_url = \"https://drive.google.com/drive/folders/1hsBaCD4OjVi4250y7g7VZvkVfyLhVNFi?usp=share_link\"\n",
    "gdown.download_folder(part2_tfmodel1_url, quiet=True, use_cookies=False)"
   ]
  },
  {
   "cell_type": "code",
   "execution_count": 28,
   "metadata": {
    "colab": {
     "base_uri": "https://localhost:8080/"
    },
    "id": "WQcyi1kzEg95",
    "outputId": "823d6cbe-3e5f-4a94-e52d-c3646360d12f"
   },
   "outputs": [
    {
     "name": "stdout",
     "output_type": "stream",
     "text": [
      "Model: \"sequential_1\"\n",
      "_________________________________________________________________\n",
      " Layer (type)                Output Shape              Param #   \n",
      "=================================================================\n",
      " text_vectorization_1 (TextV  (None, None)             0         \n",
      " ectorization)                                                   \n",
      "                                                                 \n",
      " embedding_1 (Embedding)     (None, None, 16)          1120000   \n",
      "                                                                 \n",
      " conv1d (Conv1D)             (None, None, 80)          25680     \n",
      "                                                                 \n",
      " average_pooling1d (AverageP  (None, None, 80)         0         \n",
      " ooling1D)                                                       \n",
      "                                                                 \n",
      " conv1d_1 (Conv1D)           (None, None, 80)          64080     \n",
      "                                                                 \n",
      " average_pooling1d_1 (Averag  (None, None, 80)         0         \n",
      " ePooling1D)                                                     \n",
      "                                                                 \n",
      " conv1d_2 (Conv1D)           (None, None, 80)          32080     \n",
      "                                                                 \n",
      " average_pooling1d_2 (Averag  (None, None, 80)         0         \n",
      " ePooling1D)                                                     \n",
      "                                                                 \n",
      " lstm_1 (LSTM)               (None, None, 16)          6208      \n",
      "                                                                 \n",
      " lstm_2 (LSTM)               (None, 16)                2112      \n",
      "                                                                 \n",
      " dense_5 (Dense)             (None, 400)               6800      \n",
      "                                                                 \n",
      " dense_6 (Dense)             (None, 400)               160400    \n",
      "                                                                 \n",
      " dense_7 (Dense)             (None, 400)               160400    \n",
      "                                                                 \n",
      " dense_8 (Dense)             (None, 5)                 2005      \n",
      "                                                                 \n",
      " dense_9 (Dense)             (None, 5)                 30        \n",
      "                                                                 \n",
      " dense_10 (Dense)            (None, 5)                 30        \n",
      "                                                                 \n",
      "=================================================================\n",
      "Total params: 1,579,825\n",
      "Trainable params: 1,579,825\n",
      "Non-trainable params: 0\n",
      "_________________________________________________________________\n"
     ]
    }
   ],
   "source": [
    "part2_model5 = tf.keras.models.load_model('tfmodel5save')\n",
    "part2_model5.summary()"
   ]
  },
  {
   "cell_type": "code",
   "execution_count": 29,
   "metadata": {
    "colab": {
     "base_uri": "https://localhost:8080/"
    },
    "id": "P99vpEpFFLah",
    "outputId": "54b14766-26e7-41fb-804a-e1cfba782d85"
   },
   "outputs": [
    {
     "name": "stdout",
     "output_type": "stream",
     "text": [
      "14/14 [==============================] - 2s 72ms/step - loss: 1.6094 - accuracy: 0.2157\n"
     ]
    }
   ],
   "source": [
    "p2_m5_acc = part2_model5.evaluate(bbc_X_test, bbc_Y_test, batch_size=32)"
   ]
  },
  {
   "cell_type": "markdown",
   "metadata": {
    "id": "-mQ3v2KcFVXR"
   },
   "source": [
    "### Getting the custom generator model from part 3"
   ]
  },
  {
   "cell_type": "code",
   "execution_count": 30,
   "metadata": {
    "colab": {
     "base_uri": "https://localhost:8080/"
    },
    "id": "EtIGCma1FPeS",
    "outputId": "f0adaa00-d89b-47dd-a0ac-3b967849fe28"
   },
   "outputs": [
    {
     "data": {
      "text/plain": [
       "['/content/gen_model/fingerprint.pb',\n",
       " '/content/gen_model/keras_metadata.pb',\n",
       " '/content/gen_model/saved_model.pb',\n",
       " '/content/gen_model/variables/variables.data-00000-of-00001',\n",
       " '/content/gen_model/variables/variables.index']"
      ]
     },
     "execution_count": 30,
     "metadata": {},
     "output_type": "execute_result"
    }
   ],
   "source": [
    "#Getting the part 3 generator model\n",
    "#https://drive.google.com/drive/folders/1-I4cawHms40KFfKze3vnliP6T475t8Xb?usp=share_link\n",
    "part3_genmodel_url = \"https://drive.google.com/drive/folders/1-I4cawHms40KFfKze3vnliP6T475t8Xb?usp=share_link\"\n",
    "gdown.download_folder(part3_genmodel_url, quiet=True, use_cookies=False)"
   ]
  },
  {
   "cell_type": "code",
   "execution_count": 31,
   "metadata": {
    "colab": {
     "base_uri": "https://localhost:8080/"
    },
    "id": "3GT3_DC5FwaT",
    "outputId": "bf58b018-c1b6-4f2f-a109-22ce9060f77a"
   },
   "outputs": [
    {
     "name": "stderr",
     "output_type": "stream",
     "text": [
      "WARNING:tensorflow:Layer lstm_12 will not use cuDNN kernels since it doesn't meet the criteria. It will use a generic GPU kernel as fallback when running on GPU.\n",
      "WARNING:tensorflow:Layer lstm_13 will not use cuDNN kernels since it doesn't meet the criteria. It will use a generic GPU kernel as fallback when running on GPU.\n"
     ]
    }
   ],
   "source": [
    "part3_model = tf.keras.models.load_model('gen_model')"
   ]
  },
  {
   "cell_type": "code",
   "execution_count": 32,
   "metadata": {
    "colab": {
     "base_uri": "https://localhost:8080/",
     "height": 423
    },
    "id": "cOC7zPpyHpDZ",
    "outputId": "aaa6b1a4-5fbf-49ee-ba02-4e0ecbdc400a"
   },
   "outputs": [
    {
     "data": {
      "text/html": [
       "\n",
       "  <div id=\"df-e63a711a-19a6-499b-816c-1c695f4a9284\">\n",
       "    <div class=\"colab-df-container\">\n",
       "      <div>\n",
       "<style scoped>\n",
       "    .dataframe tbody tr th:only-of-type {\n",
       "        vertical-align: middle;\n",
       "    }\n",
       "\n",
       "    .dataframe tbody tr th {\n",
       "        vertical-align: top;\n",
       "    }\n",
       "\n",
       "    .dataframe thead th {\n",
       "        text-align: right;\n",
       "    }\n",
       "</style>\n",
       "<table border=\"1\" class=\"dataframe\">\n",
       "  <thead>\n",
       "    <tr style=\"text-align: right;\">\n",
       "      <th></th>\n",
       "      <th>Unnamed: 0</th>\n",
       "      <th>columns</th>\n",
       "    </tr>\n",
       "  </thead>\n",
       "  <tbody>\n",
       "    <tr>\n",
       "      <th>0</th>\n",
       "      <td>0</td>\n",
       "      <td>0</td>\n",
       "    </tr>\n",
       "    <tr>\n",
       "      <th>1</th>\n",
       "      <td>1</td>\n",
       "      <td>00</td>\n",
       "    </tr>\n",
       "    <tr>\n",
       "      <th>2</th>\n",
       "      <td>2</td>\n",
       "      <td>000</td>\n",
       "    </tr>\n",
       "    <tr>\n",
       "      <th>3</th>\n",
       "      <td>3</td>\n",
       "      <td>000m</td>\n",
       "    </tr>\n",
       "    <tr>\n",
       "      <th>4</th>\n",
       "      <td>4</td>\n",
       "      <td>000seat</td>\n",
       "    </tr>\n",
       "    <tr>\n",
       "      <th>...</th>\n",
       "      <td>...</td>\n",
       "      <td>...</td>\n",
       "    </tr>\n",
       "    <tr>\n",
       "      <th>11252</th>\n",
       "      <td>11252</td>\n",
       "      <td>zimbabwe</td>\n",
       "    </tr>\n",
       "    <tr>\n",
       "      <th>11253</th>\n",
       "      <td>11253</td>\n",
       "      <td>zinc</td>\n",
       "    </tr>\n",
       "    <tr>\n",
       "      <th>11254</th>\n",
       "      <td>11254</td>\n",
       "      <td>zogbia</td>\n",
       "    </tr>\n",
       "    <tr>\n",
       "      <th>11255</th>\n",
       "      <td>11255</td>\n",
       "      <td>zone</td>\n",
       "    </tr>\n",
       "    <tr>\n",
       "      <th>11256</th>\n",
       "      <td>11256</td>\n",
       "      <td>zurich</td>\n",
       "    </tr>\n",
       "  </tbody>\n",
       "</table>\n",
       "<p>11257 rows × 2 columns</p>\n",
       "</div>\n",
       "      <button class=\"colab-df-convert\" onclick=\"convertToInteractive('df-e63a711a-19a6-499b-816c-1c695f4a9284')\"\n",
       "              title=\"Convert this dataframe to an interactive table.\"\n",
       "              style=\"display:none;\">\n",
       "        \n",
       "  <svg xmlns=\"http://www.w3.org/2000/svg\" height=\"24px\"viewBox=\"0 0 24 24\"\n",
       "       width=\"24px\">\n",
       "    <path d=\"M0 0h24v24H0V0z\" fill=\"none\"/>\n",
       "    <path d=\"M18.56 5.44l.94 2.06.94-2.06 2.06-.94-2.06-.94-.94-2.06-.94 2.06-2.06.94zm-11 1L8.5 8.5l.94-2.06 2.06-.94-2.06-.94L8.5 2.5l-.94 2.06-2.06.94zm10 10l.94 2.06.94-2.06 2.06-.94-2.06-.94-.94-2.06-.94 2.06-2.06.94z\"/><path d=\"M17.41 7.96l-1.37-1.37c-.4-.4-.92-.59-1.43-.59-.52 0-1.04.2-1.43.59L10.3 9.45l-7.72 7.72c-.78.78-.78 2.05 0 2.83L4 21.41c.39.39.9.59 1.41.59.51 0 1.02-.2 1.41-.59l7.78-7.78 2.81-2.81c.8-.78.8-2.07 0-2.86zM5.41 20L4 18.59l7.72-7.72 1.47 1.35L5.41 20z\"/>\n",
       "  </svg>\n",
       "      </button>\n",
       "      \n",
       "  <style>\n",
       "    .colab-df-container {\n",
       "      display:flex;\n",
       "      flex-wrap:wrap;\n",
       "      gap: 12px;\n",
       "    }\n",
       "\n",
       "    .colab-df-convert {\n",
       "      background-color: #E8F0FE;\n",
       "      border: none;\n",
       "      border-radius: 50%;\n",
       "      cursor: pointer;\n",
       "      display: none;\n",
       "      fill: #1967D2;\n",
       "      height: 32px;\n",
       "      padding: 0 0 0 0;\n",
       "      width: 32px;\n",
       "    }\n",
       "\n",
       "    .colab-df-convert:hover {\n",
       "      background-color: #E2EBFA;\n",
       "      box-shadow: 0px 1px 2px rgba(60, 64, 67, 0.3), 0px 1px 3px 1px rgba(60, 64, 67, 0.15);\n",
       "      fill: #174EA6;\n",
       "    }\n",
       "\n",
       "    [theme=dark] .colab-df-convert {\n",
       "      background-color: #3B4455;\n",
       "      fill: #D2E3FC;\n",
       "    }\n",
       "\n",
       "    [theme=dark] .colab-df-convert:hover {\n",
       "      background-color: #434B5C;\n",
       "      box-shadow: 0px 1px 3px 1px rgba(0, 0, 0, 0.15);\n",
       "      filter: drop-shadow(0px 1px 2px rgba(0, 0, 0, 0.3));\n",
       "      fill: #FFFFFF;\n",
       "    }\n",
       "  </style>\n",
       "\n",
       "      <script>\n",
       "        const buttonEl =\n",
       "          document.querySelector('#df-e63a711a-19a6-499b-816c-1c695f4a9284 button.colab-df-convert');\n",
       "        buttonEl.style.display =\n",
       "          google.colab.kernel.accessAllowed ? 'block' : 'none';\n",
       "\n",
       "        async function convertToInteractive(key) {\n",
       "          const element = document.querySelector('#df-e63a711a-19a6-499b-816c-1c695f4a9284');\n",
       "          const dataTable =\n",
       "            await google.colab.kernel.invokeFunction('convertToInteractive',\n",
       "                                                     [key], {});\n",
       "          if (!dataTable) return;\n",
       "\n",
       "          const docLinkHtml = 'Like what you see? Visit the ' +\n",
       "            '<a target=\"_blank\" href=https://colab.research.google.com/notebooks/data_table.ipynb>data table notebook</a>'\n",
       "            + ' to learn more about interactive tables.';\n",
       "          element.innerHTML = '';\n",
       "          dataTable['output_type'] = 'display_data';\n",
       "          await google.colab.output.renderOutput(dataTable, element);\n",
       "          const docLink = document.createElement('div');\n",
       "          docLink.innerHTML = docLinkHtml;\n",
       "          element.appendChild(docLink);\n",
       "        }\n",
       "      </script>\n",
       "    </div>\n",
       "  </div>\n",
       "  "
      ],
      "text/plain": [
       "       Unnamed: 0   columns\n",
       "0               0         0\n",
       "1               1        00\n",
       "2               2       000\n",
       "3               3      000m\n",
       "4               4   000seat\n",
       "...           ...       ...\n",
       "11252       11252  zimbabwe\n",
       "11253       11253      zinc\n",
       "11254       11254    zogbia\n",
       "11255       11255      zone\n",
       "11256       11256    zurich\n",
       "\n",
       "[11257 rows x 2 columns]"
      ]
     },
     "metadata": {},
     "output_type": "display_data"
    }
   ],
   "source": [
    "# https://drive.google.com/file/d/1WGrz9e8mGh3Ktols0gc9p0y-UcjCLD4-/view?usp=share_link\n",
    "encodingsFile = drive.CreateFile({'id':'1WGrz9e8mGh3Ktols0gc9p0y-UcjCLD4-'})\n",
    "encodingsFile.GetContentFile('encodings.csv')\n",
    "\n",
    "enc_data = pd.read_csv(\"encodings.csv\", delimiter =\",\", index_col=False, )\n",
    "display(enc_data)"
   ]
  },
  {
   "cell_type": "code",
   "execution_count": 33,
   "metadata": {
    "colab": {
     "base_uri": "https://localhost:8080/"
    },
    "id": "fY3Xe_0pFo9C",
    "outputId": "a7b50d0b-565e-4eee-95cb-11cb779713dd"
   },
   "outputs": [
    {
     "name": "stdout",
     "output_type": "stream",
     "text": [
      "1/1 [==============================] - 1s 522ms/step\n",
      "the\n",
      "1/1 [==============================] - 0s 42ms/step\n",
      "year\n",
      "1/1 [==============================] - 0s 42ms/step\n",
      "in\n",
      "1/1 [==============================] - 0s 45ms/step\n",
      "the\n",
      "1/1 [==============================] - 0s 65ms/step\n",
      "year\n",
      "1/1 [==============================] - 0s 45ms/step\n",
      "in\n",
      "1/1 [==============================] - 0s 47ms/step\n",
      "the\n",
      "1/1 [==============================] - 0s 51ms/step\n",
      "year\n",
      "1/1 [==============================] - 0s 40ms/step\n",
      "in\n",
      "1/1 [==============================] - 0s 44ms/step\n",
      "the\n",
      "1/1 [==============================] - 0s 53ms/step\n",
      "year\n",
      "1/1 [==============================] - 0s 40ms/step\n",
      "in\n",
      "1/1 [==============================] - 0s 46ms/step\n",
      "the\n",
      "1/1 [==============================] - 0s 43ms/step\n",
      "year\n",
      "1/1 [==============================] - 0s 40ms/step\n",
      "in\n",
      "1/1 [==============================] - 0s 43ms/step\n",
      "the\n",
      "1/1 [==============================] - 0s 42ms/step\n",
      "year\n",
      "1/1 [==============================] - 0s 45ms/step\n",
      "in\n",
      "1/1 [==============================] - 0s 41ms/step\n",
      "the\n",
      "1/1 [==============================] - 0s 45ms/step\n",
      "year\n",
      "The generated sentence is:\n",
      "Face the year in the year in the year in the year in the year in the year in the year\n"
     ]
    }
   ],
   "source": [
    "seed_word = [\"Face\"]\n",
    "final_word_list = [\"Face\"]\n",
    "column_headers = list(enc_data[\"columns\"].values)\n",
    "\n",
    "for i in range(0,20):\n",
    "    pred = part3_model.predict(seed_word)\n",
    "    word_index = np.argmax(pred, axis=1)\n",
    "    #word = str(word_Y_le.columns[word_index].value)\n",
    "    word = column_headers[int(word_index)]\n",
    "    print(word)\n",
    "    final_word_list.append(word)\n",
    "    temp_list = []\n",
    "    temp_list.append(word)\n",
    "    seed_word = temp_list\n",
    "\n",
    "#print(final_word_list)\n",
    "\n",
    "print(\"The generated sentence is:\")\n",
    "print(\" \".join(final_word_list))"
   ]
  }
 ],
 "metadata": {
  "accelerator": "GPU",
  "colab": {
   "gpuType": "T4",
   "provenance": []
  },
  "gpuClass": "standard",
  "kernelspec": {
   "display_name": "Python 3 (ipykernel)",
   "language": "python",
   "name": "python3"
  },
  "language_info": {
   "codemirror_mode": {
    "name": "ipython",
    "version": 3
   },
   "file_extension": ".py",
   "mimetype": "text/x-python",
   "name": "python",
   "nbconvert_exporter": "python",
   "pygments_lexer": "ipython3",
   "version": "3.10.9"
  }
 },
 "nbformat": 4,
 "nbformat_minor": 1
}
